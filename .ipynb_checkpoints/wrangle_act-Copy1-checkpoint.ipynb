{
 "cells": [
  {
   "cell_type": "markdown",
   "metadata": {},
   "source": [
    "---\n",
    "# Brief\n",
    "---\n",
    "**Your goal**: wrangle WeRateDogs Twitter data to create interesting and trustworthy analyses and visualizations. The Twitter archive is great, but it only contains very basic tweet information. Additional gathering, then assessing and cleaning is required for \"Wow!\"-worthy analyses and visualizations.\n",
    "\n",
    "\n",
    "1. The WeRateDogs Twitter archive. I am giving this file to you, so imagine it as a file on hand. Download this file manually by clicking the following link: twitter_archive_enhanced.csv\n",
    "\n",
    "2. The tweet image predictions, i.e., what breed of dog (or other object, animal, etc.) is present in each tweet according to a neural network. This file (image_predictions.tsv) is hosted on Udacity's servers and should be downloaded programmatically using the Requests library and the following URL: https://d17h27t6h515a5.cloudfront.net/topher/2017/August/599fd2ad_image-predictions/image-predictions.tsv]\n",
    "\n",
    "3. Each tweet's retweet count and favorite (\"like\") count at minimum, and any additional data you find interesting. Using the tweet IDs in the WeRateDogs Twitter archive, query the Twitter API for each tweet's JSON data using Python's Tweepy library and store each tweet's entire set of JSON data in a file called tweet_json.txt file. Each tweet's JSON data should be written to its own line. Then read this .txt file line by line into a pandas DataFrame with (at minimum) tweet ID, retweet count, and favorite count. Note: do not include your Twitter API keys, secrets, and tokens in your project submission.\n",
    "\n",
    "Detect and document at least\n",
    "* **Eight quality issues**\n",
    "* **Two tidiness issues**\n",
    "\n",
    "\n",
    "* **three insights** \n",
    "* **one visualization**\n",
    "\n",
    "* Create a 300-600 word written report called wrangle_report.pdf or wrangle_report.html that briefly describes your wrangling efforts. This is to be framed as an internal document.\n",
    "\n",
    "* Create a 250-word-minimum written report called act_report.pdf or act_report.html that communicates the insights and displays the visualization(s) produced from your wrangled data. This is to be framed as an external document, like a blog post or magazine article, for example.\n"
   ]
  },
  {
   "cell_type": "markdown",
   "metadata": {},
   "source": [
    "## Basic wrangling strategy\n",
    "\n",
    "1. Gather all data sets, document issues pertinent to every dataset in the process.\n",
    "2. Merge all data sets.\n",
    "3. Remove null, duplicate and redundant data.\n",
    "4. Resolve quality issues.\n",
    "5. Resolve tidiness issues.\n",
    "6. Find three insights.\n",
    "7. Create visualization.\n"
   ]
  },
  {
   "cell_type": "code",
   "execution_count": 1,
   "metadata": {},
   "outputs": [],
   "source": [
    "import requests as rq\n",
    "import pandas as pd\n",
    "import numpy as np\n",
    "import io\n",
    "import json\n",
    "from random import randrange, choice\n",
    "import seaborn as sb\n",
    "import matplotlib.pyplot as plt\n",
    "%matplotlib inline\n"
   ]
  },
  {
   "cell_type": "markdown",
   "metadata": {},
   "source": [
    "---\n",
    "# Gather data\n",
    "---\n",
    "\n",
    "## Dataset 1: Enhanced twitter archive\n",
    "### Read the enhanced twitter archive into a dataframe"
   ]
  },
  {
   "cell_type": "code",
   "execution_count": 2,
   "metadata": {},
   "outputs": [],
   "source": [
    "twitter_archive = pd.read_csv('twitter-archive-enhanced.csv')"
   ]
  },
  {
   "cell_type": "code",
   "execution_count": 3,
   "metadata": {
    "scrolled": true
   },
   "outputs": [
    {
     "data": {
      "text/html": [
       "<div>\n",
       "<style scoped>\n",
       "    .dataframe tbody tr th:only-of-type {\n",
       "        vertical-align: middle;\n",
       "    }\n",
       "\n",
       "    .dataframe tbody tr th {\n",
       "        vertical-align: top;\n",
       "    }\n",
       "\n",
       "    .dataframe thead th {\n",
       "        text-align: right;\n",
       "    }\n",
       "</style>\n",
       "<table border=\"1\" class=\"dataframe\">\n",
       "  <thead>\n",
       "    <tr style=\"text-align: right;\">\n",
       "      <th></th>\n",
       "      <th>tweet_id</th>\n",
       "      <th>in_reply_to_status_id</th>\n",
       "      <th>in_reply_to_user_id</th>\n",
       "      <th>timestamp</th>\n",
       "      <th>source</th>\n",
       "      <th>text</th>\n",
       "      <th>retweeted_status_id</th>\n",
       "      <th>retweeted_status_user_id</th>\n",
       "      <th>retweeted_status_timestamp</th>\n",
       "      <th>expanded_urls</th>\n",
       "      <th>rating_numerator</th>\n",
       "      <th>rating_denominator</th>\n",
       "      <th>name</th>\n",
       "      <th>doggo</th>\n",
       "      <th>floofer</th>\n",
       "      <th>pupper</th>\n",
       "      <th>puppo</th>\n",
       "    </tr>\n",
       "  </thead>\n",
       "  <tbody>\n",
       "    <tr>\n",
       "      <th>0</th>\n",
       "      <td>892420643555336193</td>\n",
       "      <td>NaN</td>\n",
       "      <td>NaN</td>\n",
       "      <td>2017-08-01 16:23:56 +0000</td>\n",
       "      <td>&lt;a href=\"http://twitter.com/download/iphone\" r...</td>\n",
       "      <td>This is Phineas. He's a mystical boy. Only eve...</td>\n",
       "      <td>NaN</td>\n",
       "      <td>NaN</td>\n",
       "      <td>NaN</td>\n",
       "      <td>https://twitter.com/dog_rates/status/892420643...</td>\n",
       "      <td>13</td>\n",
       "      <td>10</td>\n",
       "      <td>Phineas</td>\n",
       "      <td>None</td>\n",
       "      <td>None</td>\n",
       "      <td>None</td>\n",
       "      <td>None</td>\n",
       "    </tr>\n",
       "    <tr>\n",
       "      <th>1</th>\n",
       "      <td>892177421306343426</td>\n",
       "      <td>NaN</td>\n",
       "      <td>NaN</td>\n",
       "      <td>2017-08-01 00:17:27 +0000</td>\n",
       "      <td>&lt;a href=\"http://twitter.com/download/iphone\" r...</td>\n",
       "      <td>This is Tilly. She's just checking pup on you....</td>\n",
       "      <td>NaN</td>\n",
       "      <td>NaN</td>\n",
       "      <td>NaN</td>\n",
       "      <td>https://twitter.com/dog_rates/status/892177421...</td>\n",
       "      <td>13</td>\n",
       "      <td>10</td>\n",
       "      <td>Tilly</td>\n",
       "      <td>None</td>\n",
       "      <td>None</td>\n",
       "      <td>None</td>\n",
       "      <td>None</td>\n",
       "    </tr>\n",
       "    <tr>\n",
       "      <th>2</th>\n",
       "      <td>891815181378084864</td>\n",
       "      <td>NaN</td>\n",
       "      <td>NaN</td>\n",
       "      <td>2017-07-31 00:18:03 +0000</td>\n",
       "      <td>&lt;a href=\"http://twitter.com/download/iphone\" r...</td>\n",
       "      <td>This is Archie. He is a rare Norwegian Pouncin...</td>\n",
       "      <td>NaN</td>\n",
       "      <td>NaN</td>\n",
       "      <td>NaN</td>\n",
       "      <td>https://twitter.com/dog_rates/status/891815181...</td>\n",
       "      <td>12</td>\n",
       "      <td>10</td>\n",
       "      <td>Archie</td>\n",
       "      <td>None</td>\n",
       "      <td>None</td>\n",
       "      <td>None</td>\n",
       "      <td>None</td>\n",
       "    </tr>\n",
       "    <tr>\n",
       "      <th>3</th>\n",
       "      <td>891689557279858688</td>\n",
       "      <td>NaN</td>\n",
       "      <td>NaN</td>\n",
       "      <td>2017-07-30 15:58:51 +0000</td>\n",
       "      <td>&lt;a href=\"http://twitter.com/download/iphone\" r...</td>\n",
       "      <td>This is Darla. She commenced a snooze mid meal...</td>\n",
       "      <td>NaN</td>\n",
       "      <td>NaN</td>\n",
       "      <td>NaN</td>\n",
       "      <td>https://twitter.com/dog_rates/status/891689557...</td>\n",
       "      <td>13</td>\n",
       "      <td>10</td>\n",
       "      <td>Darla</td>\n",
       "      <td>None</td>\n",
       "      <td>None</td>\n",
       "      <td>None</td>\n",
       "      <td>None</td>\n",
       "    </tr>\n",
       "    <tr>\n",
       "      <th>4</th>\n",
       "      <td>891327558926688256</td>\n",
       "      <td>NaN</td>\n",
       "      <td>NaN</td>\n",
       "      <td>2017-07-29 16:00:24 +0000</td>\n",
       "      <td>&lt;a href=\"http://twitter.com/download/iphone\" r...</td>\n",
       "      <td>This is Franklin. He would like you to stop ca...</td>\n",
       "      <td>NaN</td>\n",
       "      <td>NaN</td>\n",
       "      <td>NaN</td>\n",
       "      <td>https://twitter.com/dog_rates/status/891327558...</td>\n",
       "      <td>12</td>\n",
       "      <td>10</td>\n",
       "      <td>Franklin</td>\n",
       "      <td>None</td>\n",
       "      <td>None</td>\n",
       "      <td>None</td>\n",
       "      <td>None</td>\n",
       "    </tr>\n",
       "    <tr>\n",
       "      <th>5</th>\n",
       "      <td>891087950875897856</td>\n",
       "      <td>NaN</td>\n",
       "      <td>NaN</td>\n",
       "      <td>2017-07-29 00:08:17 +0000</td>\n",
       "      <td>&lt;a href=\"http://twitter.com/download/iphone\" r...</td>\n",
       "      <td>Here we have a majestic great white breaching ...</td>\n",
       "      <td>NaN</td>\n",
       "      <td>NaN</td>\n",
       "      <td>NaN</td>\n",
       "      <td>https://twitter.com/dog_rates/status/891087950...</td>\n",
       "      <td>13</td>\n",
       "      <td>10</td>\n",
       "      <td>None</td>\n",
       "      <td>None</td>\n",
       "      <td>None</td>\n",
       "      <td>None</td>\n",
       "      <td>None</td>\n",
       "    </tr>\n",
       "    <tr>\n",
       "      <th>6</th>\n",
       "      <td>890971913173991426</td>\n",
       "      <td>NaN</td>\n",
       "      <td>NaN</td>\n",
       "      <td>2017-07-28 16:27:12 +0000</td>\n",
       "      <td>&lt;a href=\"http://twitter.com/download/iphone\" r...</td>\n",
       "      <td>Meet Jax. He enjoys ice cream so much he gets ...</td>\n",
       "      <td>NaN</td>\n",
       "      <td>NaN</td>\n",
       "      <td>NaN</td>\n",
       "      <td>https://gofundme.com/ydvmve-surgery-for-jax,ht...</td>\n",
       "      <td>13</td>\n",
       "      <td>10</td>\n",
       "      <td>Jax</td>\n",
       "      <td>None</td>\n",
       "      <td>None</td>\n",
       "      <td>None</td>\n",
       "      <td>None</td>\n",
       "    </tr>\n",
       "    <tr>\n",
       "      <th>7</th>\n",
       "      <td>890729181411237888</td>\n",
       "      <td>NaN</td>\n",
       "      <td>NaN</td>\n",
       "      <td>2017-07-28 00:22:40 +0000</td>\n",
       "      <td>&lt;a href=\"http://twitter.com/download/iphone\" r...</td>\n",
       "      <td>When you watch your owner call another dog a g...</td>\n",
       "      <td>NaN</td>\n",
       "      <td>NaN</td>\n",
       "      <td>NaN</td>\n",
       "      <td>https://twitter.com/dog_rates/status/890729181...</td>\n",
       "      <td>13</td>\n",
       "      <td>10</td>\n",
       "      <td>None</td>\n",
       "      <td>None</td>\n",
       "      <td>None</td>\n",
       "      <td>None</td>\n",
       "      <td>None</td>\n",
       "    </tr>\n",
       "    <tr>\n",
       "      <th>8</th>\n",
       "      <td>890609185150312448</td>\n",
       "      <td>NaN</td>\n",
       "      <td>NaN</td>\n",
       "      <td>2017-07-27 16:25:51 +0000</td>\n",
       "      <td>&lt;a href=\"http://twitter.com/download/iphone\" r...</td>\n",
       "      <td>This is Zoey. She doesn't want to be one of th...</td>\n",
       "      <td>NaN</td>\n",
       "      <td>NaN</td>\n",
       "      <td>NaN</td>\n",
       "      <td>https://twitter.com/dog_rates/status/890609185...</td>\n",
       "      <td>13</td>\n",
       "      <td>10</td>\n",
       "      <td>Zoey</td>\n",
       "      <td>None</td>\n",
       "      <td>None</td>\n",
       "      <td>None</td>\n",
       "      <td>None</td>\n",
       "    </tr>\n",
       "    <tr>\n",
       "      <th>9</th>\n",
       "      <td>890240255349198849</td>\n",
       "      <td>NaN</td>\n",
       "      <td>NaN</td>\n",
       "      <td>2017-07-26 15:59:51 +0000</td>\n",
       "      <td>&lt;a href=\"http://twitter.com/download/iphone\" r...</td>\n",
       "      <td>This is Cassie. She is a college pup. Studying...</td>\n",
       "      <td>NaN</td>\n",
       "      <td>NaN</td>\n",
       "      <td>NaN</td>\n",
       "      <td>https://twitter.com/dog_rates/status/890240255...</td>\n",
       "      <td>14</td>\n",
       "      <td>10</td>\n",
       "      <td>Cassie</td>\n",
       "      <td>doggo</td>\n",
       "      <td>None</td>\n",
       "      <td>None</td>\n",
       "      <td>None</td>\n",
       "    </tr>\n",
       "    <tr>\n",
       "      <th>10</th>\n",
       "      <td>890006608113172480</td>\n",
       "      <td>NaN</td>\n",
       "      <td>NaN</td>\n",
       "      <td>2017-07-26 00:31:25 +0000</td>\n",
       "      <td>&lt;a href=\"http://twitter.com/download/iphone\" r...</td>\n",
       "      <td>This is Koda. He is a South Australian decksha...</td>\n",
       "      <td>NaN</td>\n",
       "      <td>NaN</td>\n",
       "      <td>NaN</td>\n",
       "      <td>https://twitter.com/dog_rates/status/890006608...</td>\n",
       "      <td>13</td>\n",
       "      <td>10</td>\n",
       "      <td>Koda</td>\n",
       "      <td>None</td>\n",
       "      <td>None</td>\n",
       "      <td>None</td>\n",
       "      <td>None</td>\n",
       "    </tr>\n",
       "    <tr>\n",
       "      <th>11</th>\n",
       "      <td>889880896479866881</td>\n",
       "      <td>NaN</td>\n",
       "      <td>NaN</td>\n",
       "      <td>2017-07-25 16:11:53 +0000</td>\n",
       "      <td>&lt;a href=\"http://twitter.com/download/iphone\" r...</td>\n",
       "      <td>This is Bruno. He is a service shark. Only get...</td>\n",
       "      <td>NaN</td>\n",
       "      <td>NaN</td>\n",
       "      <td>NaN</td>\n",
       "      <td>https://twitter.com/dog_rates/status/889880896...</td>\n",
       "      <td>13</td>\n",
       "      <td>10</td>\n",
       "      <td>Bruno</td>\n",
       "      <td>None</td>\n",
       "      <td>None</td>\n",
       "      <td>None</td>\n",
       "      <td>None</td>\n",
       "    </tr>\n",
       "    <tr>\n",
       "      <th>12</th>\n",
       "      <td>889665388333682689</td>\n",
       "      <td>NaN</td>\n",
       "      <td>NaN</td>\n",
       "      <td>2017-07-25 01:55:32 +0000</td>\n",
       "      <td>&lt;a href=\"http://twitter.com/download/iphone\" r...</td>\n",
       "      <td>Here's a puppo that seems to be on the fence a...</td>\n",
       "      <td>NaN</td>\n",
       "      <td>NaN</td>\n",
       "      <td>NaN</td>\n",
       "      <td>https://twitter.com/dog_rates/status/889665388...</td>\n",
       "      <td>13</td>\n",
       "      <td>10</td>\n",
       "      <td>None</td>\n",
       "      <td>None</td>\n",
       "      <td>None</td>\n",
       "      <td>None</td>\n",
       "      <td>puppo</td>\n",
       "    </tr>\n",
       "    <tr>\n",
       "      <th>13</th>\n",
       "      <td>889638837579907072</td>\n",
       "      <td>NaN</td>\n",
       "      <td>NaN</td>\n",
       "      <td>2017-07-25 00:10:02 +0000</td>\n",
       "      <td>&lt;a href=\"http://twitter.com/download/iphone\" r...</td>\n",
       "      <td>This is Ted. He does his best. Sometimes that'...</td>\n",
       "      <td>NaN</td>\n",
       "      <td>NaN</td>\n",
       "      <td>NaN</td>\n",
       "      <td>https://twitter.com/dog_rates/status/889638837...</td>\n",
       "      <td>12</td>\n",
       "      <td>10</td>\n",
       "      <td>Ted</td>\n",
       "      <td>None</td>\n",
       "      <td>None</td>\n",
       "      <td>None</td>\n",
       "      <td>None</td>\n",
       "    </tr>\n",
       "    <tr>\n",
       "      <th>14</th>\n",
       "      <td>889531135344209921</td>\n",
       "      <td>NaN</td>\n",
       "      <td>NaN</td>\n",
       "      <td>2017-07-24 17:02:04 +0000</td>\n",
       "      <td>&lt;a href=\"http://twitter.com/download/iphone\" r...</td>\n",
       "      <td>This is Stuart. He's sporting his favorite fan...</td>\n",
       "      <td>NaN</td>\n",
       "      <td>NaN</td>\n",
       "      <td>NaN</td>\n",
       "      <td>https://twitter.com/dog_rates/status/889531135...</td>\n",
       "      <td>13</td>\n",
       "      <td>10</td>\n",
       "      <td>Stuart</td>\n",
       "      <td>None</td>\n",
       "      <td>None</td>\n",
       "      <td>None</td>\n",
       "      <td>puppo</td>\n",
       "    </tr>\n",
       "  </tbody>\n",
       "</table>\n",
       "</div>"
      ],
      "text/plain": [
       "              tweet_id  in_reply_to_status_id  in_reply_to_user_id  \\\n",
       "0   892420643555336193                    NaN                  NaN   \n",
       "1   892177421306343426                    NaN                  NaN   \n",
       "2   891815181378084864                    NaN                  NaN   \n",
       "3   891689557279858688                    NaN                  NaN   \n",
       "4   891327558926688256                    NaN                  NaN   \n",
       "5   891087950875897856                    NaN                  NaN   \n",
       "6   890971913173991426                    NaN                  NaN   \n",
       "7   890729181411237888                    NaN                  NaN   \n",
       "8   890609185150312448                    NaN                  NaN   \n",
       "9   890240255349198849                    NaN                  NaN   \n",
       "10  890006608113172480                    NaN                  NaN   \n",
       "11  889880896479866881                    NaN                  NaN   \n",
       "12  889665388333682689                    NaN                  NaN   \n",
       "13  889638837579907072                    NaN                  NaN   \n",
       "14  889531135344209921                    NaN                  NaN   \n",
       "\n",
       "                    timestamp  \\\n",
       "0   2017-08-01 16:23:56 +0000   \n",
       "1   2017-08-01 00:17:27 +0000   \n",
       "2   2017-07-31 00:18:03 +0000   \n",
       "3   2017-07-30 15:58:51 +0000   \n",
       "4   2017-07-29 16:00:24 +0000   \n",
       "5   2017-07-29 00:08:17 +0000   \n",
       "6   2017-07-28 16:27:12 +0000   \n",
       "7   2017-07-28 00:22:40 +0000   \n",
       "8   2017-07-27 16:25:51 +0000   \n",
       "9   2017-07-26 15:59:51 +0000   \n",
       "10  2017-07-26 00:31:25 +0000   \n",
       "11  2017-07-25 16:11:53 +0000   \n",
       "12  2017-07-25 01:55:32 +0000   \n",
       "13  2017-07-25 00:10:02 +0000   \n",
       "14  2017-07-24 17:02:04 +0000   \n",
       "\n",
       "                                               source  \\\n",
       "0   <a href=\"http://twitter.com/download/iphone\" r...   \n",
       "1   <a href=\"http://twitter.com/download/iphone\" r...   \n",
       "2   <a href=\"http://twitter.com/download/iphone\" r...   \n",
       "3   <a href=\"http://twitter.com/download/iphone\" r...   \n",
       "4   <a href=\"http://twitter.com/download/iphone\" r...   \n",
       "5   <a href=\"http://twitter.com/download/iphone\" r...   \n",
       "6   <a href=\"http://twitter.com/download/iphone\" r...   \n",
       "7   <a href=\"http://twitter.com/download/iphone\" r...   \n",
       "8   <a href=\"http://twitter.com/download/iphone\" r...   \n",
       "9   <a href=\"http://twitter.com/download/iphone\" r...   \n",
       "10  <a href=\"http://twitter.com/download/iphone\" r...   \n",
       "11  <a href=\"http://twitter.com/download/iphone\" r...   \n",
       "12  <a href=\"http://twitter.com/download/iphone\" r...   \n",
       "13  <a href=\"http://twitter.com/download/iphone\" r...   \n",
       "14  <a href=\"http://twitter.com/download/iphone\" r...   \n",
       "\n",
       "                                                 text  retweeted_status_id  \\\n",
       "0   This is Phineas. He's a mystical boy. Only eve...                  NaN   \n",
       "1   This is Tilly. She's just checking pup on you....                  NaN   \n",
       "2   This is Archie. He is a rare Norwegian Pouncin...                  NaN   \n",
       "3   This is Darla. She commenced a snooze mid meal...                  NaN   \n",
       "4   This is Franklin. He would like you to stop ca...                  NaN   \n",
       "5   Here we have a majestic great white breaching ...                  NaN   \n",
       "6   Meet Jax. He enjoys ice cream so much he gets ...                  NaN   \n",
       "7   When you watch your owner call another dog a g...                  NaN   \n",
       "8   This is Zoey. She doesn't want to be one of th...                  NaN   \n",
       "9   This is Cassie. She is a college pup. Studying...                  NaN   \n",
       "10  This is Koda. He is a South Australian decksha...                  NaN   \n",
       "11  This is Bruno. He is a service shark. Only get...                  NaN   \n",
       "12  Here's a puppo that seems to be on the fence a...                  NaN   \n",
       "13  This is Ted. He does his best. Sometimes that'...                  NaN   \n",
       "14  This is Stuart. He's sporting his favorite fan...                  NaN   \n",
       "\n",
       "    retweeted_status_user_id retweeted_status_timestamp  \\\n",
       "0                        NaN                        NaN   \n",
       "1                        NaN                        NaN   \n",
       "2                        NaN                        NaN   \n",
       "3                        NaN                        NaN   \n",
       "4                        NaN                        NaN   \n",
       "5                        NaN                        NaN   \n",
       "6                        NaN                        NaN   \n",
       "7                        NaN                        NaN   \n",
       "8                        NaN                        NaN   \n",
       "9                        NaN                        NaN   \n",
       "10                       NaN                        NaN   \n",
       "11                       NaN                        NaN   \n",
       "12                       NaN                        NaN   \n",
       "13                       NaN                        NaN   \n",
       "14                       NaN                        NaN   \n",
       "\n",
       "                                        expanded_urls  rating_numerator  \\\n",
       "0   https://twitter.com/dog_rates/status/892420643...                13   \n",
       "1   https://twitter.com/dog_rates/status/892177421...                13   \n",
       "2   https://twitter.com/dog_rates/status/891815181...                12   \n",
       "3   https://twitter.com/dog_rates/status/891689557...                13   \n",
       "4   https://twitter.com/dog_rates/status/891327558...                12   \n",
       "5   https://twitter.com/dog_rates/status/891087950...                13   \n",
       "6   https://gofundme.com/ydvmve-surgery-for-jax,ht...                13   \n",
       "7   https://twitter.com/dog_rates/status/890729181...                13   \n",
       "8   https://twitter.com/dog_rates/status/890609185...                13   \n",
       "9   https://twitter.com/dog_rates/status/890240255...                14   \n",
       "10  https://twitter.com/dog_rates/status/890006608...                13   \n",
       "11  https://twitter.com/dog_rates/status/889880896...                13   \n",
       "12  https://twitter.com/dog_rates/status/889665388...                13   \n",
       "13  https://twitter.com/dog_rates/status/889638837...                12   \n",
       "14  https://twitter.com/dog_rates/status/889531135...                13   \n",
       "\n",
       "    rating_denominator      name  doggo floofer pupper  puppo  \n",
       "0                   10   Phineas   None    None   None   None  \n",
       "1                   10     Tilly   None    None   None   None  \n",
       "2                   10    Archie   None    None   None   None  \n",
       "3                   10     Darla   None    None   None   None  \n",
       "4                   10  Franklin   None    None   None   None  \n",
       "5                   10      None   None    None   None   None  \n",
       "6                   10       Jax   None    None   None   None  \n",
       "7                   10      None   None    None   None   None  \n",
       "8                   10      Zoey   None    None   None   None  \n",
       "9                   10    Cassie  doggo    None   None   None  \n",
       "10                  10      Koda   None    None   None   None  \n",
       "11                  10     Bruno   None    None   None   None  \n",
       "12                  10      None   None    None   None  puppo  \n",
       "13                  10       Ted   None    None   None   None  \n",
       "14                  10    Stuart   None    None   None  puppo  "
      ]
     },
     "execution_count": 3,
     "metadata": {},
     "output_type": "execute_result"
    }
   ],
   "source": [
    "twitter_archive.head(15)"
   ]
  },
  {
   "cell_type": "code",
   "execution_count": 4,
   "metadata": {
    "scrolled": true
   },
   "outputs": [
    {
     "name": "stdout",
     "output_type": "stream",
     "text": [
      "<class 'pandas.core.frame.DataFrame'>\n",
      "RangeIndex: 2356 entries, 0 to 2355\n",
      "Data columns (total 17 columns):\n",
      "tweet_id                      2356 non-null int64\n",
      "in_reply_to_status_id         78 non-null float64\n",
      "in_reply_to_user_id           78 non-null float64\n",
      "timestamp                     2356 non-null object\n",
      "source                        2356 non-null object\n",
      "text                          2356 non-null object\n",
      "retweeted_status_id           181 non-null float64\n",
      "retweeted_status_user_id      181 non-null float64\n",
      "retweeted_status_timestamp    181 non-null object\n",
      "expanded_urls                 2297 non-null object\n",
      "rating_numerator              2356 non-null int64\n",
      "rating_denominator            2356 non-null int64\n",
      "name                          2356 non-null object\n",
      "doggo                         2356 non-null object\n",
      "floofer                       2356 non-null object\n",
      "pupper                        2356 non-null object\n",
      "puppo                         2356 non-null object\n",
      "dtypes: float64(4), int64(3), object(10)\n",
      "memory usage: 313.0+ KB\n"
     ]
    }
   ],
   "source": [
    "twitter_archive.info()"
   ]
  },
  {
   "cell_type": "markdown",
   "metadata": {},
   "source": [
    "## Dataset 2: Image predictions\n",
    "\n",
    "### Download the tweet image predictions"
   ]
  },
  {
   "cell_type": "code",
   "execution_count": 5,
   "metadata": {},
   "outputs": [
    {
     "data": {
      "text/plain": [
       "200"
      ]
     },
     "execution_count": 5,
     "metadata": {},
     "output_type": "execute_result"
    }
   ],
   "source": [
    "r = rq.get('https://d17h27t6h515a5.cloudfront.net/topher/2017/August/599fd2ad_image-predictions/image-predictions.tsv')\n",
    "r.status_code"
   ]
  },
  {
   "cell_type": "code",
   "execution_count": 6,
   "metadata": {},
   "outputs": [
    {
     "data": {
      "text/plain": [
       "'text/tab-separated-values; charset=utf-8'"
      ]
     },
     "execution_count": 6,
     "metadata": {},
     "output_type": "execute_result"
    }
   ],
   "source": [
    "r.headers['content-type']"
   ]
  },
  {
   "cell_type": "code",
   "execution_count": 7,
   "metadata": {},
   "outputs": [
    {
     "data": {
      "text/plain": [
       "'utf-8'"
      ]
     },
     "execution_count": 7,
     "metadata": {},
     "output_type": "execute_result"
    }
   ],
   "source": [
    "r.encoding"
   ]
  },
  {
   "cell_type": "markdown",
   "metadata": {},
   "source": [
    "#### Load the received .tsv file into a dataframe"
   ]
  },
  {
   "cell_type": "code",
   "execution_count": 8,
   "metadata": {},
   "outputs": [
    {
     "name": "stderr",
     "output_type": "stream",
     "text": [
      "/Users/s8/anaconda3/lib/python3.7/site-packages/ipykernel_launcher.py:2: FutureWarning: from_csv is deprecated. Please use read_csv(...) instead. Note that some of the default arguments are different, so please refer to the documentation for from_csv when changing your function calls\n",
      "  \n"
     ]
    }
   ],
   "source": [
    "# load image predictions dataset from a local file\n",
    "image_predictions = pd.DataFrame.from_csv('image-predictions.tsv', sep='\\t')"
   ]
  },
  {
   "cell_type": "code",
   "execution_count": 9,
   "metadata": {
    "scrolled": false
   },
   "outputs": [
    {
     "name": "stderr",
     "output_type": "stream",
     "text": [
      "/Users/s8/anaconda3/lib/python3.7/site-packages/ipykernel_launcher.py:2: FutureWarning: from_csv is deprecated. Please use read_csv(...) instead. Note that some of the default arguments are different, so please refer to the documentation for from_csv when changing your function calls\n",
      "  \n"
     ]
    }
   ],
   "source": [
    "# load image predictions dataset from the URL\n",
    "image_predictions = pd.DataFrame.from_csv(io.StringIO(r.content.decode(r.encoding)), sep='\\t')"
   ]
  },
  {
   "cell_type": "code",
   "execution_count": 10,
   "metadata": {},
   "outputs": [
    {
     "data": {
      "text/html": [
       "<div>\n",
       "<style scoped>\n",
       "    .dataframe tbody tr th:only-of-type {\n",
       "        vertical-align: middle;\n",
       "    }\n",
       "\n",
       "    .dataframe tbody tr th {\n",
       "        vertical-align: top;\n",
       "    }\n",
       "\n",
       "    .dataframe thead th {\n",
       "        text-align: right;\n",
       "    }\n",
       "</style>\n",
       "<table border=\"1\" class=\"dataframe\">\n",
       "  <thead>\n",
       "    <tr style=\"text-align: right;\">\n",
       "      <th></th>\n",
       "      <th>jpg_url</th>\n",
       "      <th>img_num</th>\n",
       "      <th>p1</th>\n",
       "      <th>p1_conf</th>\n",
       "      <th>p1_dog</th>\n",
       "      <th>p2</th>\n",
       "      <th>p2_conf</th>\n",
       "      <th>p2_dog</th>\n",
       "      <th>p3</th>\n",
       "      <th>p3_conf</th>\n",
       "      <th>p3_dog</th>\n",
       "    </tr>\n",
       "    <tr>\n",
       "      <th>tweet_id</th>\n",
       "      <th></th>\n",
       "      <th></th>\n",
       "      <th></th>\n",
       "      <th></th>\n",
       "      <th></th>\n",
       "      <th></th>\n",
       "      <th></th>\n",
       "      <th></th>\n",
       "      <th></th>\n",
       "      <th></th>\n",
       "      <th></th>\n",
       "    </tr>\n",
       "  </thead>\n",
       "  <tbody>\n",
       "    <tr>\n",
       "      <th>666020888022790149</th>\n",
       "      <td>https://pbs.twimg.com/media/CT4udn0WwAA0aMy.jpg</td>\n",
       "      <td>1</td>\n",
       "      <td>Welsh_springer_spaniel</td>\n",
       "      <td>0.465074</td>\n",
       "      <td>True</td>\n",
       "      <td>collie</td>\n",
       "      <td>0.156665</td>\n",
       "      <td>True</td>\n",
       "      <td>Shetland_sheepdog</td>\n",
       "      <td>0.061428</td>\n",
       "      <td>True</td>\n",
       "    </tr>\n",
       "    <tr>\n",
       "      <th>666029285002620928</th>\n",
       "      <td>https://pbs.twimg.com/media/CT42GRgUYAA5iDo.jpg</td>\n",
       "      <td>1</td>\n",
       "      <td>redbone</td>\n",
       "      <td>0.506826</td>\n",
       "      <td>True</td>\n",
       "      <td>miniature_pinscher</td>\n",
       "      <td>0.074192</td>\n",
       "      <td>True</td>\n",
       "      <td>Rhodesian_ridgeback</td>\n",
       "      <td>0.072010</td>\n",
       "      <td>True</td>\n",
       "    </tr>\n",
       "    <tr>\n",
       "      <th>666033412701032449</th>\n",
       "      <td>https://pbs.twimg.com/media/CT4521TWwAEvMyu.jpg</td>\n",
       "      <td>1</td>\n",
       "      <td>German_shepherd</td>\n",
       "      <td>0.596461</td>\n",
       "      <td>True</td>\n",
       "      <td>malinois</td>\n",
       "      <td>0.138584</td>\n",
       "      <td>True</td>\n",
       "      <td>bloodhound</td>\n",
       "      <td>0.116197</td>\n",
       "      <td>True</td>\n",
       "    </tr>\n",
       "    <tr>\n",
       "      <th>666044226329800704</th>\n",
       "      <td>https://pbs.twimg.com/media/CT5Dr8HUEAA-lEu.jpg</td>\n",
       "      <td>1</td>\n",
       "      <td>Rhodesian_ridgeback</td>\n",
       "      <td>0.408143</td>\n",
       "      <td>True</td>\n",
       "      <td>redbone</td>\n",
       "      <td>0.360687</td>\n",
       "      <td>True</td>\n",
       "      <td>miniature_pinscher</td>\n",
       "      <td>0.222752</td>\n",
       "      <td>True</td>\n",
       "    </tr>\n",
       "    <tr>\n",
       "      <th>666049248165822465</th>\n",
       "      <td>https://pbs.twimg.com/media/CT5IQmsXIAAKY4A.jpg</td>\n",
       "      <td>1</td>\n",
       "      <td>miniature_pinscher</td>\n",
       "      <td>0.560311</td>\n",
       "      <td>True</td>\n",
       "      <td>Rottweiler</td>\n",
       "      <td>0.243682</td>\n",
       "      <td>True</td>\n",
       "      <td>Doberman</td>\n",
       "      <td>0.154629</td>\n",
       "      <td>True</td>\n",
       "    </tr>\n",
       "  </tbody>\n",
       "</table>\n",
       "</div>"
      ],
      "text/plain": [
       "                                                            jpg_url  img_num  \\\n",
       "tweet_id                                                                       \n",
       "666020888022790149  https://pbs.twimg.com/media/CT4udn0WwAA0aMy.jpg        1   \n",
       "666029285002620928  https://pbs.twimg.com/media/CT42GRgUYAA5iDo.jpg        1   \n",
       "666033412701032449  https://pbs.twimg.com/media/CT4521TWwAEvMyu.jpg        1   \n",
       "666044226329800704  https://pbs.twimg.com/media/CT5Dr8HUEAA-lEu.jpg        1   \n",
       "666049248165822465  https://pbs.twimg.com/media/CT5IQmsXIAAKY4A.jpg        1   \n",
       "\n",
       "                                        p1   p1_conf  p1_dog  \\\n",
       "tweet_id                                                       \n",
       "666020888022790149  Welsh_springer_spaniel  0.465074    True   \n",
       "666029285002620928                 redbone  0.506826    True   \n",
       "666033412701032449         German_shepherd  0.596461    True   \n",
       "666044226329800704     Rhodesian_ridgeback  0.408143    True   \n",
       "666049248165822465      miniature_pinscher  0.560311    True   \n",
       "\n",
       "                                    p2   p2_conf  p2_dog                   p3  \\\n",
       "tweet_id                                                                        \n",
       "666020888022790149              collie  0.156665    True    Shetland_sheepdog   \n",
       "666029285002620928  miniature_pinscher  0.074192    True  Rhodesian_ridgeback   \n",
       "666033412701032449            malinois  0.138584    True           bloodhound   \n",
       "666044226329800704             redbone  0.360687    True   miniature_pinscher   \n",
       "666049248165822465          Rottweiler  0.243682    True             Doberman   \n",
       "\n",
       "                     p3_conf  p3_dog  \n",
       "tweet_id                              \n",
       "666020888022790149  0.061428    True  \n",
       "666029285002620928  0.072010    True  \n",
       "666033412701032449  0.116197    True  \n",
       "666044226329800704  0.222752    True  \n",
       "666049248165822465  0.154629    True  "
      ]
     },
     "execution_count": 10,
     "metadata": {},
     "output_type": "execute_result"
    }
   ],
   "source": [
    "image_predictions.head()"
   ]
  },
  {
   "cell_type": "code",
   "execution_count": 11,
   "metadata": {},
   "outputs": [
    {
     "name": "stdout",
     "output_type": "stream",
     "text": [
      "<class 'pandas.core.frame.DataFrame'>\n",
      "Int64Index: 2075 entries, 666020888022790149 to 892420643555336193\n",
      "Data columns (total 11 columns):\n",
      "jpg_url    2075 non-null object\n",
      "img_num    2075 non-null int64\n",
      "p1         2075 non-null object\n",
      "p1_conf    2075 non-null float64\n",
      "p1_dog     2075 non-null bool\n",
      "p2         2075 non-null object\n",
      "p2_conf    2075 non-null float64\n",
      "p2_dog     2075 non-null bool\n",
      "p3         2075 non-null object\n",
      "p3_conf    2075 non-null float64\n",
      "p3_dog     2075 non-null bool\n",
      "dtypes: bool(3), float64(3), int64(1), object(4)\n",
      "memory usage: 152.0+ KB\n"
     ]
    }
   ],
   "source": [
    "image_predictions.info()"
   ]
  },
  {
   "cell_type": "markdown",
   "metadata": {},
   "source": [
    "### Merge twitter archive and image predictions"
   ]
  },
  {
   "cell_type": "code",
   "execution_count": 12,
   "metadata": {},
   "outputs": [],
   "source": [
    "merged_df = pd.merge(twitter_archive,image_predictions,how='inner',on='tweet_id')"
   ]
  },
  {
   "cell_type": "code",
   "execution_count": 13,
   "metadata": {},
   "outputs": [
    {
     "name": "stdout",
     "output_type": "stream",
     "text": [
      "<class 'pandas.core.frame.DataFrame'>\n",
      "Int64Index: 2075 entries, 0 to 2074\n",
      "Data columns (total 28 columns):\n",
      "tweet_id                      2075 non-null int64\n",
      "in_reply_to_status_id         23 non-null float64\n",
      "in_reply_to_user_id           23 non-null float64\n",
      "timestamp                     2075 non-null object\n",
      "source                        2075 non-null object\n",
      "text                          2075 non-null object\n",
      "retweeted_status_id           81 non-null float64\n",
      "retweeted_status_user_id      81 non-null float64\n",
      "retweeted_status_timestamp    81 non-null object\n",
      "expanded_urls                 2075 non-null object\n",
      "rating_numerator              2075 non-null int64\n",
      "rating_denominator            2075 non-null int64\n",
      "name                          2075 non-null object\n",
      "doggo                         2075 non-null object\n",
      "floofer                       2075 non-null object\n",
      "pupper                        2075 non-null object\n",
      "puppo                         2075 non-null object\n",
      "jpg_url                       2075 non-null object\n",
      "img_num                       2075 non-null int64\n",
      "p1                            2075 non-null object\n",
      "p1_conf                       2075 non-null float64\n",
      "p1_dog                        2075 non-null bool\n",
      "p2                            2075 non-null object\n",
      "p2_conf                       2075 non-null float64\n",
      "p2_dog                        2075 non-null bool\n",
      "p3                            2075 non-null object\n",
      "p3_conf                       2075 non-null float64\n",
      "p3_dog                        2075 non-null bool\n",
      "dtypes: bool(3), float64(7), int64(4), object(14)\n",
      "memory usage: 427.6+ KB\n"
     ]
    }
   ],
   "source": [
    "merged_df.info()"
   ]
  },
  {
   "cell_type": "code",
   "execution_count": 14,
   "metadata": {},
   "outputs": [
    {
     "name": "stdout",
     "output_type": "stream",
     "text": [
      "twitter archive size:  2356\n",
      "image predictions size:  2075\n",
      "merged dataframe size:  2075\n"
     ]
    }
   ],
   "source": [
    "print ('twitter archive size: ', len(twitter_archive))\n",
    "print ('image predictions size: ', len(image_predictions))\n",
    "print ('merged dataframe size: ', len(merged_df))"
   ]
  },
  {
   "cell_type": "markdown",
   "metadata": {},
   "source": [
    "The size of the new merged dataframe is the same as the image predictions dataframe, which means that all the records from `image_precdictions` were kept."
   ]
  },
  {
   "cell_type": "markdown",
   "metadata": {},
   "source": [
    "## Dataset 3: Twitter via API\n",
    "\n",
    "### Set up Twitter API via tweepy"
   ]
  },
  {
   "cell_type": "code",
   "execution_count": 15,
   "metadata": {},
   "outputs": [],
   "source": [
    "import tweepy\n",
    "\n",
    "TWITTER_CONSUMER_KEY = ''\n",
    "TWITTER_CONSUMER_SECRET = ''\n",
    "ACCESS_TOKEN = ''\n",
    "ACCESS_SECRET = ''\n",
    "\n",
    "auth = tweepy.OAuthHandler(TWITTER_CONSUMER_KEY, TWITTER_CONSUMER_SECRET)\n",
    "auth.set_access_token(ACCESS_TOKEN, ACCESS_SECRET)\n",
    "\n",
    "api = tweepy.API(auth, parser=tweepy.parsers.JSONParser())\n",
    "api.wait_on_rate_limit = True"
   ]
  },
  {
   "cell_type": "markdown",
   "metadata": {},
   "source": [
    "### Download WeRateDogs Twitter archive. Takes around 30 mins."
   ]
  },
  {
   "cell_type": "code",
   "execution_count": null,
   "metadata": {
    "code_folding": []
   },
   "outputs": [],
   "source": [
    "# create an empty array to store dictionaries retrieved via API\n",
    "tweets = []\n",
    "missing_tweets = []\n",
    "\n",
    "# use tweet_id's from our dataframe to retrieve original tweets\n",
    "for i in merged_df.tweet_id:\n",
    "    try:\n",
    "        tweets.append (api.get_status(i, tweet_mode='extended'))\n",
    "    except:\n",
    "        missing_tweets.append(i)\n",
    "        print ('tweet #', i, ' could not be located')\n",
    "            \n",
    "# write downloaded tweets to a json file and store it locally            \n",
    "with open('tweets.json', 'w') as outfile:\n",
    "    json.dump(tweets, outfile)"
   ]
  },
  {
   "cell_type": "markdown",
   "metadata": {},
   "source": [
    "### Read the downloaded and saved archive from a local .json file"
   ]
  },
  {
   "cell_type": "code",
   "execution_count": 16,
   "metadata": {},
   "outputs": [],
   "source": [
    "tweets = pd.read_json ('tweets.json')"
   ]
  },
  {
   "cell_type": "code",
   "execution_count": 17,
   "metadata": {},
   "outputs": [
    {
     "name": "stdout",
     "output_type": "stream",
     "text": [
      "<class 'pandas.core.frame.DataFrame'>\n",
      "RangeIndex: 2061 entries, 0 to 2060\n",
      "Data columns (total 28 columns):\n",
      "contributors                     0 non-null float64\n",
      "coordinates                      0 non-null float64\n",
      "created_at                       2061 non-null datetime64[ns]\n",
      "display_text_range               2061 non-null object\n",
      "entities                         2061 non-null object\n",
      "extended_entities                2061 non-null object\n",
      "favorite_count                   2061 non-null int64\n",
      "favorited                        2061 non-null bool\n",
      "full_text                        2061 non-null object\n",
      "geo                              0 non-null float64\n",
      "id                               2061 non-null int64\n",
      "id_str                           2061 non-null int64\n",
      "in_reply_to_screen_name          23 non-null object\n",
      "in_reply_to_status_id            23 non-null float64\n",
      "in_reply_to_status_id_str        23 non-null float64\n",
      "in_reply_to_user_id              23 non-null float64\n",
      "in_reply_to_user_id_str          23 non-null float64\n",
      "is_quote_status                  2061 non-null bool\n",
      "lang                             2061 non-null object\n",
      "place                            1 non-null object\n",
      "possibly_sensitive               2061 non-null bool\n",
      "possibly_sensitive_appealable    2061 non-null bool\n",
      "retweet_count                    2061 non-null int64\n",
      "retweeted                        2061 non-null bool\n",
      "retweeted_status                 74 non-null object\n",
      "source                           2061 non-null object\n",
      "truncated                        2061 non-null bool\n",
      "user                             2061 non-null object\n",
      "dtypes: bool(6), datetime64[ns](1), float64(7), int64(4), object(10)\n",
      "memory usage: 366.4+ KB\n"
     ]
    }
   ],
   "source": [
    "tweets.info()"
   ]
  },
  {
   "cell_type": "code",
   "execution_count": 18,
   "metadata": {},
   "outputs": [
    {
     "data": {
      "text/html": [
       "<div>\n",
       "<style scoped>\n",
       "    .dataframe tbody tr th:only-of-type {\n",
       "        vertical-align: middle;\n",
       "    }\n",
       "\n",
       "    .dataframe tbody tr th {\n",
       "        vertical-align: top;\n",
       "    }\n",
       "\n",
       "    .dataframe thead th {\n",
       "        text-align: right;\n",
       "    }\n",
       "</style>\n",
       "<table border=\"1\" class=\"dataframe\">\n",
       "  <thead>\n",
       "    <tr style=\"text-align: right;\">\n",
       "      <th></th>\n",
       "      <th>contributors</th>\n",
       "      <th>coordinates</th>\n",
       "      <th>created_at</th>\n",
       "      <th>display_text_range</th>\n",
       "      <th>entities</th>\n",
       "      <th>extended_entities</th>\n",
       "      <th>favorite_count</th>\n",
       "      <th>favorited</th>\n",
       "      <th>full_text</th>\n",
       "      <th>geo</th>\n",
       "      <th>...</th>\n",
       "      <th>lang</th>\n",
       "      <th>place</th>\n",
       "      <th>possibly_sensitive</th>\n",
       "      <th>possibly_sensitive_appealable</th>\n",
       "      <th>retweet_count</th>\n",
       "      <th>retweeted</th>\n",
       "      <th>retweeted_status</th>\n",
       "      <th>source</th>\n",
       "      <th>truncated</th>\n",
       "      <th>user</th>\n",
       "    </tr>\n",
       "  </thead>\n",
       "  <tbody>\n",
       "    <tr>\n",
       "      <th>0</th>\n",
       "      <td>NaN</td>\n",
       "      <td>NaN</td>\n",
       "      <td>2017-08-01 16:23:56</td>\n",
       "      <td>[0, 85]</td>\n",
       "      <td>{'hashtags': [], 'symbols': [], 'user_mentions...</td>\n",
       "      <td>{'media': [{'id': 892420639486877696, 'id_str'...</td>\n",
       "      <td>36940</td>\n",
       "      <td>False</td>\n",
       "      <td>This is Phineas. He's a mystical boy. Only eve...</td>\n",
       "      <td>NaN</td>\n",
       "      <td>...</td>\n",
       "      <td>en</td>\n",
       "      <td>None</td>\n",
       "      <td>False</td>\n",
       "      <td>False</td>\n",
       "      <td>7873</td>\n",
       "      <td>False</td>\n",
       "      <td>NaN</td>\n",
       "      <td>&lt;a href=\"http://twitter.com/download/iphone\" r...</td>\n",
       "      <td>False</td>\n",
       "      <td>{'id': 4196983835, 'id_str': '4196983835', 'na...</td>\n",
       "    </tr>\n",
       "    <tr>\n",
       "      <th>1</th>\n",
       "      <td>NaN</td>\n",
       "      <td>NaN</td>\n",
       "      <td>2017-08-01 00:17:27</td>\n",
       "      <td>[0, 138]</td>\n",
       "      <td>{'hashtags': [], 'symbols': [], 'user_mentions...</td>\n",
       "      <td>{'media': [{'id': 892177413194625024, 'id_str'...</td>\n",
       "      <td>31781</td>\n",
       "      <td>False</td>\n",
       "      <td>This is Tilly. She's just checking pup on you....</td>\n",
       "      <td>NaN</td>\n",
       "      <td>...</td>\n",
       "      <td>en</td>\n",
       "      <td>None</td>\n",
       "      <td>False</td>\n",
       "      <td>False</td>\n",
       "      <td>5844</td>\n",
       "      <td>False</td>\n",
       "      <td>NaN</td>\n",
       "      <td>&lt;a href=\"http://twitter.com/download/iphone\" r...</td>\n",
       "      <td>False</td>\n",
       "      <td>{'id': 4196983835, 'id_str': '4196983835', 'na...</td>\n",
       "    </tr>\n",
       "    <tr>\n",
       "      <th>2</th>\n",
       "      <td>NaN</td>\n",
       "      <td>NaN</td>\n",
       "      <td>2017-07-31 00:18:03</td>\n",
       "      <td>[0, 121]</td>\n",
       "      <td>{'hashtags': [], 'symbols': [], 'user_mentions...</td>\n",
       "      <td>{'media': [{'id': 891815175371796480, 'id_str'...</td>\n",
       "      <td>23952</td>\n",
       "      <td>False</td>\n",
       "      <td>This is Archie. He is a rare Norwegian Pouncin...</td>\n",
       "      <td>NaN</td>\n",
       "      <td>...</td>\n",
       "      <td>en</td>\n",
       "      <td>None</td>\n",
       "      <td>False</td>\n",
       "      <td>False</td>\n",
       "      <td>3859</td>\n",
       "      <td>False</td>\n",
       "      <td>NaN</td>\n",
       "      <td>&lt;a href=\"http://twitter.com/download/iphone\" r...</td>\n",
       "      <td>False</td>\n",
       "      <td>{'id': 4196983835, 'id_str': '4196983835', 'na...</td>\n",
       "    </tr>\n",
       "    <tr>\n",
       "      <th>3</th>\n",
       "      <td>NaN</td>\n",
       "      <td>NaN</td>\n",
       "      <td>2017-07-30 15:58:51</td>\n",
       "      <td>[0, 79]</td>\n",
       "      <td>{'hashtags': [], 'symbols': [], 'user_mentions...</td>\n",
       "      <td>{'media': [{'id': 891689552724799489, 'id_str'...</td>\n",
       "      <td>40263</td>\n",
       "      <td>False</td>\n",
       "      <td>This is Darla. She commenced a snooze mid meal...</td>\n",
       "      <td>NaN</td>\n",
       "      <td>...</td>\n",
       "      <td>en</td>\n",
       "      <td>None</td>\n",
       "      <td>False</td>\n",
       "      <td>False</td>\n",
       "      <td>8042</td>\n",
       "      <td>False</td>\n",
       "      <td>NaN</td>\n",
       "      <td>&lt;a href=\"http://twitter.com/download/iphone\" r...</td>\n",
       "      <td>False</td>\n",
       "      <td>{'id': 4196983835, 'id_str': '4196983835', 'na...</td>\n",
       "    </tr>\n",
       "    <tr>\n",
       "      <th>4</th>\n",
       "      <td>NaN</td>\n",
       "      <td>NaN</td>\n",
       "      <td>2017-07-29 16:00:24</td>\n",
       "      <td>[0, 138]</td>\n",
       "      <td>{'hashtags': [{'text': 'BarkWeek', 'indices': ...</td>\n",
       "      <td>{'media': [{'id': 891327551943041024, 'id_str'...</td>\n",
       "      <td>38458</td>\n",
       "      <td>False</td>\n",
       "      <td>This is Franklin. He would like you to stop ca...</td>\n",
       "      <td>NaN</td>\n",
       "      <td>...</td>\n",
       "      <td>en</td>\n",
       "      <td>None</td>\n",
       "      <td>False</td>\n",
       "      <td>False</td>\n",
       "      <td>8701</td>\n",
       "      <td>False</td>\n",
       "      <td>NaN</td>\n",
       "      <td>&lt;a href=\"http://twitter.com/download/iphone\" r...</td>\n",
       "      <td>False</td>\n",
       "      <td>{'id': 4196983835, 'id_str': '4196983835', 'na...</td>\n",
       "    </tr>\n",
       "  </tbody>\n",
       "</table>\n",
       "<p>5 rows × 28 columns</p>\n",
       "</div>"
      ],
      "text/plain": [
       "   contributors  coordinates          created_at display_text_range  \\\n",
       "0           NaN          NaN 2017-08-01 16:23:56            [0, 85]   \n",
       "1           NaN          NaN 2017-08-01 00:17:27           [0, 138]   \n",
       "2           NaN          NaN 2017-07-31 00:18:03           [0, 121]   \n",
       "3           NaN          NaN 2017-07-30 15:58:51            [0, 79]   \n",
       "4           NaN          NaN 2017-07-29 16:00:24           [0, 138]   \n",
       "\n",
       "                                            entities  \\\n",
       "0  {'hashtags': [], 'symbols': [], 'user_mentions...   \n",
       "1  {'hashtags': [], 'symbols': [], 'user_mentions...   \n",
       "2  {'hashtags': [], 'symbols': [], 'user_mentions...   \n",
       "3  {'hashtags': [], 'symbols': [], 'user_mentions...   \n",
       "4  {'hashtags': [{'text': 'BarkWeek', 'indices': ...   \n",
       "\n",
       "                                   extended_entities  favorite_count  \\\n",
       "0  {'media': [{'id': 892420639486877696, 'id_str'...           36940   \n",
       "1  {'media': [{'id': 892177413194625024, 'id_str'...           31781   \n",
       "2  {'media': [{'id': 891815175371796480, 'id_str'...           23952   \n",
       "3  {'media': [{'id': 891689552724799489, 'id_str'...           40263   \n",
       "4  {'media': [{'id': 891327551943041024, 'id_str'...           38458   \n",
       "\n",
       "   favorited                                          full_text  geo  ...  \\\n",
       "0      False  This is Phineas. He's a mystical boy. Only eve...  NaN  ...   \n",
       "1      False  This is Tilly. She's just checking pup on you....  NaN  ...   \n",
       "2      False  This is Archie. He is a rare Norwegian Pouncin...  NaN  ...   \n",
       "3      False  This is Darla. She commenced a snooze mid meal...  NaN  ...   \n",
       "4      False  This is Franklin. He would like you to stop ca...  NaN  ...   \n",
       "\n",
       "   lang  place possibly_sensitive  possibly_sensitive_appealable  \\\n",
       "0    en   None              False                          False   \n",
       "1    en   None              False                          False   \n",
       "2    en   None              False                          False   \n",
       "3    en   None              False                          False   \n",
       "4    en   None              False                          False   \n",
       "\n",
       "   retweet_count  retweeted  retweeted_status  \\\n",
       "0           7873      False               NaN   \n",
       "1           5844      False               NaN   \n",
       "2           3859      False               NaN   \n",
       "3           8042      False               NaN   \n",
       "4           8701      False               NaN   \n",
       "\n",
       "                                              source truncated  \\\n",
       "0  <a href=\"http://twitter.com/download/iphone\" r...     False   \n",
       "1  <a href=\"http://twitter.com/download/iphone\" r...     False   \n",
       "2  <a href=\"http://twitter.com/download/iphone\" r...     False   \n",
       "3  <a href=\"http://twitter.com/download/iphone\" r...     False   \n",
       "4  <a href=\"http://twitter.com/download/iphone\" r...     False   \n",
       "\n",
       "                                                user  \n",
       "0  {'id': 4196983835, 'id_str': '4196983835', 'na...  \n",
       "1  {'id': 4196983835, 'id_str': '4196983835', 'na...  \n",
       "2  {'id': 4196983835, 'id_str': '4196983835', 'na...  \n",
       "3  {'id': 4196983835, 'id_str': '4196983835', 'na...  \n",
       "4  {'id': 4196983835, 'id_str': '4196983835', 'na...  \n",
       "\n",
       "[5 rows x 28 columns]"
      ]
     },
     "execution_count": 18,
     "metadata": {},
     "output_type": "execute_result"
    }
   ],
   "source": [
    "tweets.head()"
   ]
  },
  {
   "cell_type": "markdown",
   "metadata": {},
   "source": [
    "### Merge tweets with two previous datasets"
   ]
  },
  {
   "cell_type": "code",
   "execution_count": 19,
   "metadata": {},
   "outputs": [
    {
     "name": "stdout",
     "output_type": "stream",
     "text": [
      "<class 'pandas.core.frame.DataFrame'>\n",
      "RangeIndex: 2061 entries, 0 to 2060\n",
      "Data columns (total 28 columns):\n",
      "contributors                     0 non-null float64\n",
      "coordinates                      0 non-null float64\n",
      "created_at                       2061 non-null datetime64[ns]\n",
      "display_text_range               2061 non-null object\n",
      "entities                         2061 non-null object\n",
      "extended_entities                2061 non-null object\n",
      "favorite_count                   2061 non-null int64\n",
      "favorited                        2061 non-null bool\n",
      "full_text                        2061 non-null object\n",
      "geo                              0 non-null float64\n",
      "id                               2061 non-null int64\n",
      "id_str                           2061 non-null int64\n",
      "in_reply_to_screen_name          23 non-null object\n",
      "in_reply_to_status_id            23 non-null float64\n",
      "in_reply_to_status_id_str        23 non-null float64\n",
      "in_reply_to_user_id              23 non-null float64\n",
      "in_reply_to_user_id_str          23 non-null float64\n",
      "is_quote_status                  2061 non-null bool\n",
      "lang                             2061 non-null object\n",
      "place                            1 non-null object\n",
      "possibly_sensitive               2061 non-null bool\n",
      "possibly_sensitive_appealable    2061 non-null bool\n",
      "retweet_count                    2061 non-null int64\n",
      "retweeted                        2061 non-null bool\n",
      "retweeted_status                 74 non-null object\n",
      "source                           2061 non-null object\n",
      "truncated                        2061 non-null bool\n",
      "user                             2061 non-null object\n",
      "dtypes: bool(6), datetime64[ns](1), float64(7), int64(4), object(10)\n",
      "memory usage: 366.4+ KB\n"
     ]
    }
   ],
   "source": [
    "tweets.info()"
   ]
  },
  {
   "cell_type": "markdown",
   "metadata": {},
   "source": [
    "`tweets` JSON has two representations of ID - `int` and `str`. Twitter documentation recommends using the `str` representation as \"some programming languages may have difficulty / silent defects in interpreting [`int` id]\".\n",
    "\n",
    "\n",
    "Let's see whether there is any difference between the records."
   ]
  },
  {
   "cell_type": "code",
   "execution_count": 20,
   "metadata": {
    "scrolled": true
   },
   "outputs": [
    {
     "data": {
      "text/plain": [
       "718"
      ]
     },
     "execution_count": 20,
     "metadata": {},
     "output_type": "execute_result"
    }
   ],
   "source": [
    "# how many tweets have mismatching `id` and `id_str` record\n",
    "len(tweets[(tweets['id'] - tweets['id_str'])!=0])"
   ]
  },
  {
   "cell_type": "markdown",
   "metadata": {},
   "source": [
    "That's quite a bit. More than 1/3 of mismatches."
   ]
  },
  {
   "cell_type": "markdown",
   "metadata": {},
   "source": [
    "After a bit of research it appeared that the `id_str` column gets corrupted at the import stage - it gets automatically converted into an `int64` and corrupted along the way. To prevent this from happening - it's important to prevent `read_json` from inferring datatypes."
   ]
  },
  {
   "cell_type": "code",
   "execution_count": 21,
   "metadata": {},
   "outputs": [],
   "source": [
    "tweets = pd.read_json ('tweets.json', dtype=False)"
   ]
  },
  {
   "cell_type": "code",
   "execution_count": 22,
   "metadata": {},
   "outputs": [
    {
     "data": {
      "text/plain": [
       "0"
      ]
     },
     "execution_count": 22,
     "metadata": {},
     "output_type": "execute_result"
    }
   ],
   "source": [
    "len(tweets[(tweets['id'] - tweets['id_str'].astype(int))!=0])"
   ]
  },
  {
   "cell_type": "code",
   "execution_count": 23,
   "metadata": {},
   "outputs": [
    {
     "name": "stdout",
     "output_type": "stream",
     "text": [
      "<class 'pandas.core.frame.DataFrame'>\n",
      "RangeIndex: 2061 entries, 0 to 2060\n",
      "Data columns (total 28 columns):\n",
      "contributors                     0 non-null object\n",
      "coordinates                      0 non-null object\n",
      "created_at                       2061 non-null datetime64[ns]\n",
      "display_text_range               2061 non-null object\n",
      "entities                         2061 non-null object\n",
      "extended_entities                2061 non-null object\n",
      "favorite_count                   2061 non-null int64\n",
      "favorited                        2061 non-null bool\n",
      "full_text                        2061 non-null object\n",
      "geo                              0 non-null object\n",
      "id                               2061 non-null int64\n",
      "id_str                           2061 non-null object\n",
      "in_reply_to_screen_name          23 non-null object\n",
      "in_reply_to_status_id            23 non-null float64\n",
      "in_reply_to_status_id_str        23 non-null object\n",
      "in_reply_to_user_id              23 non-null float64\n",
      "in_reply_to_user_id_str          23 non-null object\n",
      "is_quote_status                  2061 non-null bool\n",
      "lang                             2061 non-null object\n",
      "place                            1 non-null object\n",
      "possibly_sensitive               2061 non-null bool\n",
      "possibly_sensitive_appealable    2061 non-null bool\n",
      "retweet_count                    2061 non-null int64\n",
      "retweeted                        2061 non-null bool\n",
      "retweeted_status                 74 non-null object\n",
      "source                           2061 non-null object\n",
      "truncated                        2061 non-null bool\n",
      "user                             2061 non-null object\n",
      "dtypes: bool(6), datetime64[ns](1), float64(2), int64(3), object(16)\n",
      "memory usage: 366.4+ KB\n"
     ]
    }
   ],
   "source": [
    "tweets.info()"
   ]
  },
  {
   "cell_type": "markdown",
   "metadata": {},
   "source": [
    "Let's merge `tweets` dataframe with the other two."
   ]
  },
  {
   "cell_type": "code",
   "execution_count": 24,
   "metadata": {},
   "outputs": [],
   "source": [
    "tweets['tweet_id'] = tweets['id']\n",
    "we_rate_dogs = pd.merge(merged_df,tweets, how='inner')"
   ]
  },
  {
   "cell_type": "markdown",
   "metadata": {},
   "source": [
    "Now let's see how much was merged"
   ]
  },
  {
   "cell_type": "code",
   "execution_count": 25,
   "metadata": {},
   "outputs": [
    {
     "data": {
      "text/plain": [
       "0"
      ]
     },
     "execution_count": 25,
     "metadata": {},
     "output_type": "execute_result"
    }
   ],
   "source": [
    "len(we_rate_dogs) - len(tweets)"
   ]
  },
  {
   "cell_type": "markdown",
   "metadata": {},
   "source": [
    "The two are the same length which means that all records were merged. Good."
   ]
  },
  {
   "cell_type": "markdown",
   "metadata": {},
   "source": [
    "---\n",
    "# Assess data\n",
    "---"
   ]
  },
  {
   "cell_type": "markdown",
   "metadata": {},
   "source": [
    "Let's take a quick overview of the complete merged dataset that we've created."
   ]
  },
  {
   "cell_type": "code",
   "execution_count": 26,
   "metadata": {
    "scrolled": true
   },
   "outputs": [
    {
     "data": {
      "text/html": [
       "<div>\n",
       "<style scoped>\n",
       "    .dataframe tbody tr th:only-of-type {\n",
       "        vertical-align: middle;\n",
       "    }\n",
       "\n",
       "    .dataframe tbody tr th {\n",
       "        vertical-align: top;\n",
       "    }\n",
       "\n",
       "    .dataframe thead th {\n",
       "        text-align: right;\n",
       "    }\n",
       "</style>\n",
       "<table border=\"1\" class=\"dataframe\">\n",
       "  <thead>\n",
       "    <tr style=\"text-align: right;\">\n",
       "      <th></th>\n",
       "      <th>tweet_id</th>\n",
       "      <th>in_reply_to_status_id</th>\n",
       "      <th>in_reply_to_user_id</th>\n",
       "      <th>timestamp</th>\n",
       "      <th>source</th>\n",
       "      <th>text</th>\n",
       "      <th>retweeted_status_id</th>\n",
       "      <th>retweeted_status_user_id</th>\n",
       "      <th>retweeted_status_timestamp</th>\n",
       "      <th>expanded_urls</th>\n",
       "      <th>...</th>\n",
       "      <th>is_quote_status</th>\n",
       "      <th>lang</th>\n",
       "      <th>place</th>\n",
       "      <th>possibly_sensitive</th>\n",
       "      <th>possibly_sensitive_appealable</th>\n",
       "      <th>retweet_count</th>\n",
       "      <th>retweeted</th>\n",
       "      <th>retweeted_status</th>\n",
       "      <th>truncated</th>\n",
       "      <th>user</th>\n",
       "    </tr>\n",
       "  </thead>\n",
       "  <tbody>\n",
       "    <tr>\n",
       "      <th>0</th>\n",
       "      <td>892420643555336193</td>\n",
       "      <td>NaN</td>\n",
       "      <td>NaN</td>\n",
       "      <td>2017-08-01 16:23:56 +0000</td>\n",
       "      <td>&lt;a href=\"http://twitter.com/download/iphone\" r...</td>\n",
       "      <td>This is Phineas. He's a mystical boy. Only eve...</td>\n",
       "      <td>NaN</td>\n",
       "      <td>NaN</td>\n",
       "      <td>NaN</td>\n",
       "      <td>https://twitter.com/dog_rates/status/892420643...</td>\n",
       "      <td>...</td>\n",
       "      <td>False</td>\n",
       "      <td>en</td>\n",
       "      <td>None</td>\n",
       "      <td>False</td>\n",
       "      <td>False</td>\n",
       "      <td>7873</td>\n",
       "      <td>False</td>\n",
       "      <td>NaN</td>\n",
       "      <td>False</td>\n",
       "      <td>{'id': 4196983835, 'id_str': '4196983835', 'na...</td>\n",
       "    </tr>\n",
       "    <tr>\n",
       "      <th>1</th>\n",
       "      <td>892177421306343426</td>\n",
       "      <td>NaN</td>\n",
       "      <td>NaN</td>\n",
       "      <td>2017-08-01 00:17:27 +0000</td>\n",
       "      <td>&lt;a href=\"http://twitter.com/download/iphone\" r...</td>\n",
       "      <td>This is Tilly. She's just checking pup on you....</td>\n",
       "      <td>NaN</td>\n",
       "      <td>NaN</td>\n",
       "      <td>NaN</td>\n",
       "      <td>https://twitter.com/dog_rates/status/892177421...</td>\n",
       "      <td>...</td>\n",
       "      <td>False</td>\n",
       "      <td>en</td>\n",
       "      <td>None</td>\n",
       "      <td>False</td>\n",
       "      <td>False</td>\n",
       "      <td>5844</td>\n",
       "      <td>False</td>\n",
       "      <td>NaN</td>\n",
       "      <td>False</td>\n",
       "      <td>{'id': 4196983835, 'id_str': '4196983835', 'na...</td>\n",
       "    </tr>\n",
       "    <tr>\n",
       "      <th>2</th>\n",
       "      <td>891815181378084864</td>\n",
       "      <td>NaN</td>\n",
       "      <td>NaN</td>\n",
       "      <td>2017-07-31 00:18:03 +0000</td>\n",
       "      <td>&lt;a href=\"http://twitter.com/download/iphone\" r...</td>\n",
       "      <td>This is Archie. He is a rare Norwegian Pouncin...</td>\n",
       "      <td>NaN</td>\n",
       "      <td>NaN</td>\n",
       "      <td>NaN</td>\n",
       "      <td>https://twitter.com/dog_rates/status/891815181...</td>\n",
       "      <td>...</td>\n",
       "      <td>False</td>\n",
       "      <td>en</td>\n",
       "      <td>None</td>\n",
       "      <td>False</td>\n",
       "      <td>False</td>\n",
       "      <td>3859</td>\n",
       "      <td>False</td>\n",
       "      <td>NaN</td>\n",
       "      <td>False</td>\n",
       "      <td>{'id': 4196983835, 'id_str': '4196983835', 'na...</td>\n",
       "    </tr>\n",
       "    <tr>\n",
       "      <th>3</th>\n",
       "      <td>891689557279858688</td>\n",
       "      <td>NaN</td>\n",
       "      <td>NaN</td>\n",
       "      <td>2017-07-30 15:58:51 +0000</td>\n",
       "      <td>&lt;a href=\"http://twitter.com/download/iphone\" r...</td>\n",
       "      <td>This is Darla. She commenced a snooze mid meal...</td>\n",
       "      <td>NaN</td>\n",
       "      <td>NaN</td>\n",
       "      <td>NaN</td>\n",
       "      <td>https://twitter.com/dog_rates/status/891689557...</td>\n",
       "      <td>...</td>\n",
       "      <td>False</td>\n",
       "      <td>en</td>\n",
       "      <td>None</td>\n",
       "      <td>False</td>\n",
       "      <td>False</td>\n",
       "      <td>8042</td>\n",
       "      <td>False</td>\n",
       "      <td>NaN</td>\n",
       "      <td>False</td>\n",
       "      <td>{'id': 4196983835, 'id_str': '4196983835', 'na...</td>\n",
       "    </tr>\n",
       "    <tr>\n",
       "      <th>4</th>\n",
       "      <td>891327558926688256</td>\n",
       "      <td>NaN</td>\n",
       "      <td>NaN</td>\n",
       "      <td>2017-07-29 16:00:24 +0000</td>\n",
       "      <td>&lt;a href=\"http://twitter.com/download/iphone\" r...</td>\n",
       "      <td>This is Franklin. He would like you to stop ca...</td>\n",
       "      <td>NaN</td>\n",
       "      <td>NaN</td>\n",
       "      <td>NaN</td>\n",
       "      <td>https://twitter.com/dog_rates/status/891327558...</td>\n",
       "      <td>...</td>\n",
       "      <td>False</td>\n",
       "      <td>en</td>\n",
       "      <td>None</td>\n",
       "      <td>False</td>\n",
       "      <td>False</td>\n",
       "      <td>8701</td>\n",
       "      <td>False</td>\n",
       "      <td>NaN</td>\n",
       "      <td>False</td>\n",
       "      <td>{'id': 4196983835, 'id_str': '4196983835', 'na...</td>\n",
       "    </tr>\n",
       "  </tbody>\n",
       "</table>\n",
       "<p>5 rows × 53 columns</p>\n",
       "</div>"
      ],
      "text/plain": [
       "             tweet_id  in_reply_to_status_id  in_reply_to_user_id  \\\n",
       "0  892420643555336193                    NaN                  NaN   \n",
       "1  892177421306343426                    NaN                  NaN   \n",
       "2  891815181378084864                    NaN                  NaN   \n",
       "3  891689557279858688                    NaN                  NaN   \n",
       "4  891327558926688256                    NaN                  NaN   \n",
       "\n",
       "                   timestamp  \\\n",
       "0  2017-08-01 16:23:56 +0000   \n",
       "1  2017-08-01 00:17:27 +0000   \n",
       "2  2017-07-31 00:18:03 +0000   \n",
       "3  2017-07-30 15:58:51 +0000   \n",
       "4  2017-07-29 16:00:24 +0000   \n",
       "\n",
       "                                              source  \\\n",
       "0  <a href=\"http://twitter.com/download/iphone\" r...   \n",
       "1  <a href=\"http://twitter.com/download/iphone\" r...   \n",
       "2  <a href=\"http://twitter.com/download/iphone\" r...   \n",
       "3  <a href=\"http://twitter.com/download/iphone\" r...   \n",
       "4  <a href=\"http://twitter.com/download/iphone\" r...   \n",
       "\n",
       "                                                text  retweeted_status_id  \\\n",
       "0  This is Phineas. He's a mystical boy. Only eve...                  NaN   \n",
       "1  This is Tilly. She's just checking pup on you....                  NaN   \n",
       "2  This is Archie. He is a rare Norwegian Pouncin...                  NaN   \n",
       "3  This is Darla. She commenced a snooze mid meal...                  NaN   \n",
       "4  This is Franklin. He would like you to stop ca...                  NaN   \n",
       "\n",
       "   retweeted_status_user_id retweeted_status_timestamp  \\\n",
       "0                       NaN                        NaN   \n",
       "1                       NaN                        NaN   \n",
       "2                       NaN                        NaN   \n",
       "3                       NaN                        NaN   \n",
       "4                       NaN                        NaN   \n",
       "\n",
       "                                       expanded_urls  ...  is_quote_status  \\\n",
       "0  https://twitter.com/dog_rates/status/892420643...  ...            False   \n",
       "1  https://twitter.com/dog_rates/status/892177421...  ...            False   \n",
       "2  https://twitter.com/dog_rates/status/891815181...  ...            False   \n",
       "3  https://twitter.com/dog_rates/status/891689557...  ...            False   \n",
       "4  https://twitter.com/dog_rates/status/891327558...  ...            False   \n",
       "\n",
       "   lang place possibly_sensitive possibly_sensitive_appealable retweet_count  \\\n",
       "0    en  None              False                         False          7873   \n",
       "1    en  None              False                         False          5844   \n",
       "2    en  None              False                         False          3859   \n",
       "3    en  None              False                         False          8042   \n",
       "4    en  None              False                         False          8701   \n",
       "\n",
       "  retweeted retweeted_status  truncated  \\\n",
       "0     False              NaN      False   \n",
       "1     False              NaN      False   \n",
       "2     False              NaN      False   \n",
       "3     False              NaN      False   \n",
       "4     False              NaN      False   \n",
       "\n",
       "                                                user  \n",
       "0  {'id': 4196983835, 'id_str': '4196983835', 'na...  \n",
       "1  {'id': 4196983835, 'id_str': '4196983835', 'na...  \n",
       "2  {'id': 4196983835, 'id_str': '4196983835', 'na...  \n",
       "3  {'id': 4196983835, 'id_str': '4196983835', 'na...  \n",
       "4  {'id': 4196983835, 'id_str': '4196983835', 'na...  \n",
       "\n",
       "[5 rows x 53 columns]"
      ]
     },
     "execution_count": 26,
     "metadata": {},
     "output_type": "execute_result"
    }
   ],
   "source": [
    "we_rate_dogs.head()"
   ]
  },
  {
   "cell_type": "code",
   "execution_count": 27,
   "metadata": {
    "scrolled": true
   },
   "outputs": [
    {
     "name": "stdout",
     "output_type": "stream",
     "text": [
      "<class 'pandas.core.frame.DataFrame'>\n",
      "Int64Index: 2061 entries, 0 to 2060\n",
      "Data columns (total 53 columns):\n",
      "tweet_id                         2061 non-null int64\n",
      "in_reply_to_status_id            23 non-null float64\n",
      "in_reply_to_user_id              23 non-null float64\n",
      "timestamp                        2061 non-null object\n",
      "source                           2061 non-null object\n",
      "text                             2061 non-null object\n",
      "retweeted_status_id              74 non-null float64\n",
      "retweeted_status_user_id         74 non-null float64\n",
      "retweeted_status_timestamp       74 non-null object\n",
      "expanded_urls                    2061 non-null object\n",
      "rating_numerator                 2061 non-null int64\n",
      "rating_denominator               2061 non-null int64\n",
      "name                             2061 non-null object\n",
      "doggo                            2061 non-null object\n",
      "floofer                          2061 non-null object\n",
      "pupper                           2061 non-null object\n",
      "puppo                            2061 non-null object\n",
      "jpg_url                          2061 non-null object\n",
      "img_num                          2061 non-null int64\n",
      "p1                               2061 non-null object\n",
      "p1_conf                          2061 non-null float64\n",
      "p1_dog                           2061 non-null bool\n",
      "p2                               2061 non-null object\n",
      "p2_conf                          2061 non-null float64\n",
      "p2_dog                           2061 non-null bool\n",
      "p3                               2061 non-null object\n",
      "p3_conf                          2061 non-null float64\n",
      "p3_dog                           2061 non-null bool\n",
      "contributors                     0 non-null object\n",
      "coordinates                      0 non-null object\n",
      "created_at                       2061 non-null datetime64[ns]\n",
      "display_text_range               2061 non-null object\n",
      "entities                         2061 non-null object\n",
      "extended_entities                2061 non-null object\n",
      "favorite_count                   2061 non-null int64\n",
      "favorited                        2061 non-null bool\n",
      "full_text                        2061 non-null object\n",
      "geo                              0 non-null object\n",
      "id                               2061 non-null int64\n",
      "id_str                           2061 non-null object\n",
      "in_reply_to_screen_name          23 non-null object\n",
      "in_reply_to_status_id_str        23 non-null object\n",
      "in_reply_to_user_id_str          23 non-null object\n",
      "is_quote_status                  2061 non-null bool\n",
      "lang                             2061 non-null object\n",
      "place                            1 non-null object\n",
      "possibly_sensitive               2061 non-null bool\n",
      "possibly_sensitive_appealable    2061 non-null bool\n",
      "retweet_count                    2061 non-null int64\n",
      "retweeted                        2061 non-null bool\n",
      "retweeted_status                 74 non-null object\n",
      "truncated                        2061 non-null bool\n",
      "user                             2061 non-null object\n",
      "dtypes: bool(9), datetime64[ns](1), float64(7), int64(7), object(29)\n",
      "memory usage: 742.7+ KB\n"
     ]
    }
   ],
   "source": [
    "we_rate_dogs.info()"
   ]
  },
  {
   "cell_type": "markdown",
   "metadata": {},
   "source": [
    "How many columns of data do we have after merging all datasets."
   ]
  },
  {
   "cell_type": "code",
   "execution_count": 28,
   "metadata": {},
   "outputs": [
    {
     "name": "stdout",
     "output_type": "stream",
     "text": [
      "53\n"
     ]
    }
   ],
   "source": [
    "print (len(we_rate_dogs.columns))"
   ]
  },
  {
   "cell_type": "markdown",
   "metadata": {},
   "source": [
    "## Duplicate, zero and redundant data\n",
    "First let's assess whether there are any columns that contain no data whatsoever or that are irrelevant for the purposes of our analysis. Let's make empty lists which we will populate over the course of our assessment and drop remove them from the dataframe."
   ]
  },
  {
   "cell_type": "markdown",
   "metadata": {},
   "source": [
    "### Duplicate columns\n",
    "Some of the data is duplicated across columns"
   ]
  },
  {
   "cell_type": "code",
   "execution_count": 29,
   "metadata": {},
   "outputs": [],
   "source": [
    "# let's make an empty list to hold column names with duplicate data\n",
    "duplicate_columns = []"
   ]
  },
  {
   "cell_type": "markdown",
   "metadata": {},
   "source": [
    "Tweet data structure duplicates certain columns in `int64` and `str` representations to prevent  being corrupted. Let's check our records are intact and get rid of the columns we don't need.\n",
    "\n",
    "These are `id`, `in_reply_to_user_id` and `in_reply_to_status_id`"
   ]
  },
  {
   "cell_type": "code",
   "execution_count": 30,
   "metadata": {
    "scrolled": true
   },
   "outputs": [
    {
     "name": "stdout",
     "output_type": "stream",
     "text": [
      "0\n"
     ]
    }
   ],
   "source": [
    "# let's store the in_reply_to_status_id_str and in_reply_to_status_id columns in Series\n",
    "ID_str = we_rate_dogs[we_rate_dogs.id_str.notna()].id_str.astype(int)\n",
    "ID = we_rate_dogs[we_rate_dogs.id.notna()].id\n",
    "# subtracting them from each other and summing the output - would flag whether there're any differences between the two series\n",
    "print (sum (ID_str - ID))"
   ]
  },
  {
   "cell_type": "code",
   "execution_count": 31,
   "metadata": {},
   "outputs": [],
   "source": [
    "duplicate_columns.append('id_str')"
   ]
  },
  {
   "cell_type": "code",
   "execution_count": 32,
   "metadata": {
    "scrolled": true
   },
   "outputs": [
    {
     "name": "stdout",
     "output_type": "stream",
     "text": [
      "0.0\n"
     ]
    }
   ],
   "source": [
    "# let's store the in_reply_to_status_id_str and in_reply_to_status_id columns in Series\n",
    "IRTSID_str = we_rate_dogs[we_rate_dogs.in_reply_to_status_id_str.notna()].in_reply_to_status_id_str.astype(int)\n",
    "IRTSID = we_rate_dogs[we_rate_dogs.in_reply_to_status_id.notna()].in_reply_to_status_id\n",
    "# subtracting them from each other and summing the output - would flag whether there're any differences between the two series\n",
    "print (sum (IRTSID_str - IRTSID))"
   ]
  },
  {
   "cell_type": "code",
   "execution_count": 33,
   "metadata": {},
   "outputs": [],
   "source": [
    "duplicate_columns.append('in_reply_to_status_id_str')"
   ]
  },
  {
   "cell_type": "code",
   "execution_count": 34,
   "metadata": {},
   "outputs": [
    {
     "name": "stdout",
     "output_type": "stream",
     "text": [
      "0.0\n"
     ]
    }
   ],
   "source": [
    "# let's store the in_reply_to_user_id_str and in_reply_to_user_id columns in Series\n",
    "IRTUID_str = we_rate_dogs[we_rate_dogs.in_reply_to_user_id_str.notna()].in_reply_to_user_id_str.astype(int)\n",
    "IRTUID = we_rate_dogs[we_rate_dogs.in_reply_to_user_id.notna()].in_reply_to_user_id\n",
    "# subtracting them from each other and summing the output - would flag whether there're any differences between the two series\n",
    "print (sum (IRTUID_str - IRTUID))"
   ]
  },
  {
   "cell_type": "code",
   "execution_count": 35,
   "metadata": {},
   "outputs": [],
   "source": [
    "duplicate_columns.append('in_reply_to_user_id_str')"
   ]
  },
  {
   "cell_type": "markdown",
   "metadata": {},
   "source": [
    "`timestamp` and `created_at` columns probably contain identical set of records. Let's subtract two columns from each other and see how many unique differences are there."
   ]
  },
  {
   "cell_type": "code",
   "execution_count": 36,
   "metadata": {},
   "outputs": [
    {
     "data": {
      "text/plain": [
       "array([0], dtype='timedelta64[ns]')"
      ]
     },
     "execution_count": 36,
     "metadata": {},
     "output_type": "execute_result"
    }
   ],
   "source": [
    "# we have to remove timezone data to perform arithmetic on timestamps\n",
    "column_created = we_rate_dogs.created_at.dt.tz_localize(None)\n",
    "column_timestamp = we_rate_dogs.timestamp.apply(lambda x: pd.Timestamp(x)).dt.tz_localize(None)\n",
    "\n",
    "(column_created - column_timestamp).unique()"
   ]
  },
  {
   "cell_type": "markdown",
   "metadata": {},
   "source": [
    "There's only one unique value and that value is `0`. We can conclude that both columns contain indentical sets of data. Therefore let's add one of them to the `duplicate_columns` list for future removal. As `created_at` is the original field from tweet json and is represented in correct data type - let's keep it and remove the `timestamp` column."
   ]
  },
  {
   "cell_type": "code",
   "execution_count": 37,
   "metadata": {},
   "outputs": [],
   "source": [
    "duplicate_columns.append('timestamp')"
   ]
  },
  {
   "cell_type": "code",
   "execution_count": 38,
   "metadata": {
    "scrolled": true
   },
   "outputs": [
    {
     "name": "stdout",
     "output_type": "stream",
     "text": [
      "duplicate_columns:  ['id_str', 'in_reply_to_status_id_str', 'in_reply_to_user_id_str', 'timestamp']\n"
     ]
    }
   ],
   "source": [
    "print ('duplicate_columns: ', duplicate_columns)"
   ]
  },
  {
   "cell_type": "markdown",
   "metadata": {},
   "source": [
    "Two other columns look suspiciously similarly named: `tweet_id` and `id`. Let's check if they're any different from each other."
   ]
  },
  {
   "cell_type": "code",
   "execution_count": 39,
   "metadata": {
    "scrolled": true
   },
   "outputs": [
    {
     "data": {
      "text/plain": [
       "0"
      ]
     },
     "execution_count": 39,
     "metadata": {},
     "output_type": "execute_result"
    }
   ],
   "source": [
    "sum (we_rate_dogs.tweet_id - we_rate_dogs.id)"
   ]
  },
  {
   "cell_type": "markdown",
   "metadata": {},
   "source": [
    "They're not. "
   ]
  },
  {
   "cell_type": "code",
   "execution_count": 40,
   "metadata": {},
   "outputs": [],
   "source": [
    "duplicate_columns.append('tweet_id')"
   ]
  },
  {
   "cell_type": "markdown",
   "metadata": {},
   "source": [
    "### Zero columns"
   ]
  },
  {
   "cell_type": "code",
   "execution_count": 41,
   "metadata": {},
   "outputs": [],
   "source": [
    "# let's make an empty list to hold column names with no data in them\n",
    "zero_columns = []"
   ]
  },
  {
   "cell_type": "markdown",
   "metadata": {},
   "source": [
    "Summing data in columns highlights some of the empty variables."
   ]
  },
  {
   "cell_type": "code",
   "execution_count": 42,
   "metadata": {},
   "outputs": [],
   "source": [
    "zeros = we_rate_dogs.sum(axis=0) == 0"
   ]
  },
  {
   "cell_type": "code",
   "execution_count": 43,
   "metadata": {},
   "outputs": [
    {
     "data": {
      "text/plain": [
       "Index(['contributors', 'coordinates', 'favorited', 'geo', 'is_quote_status',\n",
       "       'possibly_sensitive', 'possibly_sensitive_appealable', 'retweeted',\n",
       "       'truncated'],\n",
       "      dtype='object')"
      ]
     },
     "execution_count": 43,
     "metadata": {},
     "output_type": "execute_result"
    }
   ],
   "source": [
    "zeros.index[zeros]"
   ]
  },
  {
   "cell_type": "code",
   "execution_count": 44,
   "metadata": {},
   "outputs": [],
   "source": [
    "# make list of all zero-value columns\n",
    "zero_columns.extend(we_rate_dogs[zeros.index[zeros]].columns)"
   ]
  },
  {
   "cell_type": "markdown",
   "metadata": {},
   "source": [
    "### Redundant columns\n",
    "some of the data in this set is not relevant to our future analysis. let's put it aside."
   ]
  },
  {
   "cell_type": "code",
   "execution_count": 45,
   "metadata": {},
   "outputs": [],
   "source": [
    "# let's make an empty list to hold column names with data not pertinent to our analysis\n",
    "redundant_columns = []"
   ]
  },
  {
   "cell_type": "markdown",
   "metadata": {},
   "source": [
    "It seems that there is only one record in the 'place' column. What is it?"
   ]
  },
  {
   "cell_type": "code",
   "execution_count": 46,
   "metadata": {},
   "outputs": [
    {
     "data": {
      "text/plain": [
       "686    {'id': '7356b662670b2c31', 'url': 'https://api...\n",
       "Name: place, dtype: object"
      ]
     },
     "execution_count": 46,
     "metadata": {},
     "output_type": "execute_result"
    }
   ],
   "source": [
    "we_rate_dogs[we_rate_dogs.place.notnull()].place"
   ]
  },
  {
   "cell_type": "markdown",
   "metadata": {},
   "source": [
    "Let's store this place in a separate variable and remove the column."
   ]
  },
  {
   "cell_type": "code",
   "execution_count": 47,
   "metadata": {},
   "outputs": [],
   "source": [
    "wrd_place = we_rate_dogs.iloc[686]"
   ]
  },
  {
   "cell_type": "markdown",
   "metadata": {},
   "source": [
    "Retweets and status replies comprise only a small fraction of tweets for this account. Let's store them in separate dataframes and remove from our main analysis."
   ]
  },
  {
   "cell_type": "code",
   "execution_count": 48,
   "metadata": {},
   "outputs": [
    {
     "name": "stdout",
     "output_type": "stream",
     "text": [
      "23  :  in_reply_to_status_id\n",
      "23  :  in_reply_to_user_id\n",
      "74  :  retweeted_status_id\n",
      "74  :  retweeted_status_user_id\n",
      "74  :  retweeted_status_timestamp\n",
      "23  :  in_reply_to_screen_name\n",
      "23  :  in_reply_to_status_id_str\n",
      "23  :  in_reply_to_user_id_str\n",
      "1  :  place\n",
      "74  :  retweeted_status\n"
     ]
    }
   ],
   "source": [
    "for i in we_rate_dogs.columns:\n",
    "    c = we_rate_dogs[i].notna()\n",
    "    c = len(c.index[c])\n",
    "    if 0<c<len(we_rate_dogs):\n",
    "        redundant_columns.append(i)\n",
    "        print (c,' : ', i)"
   ]
  },
  {
   "cell_type": "code",
   "execution_count": 49,
   "metadata": {},
   "outputs": [],
   "source": [
    "replies_01 = we_rate_dogs[we_rate_dogs.in_reply_to_status_id.notna()]\n",
    "replies_02 = we_rate_dogs[we_rate_dogs.in_reply_to_user_id.notna()]\n",
    "retweets_01 = we_rate_dogs[we_rate_dogs.retweeted_status.notna()]\n",
    "retweets_02 = we_rate_dogs[we_rate_dogs.retweeted_status_id.notna()]\n",
    "retweets_03 = we_rate_dogs[we_rate_dogs.retweeted_status_user_id.notna()]\n",
    "retweets_04 = we_rate_dogs[we_rate_dogs.retweeted_status_timestamp.notna()]"
   ]
  },
  {
   "cell_type": "markdown",
   "metadata": {},
   "source": [
    "As we're only looking into tweets from a single account - the column `user` just duplicates the same information in every record. Let's store it to a separate variable and get rid of the whole column."
   ]
  },
  {
   "cell_type": "code",
   "execution_count": 50,
   "metadata": {},
   "outputs": [
    {
     "data": {
      "text/html": [
       "<div>\n",
       "<style scoped>\n",
       "    .dataframe tbody tr th:only-of-type {\n",
       "        vertical-align: middle;\n",
       "    }\n",
       "\n",
       "    .dataframe tbody tr th {\n",
       "        vertical-align: top;\n",
       "    }\n",
       "\n",
       "    .dataframe thead th {\n",
       "        text-align: right;\n",
       "    }\n",
       "</style>\n",
       "<table border=\"1\" class=\"dataframe\">\n",
       "  <thead>\n",
       "    <tr style=\"text-align: right;\">\n",
       "      <th></th>\n",
       "      <th>tweet_id</th>\n",
       "      <th>in_reply_to_status_id</th>\n",
       "      <th>in_reply_to_user_id</th>\n",
       "      <th>timestamp</th>\n",
       "      <th>source</th>\n",
       "      <th>text</th>\n",
       "      <th>retweeted_status_id</th>\n",
       "      <th>retweeted_status_user_id</th>\n",
       "      <th>retweeted_status_timestamp</th>\n",
       "      <th>expanded_urls</th>\n",
       "      <th>...</th>\n",
       "      <th>is_quote_status</th>\n",
       "      <th>lang</th>\n",
       "      <th>place</th>\n",
       "      <th>possibly_sensitive</th>\n",
       "      <th>possibly_sensitive_appealable</th>\n",
       "      <th>retweet_count</th>\n",
       "      <th>retweeted</th>\n",
       "      <th>retweeted_status</th>\n",
       "      <th>truncated</th>\n",
       "      <th>user</th>\n",
       "    </tr>\n",
       "  </thead>\n",
       "  <tbody>\n",
       "  </tbody>\n",
       "</table>\n",
       "<p>0 rows × 53 columns</p>\n",
       "</div>"
      ],
      "text/plain": [
       "Empty DataFrame\n",
       "Columns: [tweet_id, in_reply_to_status_id, in_reply_to_user_id, timestamp, source, text, retweeted_status_id, retweeted_status_user_id, retweeted_status_timestamp, expanded_urls, rating_numerator, rating_denominator, name, doggo, floofer, pupper, puppo, jpg_url, img_num, p1, p1_conf, p1_dog, p2, p2_conf, p2_dog, p3, p3_conf, p3_dog, contributors, coordinates, created_at, display_text_range, entities, extended_entities, favorite_count, favorited, full_text, geo, id, id_str, in_reply_to_screen_name, in_reply_to_status_id_str, in_reply_to_user_id_str, is_quote_status, lang, place, possibly_sensitive, possibly_sensitive_appealable, retweet_count, retweeted, retweeted_status, truncated, user]\n",
       "Index: []\n",
       "\n",
       "[0 rows x 53 columns]"
      ]
     },
     "execution_count": 50,
     "metadata": {},
     "output_type": "execute_result"
    }
   ],
   "source": [
    "we_rate_dogs[we_rate_dogs.user.apply(lambda x: x['id']) != 4196983835]"
   ]
  },
  {
   "cell_type": "code",
   "execution_count": 51,
   "metadata": {},
   "outputs": [],
   "source": [
    "wrd_user = we_rate_dogs.iloc[0].user\n",
    "redundant_columns.append('user')"
   ]
  },
  {
   "cell_type": "code",
   "execution_count": 52,
   "metadata": {},
   "outputs": [
    {
     "data": {
      "text/plain": [
       "['in_reply_to_status_id',\n",
       " 'in_reply_to_user_id',\n",
       " 'retweeted_status_id',\n",
       " 'retweeted_status_user_id',\n",
       " 'retweeted_status_timestamp',\n",
       " 'in_reply_to_screen_name',\n",
       " 'in_reply_to_status_id_str',\n",
       " 'in_reply_to_user_id_str',\n",
       " 'place',\n",
       " 'retweeted_status',\n",
       " 'user']"
      ]
     },
     "execution_count": 52,
     "metadata": {},
     "output_type": "execute_result"
    }
   ],
   "source": [
    "redundant_columns"
   ]
  },
  {
   "cell_type": "markdown",
   "metadata": {},
   "source": [
    "## Incorrect data types.\n",
    "\n",
    "Some of the columns are `object` type, whereas they can be better represented by more specific variable types. Namely: \n",
    "\n",
    "`\n",
    "doggo                            object >> bool\n",
    "floofer                          object >> bool\n",
    "pupper                           object >> bool\n",
    "puppo                            object >> bool\n",
    "lang                             object >> category\n",
    "`"
   ]
  },
  {
   "cell_type": "markdown",
   "metadata": {},
   "source": [
    "## Badly formatted data\n",
    "### `expanded_urls` column\n",
    "`expanded_urls` column contains long strings of multiple, often duplicate, URLs. They need to be parsed, duplicates removed, and stored in lists. Let's look how such an entry looks like."
   ]
  },
  {
   "cell_type": "code",
   "execution_count": 53,
   "metadata": {
    "scrolled": false
   },
   "outputs": [
    {
     "data": {
      "text/plain": [
       "'https://www.gofundme.com/meeko-needs-heart-surgery,https://twitter.com/dog_rates/status/857393404942143489/photo/1,https://twitter.com/dog_rates/status/857393404942143489/photo/1,https://twitter.com/dog_rates/status/857393404942143489/photo/1,https://twitter.com/dog_rates/status/857393404942143489/photo/1'"
      ]
     },
     "execution_count": 53,
     "metadata": {},
     "output_type": "execute_result"
    }
   ],
   "source": [
    "we_rate_dogs.expanded_urls[145]"
   ]
  },
  {
   "cell_type": "markdown",
   "metadata": {},
   "source": [
    "### `source` column\n",
    "`source` column contains messy long URLs, which, when parsed correctly can be best represented by a `category` type variable."
   ]
  },
  {
   "cell_type": "code",
   "execution_count": 54,
   "metadata": {},
   "outputs": [
    {
     "data": {
      "text/plain": [
       "'<a href=\"http://twitter.com/download/iphone\" rel=\"nofollow\">Twitter for iPhone</a>'"
      ]
     },
     "execution_count": 54,
     "metadata": {},
     "output_type": "execute_result"
    }
   ],
   "source": [
    "we_rate_dogs.source[145]"
   ]
  },
  {
   "cell_type": "markdown",
   "metadata": {},
   "source": [
    "### Hashtags\n",
    "\n",
    "Hashtags are hidden deep inside hierarchical dictionaries. As they are very valuable analysis material - they'd rather be unpacked into a separate column."
   ]
  },
  {
   "cell_type": "code",
   "execution_count": 55,
   "metadata": {},
   "outputs": [
    {
     "data": {
      "text/plain": [
       "[{'text': 'BarkWeek', 'indices': [121, 130]}]"
      ]
     },
     "execution_count": 55,
     "metadata": {},
     "output_type": "execute_result"
    }
   ],
   "source": [
    "we_rate_dogs.entities.iloc[10]['hashtags']"
   ]
  },
  {
   "cell_type": "markdown",
   "metadata": {},
   "source": [
    "---\n",
    "# Clean data\n",
    "---\n",
    "After assessing the data - it's time to clean it.\n",
    "\n",
    "Let's keep the original in place and work on the copy."
   ]
  },
  {
   "cell_type": "code",
   "execution_count": 56,
   "metadata": {},
   "outputs": [],
   "source": [
    "wrd = we_rate_dogs.copy()"
   ]
  },
  {
   "cell_type": "markdown",
   "metadata": {},
   "source": [
    "## Quality issues"
   ]
  },
  {
   "cell_type": "markdown",
   "metadata": {},
   "source": [
    "### Redundant data"
   ]
  },
  {
   "cell_type": "markdown",
   "metadata": {},
   "source": [
    "#### Define\n",
    "get rid of retweet and reply data as it's not relevant to our analysis"
   ]
  },
  {
   "cell_type": "code",
   "execution_count": 57,
   "metadata": {},
   "outputs": [
    {
     "data": {
      "text/plain": [
       "['in_reply_to_status_id',\n",
       " 'in_reply_to_user_id',\n",
       " 'retweeted_status_id',\n",
       " 'retweeted_status_user_id',\n",
       " 'retweeted_status_timestamp',\n",
       " 'in_reply_to_screen_name',\n",
       " 'in_reply_to_status_id_str',\n",
       " 'in_reply_to_user_id_str',\n",
       " 'place',\n",
       " 'retweeted_status',\n",
       " 'user']"
      ]
     },
     "execution_count": 57,
     "metadata": {},
     "output_type": "execute_result"
    }
   ],
   "source": [
    "redundant_columns"
   ]
  },
  {
   "cell_type": "markdown",
   "metadata": {},
   "source": [
    "#### Code"
   ]
  },
  {
   "cell_type": "code",
   "execution_count": 58,
   "metadata": {},
   "outputs": [],
   "source": [
    "wrd.drop(columns=redundant_columns, axis=1, inplace=True)"
   ]
  },
  {
   "cell_type": "markdown",
   "metadata": {},
   "source": [
    "#### Test"
   ]
  },
  {
   "cell_type": "code",
   "execution_count": 59,
   "metadata": {},
   "outputs": [
    {
     "name": "stdout",
     "output_type": "stream",
     "text": [
      "<class 'pandas.core.frame.DataFrame'>\n",
      "Int64Index: 2061 entries, 0 to 2060\n",
      "Data columns (total 42 columns):\n",
      "tweet_id                         2061 non-null int64\n",
      "timestamp                        2061 non-null object\n",
      "source                           2061 non-null object\n",
      "text                             2061 non-null object\n",
      "expanded_urls                    2061 non-null object\n",
      "rating_numerator                 2061 non-null int64\n",
      "rating_denominator               2061 non-null int64\n",
      "name                             2061 non-null object\n",
      "doggo                            2061 non-null object\n",
      "floofer                          2061 non-null object\n",
      "pupper                           2061 non-null object\n",
      "puppo                            2061 non-null object\n",
      "jpg_url                          2061 non-null object\n",
      "img_num                          2061 non-null int64\n",
      "p1                               2061 non-null object\n",
      "p1_conf                          2061 non-null float64\n",
      "p1_dog                           2061 non-null bool\n",
      "p2                               2061 non-null object\n",
      "p2_conf                          2061 non-null float64\n",
      "p2_dog                           2061 non-null bool\n",
      "p3                               2061 non-null object\n",
      "p3_conf                          2061 non-null float64\n",
      "p3_dog                           2061 non-null bool\n",
      "contributors                     0 non-null object\n",
      "coordinates                      0 non-null object\n",
      "created_at                       2061 non-null datetime64[ns]\n",
      "display_text_range               2061 non-null object\n",
      "entities                         2061 non-null object\n",
      "extended_entities                2061 non-null object\n",
      "favorite_count                   2061 non-null int64\n",
      "favorited                        2061 non-null bool\n",
      "full_text                        2061 non-null object\n",
      "geo                              0 non-null object\n",
      "id                               2061 non-null int64\n",
      "id_str                           2061 non-null object\n",
      "is_quote_status                  2061 non-null bool\n",
      "lang                             2061 non-null object\n",
      "possibly_sensitive               2061 non-null bool\n",
      "possibly_sensitive_appealable    2061 non-null bool\n",
      "retweet_count                    2061 non-null int64\n",
      "retweeted                        2061 non-null bool\n",
      "truncated                        2061 non-null bool\n",
      "dtypes: bool(9), datetime64[ns](1), float64(3), int64(7), object(22)\n",
      "memory usage: 565.6+ KB\n"
     ]
    }
   ],
   "source": [
    "wrd.info()"
   ]
  },
  {
   "cell_type": "markdown",
   "metadata": {},
   "source": [
    "### Zero data"
   ]
  },
  {
   "cell_type": "markdown",
   "metadata": {},
   "source": [
    "#### Define\n",
    "Columns with zero data are irrelevant for our analysis. Let's just drop them."
   ]
  },
  {
   "cell_type": "code",
   "execution_count": 60,
   "metadata": {},
   "outputs": [
    {
     "data": {
      "text/plain": [
       "['contributors',\n",
       " 'coordinates',\n",
       " 'favorited',\n",
       " 'geo',\n",
       " 'is_quote_status',\n",
       " 'possibly_sensitive',\n",
       " 'possibly_sensitive_appealable',\n",
       " 'retweeted',\n",
       " 'truncated']"
      ]
     },
     "execution_count": 60,
     "metadata": {},
     "output_type": "execute_result"
    }
   ],
   "source": [
    "zero_columns"
   ]
  },
  {
   "cell_type": "markdown",
   "metadata": {},
   "source": [
    "#### Code"
   ]
  },
  {
   "cell_type": "code",
   "execution_count": 61,
   "metadata": {},
   "outputs": [],
   "source": [
    "wrd.drop(columns=zero_columns, axis=1, inplace=True)"
   ]
  },
  {
   "cell_type": "markdown",
   "metadata": {},
   "source": [
    "#### Test"
   ]
  },
  {
   "cell_type": "code",
   "execution_count": 62,
   "metadata": {},
   "outputs": [
    {
     "name": "stdout",
     "output_type": "stream",
     "text": [
      "<class 'pandas.core.frame.DataFrame'>\n",
      "Int64Index: 2061 entries, 0 to 2060\n",
      "Data columns (total 33 columns):\n",
      "tweet_id              2061 non-null int64\n",
      "timestamp             2061 non-null object\n",
      "source                2061 non-null object\n",
      "text                  2061 non-null object\n",
      "expanded_urls         2061 non-null object\n",
      "rating_numerator      2061 non-null int64\n",
      "rating_denominator    2061 non-null int64\n",
      "name                  2061 non-null object\n",
      "doggo                 2061 non-null object\n",
      "floofer               2061 non-null object\n",
      "pupper                2061 non-null object\n",
      "puppo                 2061 non-null object\n",
      "jpg_url               2061 non-null object\n",
      "img_num               2061 non-null int64\n",
      "p1                    2061 non-null object\n",
      "p1_conf               2061 non-null float64\n",
      "p1_dog                2061 non-null bool\n",
      "p2                    2061 non-null object\n",
      "p2_conf               2061 non-null float64\n",
      "p2_dog                2061 non-null bool\n",
      "p3                    2061 non-null object\n",
      "p3_conf               2061 non-null float64\n",
      "p3_dog                2061 non-null bool\n",
      "created_at            2061 non-null datetime64[ns]\n",
      "display_text_range    2061 non-null object\n",
      "entities              2061 non-null object\n",
      "extended_entities     2061 non-null object\n",
      "favorite_count        2061 non-null int64\n",
      "full_text             2061 non-null object\n",
      "id                    2061 non-null int64\n",
      "id_str                2061 non-null object\n",
      "lang                  2061 non-null object\n",
      "retweet_count         2061 non-null int64\n",
      "dtypes: bool(3), datetime64[ns](1), float64(3), int64(7), object(19)\n",
      "memory usage: 505.2+ KB\n"
     ]
    }
   ],
   "source": [
    "wrd.info()"
   ]
  },
  {
   "cell_type": "markdown",
   "metadata": {},
   "source": [
    "### Duplicate data"
   ]
  },
  {
   "cell_type": "markdown",
   "metadata": {},
   "source": [
    "#### Define"
   ]
  },
  {
   "cell_type": "code",
   "execution_count": 63,
   "metadata": {},
   "outputs": [
    {
     "data": {
      "text/plain": [
       "['id_str',\n",
       " 'in_reply_to_status_id_str',\n",
       " 'in_reply_to_user_id_str',\n",
       " 'timestamp',\n",
       " 'tweet_id']"
      ]
     },
     "execution_count": 63,
     "metadata": {},
     "output_type": "execute_result"
    }
   ],
   "source": [
    "duplicate_columns"
   ]
  },
  {
   "cell_type": "markdown",
   "metadata": {},
   "source": [
    "#### Code"
   ]
  },
  {
   "cell_type": "markdown",
   "metadata": {},
   "source": [
    "As two reply columns we've already removed with redundant data. Let's only remove `id`, `id_str` and  `timestamp` now."
   ]
  },
  {
   "cell_type": "code",
   "execution_count": 64,
   "metadata": {},
   "outputs": [],
   "source": [
    "wrd.drop(columns=['id','id_str','timestamp'], axis=1, inplace=True)"
   ]
  },
  {
   "cell_type": "markdown",
   "metadata": {},
   "source": [
    "#### Test"
   ]
  },
  {
   "cell_type": "code",
   "execution_count": 65,
   "metadata": {},
   "outputs": [
    {
     "name": "stdout",
     "output_type": "stream",
     "text": [
      "<class 'pandas.core.frame.DataFrame'>\n",
      "Int64Index: 2061 entries, 0 to 2060\n",
      "Data columns (total 30 columns):\n",
      "tweet_id              2061 non-null int64\n",
      "source                2061 non-null object\n",
      "text                  2061 non-null object\n",
      "expanded_urls         2061 non-null object\n",
      "rating_numerator      2061 non-null int64\n",
      "rating_denominator    2061 non-null int64\n",
      "name                  2061 non-null object\n",
      "doggo                 2061 non-null object\n",
      "floofer               2061 non-null object\n",
      "pupper                2061 non-null object\n",
      "puppo                 2061 non-null object\n",
      "jpg_url               2061 non-null object\n",
      "img_num               2061 non-null int64\n",
      "p1                    2061 non-null object\n",
      "p1_conf               2061 non-null float64\n",
      "p1_dog                2061 non-null bool\n",
      "p2                    2061 non-null object\n",
      "p2_conf               2061 non-null float64\n",
      "p2_dog                2061 non-null bool\n",
      "p3                    2061 non-null object\n",
      "p3_conf               2061 non-null float64\n",
      "p3_dog                2061 non-null bool\n",
      "created_at            2061 non-null datetime64[ns]\n",
      "display_text_range    2061 non-null object\n",
      "entities              2061 non-null object\n",
      "extended_entities     2061 non-null object\n",
      "favorite_count        2061 non-null int64\n",
      "full_text             2061 non-null object\n",
      "lang                  2061 non-null object\n",
      "retweet_count         2061 non-null int64\n",
      "dtypes: bool(3), datetime64[ns](1), float64(3), int64(6), object(17)\n",
      "memory usage: 456.9+ KB\n"
     ]
    }
   ],
   "source": [
    "wrd.info()"
   ]
  },
  {
   "cell_type": "markdown",
   "metadata": {},
   "source": [
    "### Dog columns to bools"
   ]
  },
  {
   "cell_type": "markdown",
   "metadata": {},
   "source": [
    "#### Define\n",
    "`doggo`, `floofer`, `pupper`, `puppo` columns are better represented as `bool`s."
   ]
  },
  {
   "cell_type": "markdown",
   "metadata": {},
   "source": [
    "#### Code"
   ]
  },
  {
   "cell_type": "code",
   "execution_count": 66,
   "metadata": {},
   "outputs": [],
   "source": [
    "def to_bool(x):\n",
    "    if x=='None':\n",
    "        return False\n",
    "    else:\n",
    "        return True\n",
    "    \n",
    "wrd.doggo = wrd.doggo.apply(to_bool)\n",
    "wrd.floofer = wrd.floofer.apply(to_bool)\n",
    "wrd.pupper = wrd.pupper.apply(to_bool)\n",
    "wrd.puppo = wrd.puppo.apply(to_bool)"
   ]
  },
  {
   "cell_type": "markdown",
   "metadata": {},
   "source": [
    "#### Test"
   ]
  },
  {
   "cell_type": "code",
   "execution_count": 67,
   "metadata": {},
   "outputs": [
    {
     "name": "stdout",
     "output_type": "stream",
     "text": [
      "<class 'pandas.core.frame.DataFrame'>\n",
      "Int64Index: 2061 entries, 0 to 2060\n",
      "Data columns (total 30 columns):\n",
      "tweet_id              2061 non-null int64\n",
      "source                2061 non-null object\n",
      "text                  2061 non-null object\n",
      "expanded_urls         2061 non-null object\n",
      "rating_numerator      2061 non-null int64\n",
      "rating_denominator    2061 non-null int64\n",
      "name                  2061 non-null object\n",
      "doggo                 2061 non-null bool\n",
      "floofer               2061 non-null bool\n",
      "pupper                2061 non-null bool\n",
      "puppo                 2061 non-null bool\n",
      "jpg_url               2061 non-null object\n",
      "img_num               2061 non-null int64\n",
      "p1                    2061 non-null object\n",
      "p1_conf               2061 non-null float64\n",
      "p1_dog                2061 non-null bool\n",
      "p2                    2061 non-null object\n",
      "p2_conf               2061 non-null float64\n",
      "p2_dog                2061 non-null bool\n",
      "p3                    2061 non-null object\n",
      "p3_conf               2061 non-null float64\n",
      "p3_dog                2061 non-null bool\n",
      "created_at            2061 non-null datetime64[ns]\n",
      "display_text_range    2061 non-null object\n",
      "entities              2061 non-null object\n",
      "extended_entities     2061 non-null object\n",
      "favorite_count        2061 non-null int64\n",
      "full_text             2061 non-null object\n",
      "lang                  2061 non-null object\n",
      "retweet_count         2061 non-null int64\n",
      "dtypes: bool(7), datetime64[ns](1), float64(3), int64(6), object(13)\n",
      "memory usage: 400.5+ KB\n"
     ]
    }
   ],
   "source": [
    "wrd.info()"
   ]
  },
  {
   "cell_type": "markdown",
   "metadata": {},
   "source": [
    "### Lang column to category"
   ]
  },
  {
   "cell_type": "markdown",
   "metadata": {},
   "source": [
    "#### Define\n",
    "Convert lang column into category."
   ]
  },
  {
   "cell_type": "markdown",
   "metadata": {},
   "source": [
    "#### Code"
   ]
  },
  {
   "cell_type": "code",
   "execution_count": 68,
   "metadata": {},
   "outputs": [],
   "source": [
    "wrd.lang = wrd.lang.astype('category')"
   ]
  },
  {
   "cell_type": "markdown",
   "metadata": {},
   "source": [
    "#### Test"
   ]
  },
  {
   "cell_type": "code",
   "execution_count": 69,
   "metadata": {},
   "outputs": [
    {
     "name": "stdout",
     "output_type": "stream",
     "text": [
      "<class 'pandas.core.frame.DataFrame'>\n",
      "Int64Index: 2061 entries, 0 to 2060\n",
      "Data columns (total 30 columns):\n",
      "tweet_id              2061 non-null int64\n",
      "source                2061 non-null object\n",
      "text                  2061 non-null object\n",
      "expanded_urls         2061 non-null object\n",
      "rating_numerator      2061 non-null int64\n",
      "rating_denominator    2061 non-null int64\n",
      "name                  2061 non-null object\n",
      "doggo                 2061 non-null bool\n",
      "floofer               2061 non-null bool\n",
      "pupper                2061 non-null bool\n",
      "puppo                 2061 non-null bool\n",
      "jpg_url               2061 non-null object\n",
      "img_num               2061 non-null int64\n",
      "p1                    2061 non-null object\n",
      "p1_conf               2061 non-null float64\n",
      "p1_dog                2061 non-null bool\n",
      "p2                    2061 non-null object\n",
      "p2_conf               2061 non-null float64\n",
      "p2_dog                2061 non-null bool\n",
      "p3                    2061 non-null object\n",
      "p3_conf               2061 non-null float64\n",
      "p3_dog                2061 non-null bool\n",
      "created_at            2061 non-null datetime64[ns]\n",
      "display_text_range    2061 non-null object\n",
      "entities              2061 non-null object\n",
      "extended_entities     2061 non-null object\n",
      "favorite_count        2061 non-null int64\n",
      "full_text             2061 non-null object\n",
      "lang                  2061 non-null category\n",
      "retweet_count         2061 non-null int64\n",
      "dtypes: bool(7), category(1), datetime64[ns](1), float64(3), int64(6), object(12)\n",
      "memory usage: 386.6+ KB\n"
     ]
    }
   ],
   "source": [
    "wrd.info()"
   ]
  },
  {
   "cell_type": "markdown",
   "metadata": {},
   "source": [
    "### Display_text_range into int"
   ]
  },
  {
   "cell_type": "markdown",
   "metadata": {},
   "source": [
    "#### Define\n",
    "`display_text_range` column can be effectively reduced to a single `int` rather than a list."
   ]
  },
  {
   "cell_type": "markdown",
   "metadata": {},
   "source": [
    "#### Code"
   ]
  },
  {
   "cell_type": "code",
   "execution_count": 70,
   "metadata": {},
   "outputs": [],
   "source": [
    "wrd['display_text_end'] = wrd.display_text_range.apply(lambda x: x[1]).astype(int)\n",
    "wrd.drop(columns='display_text_range', inplace=True)"
   ]
  },
  {
   "cell_type": "markdown",
   "metadata": {},
   "source": [
    "#### Test"
   ]
  },
  {
   "cell_type": "code",
   "execution_count": 71,
   "metadata": {},
   "outputs": [
    {
     "name": "stdout",
     "output_type": "stream",
     "text": [
      "<class 'pandas.core.frame.DataFrame'>\n",
      "Int64Index: 2061 entries, 0 to 2060\n",
      "Data columns (total 30 columns):\n",
      "tweet_id              2061 non-null int64\n",
      "source                2061 non-null object\n",
      "text                  2061 non-null object\n",
      "expanded_urls         2061 non-null object\n",
      "rating_numerator      2061 non-null int64\n",
      "rating_denominator    2061 non-null int64\n",
      "name                  2061 non-null object\n",
      "doggo                 2061 non-null bool\n",
      "floofer               2061 non-null bool\n",
      "pupper                2061 non-null bool\n",
      "puppo                 2061 non-null bool\n",
      "jpg_url               2061 non-null object\n",
      "img_num               2061 non-null int64\n",
      "p1                    2061 non-null object\n",
      "p1_conf               2061 non-null float64\n",
      "p1_dog                2061 non-null bool\n",
      "p2                    2061 non-null object\n",
      "p2_conf               2061 non-null float64\n",
      "p2_dog                2061 non-null bool\n",
      "p3                    2061 non-null object\n",
      "p3_conf               2061 non-null float64\n",
      "p3_dog                2061 non-null bool\n",
      "created_at            2061 non-null datetime64[ns]\n",
      "entities              2061 non-null object\n",
      "extended_entities     2061 non-null object\n",
      "favorite_count        2061 non-null int64\n",
      "full_text             2061 non-null object\n",
      "lang                  2061 non-null category\n",
      "retweet_count         2061 non-null int64\n",
      "display_text_end      2061 non-null int64\n",
      "dtypes: bool(7), category(1), datetime64[ns](1), float64(3), int64(7), object(11)\n",
      "memory usage: 386.6+ KB\n"
     ]
    }
   ],
   "source": [
    "wrd.info()"
   ]
  },
  {
   "cell_type": "markdown",
   "metadata": {},
   "source": [
    "### Parse `source` column and make it categorical variable"
   ]
  },
  {
   "cell_type": "markdown",
   "metadata": {},
   "source": [
    "#### Define\n",
    "There is probablay a limited set of appications used to post tweets. Let's extract those from the long strings and categorise them."
   ]
  },
  {
   "cell_type": "markdown",
   "metadata": {},
   "source": [
    "#### Code"
   ]
  },
  {
   "cell_type": "code",
   "execution_count": 72,
   "metadata": {},
   "outputs": [],
   "source": [
    "wrd.source = wrd.source.apply(lambda x: x.split('>')[1].split('<')[0]).astype('category')"
   ]
  },
  {
   "cell_type": "markdown",
   "metadata": {},
   "source": [
    "#### Test"
   ]
  },
  {
   "cell_type": "code",
   "execution_count": 73,
   "metadata": {},
   "outputs": [
    {
     "data": {
      "text/plain": [
       "[Twitter for iPhone, Twitter Web Client, TweetDeck]\n",
       "Categories (3, object): [Twitter for iPhone, Twitter Web Client, TweetDeck]"
      ]
     },
     "execution_count": 73,
     "metadata": {},
     "output_type": "execute_result"
    }
   ],
   "source": [
    "wrd.source.unique()"
   ]
  },
  {
   "cell_type": "code",
   "execution_count": 74,
   "metadata": {},
   "outputs": [
    {
     "name": "stdout",
     "output_type": "stream",
     "text": [
      "<class 'pandas.core.frame.DataFrame'>\n",
      "Int64Index: 2061 entries, 0 to 2060\n",
      "Data columns (total 30 columns):\n",
      "tweet_id              2061 non-null int64\n",
      "source                2061 non-null category\n",
      "text                  2061 non-null object\n",
      "expanded_urls         2061 non-null object\n",
      "rating_numerator      2061 non-null int64\n",
      "rating_denominator    2061 non-null int64\n",
      "name                  2061 non-null object\n",
      "doggo                 2061 non-null bool\n",
      "floofer               2061 non-null bool\n",
      "pupper                2061 non-null bool\n",
      "puppo                 2061 non-null bool\n",
      "jpg_url               2061 non-null object\n",
      "img_num               2061 non-null int64\n",
      "p1                    2061 non-null object\n",
      "p1_conf               2061 non-null float64\n",
      "p1_dog                2061 non-null bool\n",
      "p2                    2061 non-null object\n",
      "p2_conf               2061 non-null float64\n",
      "p2_dog                2061 non-null bool\n",
      "p3                    2061 non-null object\n",
      "p3_conf               2061 non-null float64\n",
      "p3_dog                2061 non-null bool\n",
      "created_at            2061 non-null datetime64[ns]\n",
      "entities              2061 non-null object\n",
      "extended_entities     2061 non-null object\n",
      "favorite_count        2061 non-null int64\n",
      "full_text             2061 non-null object\n",
      "lang                  2061 non-null category\n",
      "retweet_count         2061 non-null int64\n",
      "display_text_end      2061 non-null int64\n",
      "dtypes: bool(7), category(2), datetime64[ns](1), float64(3), int64(7), object(10)\n",
      "memory usage: 372.7+ KB\n"
     ]
    }
   ],
   "source": [
    "wrd.info()"
   ]
  },
  {
   "cell_type": "markdown",
   "metadata": {},
   "source": [
    "## Tidiness issues"
   ]
  },
  {
   "cell_type": "markdown",
   "metadata": {},
   "source": [
    "### Unpack hashtags from dictionaries"
   ]
  },
  {
   "cell_type": "markdown",
   "metadata": {},
   "source": [
    "#### Define\n",
    "Hashtags are nested deep inside dictionaries. To be useful for analysis - they need to be extracted into a separate column."
   ]
  },
  {
   "cell_type": "markdown",
   "metadata": {},
   "source": [
    "#### Code"
   ]
  },
  {
   "cell_type": "code",
   "execution_count": 75,
   "metadata": {},
   "outputs": [],
   "source": [
    "wrd['hashtags'] = wrd.entities.apply(lambda x: x['hashtags'])"
   ]
  },
  {
   "cell_type": "code",
   "execution_count": 76,
   "metadata": {},
   "outputs": [],
   "source": [
    "def unpack_hashtags(x):\n",
    "    try:\n",
    "        return x[0]['text']\n",
    "    except:\n",
    "        return None\n",
    "        \n",
    "wrd.hashtags = wrd.hashtags.apply(lambda x: unpack_hashtags(x))"
   ]
  },
  {
   "cell_type": "code",
   "execution_count": 77,
   "metadata": {},
   "outputs": [
    {
     "data": {
      "text/plain": [
       "array([None, 'BarkWeek', 'Canada150', 'PrideMonthPuppo', 'PrideMonth',\n",
       "       'dogsatpollingstations', 'ScienceMarch', 'K9VeteransDay',\n",
       "       'GoodDogs', 'WKCDogShow', 'BellLetsTalk', 'WomensMarch',\n",
       "       'FinalFur', 'LoveTwitter', 'notallpuppers', 'NoDaysOff'],\n",
       "      dtype=object)"
      ]
     },
     "execution_count": 77,
     "metadata": {},
     "output_type": "execute_result"
    }
   ],
   "source": [
    "wrd.hashtags.unique()"
   ]
  },
  {
   "cell_type": "markdown",
   "metadata": {},
   "source": [
    "#### Test"
   ]
  },
  {
   "cell_type": "code",
   "execution_count": null,
   "metadata": {},
   "outputs": [],
   "source": []
  },
  {
   "cell_type": "markdown",
   "metadata": {},
   "source": [
    "### Unpack URLs from dictionaries"
   ]
  },
  {
   "cell_type": "markdown",
   "metadata": {},
   "source": [
    "#### Define\n",
    "Same as hashtags - urls are nested deep inside dictionaries. They need to be extracted into a separate column."
   ]
  },
  {
   "cell_type": "markdown",
   "metadata": {},
   "source": [
    "#### Code"
   ]
  },
  {
   "cell_type": "code",
   "execution_count": 78,
   "metadata": {},
   "outputs": [],
   "source": [
    "# take the single tweet url into a separate column\n",
    "wrd['url'] = wrd.entities.apply(lambda x: x['media'][0]['url'])"
   ]
  },
  {
   "cell_type": "code",
   "execution_count": 79,
   "metadata": {},
   "outputs": [],
   "source": [
    "# take all other urls into a separate column\n",
    "wrd['expanded_urls'] = wrd.expanded_urls.apply(lambda x: x.split(','))"
   ]
  },
  {
   "cell_type": "markdown",
   "metadata": {},
   "source": [
    "#### Test"
   ]
  },
  {
   "cell_type": "code",
   "execution_count": 80,
   "metadata": {},
   "outputs": [
    {
     "name": "stdout",
     "output_type": "stream",
     "text": [
      "524  :  https://t.co/dgvTPZ9tgI\n"
     ]
    }
   ],
   "source": [
    "r = randrange(0,len(wrd))\n",
    "print(r, ' : ', wrd.iloc[r]['url'])"
   ]
  },
  {
   "cell_type": "code",
   "execution_count": 81,
   "metadata": {},
   "outputs": [
    {
     "name": "stdout",
     "output_type": "stream",
     "text": [
      "1081  :  ['https://twitter.com/dog_rates/status/707315916783140866/photo/1', 'https://twitter.com/dog_rates/status/707315916783140866/photo/1']\n"
     ]
    }
   ],
   "source": [
    "# select a random item from list of entriel where 'urls' contains more than one entry\n",
    "r = choice(wrd[wrd['expanded_urls'].apply(lambda x: len(x) > 1)]['expanded_urls'].index)\n",
    "print(r, ' : ', wrd.iloc[r]['expanded_urls'])"
   ]
  },
  {
   "cell_type": "markdown",
   "metadata": {},
   "source": [
    "now that the relevant information has been extracted from `entities` and `extended_entities` columns - we can drop them."
   ]
  },
  {
   "cell_type": "code",
   "execution_count": 102,
   "metadata": {},
   "outputs": [],
   "source": [
    "wrd.drop(['entities', 'extended_entities'], axis=1,inplace=True)"
   ]
  },
  {
   "cell_type": "code",
   "execution_count": 104,
   "metadata": {},
   "outputs": [
    {
     "data": {
      "text/plain": [
       "Index(['tweet_id', 'source', 'text', 'expanded_urls', 'rating_numerator',\n",
       "       'rating_denominator', 'name', 'doggo', 'floofer', 'pupper', 'puppo',\n",
       "       'jpg_url', 'img_num', 'p1', 'p1_conf', 'p1_dog', 'p2', 'p2_conf',\n",
       "       'p2_dog', 'p3', 'p3_conf', 'p3_dog', 'created_at', 'favorite_count',\n",
       "       'full_text', 'lang', 'retweet_count', 'display_text_end', 'hashtags',\n",
       "       'url'],\n",
       "      dtype='object')"
      ]
     },
     "execution_count": 104,
     "metadata": {},
     "output_type": "execute_result"
    }
   ],
   "source": [
    "wrd.columns"
   ]
  },
  {
   "cell_type": "markdown",
   "metadata": {},
   "source": [
    "# Insights"
   ]
  },
  {
   "cell_type": "code",
   "execution_count": 83,
   "metadata": {
    "scrolled": false
   },
   "outputs": [
    {
     "data": {
      "text/plain": [
       "Index(['tweet_id', 'source', 'text', 'expanded_urls', 'rating_numerator',\n",
       "       'rating_denominator', 'name', 'doggo', 'floofer', 'pupper', 'puppo',\n",
       "       'jpg_url', 'img_num', 'p1', 'p1_conf', 'p1_dog', 'p2', 'p2_conf',\n",
       "       'p2_dog', 'p3', 'p3_conf', 'p3_dog', 'created_at', 'entities',\n",
       "       'extended_entities', 'favorite_count', 'full_text', 'lang',\n",
       "       'retweet_count', 'display_text_end', 'hashtags', 'url'],\n",
       "      dtype='object')"
      ]
     },
     "execution_count": 83,
     "metadata": {},
     "output_type": "execute_result"
    }
   ],
   "source": [
    "wrd.columns"
   ]
  },
  {
   "cell_type": "markdown",
   "metadata": {},
   "source": [
    "## Favorites and retweet correlation\n",
    "\n",
    "let's do a scatter plot of the `favorite_count` and `retweet_count` columns to see whether there is any correlation between the two. As an added insight - let's colour the points with `rating_numerator` values to see whether this correlates as well."
   ]
  },
  {
   "cell_type": "code",
   "execution_count": 139,
   "metadata": {
    "scrolled": false
   },
   "outputs": [
    {
     "data": {
      "text/plain": [
       "Text(46.17760803472221, 0.5, 'retweets')"
      ]
     },
     "execution_count": 139,
     "metadata": {},
     "output_type": "execute_result"
    },
    {
     "data": {
      "image/png": "[encoded data removed]",
      "text/plain": [
       "<Figure size 455.18x360 with 1 Axes>"
      ]
     },
     "metadata": {},
     "output_type": "display_data"
    }
   ],
   "source": [
    "# Set style of scatterplot\n",
    "sb.set_context(\"notebook\", font_scale=1.1)\n",
    "sb.set_style(\"ticks\")\n",
    "\n",
    "# Create scatterplot of dataframe\n",
    "sb.lmplot('favorite_count', # Horizontal axis\n",
    "           'retweet_count', # Vertical axis\n",
    "           data=wrd, # Data source\n",
    "           fit_reg=False, # Don't fix a regression line\n",
    "           hue='rating_numerator', # Set color\n",
    "           scatter_kws={\"marker\": \"D\", # Set marker style\n",
    "                        \"s\": 100}) # S marker size\n",
    "\n",
    "# Set title\n",
    "plt.title(' favorites vs retweets')\n",
    "\n",
    "# Set x-axis label\n",
    "plt.xlabel('favorites')\n",
    "\n",
    "# Set y-axis label\n",
    "plt.ylabel('retweets')"
   ]
  },
  {
   "cell_type": "markdown",
   "metadata": {},
   "source": [
    "Apart from the group that has zero favorites and numerous retweets - the two values seem to be almost linearly related. This is most likely a data quality issue, but we won't go into that with this analysis."
   ]
  },
  {
   "cell_type": "code",
   "execution_count": 148,
   "metadata": {},
   "outputs": [
    {
     "data": {
      "image/png": "[encoded data removed]",
      "text/plain": [
       "<Figure size 432x288 with 1 Axes>"
      ]
     },
     "metadata": {},
     "output_type": "display_data"
    }
   ],
   "source": [
    "ax = sb.countplot(x=wrd.source, data=wrd)"
   ]
  },
  {
   "cell_type": "code",
   "execution_count": null,
   "metadata": {},
   "outputs": [],
   "source": []
  },
  {
   "cell_type": "code",
   "execution_count": 143,
   "metadata": {},
   "outputs": [
    {
     "data": {
      "text/plain": [
       "0       Twitter for iPhone\n",
       "1       Twitter for iPhone\n",
       "2       Twitter for iPhone\n",
       "3       Twitter for iPhone\n",
       "4       Twitter for iPhone\n",
       "5       Twitter for iPhone\n",
       "6       Twitter for iPhone\n",
       "7       Twitter for iPhone\n",
       "8       Twitter for iPhone\n",
       "9       Twitter for iPhone\n",
       "10      Twitter for iPhone\n",
       "11      Twitter for iPhone\n",
       "12      Twitter for iPhone\n",
       "13      Twitter for iPhone\n",
       "14      Twitter for iPhone\n",
       "15      Twitter for iPhone\n",
       "16      Twitter for iPhone\n",
       "17      Twitter for iPhone\n",
       "18      Twitter for iPhone\n",
       "19      Twitter for iPhone\n",
       "20      Twitter for iPhone\n",
       "21      Twitter for iPhone\n",
       "22      Twitter for iPhone\n",
       "23      Twitter for iPhone\n",
       "24      Twitter for iPhone\n",
       "25      Twitter for iPhone\n",
       "26      Twitter for iPhone\n",
       "27      Twitter for iPhone\n",
       "28      Twitter for iPhone\n",
       "29      Twitter for iPhone\n",
       "               ...        \n",
       "2031    Twitter for iPhone\n",
       "2032    Twitter for iPhone\n",
       "2033    Twitter for iPhone\n",
       "2034    Twitter for iPhone\n",
       "2035    Twitter for iPhone\n",
       "2036    Twitter for iPhone\n",
       "2037    Twitter for iPhone\n",
       "2038    Twitter for iPhone\n",
       "2039    Twitter for iPhone\n",
       "2040    Twitter for iPhone\n",
       "2041    Twitter for iPhone\n",
       "2042    Twitter for iPhone\n",
       "2043    Twitter for iPhone\n",
       "2044    Twitter for iPhone\n",
       "2045    Twitter for iPhone\n",
       "2046    Twitter for iPhone\n",
       "2047    Twitter for iPhone\n",
       "2048    Twitter for iPhone\n",
       "2049    Twitter for iPhone\n",
       "2050    Twitter for iPhone\n",
       "2051    Twitter for iPhone\n",
       "2052    Twitter for iPhone\n",
       "2053    Twitter for iPhone\n",
       "2054    Twitter for iPhone\n",
       "2055    Twitter for iPhone\n",
       "2056    Twitter for iPhone\n",
       "2057    Twitter for iPhone\n",
       "2058    Twitter for iPhone\n",
       "2059    Twitter for iPhone\n",
       "2060    Twitter for iPhone\n",
       "Name: source, Length: 2061, dtype: category\n",
       "Categories (3, object): [TweetDeck, Twitter Web Client, Twitter for iPhone]"
      ]
     },
     "execution_count": 143,
     "metadata": {},
     "output_type": "execute_result"
    }
   ],
   "source": [
    "wrd.source"
   ]
  },
  {
   "cell_type": "code",
   "execution_count": 142,
   "metadata": {},
   "outputs": [
    {
     "data": {
      "text/plain": [
       "Index(['tweet_id', 'source', 'text', 'expanded_urls', 'rating_numerator',\n",
       "       'rating_denominator', 'name', 'doggo', 'floofer', 'pupper', 'puppo',\n",
       "       'jpg_url', 'img_num', 'p1', 'p1_conf', 'p1_dog', 'p2', 'p2_conf',\n",
       "       'p2_dog', 'p3', 'p3_conf', 'p3_dog', 'created_at', 'favorite_count',\n",
       "       'full_text', 'lang', 'retweet_count', 'display_text_end', 'hashtags',\n",
       "       'url'],\n",
       "      dtype='object')"
      ]
     },
     "execution_count": 142,
     "metadata": {},
     "output_type": "execute_result"
    }
   ],
   "source": [
    "wrd.columns"
   ]
  },
  {
   "cell_type": "code",
   "execution_count": 141,
   "metadata": {},
   "outputs": [
    {
     "data": {
      "text/html": [
       "<div>\n",
       "<style scoped>\n",
       "    .dataframe tbody tr th:only-of-type {\n",
       "        vertical-align: middle;\n",
       "    }\n",
       "\n",
       "    .dataframe tbody tr th {\n",
       "        vertical-align: top;\n",
       "    }\n",
       "\n",
       "    .dataframe thead th {\n",
       "        text-align: right;\n",
       "    }\n",
       "</style>\n",
       "<table border=\"1\" class=\"dataframe\">\n",
       "  <thead>\n",
       "    <tr style=\"text-align: right;\">\n",
       "      <th></th>\n",
       "      <th>tweet_id</th>\n",
       "      <th>source</th>\n",
       "      <th>text</th>\n",
       "      <th>expanded_urls</th>\n",
       "      <th>rating_numerator</th>\n",
       "      <th>rating_denominator</th>\n",
       "      <th>name</th>\n",
       "      <th>doggo</th>\n",
       "      <th>floofer</th>\n",
       "      <th>pupper</th>\n",
       "      <th>...</th>\n",
       "      <th>p3_conf</th>\n",
       "      <th>p3_dog</th>\n",
       "      <th>created_at</th>\n",
       "      <th>favorite_count</th>\n",
       "      <th>full_text</th>\n",
       "      <th>lang</th>\n",
       "      <th>retweet_count</th>\n",
       "      <th>display_text_end</th>\n",
       "      <th>hashtags</th>\n",
       "      <th>url</th>\n",
       "    </tr>\n",
       "  </thead>\n",
       "  <tbody>\n",
       "    <tr>\n",
       "      <th>59</th>\n",
       "      <td>879415818425184262</td>\n",
       "      <td>Twitter for iPhone</td>\n",
       "      <td>This is Duddles. He did an attempt. 13/10 some...</td>\n",
       "      <td>[https://twitter.com/dog_rates/status/87941581...</td>\n",
       "      <td>13</td>\n",
       "      <td>10</td>\n",
       "      <td>Duddles</td>\n",
       "      <td>False</td>\n",
       "      <td>False</td>\n",
       "      <td>False</td>\n",
       "      <td>...</td>\n",
       "      <td>0.110481</td>\n",
       "      <td>True</td>\n",
       "      <td>2017-06-26 19:07:24</td>\n",
       "      <td>101221</td>\n",
       "      <td>This is Duddles. He did an attempt. 13/10 some...</td>\n",
       "      <td>en</td>\n",
       "      <td>41473</td>\n",
       "      <td>82</td>\n",
       "      <td>None</td>\n",
       "      <td>https://t.co/UDT7ZkcTgY</td>\n",
       "    </tr>\n",
       "    <tr>\n",
       "      <th>320</th>\n",
       "      <td>822872901745569793</td>\n",
       "      <td>Twitter for iPhone</td>\n",
       "      <td>Here's a super supportive puppo participating ...</td>\n",
       "      <td>[https://twitter.com/dog_rates/status/82287290...</td>\n",
       "      <td>13</td>\n",
       "      <td>10</td>\n",
       "      <td>None</td>\n",
       "      <td>False</td>\n",
       "      <td>False</td>\n",
       "      <td>False</td>\n",
       "      <td>...</td>\n",
       "      <td>0.069126</td>\n",
       "      <td>True</td>\n",
       "      <td>2017-01-21 18:26:02</td>\n",
       "      <td>136095</td>\n",
       "      <td>Here's a super supportive puppo participating ...</td>\n",
       "      <td>en</td>\n",
       "      <td>44950</td>\n",
       "      <td>87</td>\n",
       "      <td>WomensMarch</td>\n",
       "      <td>https://t.co/nTz3FtorBc</td>\n",
       "    </tr>\n",
       "    <tr>\n",
       "      <th>346</th>\n",
       "      <td>819015337530290176</td>\n",
       "      <td>Twitter for iPhone</td>\n",
       "      <td>RT @dog_rates: This is Bo. He was a very good ...</td>\n",
       "      <td>[https://twitter.com/dog_rates/status/81900480...</td>\n",
       "      <td>14</td>\n",
       "      <td>10</td>\n",
       "      <td>Bo</td>\n",
       "      <td>True</td>\n",
       "      <td>False</td>\n",
       "      <td>False</td>\n",
       "      <td>...</td>\n",
       "      <td>0.094759</td>\n",
       "      <td>True</td>\n",
       "      <td>2017-01-11 02:57:27</td>\n",
       "      <td>0</td>\n",
       "      <td>RT @dog_rates: This is Bo. He was a very good ...</td>\n",
       "      <td>en</td>\n",
       "      <td>38296</td>\n",
       "      <td>122</td>\n",
       "      <td>None</td>\n",
       "      <td>https://t.co/AdPKrI8BZ1</td>\n",
       "    </tr>\n",
       "    <tr>\n",
       "      <th>349</th>\n",
       "      <td>819004803107983360</td>\n",
       "      <td>Twitter for iPhone</td>\n",
       "      <td>This is Bo. He was a very good First Doggo. 14...</td>\n",
       "      <td>[https://twitter.com/dog_rates/status/81900480...</td>\n",
       "      <td>14</td>\n",
       "      <td>10</td>\n",
       "      <td>Bo</td>\n",
       "      <td>True</td>\n",
       "      <td>False</td>\n",
       "      <td>False</td>\n",
       "      <td>...</td>\n",
       "      <td>0.094759</td>\n",
       "      <td>True</td>\n",
       "      <td>2017-01-11 02:15:36</td>\n",
       "      <td>89869</td>\n",
       "      <td>This is Bo. He was a very good First Doggo. 14...</td>\n",
       "      <td>en</td>\n",
       "      <td>38296</td>\n",
       "      <td>83</td>\n",
       "      <td>None</td>\n",
       "      <td>https://t.co/AdPKrI8BZ1</td>\n",
       "    </tr>\n",
       "    <tr>\n",
       "      <th>423</th>\n",
       "      <td>807106840509214720</td>\n",
       "      <td>Twitter for iPhone</td>\n",
       "      <td>This is Stephan. He just wants to help. 13/10 ...</td>\n",
       "      <td>[https://twitter.com/dog_rates/status/80710684...</td>\n",
       "      <td>13</td>\n",
       "      <td>10</td>\n",
       "      <td>Stephan</td>\n",
       "      <td>False</td>\n",
       "      <td>False</td>\n",
       "      <td>False</td>\n",
       "      <td>...</td>\n",
       "      <td>0.077008</td>\n",
       "      <td>True</td>\n",
       "      <td>2016-12-09 06:17:20</td>\n",
       "      <td>123303</td>\n",
       "      <td>This is Stephan. He just wants to help. 13/10 ...</td>\n",
       "      <td>en</td>\n",
       "      <td>58141</td>\n",
       "      <td>61</td>\n",
       "      <td>None</td>\n",
       "      <td>https://t.co/DkBYaCAg2d</td>\n",
       "    </tr>\n",
       "    <tr>\n",
       "      <th>840</th>\n",
       "      <td>744234799360020481</td>\n",
       "      <td>Twitter for iPhone</td>\n",
       "      <td>Here's a doggo realizing you can stand in a po...</td>\n",
       "      <td>[https://twitter.com/dog_rates/status/74423479...</td>\n",
       "      <td>13</td>\n",
       "      <td>10</td>\n",
       "      <td>None</td>\n",
       "      <td>True</td>\n",
       "      <td>False</td>\n",
       "      <td>False</td>\n",
       "      <td>...</td>\n",
       "      <td>0.018442</td>\n",
       "      <td>True</td>\n",
       "      <td>2016-06-18 18:26:18</td>\n",
       "      <td>159642</td>\n",
       "      <td>Here's a doggo realizing you can stand in a po...</td>\n",
       "      <td>en</td>\n",
       "      <td>79676</td>\n",
       "      <td>91</td>\n",
       "      <td>None</td>\n",
       "      <td>https://t.co/7wE9LTEXC4</td>\n",
       "    </tr>\n",
       "    <tr>\n",
       "      <th>875</th>\n",
       "      <td>739238157791694849</td>\n",
       "      <td>Twitter for iPhone</td>\n",
       "      <td>Here's a doggo blowing bubbles. It's downright...</td>\n",
       "      <td>[https://twitter.com/dog_rates/status/73923815...</td>\n",
       "      <td>13</td>\n",
       "      <td>10</td>\n",
       "      <td>None</td>\n",
       "      <td>True</td>\n",
       "      <td>False</td>\n",
       "      <td>False</td>\n",
       "      <td>...</td>\n",
       "      <td>0.080901</td>\n",
       "      <td>True</td>\n",
       "      <td>2016-06-04 23:31:25</td>\n",
       "      <td>117905</td>\n",
       "      <td>Here's a doggo blowing bubbles. It's downright...</td>\n",
       "      <td>en</td>\n",
       "      <td>59053</td>\n",
       "      <td>114</td>\n",
       "      <td>None</td>\n",
       "      <td>https://t.co/YcXgHfp1EC</td>\n",
       "    </tr>\n",
       "  </tbody>\n",
       "</table>\n",
       "<p>7 rows × 30 columns</p>\n",
       "</div>"
      ],
      "text/plain": [
       "               tweet_id              source  \\\n",
       "59   879415818425184262  Twitter for iPhone   \n",
       "320  822872901745569793  Twitter for iPhone   \n",
       "346  819015337530290176  Twitter for iPhone   \n",
       "349  819004803107983360  Twitter for iPhone   \n",
       "423  807106840509214720  Twitter for iPhone   \n",
       "840  744234799360020481  Twitter for iPhone   \n",
       "875  739238157791694849  Twitter for iPhone   \n",
       "\n",
       "                                                  text  \\\n",
       "59   This is Duddles. He did an attempt. 13/10 some...   \n",
       "320  Here's a super supportive puppo participating ...   \n",
       "346  RT @dog_rates: This is Bo. He was a very good ...   \n",
       "349  This is Bo. He was a very good First Doggo. 14...   \n",
       "423  This is Stephan. He just wants to help. 13/10 ...   \n",
       "840  Here's a doggo realizing you can stand in a po...   \n",
       "875  Here's a doggo blowing bubbles. It's downright...   \n",
       "\n",
       "                                         expanded_urls  rating_numerator  \\\n",
       "59   [https://twitter.com/dog_rates/status/87941581...                13   \n",
       "320  [https://twitter.com/dog_rates/status/82287290...                13   \n",
       "346  [https://twitter.com/dog_rates/status/81900480...                14   \n",
       "349  [https://twitter.com/dog_rates/status/81900480...                14   \n",
       "423  [https://twitter.com/dog_rates/status/80710684...                13   \n",
       "840  [https://twitter.com/dog_rates/status/74423479...                13   \n",
       "875  [https://twitter.com/dog_rates/status/73923815...                13   \n",
       "\n",
       "     rating_denominator     name  doggo  floofer  pupper  ...   p3_conf  \\\n",
       "59                   10  Duddles  False    False   False  ...  0.110481   \n",
       "320                  10     None  False    False   False  ...  0.069126   \n",
       "346                  10       Bo   True    False   False  ...  0.094759   \n",
       "349                  10       Bo   True    False   False  ...  0.094759   \n",
       "423                  10  Stephan  False    False   False  ...  0.077008   \n",
       "840                  10     None   True    False   False  ...  0.018442   \n",
       "875                  10     None   True    False   False  ...  0.080901   \n",
       "\n",
       "    p3_dog          created_at favorite_count  \\\n",
       "59    True 2017-06-26 19:07:24         101221   \n",
       "320   True 2017-01-21 18:26:02         136095   \n",
       "346   True 2017-01-11 02:57:27              0   \n",
       "349   True 2017-01-11 02:15:36          89869   \n",
       "423   True 2016-12-09 06:17:20         123303   \n",
       "840   True 2016-06-18 18:26:18         159642   \n",
       "875   True 2016-06-04 23:31:25         117905   \n",
       "\n",
       "                                             full_text  lang retweet_count  \\\n",
       "59   This is Duddles. He did an attempt. 13/10 some...    en         41473   \n",
       "320  Here's a super supportive puppo participating ...    en         44950   \n",
       "346  RT @dog_rates: This is Bo. He was a very good ...    en         38296   \n",
       "349  This is Bo. He was a very good First Doggo. 14...    en         38296   \n",
       "423  This is Stephan. He just wants to help. 13/10 ...    en         58141   \n",
       "840  Here's a doggo realizing you can stand in a po...    en         79676   \n",
       "875  Here's a doggo blowing bubbles. It's downright...    en         59053   \n",
       "\n",
       "     display_text_end     hashtags                      url  \n",
       "59                 82         None  https://t.co/UDT7ZkcTgY  \n",
       "320                87  WomensMarch  https://t.co/nTz3FtorBc  \n",
       "346               122         None  https://t.co/AdPKrI8BZ1  \n",
       "349                83         None  https://t.co/AdPKrI8BZ1  \n",
       "423                61         None  https://t.co/DkBYaCAg2d  \n",
       "840                91         None  https://t.co/7wE9LTEXC4  \n",
       "875               114         None  https://t.co/YcXgHfp1EC  \n",
       "\n",
       "[7 rows x 30 columns]"
      ]
     },
     "execution_count": 141,
     "metadata": {},
     "output_type": "execute_result"
    }
   ],
   "source": [
    "wrd[wrd['retweet_count'] > 38000]"
   ]
  },
  {
   "cell_type": "code",
   "execution_count": null,
   "metadata": {},
   "outputs": [],
   "source": [
    "wrd[wrd['favorite_count'] == 0]"
   ]
  },
  {
   "cell_type": "code",
   "execution_count": null,
   "metadata": {},
   "outputs": [],
   "source": [
    "wrd[wrd['rating_numerator'] == 0]"
   ]
  },
  {
   "cell_type": "code",
   "execution_count": null,
   "metadata": {},
   "outputs": [],
   "source": []
  }
 ],
 "metadata": {
  "kernelspec": {
   "display_name": "Python 3",
   "language": "python",
   "name": "python3"
  },
  "language_info": {
   "codemirror_mode": {
    "name": "ipython",
    "version": 3
   },
   "file_extension": ".py",
   "mimetype": "text/x-python",
   "name": "python",
   "nbconvert_exporter": "python",
   "pygments_lexer": "ipython3",
   "version": "3.7.3"
  },
  "toc": {
   "base_numbering": 1,
   "nav_menu": {},
   "number_sections": true,
   "sideBar": true,
   "skip_h1_title": false,
   "title_cell": "Table of Contents",
   "title_sidebar": "Contents",
   "toc_cell": false,
   "toc_position": {
    "height": "295px",
    "left": "424px",
    "top": "192px",
    "width": "611.1764526367188px"
   },
   "toc_section_display": true,
   "toc_window_display": true
  }
 },
 "nbformat": 4,
 "nbformat_minor": 2
}
