{
 "cells": [
  {
   "cell_type": "markdown",
   "metadata": {},
   "source": [
    "Create a 250-word-minimum written report called act_report.pdf or act_report.html that communicates the insights and displays the visualization(s) produced from your wrangled data. This is to be framed as an external document, like a blog post or magazine article, for example."
   ]
  },
  {
   "cell_type": "markdown",
   "metadata": {},
   "source": [
    "WeRateDogs is a very special example of a niche twitter account grown into successful meme-generating business. WeRateDogs provides a refreshing alternative to the dominance of cats in the semantic space of online memes, proving that puppy eyes are at least as likeable and clickbait-worthy as the silliest and meanest of cat gifs out there. "
   ]
  },
  {
   "cell_type": "markdown",
   "metadata": {},
   "source": [
    "Signature trademark of WeRateDogs is it's intentionally absurd dog \"rating system\", which gives ratings in the form of \"X out of 10\" scores, where \"X\" is almost always larger than 10."
   ]
  },
  {
   "cell_type": "markdown",
   "metadata": {},
   "source": [
    "One of the very straightforward questions to evaluate the popularity opf the account is to see how many favorites and retweets do WRD tweets accummulate. For that lets plot these variables in a scatter plot."
   ]
  },
  {
   "cell_type": "markdown",
   "metadata": {},
   "source": [
    "![title](img/scatter_favorites_retweets.png)"
   ]
  },
  {
   "cell_type": "markdown",
   "metadata": {},
   "source": [
    "There are several insights we can gain from this plot. \n",
    "\n",
    "First of all - favorites and likes counts go all the way beyond 150000, which shows just how popular the account is.\n",
    "\n",
    "Second - favorites and retweets are nearly perfectly linearly correlated, which is intuitively understandable, however it's good to have this observation come clearly from basic data. A small set of tweets having zero favorites count has to do with favorite count missing from a set of tweets.\n",
    "\n",
    "Third - there is vague inverse relationship between rating numerator and tweet's popularity. "
   ]
  }
 ],
 "metadata": {
  "kernelspec": {
   "display_name": "Python 3",
   "language": "python",
   "name": "python3"
  },
  "language_info": {
   "codemirror_mode": {
    "name": "ipython",
    "version": 3
   },
   "file_extension": ".py",
   "mimetype": "text/x-python",
   "name": "python",
   "nbconvert_exporter": "python",
   "pygments_lexer": "ipython3",
   "version": "3.7.3"
  },
  "toc": {
   "base_numbering": 1,
   "nav_menu": {},
   "number_sections": true,
   "sideBar": true,
   "skip_h1_title": false,
   "title_cell": "Table of Contents",
   "title_sidebar": "Contents",
   "toc_cell": false,
   "toc_position": {},
   "toc_section_display": true,
   "toc_window_display": true
  }
 },
 "nbformat": 4,
 "nbformat_minor": 2
}
