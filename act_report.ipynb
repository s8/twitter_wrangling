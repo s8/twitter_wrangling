{
 "cells": [
  {
   "cell_type": "markdown",
   "metadata": {},
   "source": [
    "WeRateDogs is a very special example of a niche twitter account grown into successful meme-generating business. WeRateDogs provides a refreshing alternative to the dominance of cats in the semantic space of online memes, proving that puppy eyes are at least as likeable and clickbait-worthy as the silliest and meanest of cat gifs out there. \n",
    "\n",
    "Signature trademark of WeRateDogs is it's intentionally absurd dog \"rating system\", which gives ratings in the form of \"X out of 10\" scores, where \"X\" is almost always larger than 10.\n",
    "\n",
    "One of the very straightforward questions to evaluate the popularity opf the account is to see how many favorites and retweets do WRD tweets accummulate. For that lets plot these variables in a scatter plot.\n",
    "\n",
    "![title](img/scatter_favorites_retweets.png)\n",
    "\n",
    "There are several insights we can gain from this plot. \n",
    "\n",
    "First of all - favorites and likes counts go all the way beyond 150000, which shows just how popular the account is.\n",
    "\n",
    "Second - favorites and retweets are nearly perfectly linearly correlated, which is intuitively understandable, however it's good to have this observation come clearly from basic data. A small set of tweets having zero favorites count has to do with favorite count missing from a set of tweets.\n",
    "\n",
    "Third - there is vague inverse relationship between rating numerator and tweet's popularity. \n",
    "\n",
    "To understand how the popularity of this account grew over time let's take a look at how favorite counts evolved in the timespan that our archive permits.\n",
    "\n",
    "![title](img/lineplot_favorites.png)\n",
    "\n",
    "It's clear from the plot that there was stable growth of likes from nearly zero to an average of almost 25000 over the two years between 2015 and 2017 that our archive captures.\n",
    "\n",
    "Seems like the pivotal moment was a highly popular tweet that amassed more than 150000 tweets in 2016.\n",
    "\n",
    "With an account being so popular and so much activity happening - it's interesting to understan which tools are used to manage it. Let's plot the `source` category column as a count bar plot.\n",
    "\n",
    "![source](img/bar_plot_source.png)\n",
    "\n",
    "Interestingly enough, lion's share of posts are done from plain Twitter for iPhone app. There was an attempt at using TweetDeck, and couple posts from Twitter web client, but none of these persisted.\n",
    "\n",
    "With the account this popular it would be interesting to understand what is the time investment required to maintain it. While we don't have data to see how long it takes to post every tweet - it may be insightful to see at what time of the day are tweets posted. One would expect that if the tweets are posted during the working day - the management of the account would be a primry occupation for the holder.\n",
    "\n",
    "![time_of_the_day](img/bar_plot_time_of_the_day.png)\n",
    "\n",
    "The plot above shows a clear dip in activity from the morning until about 4pm, with the highest peak being at 1am. This person is very clearly a night owl."
   ]
  }
 ],
 "metadata": {
  "kernelspec": {
   "display_name": "Python 3",
   "language": "python",
   "name": "python3"
  },
  "language_info": {
   "codemirror_mode": {
    "name": "ipython",
    "version": 3
   },
   "file_extension": ".py",
   "mimetype": "text/x-python",
   "name": "python",
   "nbconvert_exporter": "python",
   "pygments_lexer": "ipython3",
   "version": "3.7.3"
  },
  "toc": {
   "base_numbering": 1,
   "nav_menu": {},
   "number_sections": true,
   "sideBar": true,
   "skip_h1_title": false,
   "title_cell": "Table of Contents",
   "title_sidebar": "Contents",
   "toc_cell": false,
   "toc_position": {},
   "toc_section_display": true,
   "toc_window_display": true
  }
 },
 "nbformat": 4,
 "nbformat_minor": 2
}
