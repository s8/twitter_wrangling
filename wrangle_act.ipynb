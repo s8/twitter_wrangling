{
 "cells": [
  {
   "cell_type": "code",
   "execution_count": 1,
   "metadata": {},
   "outputs": [],
   "source": [
    "import requests as rq\n",
    "import pandas as pd\n",
    "import numpy as np\n",
    "import io\n",
    "import json\n",
    "from random import randrange, choice\n",
    "import seaborn as sb\n",
    "import matplotlib.pyplot as plt\n",
    "%matplotlib inline"
   ]
  },
  {
   "cell_type": "markdown",
   "metadata": {},
   "source": [
    "---\n",
    "# Gather data\n",
    "---\n",
    "\n",
    "## Dataset 1: Enhanced twitter archive\n",
    "### Read the enhanced twitter archive into a dataframe"
   ]
  },
  {
   "cell_type": "code",
   "execution_count": 2,
   "metadata": {},
   "outputs": [],
   "source": [
    "twitter_archive = pd.read_csv('twitter-archive-enhanced.csv')"
   ]
  },
  {
   "cell_type": "code",
   "execution_count": 3,
   "metadata": {
    "scrolled": true
   },
   "outputs": [
    {
     "data": {
      "text/html": [
       "<div>\n",
       "<style scoped>\n",
       "    .dataframe tbody tr th:only-of-type {\n",
       "        vertical-align: middle;\n",
       "    }\n",
       "\n",
       "    .dataframe tbody tr th {\n",
       "        vertical-align: top;\n",
       "    }\n",
       "\n",
       "    .dataframe thead th {\n",
       "        text-align: right;\n",
       "    }\n",
       "</style>\n",
       "<table border=\"1\" class=\"dataframe\">\n",
       "  <thead>\n",
       "    <tr style=\"text-align: right;\">\n",
       "      <th></th>\n",
       "      <th>tweet_id</th>\n",
       "      <th>in_reply_to_status_id</th>\n",
       "      <th>in_reply_to_user_id</th>\n",
       "      <th>timestamp</th>\n",
       "      <th>source</th>\n",
       "      <th>text</th>\n",
       "      <th>retweeted_status_id</th>\n",
       "      <th>retweeted_status_user_id</th>\n",
       "      <th>retweeted_status_timestamp</th>\n",
       "      <th>expanded_urls</th>\n",
       "      <th>rating_numerator</th>\n",
       "      <th>rating_denominator</th>\n",
       "      <th>name</th>\n",
       "      <th>doggo</th>\n",
       "      <th>floofer</th>\n",
       "      <th>pupper</th>\n",
       "      <th>puppo</th>\n",
       "    </tr>\n",
       "  </thead>\n",
       "  <tbody>\n",
       "    <tr>\n",
       "      <th>0</th>\n",
       "      <td>892420643555336193</td>\n",
       "      <td>NaN</td>\n",
       "      <td>NaN</td>\n",
       "      <td>2017-08-01 16:23:56 +0000</td>\n",
       "      <td>&lt;a href=\"http://twitter.com/download/iphone\" r...</td>\n",
       "      <td>This is Phineas. He's a mystical boy. Only eve...</td>\n",
       "      <td>NaN</td>\n",
       "      <td>NaN</td>\n",
       "      <td>NaN</td>\n",
       "      <td>https://twitter.com/dog_rates/status/892420643...</td>\n",
       "      <td>13</td>\n",
       "      <td>10</td>\n",
       "      <td>Phineas</td>\n",
       "      <td>None</td>\n",
       "      <td>None</td>\n",
       "      <td>None</td>\n",
       "      <td>None</td>\n",
       "    </tr>\n",
       "    <tr>\n",
       "      <th>1</th>\n",
       "      <td>892177421306343426</td>\n",
       "      <td>NaN</td>\n",
       "      <td>NaN</td>\n",
       "      <td>2017-08-01 00:17:27 +0000</td>\n",
       "      <td>&lt;a href=\"http://twitter.com/download/iphone\" r...</td>\n",
       "      <td>This is Tilly. She's just checking pup on you....</td>\n",
       "      <td>NaN</td>\n",
       "      <td>NaN</td>\n",
       "      <td>NaN</td>\n",
       "      <td>https://twitter.com/dog_rates/status/892177421...</td>\n",
       "      <td>13</td>\n",
       "      <td>10</td>\n",
       "      <td>Tilly</td>\n",
       "      <td>None</td>\n",
       "      <td>None</td>\n",
       "      <td>None</td>\n",
       "      <td>None</td>\n",
       "    </tr>\n",
       "    <tr>\n",
       "      <th>2</th>\n",
       "      <td>891815181378084864</td>\n",
       "      <td>NaN</td>\n",
       "      <td>NaN</td>\n",
       "      <td>2017-07-31 00:18:03 +0000</td>\n",
       "      <td>&lt;a href=\"http://twitter.com/download/iphone\" r...</td>\n",
       "      <td>This is Archie. He is a rare Norwegian Pouncin...</td>\n",
       "      <td>NaN</td>\n",
       "      <td>NaN</td>\n",
       "      <td>NaN</td>\n",
       "      <td>https://twitter.com/dog_rates/status/891815181...</td>\n",
       "      <td>12</td>\n",
       "      <td>10</td>\n",
       "      <td>Archie</td>\n",
       "      <td>None</td>\n",
       "      <td>None</td>\n",
       "      <td>None</td>\n",
       "      <td>None</td>\n",
       "    </tr>\n",
       "    <tr>\n",
       "      <th>3</th>\n",
       "      <td>891689557279858688</td>\n",
       "      <td>NaN</td>\n",
       "      <td>NaN</td>\n",
       "      <td>2017-07-30 15:58:51 +0000</td>\n",
       "      <td>&lt;a href=\"http://twitter.com/download/iphone\" r...</td>\n",
       "      <td>This is Darla. She commenced a snooze mid meal...</td>\n",
       "      <td>NaN</td>\n",
       "      <td>NaN</td>\n",
       "      <td>NaN</td>\n",
       "      <td>https://twitter.com/dog_rates/status/891689557...</td>\n",
       "      <td>13</td>\n",
       "      <td>10</td>\n",
       "      <td>Darla</td>\n",
       "      <td>None</td>\n",
       "      <td>None</td>\n",
       "      <td>None</td>\n",
       "      <td>None</td>\n",
       "    </tr>\n",
       "    <tr>\n",
       "      <th>4</th>\n",
       "      <td>891327558926688256</td>\n",
       "      <td>NaN</td>\n",
       "      <td>NaN</td>\n",
       "      <td>2017-07-29 16:00:24 +0000</td>\n",
       "      <td>&lt;a href=\"http://twitter.com/download/iphone\" r...</td>\n",
       "      <td>This is Franklin. He would like you to stop ca...</td>\n",
       "      <td>NaN</td>\n",
       "      <td>NaN</td>\n",
       "      <td>NaN</td>\n",
       "      <td>https://twitter.com/dog_rates/status/891327558...</td>\n",
       "      <td>12</td>\n",
       "      <td>10</td>\n",
       "      <td>Franklin</td>\n",
       "      <td>None</td>\n",
       "      <td>None</td>\n",
       "      <td>None</td>\n",
       "      <td>None</td>\n",
       "    </tr>\n",
       "    <tr>\n",
       "      <th>5</th>\n",
       "      <td>891087950875897856</td>\n",
       "      <td>NaN</td>\n",
       "      <td>NaN</td>\n",
       "      <td>2017-07-29 00:08:17 +0000</td>\n",
       "      <td>&lt;a href=\"http://twitter.com/download/iphone\" r...</td>\n",
       "      <td>Here we have a majestic great white breaching ...</td>\n",
       "      <td>NaN</td>\n",
       "      <td>NaN</td>\n",
       "      <td>NaN</td>\n",
       "      <td>https://twitter.com/dog_rates/status/891087950...</td>\n",
       "      <td>13</td>\n",
       "      <td>10</td>\n",
       "      <td>None</td>\n",
       "      <td>None</td>\n",
       "      <td>None</td>\n",
       "      <td>None</td>\n",
       "      <td>None</td>\n",
       "    </tr>\n",
       "    <tr>\n",
       "      <th>6</th>\n",
       "      <td>890971913173991426</td>\n",
       "      <td>NaN</td>\n",
       "      <td>NaN</td>\n",
       "      <td>2017-07-28 16:27:12 +0000</td>\n",
       "      <td>&lt;a href=\"http://twitter.com/download/iphone\" r...</td>\n",
       "      <td>Meet Jax. He enjoys ice cream so much he gets ...</td>\n",
       "      <td>NaN</td>\n",
       "      <td>NaN</td>\n",
       "      <td>NaN</td>\n",
       "      <td>https://gofundme.com/ydvmve-surgery-for-jax,ht...</td>\n",
       "      <td>13</td>\n",
       "      <td>10</td>\n",
       "      <td>Jax</td>\n",
       "      <td>None</td>\n",
       "      <td>None</td>\n",
       "      <td>None</td>\n",
       "      <td>None</td>\n",
       "    </tr>\n",
       "    <tr>\n",
       "      <th>7</th>\n",
       "      <td>890729181411237888</td>\n",
       "      <td>NaN</td>\n",
       "      <td>NaN</td>\n",
       "      <td>2017-07-28 00:22:40 +0000</td>\n",
       "      <td>&lt;a href=\"http://twitter.com/download/iphone\" r...</td>\n",
       "      <td>When you watch your owner call another dog a g...</td>\n",
       "      <td>NaN</td>\n",
       "      <td>NaN</td>\n",
       "      <td>NaN</td>\n",
       "      <td>https://twitter.com/dog_rates/status/890729181...</td>\n",
       "      <td>13</td>\n",
       "      <td>10</td>\n",
       "      <td>None</td>\n",
       "      <td>None</td>\n",
       "      <td>None</td>\n",
       "      <td>None</td>\n",
       "      <td>None</td>\n",
       "    </tr>\n",
       "    <tr>\n",
       "      <th>8</th>\n",
       "      <td>890609185150312448</td>\n",
       "      <td>NaN</td>\n",
       "      <td>NaN</td>\n",
       "      <td>2017-07-27 16:25:51 +0000</td>\n",
       "      <td>&lt;a href=\"http://twitter.com/download/iphone\" r...</td>\n",
       "      <td>This is Zoey. She doesn't want to be one of th...</td>\n",
       "      <td>NaN</td>\n",
       "      <td>NaN</td>\n",
       "      <td>NaN</td>\n",
       "      <td>https://twitter.com/dog_rates/status/890609185...</td>\n",
       "      <td>13</td>\n",
       "      <td>10</td>\n",
       "      <td>Zoey</td>\n",
       "      <td>None</td>\n",
       "      <td>None</td>\n",
       "      <td>None</td>\n",
       "      <td>None</td>\n",
       "    </tr>\n",
       "    <tr>\n",
       "      <th>9</th>\n",
       "      <td>890240255349198849</td>\n",
       "      <td>NaN</td>\n",
       "      <td>NaN</td>\n",
       "      <td>2017-07-26 15:59:51 +0000</td>\n",
       "      <td>&lt;a href=\"http://twitter.com/download/iphone\" r...</td>\n",
       "      <td>This is Cassie. She is a college pup. Studying...</td>\n",
       "      <td>NaN</td>\n",
       "      <td>NaN</td>\n",
       "      <td>NaN</td>\n",
       "      <td>https://twitter.com/dog_rates/status/890240255...</td>\n",
       "      <td>14</td>\n",
       "      <td>10</td>\n",
       "      <td>Cassie</td>\n",
       "      <td>doggo</td>\n",
       "      <td>None</td>\n",
       "      <td>None</td>\n",
       "      <td>None</td>\n",
       "    </tr>\n",
       "    <tr>\n",
       "      <th>10</th>\n",
       "      <td>890006608113172480</td>\n",
       "      <td>NaN</td>\n",
       "      <td>NaN</td>\n",
       "      <td>2017-07-26 00:31:25 +0000</td>\n",
       "      <td>&lt;a href=\"http://twitter.com/download/iphone\" r...</td>\n",
       "      <td>This is Koda. He is a South Australian decksha...</td>\n",
       "      <td>NaN</td>\n",
       "      <td>NaN</td>\n",
       "      <td>NaN</td>\n",
       "      <td>https://twitter.com/dog_rates/status/890006608...</td>\n",
       "      <td>13</td>\n",
       "      <td>10</td>\n",
       "      <td>Koda</td>\n",
       "      <td>None</td>\n",
       "      <td>None</td>\n",
       "      <td>None</td>\n",
       "      <td>None</td>\n",
       "    </tr>\n",
       "    <tr>\n",
       "      <th>11</th>\n",
       "      <td>889880896479866881</td>\n",
       "      <td>NaN</td>\n",
       "      <td>NaN</td>\n",
       "      <td>2017-07-25 16:11:53 +0000</td>\n",
       "      <td>&lt;a href=\"http://twitter.com/download/iphone\" r...</td>\n",
       "      <td>This is Bruno. He is a service shark. Only get...</td>\n",
       "      <td>NaN</td>\n",
       "      <td>NaN</td>\n",
       "      <td>NaN</td>\n",
       "      <td>https://twitter.com/dog_rates/status/889880896...</td>\n",
       "      <td>13</td>\n",
       "      <td>10</td>\n",
       "      <td>Bruno</td>\n",
       "      <td>None</td>\n",
       "      <td>None</td>\n",
       "      <td>None</td>\n",
       "      <td>None</td>\n",
       "    </tr>\n",
       "    <tr>\n",
       "      <th>12</th>\n",
       "      <td>889665388333682689</td>\n",
       "      <td>NaN</td>\n",
       "      <td>NaN</td>\n",
       "      <td>2017-07-25 01:55:32 +0000</td>\n",
       "      <td>&lt;a href=\"http://twitter.com/download/iphone\" r...</td>\n",
       "      <td>Here's a puppo that seems to be on the fence a...</td>\n",
       "      <td>NaN</td>\n",
       "      <td>NaN</td>\n",
       "      <td>NaN</td>\n",
       "      <td>https://twitter.com/dog_rates/status/889665388...</td>\n",
       "      <td>13</td>\n",
       "      <td>10</td>\n",
       "      <td>None</td>\n",
       "      <td>None</td>\n",
       "      <td>None</td>\n",
       "      <td>None</td>\n",
       "      <td>puppo</td>\n",
       "    </tr>\n",
       "    <tr>\n",
       "      <th>13</th>\n",
       "      <td>889638837579907072</td>\n",
       "      <td>NaN</td>\n",
       "      <td>NaN</td>\n",
       "      <td>2017-07-25 00:10:02 +0000</td>\n",
       "      <td>&lt;a href=\"http://twitter.com/download/iphone\" r...</td>\n",
       "      <td>This is Ted. He does his best. Sometimes that'...</td>\n",
       "      <td>NaN</td>\n",
       "      <td>NaN</td>\n",
       "      <td>NaN</td>\n",
       "      <td>https://twitter.com/dog_rates/status/889638837...</td>\n",
       "      <td>12</td>\n",
       "      <td>10</td>\n",
       "      <td>Ted</td>\n",
       "      <td>None</td>\n",
       "      <td>None</td>\n",
       "      <td>None</td>\n",
       "      <td>None</td>\n",
       "    </tr>\n",
       "    <tr>\n",
       "      <th>14</th>\n",
       "      <td>889531135344209921</td>\n",
       "      <td>NaN</td>\n",
       "      <td>NaN</td>\n",
       "      <td>2017-07-24 17:02:04 +0000</td>\n",
       "      <td>&lt;a href=\"http://twitter.com/download/iphone\" r...</td>\n",
       "      <td>This is Stuart. He's sporting his favorite fan...</td>\n",
       "      <td>NaN</td>\n",
       "      <td>NaN</td>\n",
       "      <td>NaN</td>\n",
       "      <td>https://twitter.com/dog_rates/status/889531135...</td>\n",
       "      <td>13</td>\n",
       "      <td>10</td>\n",
       "      <td>Stuart</td>\n",
       "      <td>None</td>\n",
       "      <td>None</td>\n",
       "      <td>None</td>\n",
       "      <td>puppo</td>\n",
       "    </tr>\n",
       "  </tbody>\n",
       "</table>\n",
       "</div>"
      ],
      "text/plain": [
       "              tweet_id  in_reply_to_status_id  in_reply_to_user_id  \\\n",
       "0   892420643555336193                    NaN                  NaN   \n",
       "1   892177421306343426                    NaN                  NaN   \n",
       "2   891815181378084864                    NaN                  NaN   \n",
       "3   891689557279858688                    NaN                  NaN   \n",
       "4   891327558926688256                    NaN                  NaN   \n",
       "5   891087950875897856                    NaN                  NaN   \n",
       "6   890971913173991426                    NaN                  NaN   \n",
       "7   890729181411237888                    NaN                  NaN   \n",
       "8   890609185150312448                    NaN                  NaN   \n",
       "9   890240255349198849                    NaN                  NaN   \n",
       "10  890006608113172480                    NaN                  NaN   \n",
       "11  889880896479866881                    NaN                  NaN   \n",
       "12  889665388333682689                    NaN                  NaN   \n",
       "13  889638837579907072                    NaN                  NaN   \n",
       "14  889531135344209921                    NaN                  NaN   \n",
       "\n",
       "                    timestamp  \\\n",
       "0   2017-08-01 16:23:56 +0000   \n",
       "1   2017-08-01 00:17:27 +0000   \n",
       "2   2017-07-31 00:18:03 +0000   \n",
       "3   2017-07-30 15:58:51 +0000   \n",
       "4   2017-07-29 16:00:24 +0000   \n",
       "5   2017-07-29 00:08:17 +0000   \n",
       "6   2017-07-28 16:27:12 +0000   \n",
       "7   2017-07-28 00:22:40 +0000   \n",
       "8   2017-07-27 16:25:51 +0000   \n",
       "9   2017-07-26 15:59:51 +0000   \n",
       "10  2017-07-26 00:31:25 +0000   \n",
       "11  2017-07-25 16:11:53 +0000   \n",
       "12  2017-07-25 01:55:32 +0000   \n",
       "13  2017-07-25 00:10:02 +0000   \n",
       "14  2017-07-24 17:02:04 +0000   \n",
       "\n",
       "                                               source  \\\n",
       "0   <a href=\"http://twitter.com/download/iphone\" r...   \n",
       "1   <a href=\"http://twitter.com/download/iphone\" r...   \n",
       "2   <a href=\"http://twitter.com/download/iphone\" r...   \n",
       "3   <a href=\"http://twitter.com/download/iphone\" r...   \n",
       "4   <a href=\"http://twitter.com/download/iphone\" r...   \n",
       "5   <a href=\"http://twitter.com/download/iphone\" r...   \n",
       "6   <a href=\"http://twitter.com/download/iphone\" r...   \n",
       "7   <a href=\"http://twitter.com/download/iphone\" r...   \n",
       "8   <a href=\"http://twitter.com/download/iphone\" r...   \n",
       "9   <a href=\"http://twitter.com/download/iphone\" r...   \n",
       "10  <a href=\"http://twitter.com/download/iphone\" r...   \n",
       "11  <a href=\"http://twitter.com/download/iphone\" r...   \n",
       "12  <a href=\"http://twitter.com/download/iphone\" r...   \n",
       "13  <a href=\"http://twitter.com/download/iphone\" r...   \n",
       "14  <a href=\"http://twitter.com/download/iphone\" r...   \n",
       "\n",
       "                                                 text  retweeted_status_id  \\\n",
       "0   This is Phineas. He's a mystical boy. Only eve...                  NaN   \n",
       "1   This is Tilly. She's just checking pup on you....                  NaN   \n",
       "2   This is Archie. He is a rare Norwegian Pouncin...                  NaN   \n",
       "3   This is Darla. She commenced a snooze mid meal...                  NaN   \n",
       "4   This is Franklin. He would like you to stop ca...                  NaN   \n",
       "5   Here we have a majestic great white breaching ...                  NaN   \n",
       "6   Meet Jax. He enjoys ice cream so much he gets ...                  NaN   \n",
       "7   When you watch your owner call another dog a g...                  NaN   \n",
       "8   This is Zoey. She doesn't want to be one of th...                  NaN   \n",
       "9   This is Cassie. She is a college pup. Studying...                  NaN   \n",
       "10  This is Koda. He is a South Australian decksha...                  NaN   \n",
       "11  This is Bruno. He is a service shark. Only get...                  NaN   \n",
       "12  Here's a puppo that seems to be on the fence a...                  NaN   \n",
       "13  This is Ted. He does his best. Sometimes that'...                  NaN   \n",
       "14  This is Stuart. He's sporting his favorite fan...                  NaN   \n",
       "\n",
       "    retweeted_status_user_id retweeted_status_timestamp  \\\n",
       "0                        NaN                        NaN   \n",
       "1                        NaN                        NaN   \n",
       "2                        NaN                        NaN   \n",
       "3                        NaN                        NaN   \n",
       "4                        NaN                        NaN   \n",
       "5                        NaN                        NaN   \n",
       "6                        NaN                        NaN   \n",
       "7                        NaN                        NaN   \n",
       "8                        NaN                        NaN   \n",
       "9                        NaN                        NaN   \n",
       "10                       NaN                        NaN   \n",
       "11                       NaN                        NaN   \n",
       "12                       NaN                        NaN   \n",
       "13                       NaN                        NaN   \n",
       "14                       NaN                        NaN   \n",
       "\n",
       "                                        expanded_urls  rating_numerator  \\\n",
       "0   https://twitter.com/dog_rates/status/892420643...                13   \n",
       "1   https://twitter.com/dog_rates/status/892177421...                13   \n",
       "2   https://twitter.com/dog_rates/status/891815181...                12   \n",
       "3   https://twitter.com/dog_rates/status/891689557...                13   \n",
       "4   https://twitter.com/dog_rates/status/891327558...                12   \n",
       "5   https://twitter.com/dog_rates/status/891087950...                13   \n",
       "6   https://gofundme.com/ydvmve-surgery-for-jax,ht...                13   \n",
       "7   https://twitter.com/dog_rates/status/890729181...                13   \n",
       "8   https://twitter.com/dog_rates/status/890609185...                13   \n",
       "9   https://twitter.com/dog_rates/status/890240255...                14   \n",
       "10  https://twitter.com/dog_rates/status/890006608...                13   \n",
       "11  https://twitter.com/dog_rates/status/889880896...                13   \n",
       "12  https://twitter.com/dog_rates/status/889665388...                13   \n",
       "13  https://twitter.com/dog_rates/status/889638837...                12   \n",
       "14  https://twitter.com/dog_rates/status/889531135...                13   \n",
       "\n",
       "    rating_denominator      name  doggo floofer pupper  puppo  \n",
       "0                   10   Phineas   None    None   None   None  \n",
       "1                   10     Tilly   None    None   None   None  \n",
       "2                   10    Archie   None    None   None   None  \n",
       "3                   10     Darla   None    None   None   None  \n",
       "4                   10  Franklin   None    None   None   None  \n",
       "5                   10      None   None    None   None   None  \n",
       "6                   10       Jax   None    None   None   None  \n",
       "7                   10      None   None    None   None   None  \n",
       "8                   10      Zoey   None    None   None   None  \n",
       "9                   10    Cassie  doggo    None   None   None  \n",
       "10                  10      Koda   None    None   None   None  \n",
       "11                  10     Bruno   None    None   None   None  \n",
       "12                  10      None   None    None   None  puppo  \n",
       "13                  10       Ted   None    None   None   None  \n",
       "14                  10    Stuart   None    None   None  puppo  "
      ]
     },
     "execution_count": 3,
     "metadata": {},
     "output_type": "execute_result"
    }
   ],
   "source": [
    "twitter_archive.head(15)"
   ]
  },
  {
   "cell_type": "code",
   "execution_count": 4,
   "metadata": {
    "scrolled": true
   },
   "outputs": [
    {
     "name": "stdout",
     "output_type": "stream",
     "text": [
      "<class 'pandas.core.frame.DataFrame'>\n",
      "RangeIndex: 2356 entries, 0 to 2355\n",
      "Data columns (total 17 columns):\n",
      "tweet_id                      2356 non-null int64\n",
      "in_reply_to_status_id         78 non-null float64\n",
      "in_reply_to_user_id           78 non-null float64\n",
      "timestamp                     2356 non-null object\n",
      "source                        2356 non-null object\n",
      "text                          2356 non-null object\n",
      "retweeted_status_id           181 non-null float64\n",
      "retweeted_status_user_id      181 non-null float64\n",
      "retweeted_status_timestamp    181 non-null object\n",
      "expanded_urls                 2297 non-null object\n",
      "rating_numerator              2356 non-null int64\n",
      "rating_denominator            2356 non-null int64\n",
      "name                          2356 non-null object\n",
      "doggo                         2356 non-null object\n",
      "floofer                       2356 non-null object\n",
      "pupper                        2356 non-null object\n",
      "puppo                         2356 non-null object\n",
      "dtypes: float64(4), int64(3), object(10)\n",
      "memory usage: 313.0+ KB\n"
     ]
    }
   ],
   "source": [
    "twitter_archive.info()"
   ]
  },
  {
   "cell_type": "markdown",
   "metadata": {},
   "source": [
    "## Dataset 2: Image predictions\n",
    "\n",
    "### Download the tweet image predictions"
   ]
  },
  {
   "cell_type": "code",
   "execution_count": 5,
   "metadata": {},
   "outputs": [
    {
     "data": {
      "text/plain": [
       "200"
      ]
     },
     "execution_count": 5,
     "metadata": {},
     "output_type": "execute_result"
    }
   ],
   "source": [
    "r = rq.get('https://d17h27t6h515a5.cloudfront.net/topher/2017/August/599fd2ad_image-predictions/image-predictions.tsv')\n",
    "r.status_code"
   ]
  },
  {
   "cell_type": "code",
   "execution_count": 6,
   "metadata": {},
   "outputs": [
    {
     "data": {
      "text/plain": [
       "'text/tab-separated-values; charset=utf-8'"
      ]
     },
     "execution_count": 6,
     "metadata": {},
     "output_type": "execute_result"
    }
   ],
   "source": [
    "r.headers['content-type']"
   ]
  },
  {
   "cell_type": "code",
   "execution_count": 7,
   "metadata": {},
   "outputs": [
    {
     "data": {
      "text/plain": [
       "'utf-8'"
      ]
     },
     "execution_count": 7,
     "metadata": {},
     "output_type": "execute_result"
    }
   ],
   "source": [
    "r.encoding"
   ]
  },
  {
   "cell_type": "markdown",
   "metadata": {},
   "source": [
    "#### Load the received .tsv file into a dataframe"
   ]
  },
  {
   "cell_type": "code",
   "execution_count": 8,
   "metadata": {},
   "outputs": [
    {
     "name": "stderr",
     "output_type": "stream",
     "text": [
      "/Users/s8/anaconda3/lib/python3.7/site-packages/ipykernel_launcher.py:2: FutureWarning: from_csv is deprecated. Please use read_csv(...) instead. Note that some of the default arguments are different, so please refer to the documentation for from_csv when changing your function calls\n",
      "  \n"
     ]
    }
   ],
   "source": [
    "# load image predictions dataset from a local file\n",
    "image_predictions = pd.DataFrame.from_csv('image-predictions.tsv', sep='\\t')"
   ]
  },
  {
   "cell_type": "code",
   "execution_count": 9,
   "metadata": {
    "scrolled": false
   },
   "outputs": [
    {
     "name": "stderr",
     "output_type": "stream",
     "text": [
      "/Users/s8/anaconda3/lib/python3.7/site-packages/ipykernel_launcher.py:2: FutureWarning: from_csv is deprecated. Please use read_csv(...) instead. Note that some of the default arguments are different, so please refer to the documentation for from_csv when changing your function calls\n",
      "  \n"
     ]
    }
   ],
   "source": [
    "# load image predictions dataset from the URL\n",
    "image_predictions = pd.DataFrame.from_csv(io.StringIO(r.content.decode(r.encoding)), sep='\\t')"
   ]
  },
  {
   "cell_type": "code",
   "execution_count": 10,
   "metadata": {},
   "outputs": [
    {
     "data": {
      "text/html": [
       "<div>\n",
       "<style scoped>\n",
       "    .dataframe tbody tr th:only-of-type {\n",
       "        vertical-align: middle;\n",
       "    }\n",
       "\n",
       "    .dataframe tbody tr th {\n",
       "        vertical-align: top;\n",
       "    }\n",
       "\n",
       "    .dataframe thead th {\n",
       "        text-align: right;\n",
       "    }\n",
       "</style>\n",
       "<table border=\"1\" class=\"dataframe\">\n",
       "  <thead>\n",
       "    <tr style=\"text-align: right;\">\n",
       "      <th></th>\n",
       "      <th>jpg_url</th>\n",
       "      <th>img_num</th>\n",
       "      <th>p1</th>\n",
       "      <th>p1_conf</th>\n",
       "      <th>p1_dog</th>\n",
       "      <th>p2</th>\n",
       "      <th>p2_conf</th>\n",
       "      <th>p2_dog</th>\n",
       "      <th>p3</th>\n",
       "      <th>p3_conf</th>\n",
       "      <th>p3_dog</th>\n",
       "    </tr>\n",
       "    <tr>\n",
       "      <th>tweet_id</th>\n",
       "      <th></th>\n",
       "      <th></th>\n",
       "      <th></th>\n",
       "      <th></th>\n",
       "      <th></th>\n",
       "      <th></th>\n",
       "      <th></th>\n",
       "      <th></th>\n",
       "      <th></th>\n",
       "      <th></th>\n",
       "      <th></th>\n",
       "    </tr>\n",
       "  </thead>\n",
       "  <tbody>\n",
       "    <tr>\n",
       "      <th>666020888022790149</th>\n",
       "      <td>https://pbs.twimg.com/media/CT4udn0WwAA0aMy.jpg</td>\n",
       "      <td>1</td>\n",
       "      <td>Welsh_springer_spaniel</td>\n",
       "      <td>0.465074</td>\n",
       "      <td>True</td>\n",
       "      <td>collie</td>\n",
       "      <td>0.156665</td>\n",
       "      <td>True</td>\n",
       "      <td>Shetland_sheepdog</td>\n",
       "      <td>0.061428</td>\n",
       "      <td>True</td>\n",
       "    </tr>\n",
       "    <tr>\n",
       "      <th>666029285002620928</th>\n",
       "      <td>https://pbs.twimg.com/media/CT42GRgUYAA5iDo.jpg</td>\n",
       "      <td>1</td>\n",
       "      <td>redbone</td>\n",
       "      <td>0.506826</td>\n",
       "      <td>True</td>\n",
       "      <td>miniature_pinscher</td>\n",
       "      <td>0.074192</td>\n",
       "      <td>True</td>\n",
       "      <td>Rhodesian_ridgeback</td>\n",
       "      <td>0.072010</td>\n",
       "      <td>True</td>\n",
       "    </tr>\n",
       "    <tr>\n",
       "      <th>666033412701032449</th>\n",
       "      <td>https://pbs.twimg.com/media/CT4521TWwAEvMyu.jpg</td>\n",
       "      <td>1</td>\n",
       "      <td>German_shepherd</td>\n",
       "      <td>0.596461</td>\n",
       "      <td>True</td>\n",
       "      <td>malinois</td>\n",
       "      <td>0.138584</td>\n",
       "      <td>True</td>\n",
       "      <td>bloodhound</td>\n",
       "      <td>0.116197</td>\n",
       "      <td>True</td>\n",
       "    </tr>\n",
       "    <tr>\n",
       "      <th>666044226329800704</th>\n",
       "      <td>https://pbs.twimg.com/media/CT5Dr8HUEAA-lEu.jpg</td>\n",
       "      <td>1</td>\n",
       "      <td>Rhodesian_ridgeback</td>\n",
       "      <td>0.408143</td>\n",
       "      <td>True</td>\n",
       "      <td>redbone</td>\n",
       "      <td>0.360687</td>\n",
       "      <td>True</td>\n",
       "      <td>miniature_pinscher</td>\n",
       "      <td>0.222752</td>\n",
       "      <td>True</td>\n",
       "    </tr>\n",
       "    <tr>\n",
       "      <th>666049248165822465</th>\n",
       "      <td>https://pbs.twimg.com/media/CT5IQmsXIAAKY4A.jpg</td>\n",
       "      <td>1</td>\n",
       "      <td>miniature_pinscher</td>\n",
       "      <td>0.560311</td>\n",
       "      <td>True</td>\n",
       "      <td>Rottweiler</td>\n",
       "      <td>0.243682</td>\n",
       "      <td>True</td>\n",
       "      <td>Doberman</td>\n",
       "      <td>0.154629</td>\n",
       "      <td>True</td>\n",
       "    </tr>\n",
       "  </tbody>\n",
       "</table>\n",
       "</div>"
      ],
      "text/plain": [
       "                                                            jpg_url  img_num  \\\n",
       "tweet_id                                                                       \n",
       "666020888022790149  https://pbs.twimg.com/media/CT4udn0WwAA0aMy.jpg        1   \n",
       "666029285002620928  https://pbs.twimg.com/media/CT42GRgUYAA5iDo.jpg        1   \n",
       "666033412701032449  https://pbs.twimg.com/media/CT4521TWwAEvMyu.jpg        1   \n",
       "666044226329800704  https://pbs.twimg.com/media/CT5Dr8HUEAA-lEu.jpg        1   \n",
       "666049248165822465  https://pbs.twimg.com/media/CT5IQmsXIAAKY4A.jpg        1   \n",
       "\n",
       "                                        p1   p1_conf  p1_dog  \\\n",
       "tweet_id                                                       \n",
       "666020888022790149  Welsh_springer_spaniel  0.465074    True   \n",
       "666029285002620928                 redbone  0.506826    True   \n",
       "666033412701032449         German_shepherd  0.596461    True   \n",
       "666044226329800704     Rhodesian_ridgeback  0.408143    True   \n",
       "666049248165822465      miniature_pinscher  0.560311    True   \n",
       "\n",
       "                                    p2   p2_conf  p2_dog                   p3  \\\n",
       "tweet_id                                                                        \n",
       "666020888022790149              collie  0.156665    True    Shetland_sheepdog   \n",
       "666029285002620928  miniature_pinscher  0.074192    True  Rhodesian_ridgeback   \n",
       "666033412701032449            malinois  0.138584    True           bloodhound   \n",
       "666044226329800704             redbone  0.360687    True   miniature_pinscher   \n",
       "666049248165822465          Rottweiler  0.243682    True             Doberman   \n",
       "\n",
       "                     p3_conf  p3_dog  \n",
       "tweet_id                              \n",
       "666020888022790149  0.061428    True  \n",
       "666029285002620928  0.072010    True  \n",
       "666033412701032449  0.116197    True  \n",
       "666044226329800704  0.222752    True  \n",
       "666049248165822465  0.154629    True  "
      ]
     },
     "execution_count": 10,
     "metadata": {},
     "output_type": "execute_result"
    }
   ],
   "source": [
    "image_predictions.head()"
   ]
  },
  {
   "cell_type": "code",
   "execution_count": 11,
   "metadata": {},
   "outputs": [
    {
     "name": "stdout",
     "output_type": "stream",
     "text": [
      "<class 'pandas.core.frame.DataFrame'>\n",
      "Int64Index: 2075 entries, 666020888022790149 to 892420643555336193\n",
      "Data columns (total 11 columns):\n",
      "jpg_url    2075 non-null object\n",
      "img_num    2075 non-null int64\n",
      "p1         2075 non-null object\n",
      "p1_conf    2075 non-null float64\n",
      "p1_dog     2075 non-null bool\n",
      "p2         2075 non-null object\n",
      "p2_conf    2075 non-null float64\n",
      "p2_dog     2075 non-null bool\n",
      "p3         2075 non-null object\n",
      "p3_conf    2075 non-null float64\n",
      "p3_dog     2075 non-null bool\n",
      "dtypes: bool(3), float64(3), int64(1), object(4)\n",
      "memory usage: 152.0+ KB\n"
     ]
    }
   ],
   "source": [
    "image_predictions.info()"
   ]
  },
  {
   "cell_type": "markdown",
   "metadata": {},
   "source": [
    "### Merge twitter archive and image predictions"
   ]
  },
  {
   "cell_type": "code",
   "execution_count": 12,
   "metadata": {},
   "outputs": [],
   "source": [
    "merged_df = pd.merge(twitter_archive,image_predictions,how='inner',on='tweet_id')"
   ]
  },
  {
   "cell_type": "code",
   "execution_count": 13,
   "metadata": {},
   "outputs": [
    {
     "name": "stdout",
     "output_type": "stream",
     "text": [
      "<class 'pandas.core.frame.DataFrame'>\n",
      "Int64Index: 2075 entries, 0 to 2074\n",
      "Data columns (total 28 columns):\n",
      "tweet_id                      2075 non-null int64\n",
      "in_reply_to_status_id         23 non-null float64\n",
      "in_reply_to_user_id           23 non-null float64\n",
      "timestamp                     2075 non-null object\n",
      "source                        2075 non-null object\n",
      "text                          2075 non-null object\n",
      "retweeted_status_id           81 non-null float64\n",
      "retweeted_status_user_id      81 non-null float64\n",
      "retweeted_status_timestamp    81 non-null object\n",
      "expanded_urls                 2075 non-null object\n",
      "rating_numerator              2075 non-null int64\n",
      "rating_denominator            2075 non-null int64\n",
      "name                          2075 non-null object\n",
      "doggo                         2075 non-null object\n",
      "floofer                       2075 non-null object\n",
      "pupper                        2075 non-null object\n",
      "puppo                         2075 non-null object\n",
      "jpg_url                       2075 non-null object\n",
      "img_num                       2075 non-null int64\n",
      "p1                            2075 non-null object\n",
      "p1_conf                       2075 non-null float64\n",
      "p1_dog                        2075 non-null bool\n",
      "p2                            2075 non-null object\n",
      "p2_conf                       2075 non-null float64\n",
      "p2_dog                        2075 non-null bool\n",
      "p3                            2075 non-null object\n",
      "p3_conf                       2075 non-null float64\n",
      "p3_dog                        2075 non-null bool\n",
      "dtypes: bool(3), float64(7), int64(4), object(14)\n",
      "memory usage: 427.6+ KB\n"
     ]
    }
   ],
   "source": [
    "merged_df.info()"
   ]
  },
  {
   "cell_type": "code",
   "execution_count": 14,
   "metadata": {},
   "outputs": [
    {
     "name": "stdout",
     "output_type": "stream",
     "text": [
      "twitter archive size:  2356\n",
      "image predictions size:  2075\n",
      "merged dataframe size:  2075\n"
     ]
    }
   ],
   "source": [
    "print ('twitter archive size: ', len(twitter_archive))\n",
    "print ('image predictions size: ', len(image_predictions))\n",
    "print ('merged dataframe size: ', len(merged_df))"
   ]
  },
  {
   "cell_type": "markdown",
   "metadata": {},
   "source": [
    "The size of the new merged dataframe is the same as the image predictions dataframe, which means that all the records from `image_precdictions` were kept."
   ]
  },
  {
   "cell_type": "markdown",
   "metadata": {},
   "source": [
    "## Dataset 3: Twitter via API\n",
    "\n",
    "### Set up Twitter API via tweepy"
   ]
  },
  {
   "cell_type": "code",
   "execution_count": null,
   "metadata": {},
   "outputs": [],
   "source": [
    "import tweepy\n",
    "\n",
    "TWITTER_CONSUMER_KEY = ''\n",
    "TWITTER_CONSUMER_SECRET = ''\n",
    "ACCESS_TOKEN = ''\n",
    "ACCESS_SECRET = ''\n",
    "\n",
    "auth = tweepy.OAuthHandler(TWITTER_CONSUMER_KEY, TWITTER_CONSUMER_SECRET)\n",
    "auth.set_access_token(ACCESS_TOKEN, ACCESS_SECRET)\n",
    "\n",
    "api = tweepy.API(auth, parser=tweepy.parsers.JSONParser())\n",
    "api.wait_on_rate_limit = True"
   ]
  },
  {
   "cell_type": "markdown",
   "metadata": {},
   "source": [
    "### Download WeRateDogs Twitter archive. Takes around 30 mins."
   ]
  },
  {
   "cell_type": "code",
   "execution_count": null,
   "metadata": {
    "code_folding": []
   },
   "outputs": [],
   "source": [
    "# create an empty array to store dictionaries retrieved via API\n",
    "tweets = []\n",
    "missing_tweets = []\n",
    "\n",
    "# use tweet_id's from our dataframe to retrieve original tweets\n",
    "for i in merged_df.tweet_id:\n",
    "    try:\n",
    "        tweets.append (api.get_status(i, tweet_mode='extended'))\n",
    "    except:\n",
    "        missing_tweets.append(i)\n",
    "        print ('tweet #', i, ' could not be located')\n",
    "            \n",
    "# write downloaded tweets to a json file and store it locally            \n",
    "with open('tweets.json', 'w') as outfile:\n",
    "    json.dump(tweets, outfile)"
   ]
  },
  {
   "cell_type": "markdown",
   "metadata": {},
   "source": [
    "### Read the downloaded and saved archive from a local .json file"
   ]
  },
  {
   "cell_type": "code",
   "execution_count": 15,
   "metadata": {},
   "outputs": [],
   "source": [
    "tweets = pd.read_json ('tweets.json')"
   ]
  },
  {
   "cell_type": "code",
   "execution_count": 16,
   "metadata": {},
   "outputs": [
    {
     "name": "stdout",
     "output_type": "stream",
     "text": [
      "<class 'pandas.core.frame.DataFrame'>\n",
      "RangeIndex: 2061 entries, 0 to 2060\n",
      "Data columns (total 28 columns):\n",
      "contributors                     0 non-null float64\n",
      "coordinates                      0 non-null float64\n",
      "created_at                       2061 non-null datetime64[ns]\n",
      "display_text_range               2061 non-null object\n",
      "entities                         2061 non-null object\n",
      "extended_entities                2061 non-null object\n",
      "favorite_count                   2061 non-null int64\n",
      "favorited                        2061 non-null bool\n",
      "full_text                        2061 non-null object\n",
      "geo                              0 non-null float64\n",
      "id                               2061 non-null int64\n",
      "id_str                           2061 non-null int64\n",
      "in_reply_to_screen_name          23 non-null object\n",
      "in_reply_to_status_id            23 non-null float64\n",
      "in_reply_to_status_id_str        23 non-null float64\n",
      "in_reply_to_user_id              23 non-null float64\n",
      "in_reply_to_user_id_str          23 non-null float64\n",
      "is_quote_status                  2061 non-null bool\n",
      "lang                             2061 non-null object\n",
      "place                            1 non-null object\n",
      "possibly_sensitive               2061 non-null bool\n",
      "possibly_sensitive_appealable    2061 non-null bool\n",
      "retweet_count                    2061 non-null int64\n",
      "retweeted                        2061 non-null bool\n",
      "retweeted_status                 74 non-null object\n",
      "source                           2061 non-null object\n",
      "truncated                        2061 non-null bool\n",
      "user                             2061 non-null object\n",
      "dtypes: bool(6), datetime64[ns](1), float64(7), int64(4), object(10)\n",
      "memory usage: 366.4+ KB\n"
     ]
    }
   ],
   "source": [
    "tweets.info()"
   ]
  },
  {
   "cell_type": "code",
   "execution_count": 17,
   "metadata": {},
   "outputs": [
    {
     "data": {
      "text/html": [
       "<div>\n",
       "<style scoped>\n",
       "    .dataframe tbody tr th:only-of-type {\n",
       "        vertical-align: middle;\n",
       "    }\n",
       "\n",
       "    .dataframe tbody tr th {\n",
       "        vertical-align: top;\n",
       "    }\n",
       "\n",
       "    .dataframe thead th {\n",
       "        text-align: right;\n",
       "    }\n",
       "</style>\n",
       "<table border=\"1\" class=\"dataframe\">\n",
       "  <thead>\n",
       "    <tr style=\"text-align: right;\">\n",
       "      <th></th>\n",
       "      <th>contributors</th>\n",
       "      <th>coordinates</th>\n",
       "      <th>created_at</th>\n",
       "      <th>display_text_range</th>\n",
       "      <th>entities</th>\n",
       "      <th>extended_entities</th>\n",
       "      <th>favorite_count</th>\n",
       "      <th>favorited</th>\n",
       "      <th>full_text</th>\n",
       "      <th>geo</th>\n",
       "      <th>...</th>\n",
       "      <th>lang</th>\n",
       "      <th>place</th>\n",
       "      <th>possibly_sensitive</th>\n",
       "      <th>possibly_sensitive_appealable</th>\n",
       "      <th>retweet_count</th>\n",
       "      <th>retweeted</th>\n",
       "      <th>retweeted_status</th>\n",
       "      <th>source</th>\n",
       "      <th>truncated</th>\n",
       "      <th>user</th>\n",
       "    </tr>\n",
       "  </thead>\n",
       "  <tbody>\n",
       "    <tr>\n",
       "      <th>0</th>\n",
       "      <td>NaN</td>\n",
       "      <td>NaN</td>\n",
       "      <td>2017-08-01 16:23:56</td>\n",
       "      <td>[0, 85]</td>\n",
       "      <td>{'hashtags': [], 'symbols': [], 'user_mentions...</td>\n",
       "      <td>{'media': [{'id': 892420639486877696, 'id_str'...</td>\n",
       "      <td>36940</td>\n",
       "      <td>False</td>\n",
       "      <td>This is Phineas. He's a mystical boy. Only eve...</td>\n",
       "      <td>NaN</td>\n",
       "      <td>...</td>\n",
       "      <td>en</td>\n",
       "      <td>None</td>\n",
       "      <td>False</td>\n",
       "      <td>False</td>\n",
       "      <td>7873</td>\n",
       "      <td>False</td>\n",
       "      <td>NaN</td>\n",
       "      <td>&lt;a href=\"http://twitter.com/download/iphone\" r...</td>\n",
       "      <td>False</td>\n",
       "      <td>{'id': 4196983835, 'id_str': '4196983835', 'na...</td>\n",
       "    </tr>\n",
       "    <tr>\n",
       "      <th>1</th>\n",
       "      <td>NaN</td>\n",
       "      <td>NaN</td>\n",
       "      <td>2017-08-01 00:17:27</td>\n",
       "      <td>[0, 138]</td>\n",
       "      <td>{'hashtags': [], 'symbols': [], 'user_mentions...</td>\n",
       "      <td>{'media': [{'id': 892177413194625024, 'id_str'...</td>\n",
       "      <td>31781</td>\n",
       "      <td>False</td>\n",
       "      <td>This is Tilly. She's just checking pup on you....</td>\n",
       "      <td>NaN</td>\n",
       "      <td>...</td>\n",
       "      <td>en</td>\n",
       "      <td>None</td>\n",
       "      <td>False</td>\n",
       "      <td>False</td>\n",
       "      <td>5844</td>\n",
       "      <td>False</td>\n",
       "      <td>NaN</td>\n",
       "      <td>&lt;a href=\"http://twitter.com/download/iphone\" r...</td>\n",
       "      <td>False</td>\n",
       "      <td>{'id': 4196983835, 'id_str': '4196983835', 'na...</td>\n",
       "    </tr>\n",
       "    <tr>\n",
       "      <th>2</th>\n",
       "      <td>NaN</td>\n",
       "      <td>NaN</td>\n",
       "      <td>2017-07-31 00:18:03</td>\n",
       "      <td>[0, 121]</td>\n",
       "      <td>{'hashtags': [], 'symbols': [], 'user_mentions...</td>\n",
       "      <td>{'media': [{'id': 891815175371796480, 'id_str'...</td>\n",
       "      <td>23952</td>\n",
       "      <td>False</td>\n",
       "      <td>This is Archie. He is a rare Norwegian Pouncin...</td>\n",
       "      <td>NaN</td>\n",
       "      <td>...</td>\n",
       "      <td>en</td>\n",
       "      <td>None</td>\n",
       "      <td>False</td>\n",
       "      <td>False</td>\n",
       "      <td>3859</td>\n",
       "      <td>False</td>\n",
       "      <td>NaN</td>\n",
       "      <td>&lt;a href=\"http://twitter.com/download/iphone\" r...</td>\n",
       "      <td>False</td>\n",
       "      <td>{'id': 4196983835, 'id_str': '4196983835', 'na...</td>\n",
       "    </tr>\n",
       "    <tr>\n",
       "      <th>3</th>\n",
       "      <td>NaN</td>\n",
       "      <td>NaN</td>\n",
       "      <td>2017-07-30 15:58:51</td>\n",
       "      <td>[0, 79]</td>\n",
       "      <td>{'hashtags': [], 'symbols': [], 'user_mentions...</td>\n",
       "      <td>{'media': [{'id': 891689552724799489, 'id_str'...</td>\n",
       "      <td>40263</td>\n",
       "      <td>False</td>\n",
       "      <td>This is Darla. She commenced a snooze mid meal...</td>\n",
       "      <td>NaN</td>\n",
       "      <td>...</td>\n",
       "      <td>en</td>\n",
       "      <td>None</td>\n",
       "      <td>False</td>\n",
       "      <td>False</td>\n",
       "      <td>8042</td>\n",
       "      <td>False</td>\n",
       "      <td>NaN</td>\n",
       "      <td>&lt;a href=\"http://twitter.com/download/iphone\" r...</td>\n",
       "      <td>False</td>\n",
       "      <td>{'id': 4196983835, 'id_str': '4196983835', 'na...</td>\n",
       "    </tr>\n",
       "    <tr>\n",
       "      <th>4</th>\n",
       "      <td>NaN</td>\n",
       "      <td>NaN</td>\n",
       "      <td>2017-07-29 16:00:24</td>\n",
       "      <td>[0, 138]</td>\n",
       "      <td>{'hashtags': [{'text': 'BarkWeek', 'indices': ...</td>\n",
       "      <td>{'media': [{'id': 891327551943041024, 'id_str'...</td>\n",
       "      <td>38458</td>\n",
       "      <td>False</td>\n",
       "      <td>This is Franklin. He would like you to stop ca...</td>\n",
       "      <td>NaN</td>\n",
       "      <td>...</td>\n",
       "      <td>en</td>\n",
       "      <td>None</td>\n",
       "      <td>False</td>\n",
       "      <td>False</td>\n",
       "      <td>8701</td>\n",
       "      <td>False</td>\n",
       "      <td>NaN</td>\n",
       "      <td>&lt;a href=\"http://twitter.com/download/iphone\" r...</td>\n",
       "      <td>False</td>\n",
       "      <td>{'id': 4196983835, 'id_str': '4196983835', 'na...</td>\n",
       "    </tr>\n",
       "  </tbody>\n",
       "</table>\n",
       "<p>5 rows × 28 columns</p>\n",
       "</div>"
      ],
      "text/plain": [
       "   contributors  coordinates          created_at display_text_range  \\\n",
       "0           NaN          NaN 2017-08-01 16:23:56            [0, 85]   \n",
       "1           NaN          NaN 2017-08-01 00:17:27           [0, 138]   \n",
       "2           NaN          NaN 2017-07-31 00:18:03           [0, 121]   \n",
       "3           NaN          NaN 2017-07-30 15:58:51            [0, 79]   \n",
       "4           NaN          NaN 2017-07-29 16:00:24           [0, 138]   \n",
       "\n",
       "                                            entities  \\\n",
       "0  {'hashtags': [], 'symbols': [], 'user_mentions...   \n",
       "1  {'hashtags': [], 'symbols': [], 'user_mentions...   \n",
       "2  {'hashtags': [], 'symbols': [], 'user_mentions...   \n",
       "3  {'hashtags': [], 'symbols': [], 'user_mentions...   \n",
       "4  {'hashtags': [{'text': 'BarkWeek', 'indices': ...   \n",
       "\n",
       "                                   extended_entities  favorite_count  \\\n",
       "0  {'media': [{'id': 892420639486877696, 'id_str'...           36940   \n",
       "1  {'media': [{'id': 892177413194625024, 'id_str'...           31781   \n",
       "2  {'media': [{'id': 891815175371796480, 'id_str'...           23952   \n",
       "3  {'media': [{'id': 891689552724799489, 'id_str'...           40263   \n",
       "4  {'media': [{'id': 891327551943041024, 'id_str'...           38458   \n",
       "\n",
       "   favorited                                          full_text  geo  ...  \\\n",
       "0      False  This is Phineas. He's a mystical boy. Only eve...  NaN  ...   \n",
       "1      False  This is Tilly. She's just checking pup on you....  NaN  ...   \n",
       "2      False  This is Archie. He is a rare Norwegian Pouncin...  NaN  ...   \n",
       "3      False  This is Darla. She commenced a snooze mid meal...  NaN  ...   \n",
       "4      False  This is Franklin. He would like you to stop ca...  NaN  ...   \n",
       "\n",
       "   lang  place possibly_sensitive  possibly_sensitive_appealable  \\\n",
       "0    en   None              False                          False   \n",
       "1    en   None              False                          False   \n",
       "2    en   None              False                          False   \n",
       "3    en   None              False                          False   \n",
       "4    en   None              False                          False   \n",
       "\n",
       "   retweet_count  retweeted  retweeted_status  \\\n",
       "0           7873      False               NaN   \n",
       "1           5844      False               NaN   \n",
       "2           3859      False               NaN   \n",
       "3           8042      False               NaN   \n",
       "4           8701      False               NaN   \n",
       "\n",
       "                                              source truncated  \\\n",
       "0  <a href=\"http://twitter.com/download/iphone\" r...     False   \n",
       "1  <a href=\"http://twitter.com/download/iphone\" r...     False   \n",
       "2  <a href=\"http://twitter.com/download/iphone\" r...     False   \n",
       "3  <a href=\"http://twitter.com/download/iphone\" r...     False   \n",
       "4  <a href=\"http://twitter.com/download/iphone\" r...     False   \n",
       "\n",
       "                                                user  \n",
       "0  {'id': 4196983835, 'id_str': '4196983835', 'na...  \n",
       "1  {'id': 4196983835, 'id_str': '4196983835', 'na...  \n",
       "2  {'id': 4196983835, 'id_str': '4196983835', 'na...  \n",
       "3  {'id': 4196983835, 'id_str': '4196983835', 'na...  \n",
       "4  {'id': 4196983835, 'id_str': '4196983835', 'na...  \n",
       "\n",
       "[5 rows x 28 columns]"
      ]
     },
     "execution_count": 17,
     "metadata": {},
     "output_type": "execute_result"
    }
   ],
   "source": [
    "tweets.head()"
   ]
  },
  {
   "cell_type": "markdown",
   "metadata": {},
   "source": [
    "### Merge tweets with two previous datasets"
   ]
  },
  {
   "cell_type": "code",
   "execution_count": 18,
   "metadata": {},
   "outputs": [
    {
     "name": "stdout",
     "output_type": "stream",
     "text": [
      "<class 'pandas.core.frame.DataFrame'>\n",
      "RangeIndex: 2061 entries, 0 to 2060\n",
      "Data columns (total 28 columns):\n",
      "contributors                     0 non-null float64\n",
      "coordinates                      0 non-null float64\n",
      "created_at                       2061 non-null datetime64[ns]\n",
      "display_text_range               2061 non-null object\n",
      "entities                         2061 non-null object\n",
      "extended_entities                2061 non-null object\n",
      "favorite_count                   2061 non-null int64\n",
      "favorited                        2061 non-null bool\n",
      "full_text                        2061 non-null object\n",
      "geo                              0 non-null float64\n",
      "id                               2061 non-null int64\n",
      "id_str                           2061 non-null int64\n",
      "in_reply_to_screen_name          23 non-null object\n",
      "in_reply_to_status_id            23 non-null float64\n",
      "in_reply_to_status_id_str        23 non-null float64\n",
      "in_reply_to_user_id              23 non-null float64\n",
      "in_reply_to_user_id_str          23 non-null float64\n",
      "is_quote_status                  2061 non-null bool\n",
      "lang                             2061 non-null object\n",
      "place                            1 non-null object\n",
      "possibly_sensitive               2061 non-null bool\n",
      "possibly_sensitive_appealable    2061 non-null bool\n",
      "retweet_count                    2061 non-null int64\n",
      "retweeted                        2061 non-null bool\n",
      "retweeted_status                 74 non-null object\n",
      "source                           2061 non-null object\n",
      "truncated                        2061 non-null bool\n",
      "user                             2061 non-null object\n",
      "dtypes: bool(6), datetime64[ns](1), float64(7), int64(4), object(10)\n",
      "memory usage: 366.4+ KB\n"
     ]
    }
   ],
   "source": [
    "tweets.info()"
   ]
  },
  {
   "cell_type": "markdown",
   "metadata": {},
   "source": [
    "`tweets` JSON has two representations of ID - `int` and `str`. Twitter documentation recommends using the `str` representation as \"some programming languages may have difficulty / silent defects in interpreting [`int` id]\".\n",
    "\n",
    "\n",
    "Let's see whether there is any difference between the records."
   ]
  },
  {
   "cell_type": "code",
   "execution_count": 19,
   "metadata": {
    "scrolled": true
   },
   "outputs": [
    {
     "data": {
      "text/plain": [
       "718"
      ]
     },
     "execution_count": 19,
     "metadata": {},
     "output_type": "execute_result"
    }
   ],
   "source": [
    "# how many tweets have mismatching `id` and `id_str` record\n",
    "len(tweets[(tweets['id'] - tweets['id_str'])!=0])"
   ]
  },
  {
   "cell_type": "markdown",
   "metadata": {},
   "source": [
    "That's quite a bit. More than 1/3 of mismatches."
   ]
  },
  {
   "cell_type": "markdown",
   "metadata": {},
   "source": [
    "After a bit of research it appeared that the `id_str` column gets corrupted at the import stage - it gets automatically converted into an `int64` and corrupted along the way. To prevent this from happening - it's important to prevent `read_json` from inferring datatypes.\n",
    "\n",
    "Pandas GitHub issue on the subject is [#20608](https://github.com/pandas-dev/pandas/issues/20608)\n",
    "\n"
   ]
  },
  {
   "cell_type": "code",
   "execution_count": 20,
   "metadata": {},
   "outputs": [],
   "source": [
    "tweets = pd.read_json ('tweets.json', dtype=False)"
   ]
  },
  {
   "cell_type": "code",
   "execution_count": 21,
   "metadata": {},
   "outputs": [
    {
     "data": {
      "text/plain": [
       "0"
      ]
     },
     "execution_count": 21,
     "metadata": {},
     "output_type": "execute_result"
    }
   ],
   "source": [
    "len(tweets[(tweets['id'] - tweets['id_str'].astype(int))!=0])"
   ]
  },
  {
   "cell_type": "code",
   "execution_count": 22,
   "metadata": {},
   "outputs": [
    {
     "name": "stdout",
     "output_type": "stream",
     "text": [
      "<class 'pandas.core.frame.DataFrame'>\n",
      "RangeIndex: 2061 entries, 0 to 2060\n",
      "Data columns (total 28 columns):\n",
      "contributors                     0 non-null object\n",
      "coordinates                      0 non-null object\n",
      "created_at                       2061 non-null datetime64[ns]\n",
      "display_text_range               2061 non-null object\n",
      "entities                         2061 non-null object\n",
      "extended_entities                2061 non-null object\n",
      "favorite_count                   2061 non-null int64\n",
      "favorited                        2061 non-null bool\n",
      "full_text                        2061 non-null object\n",
      "geo                              0 non-null object\n",
      "id                               2061 non-null int64\n",
      "id_str                           2061 non-null object\n",
      "in_reply_to_screen_name          23 non-null object\n",
      "in_reply_to_status_id            23 non-null float64\n",
      "in_reply_to_status_id_str        23 non-null object\n",
      "in_reply_to_user_id              23 non-null float64\n",
      "in_reply_to_user_id_str          23 non-null object\n",
      "is_quote_status                  2061 non-null bool\n",
      "lang                             2061 non-null object\n",
      "place                            1 non-null object\n",
      "possibly_sensitive               2061 non-null bool\n",
      "possibly_sensitive_appealable    2061 non-null bool\n",
      "retweet_count                    2061 non-null int64\n",
      "retweeted                        2061 non-null bool\n",
      "retweeted_status                 74 non-null object\n",
      "source                           2061 non-null object\n",
      "truncated                        2061 non-null bool\n",
      "user                             2061 non-null object\n",
      "dtypes: bool(6), datetime64[ns](1), float64(2), int64(3), object(16)\n",
      "memory usage: 366.4+ KB\n"
     ]
    }
   ],
   "source": [
    "tweets.info()"
   ]
  },
  {
   "cell_type": "markdown",
   "metadata": {},
   "source": [
    "Let's merge `tweets` dataframe with the other two."
   ]
  },
  {
   "cell_type": "code",
   "execution_count": 23,
   "metadata": {},
   "outputs": [],
   "source": [
    "tweets['tweet_id'] = tweets['id']\n",
    "we_rate_dogs = pd.merge(merged_df,tweets, how='inner')"
   ]
  },
  {
   "cell_type": "markdown",
   "metadata": {},
   "source": [
    "Now let's see how much was merged"
   ]
  },
  {
   "cell_type": "code",
   "execution_count": 24,
   "metadata": {},
   "outputs": [
    {
     "data": {
      "text/plain": [
       "0"
      ]
     },
     "execution_count": 24,
     "metadata": {},
     "output_type": "execute_result"
    }
   ],
   "source": [
    "len(we_rate_dogs) - len(tweets)"
   ]
  },
  {
   "cell_type": "markdown",
   "metadata": {},
   "source": [
    "The two are the same length which means that all records were merged. Good."
   ]
  },
  {
   "cell_type": "markdown",
   "metadata": {},
   "source": [
    "---\n",
    "# Assess data\n",
    "---"
   ]
  },
  {
   "cell_type": "markdown",
   "metadata": {},
   "source": [
    "Let's take a quick overview of the complete merged dataset that we've created."
   ]
  },
  {
   "cell_type": "code",
   "execution_count": 25,
   "metadata": {
    "scrolled": true
   },
   "outputs": [
    {
     "data": {
      "text/html": [
       "<div>\n",
       "<style scoped>\n",
       "    .dataframe tbody tr th:only-of-type {\n",
       "        vertical-align: middle;\n",
       "    }\n",
       "\n",
       "    .dataframe tbody tr th {\n",
       "        vertical-align: top;\n",
       "    }\n",
       "\n",
       "    .dataframe thead th {\n",
       "        text-align: right;\n",
       "    }\n",
       "</style>\n",
       "<table border=\"1\" class=\"dataframe\">\n",
       "  <thead>\n",
       "    <tr style=\"text-align: right;\">\n",
       "      <th></th>\n",
       "      <th>tweet_id</th>\n",
       "      <th>in_reply_to_status_id</th>\n",
       "      <th>in_reply_to_user_id</th>\n",
       "      <th>timestamp</th>\n",
       "      <th>source</th>\n",
       "      <th>text</th>\n",
       "      <th>retweeted_status_id</th>\n",
       "      <th>retweeted_status_user_id</th>\n",
       "      <th>retweeted_status_timestamp</th>\n",
       "      <th>expanded_urls</th>\n",
       "      <th>...</th>\n",
       "      <th>is_quote_status</th>\n",
       "      <th>lang</th>\n",
       "      <th>place</th>\n",
       "      <th>possibly_sensitive</th>\n",
       "      <th>possibly_sensitive_appealable</th>\n",
       "      <th>retweet_count</th>\n",
       "      <th>retweeted</th>\n",
       "      <th>retweeted_status</th>\n",
       "      <th>truncated</th>\n",
       "      <th>user</th>\n",
       "    </tr>\n",
       "  </thead>\n",
       "  <tbody>\n",
       "    <tr>\n",
       "      <th>0</th>\n",
       "      <td>892420643555336193</td>\n",
       "      <td>NaN</td>\n",
       "      <td>NaN</td>\n",
       "      <td>2017-08-01 16:23:56 +0000</td>\n",
       "      <td>&lt;a href=\"http://twitter.com/download/iphone\" r...</td>\n",
       "      <td>This is Phineas. He's a mystical boy. Only eve...</td>\n",
       "      <td>NaN</td>\n",
       "      <td>NaN</td>\n",
       "      <td>NaN</td>\n",
       "      <td>https://twitter.com/dog_rates/status/892420643...</td>\n",
       "      <td>...</td>\n",
       "      <td>False</td>\n",
       "      <td>en</td>\n",
       "      <td>None</td>\n",
       "      <td>False</td>\n",
       "      <td>False</td>\n",
       "      <td>7873</td>\n",
       "      <td>False</td>\n",
       "      <td>NaN</td>\n",
       "      <td>False</td>\n",
       "      <td>{'id': 4196983835, 'id_str': '4196983835', 'na...</td>\n",
       "    </tr>\n",
       "    <tr>\n",
       "      <th>1</th>\n",
       "      <td>892177421306343426</td>\n",
       "      <td>NaN</td>\n",
       "      <td>NaN</td>\n",
       "      <td>2017-08-01 00:17:27 +0000</td>\n",
       "      <td>&lt;a href=\"http://twitter.com/download/iphone\" r...</td>\n",
       "      <td>This is Tilly. She's just checking pup on you....</td>\n",
       "      <td>NaN</td>\n",
       "      <td>NaN</td>\n",
       "      <td>NaN</td>\n",
       "      <td>https://twitter.com/dog_rates/status/892177421...</td>\n",
       "      <td>...</td>\n",
       "      <td>False</td>\n",
       "      <td>en</td>\n",
       "      <td>None</td>\n",
       "      <td>False</td>\n",
       "      <td>False</td>\n",
       "      <td>5844</td>\n",
       "      <td>False</td>\n",
       "      <td>NaN</td>\n",
       "      <td>False</td>\n",
       "      <td>{'id': 4196983835, 'id_str': '4196983835', 'na...</td>\n",
       "    </tr>\n",
       "    <tr>\n",
       "      <th>2</th>\n",
       "      <td>891815181378084864</td>\n",
       "      <td>NaN</td>\n",
       "      <td>NaN</td>\n",
       "      <td>2017-07-31 00:18:03 +0000</td>\n",
       "      <td>&lt;a href=\"http://twitter.com/download/iphone\" r...</td>\n",
       "      <td>This is Archie. He is a rare Norwegian Pouncin...</td>\n",
       "      <td>NaN</td>\n",
       "      <td>NaN</td>\n",
       "      <td>NaN</td>\n",
       "      <td>https://twitter.com/dog_rates/status/891815181...</td>\n",
       "      <td>...</td>\n",
       "      <td>False</td>\n",
       "      <td>en</td>\n",
       "      <td>None</td>\n",
       "      <td>False</td>\n",
       "      <td>False</td>\n",
       "      <td>3859</td>\n",
       "      <td>False</td>\n",
       "      <td>NaN</td>\n",
       "      <td>False</td>\n",
       "      <td>{'id': 4196983835, 'id_str': '4196983835', 'na...</td>\n",
       "    </tr>\n",
       "    <tr>\n",
       "      <th>3</th>\n",
       "      <td>891689557279858688</td>\n",
       "      <td>NaN</td>\n",
       "      <td>NaN</td>\n",
       "      <td>2017-07-30 15:58:51 +0000</td>\n",
       "      <td>&lt;a href=\"http://twitter.com/download/iphone\" r...</td>\n",
       "      <td>This is Darla. She commenced a snooze mid meal...</td>\n",
       "      <td>NaN</td>\n",
       "      <td>NaN</td>\n",
       "      <td>NaN</td>\n",
       "      <td>https://twitter.com/dog_rates/status/891689557...</td>\n",
       "      <td>...</td>\n",
       "      <td>False</td>\n",
       "      <td>en</td>\n",
       "      <td>None</td>\n",
       "      <td>False</td>\n",
       "      <td>False</td>\n",
       "      <td>8042</td>\n",
       "      <td>False</td>\n",
       "      <td>NaN</td>\n",
       "      <td>False</td>\n",
       "      <td>{'id': 4196983835, 'id_str': '4196983835', 'na...</td>\n",
       "    </tr>\n",
       "    <tr>\n",
       "      <th>4</th>\n",
       "      <td>891327558926688256</td>\n",
       "      <td>NaN</td>\n",
       "      <td>NaN</td>\n",
       "      <td>2017-07-29 16:00:24 +0000</td>\n",
       "      <td>&lt;a href=\"http://twitter.com/download/iphone\" r...</td>\n",
       "      <td>This is Franklin. He would like you to stop ca...</td>\n",
       "      <td>NaN</td>\n",
       "      <td>NaN</td>\n",
       "      <td>NaN</td>\n",
       "      <td>https://twitter.com/dog_rates/status/891327558...</td>\n",
       "      <td>...</td>\n",
       "      <td>False</td>\n",
       "      <td>en</td>\n",
       "      <td>None</td>\n",
       "      <td>False</td>\n",
       "      <td>False</td>\n",
       "      <td>8701</td>\n",
       "      <td>False</td>\n",
       "      <td>NaN</td>\n",
       "      <td>False</td>\n",
       "      <td>{'id': 4196983835, 'id_str': '4196983835', 'na...</td>\n",
       "    </tr>\n",
       "  </tbody>\n",
       "</table>\n",
       "<p>5 rows × 53 columns</p>\n",
       "</div>"
      ],
      "text/plain": [
       "             tweet_id  in_reply_to_status_id  in_reply_to_user_id  \\\n",
       "0  892420643555336193                    NaN                  NaN   \n",
       "1  892177421306343426                    NaN                  NaN   \n",
       "2  891815181378084864                    NaN                  NaN   \n",
       "3  891689557279858688                    NaN                  NaN   \n",
       "4  891327558926688256                    NaN                  NaN   \n",
       "\n",
       "                   timestamp  \\\n",
       "0  2017-08-01 16:23:56 +0000   \n",
       "1  2017-08-01 00:17:27 +0000   \n",
       "2  2017-07-31 00:18:03 +0000   \n",
       "3  2017-07-30 15:58:51 +0000   \n",
       "4  2017-07-29 16:00:24 +0000   \n",
       "\n",
       "                                              source  \\\n",
       "0  <a href=\"http://twitter.com/download/iphone\" r...   \n",
       "1  <a href=\"http://twitter.com/download/iphone\" r...   \n",
       "2  <a href=\"http://twitter.com/download/iphone\" r...   \n",
       "3  <a href=\"http://twitter.com/download/iphone\" r...   \n",
       "4  <a href=\"http://twitter.com/download/iphone\" r...   \n",
       "\n",
       "                                                text  retweeted_status_id  \\\n",
       "0  This is Phineas. He's a mystical boy. Only eve...                  NaN   \n",
       "1  This is Tilly. She's just checking pup on you....                  NaN   \n",
       "2  This is Archie. He is a rare Norwegian Pouncin...                  NaN   \n",
       "3  This is Darla. She commenced a snooze mid meal...                  NaN   \n",
       "4  This is Franklin. He would like you to stop ca...                  NaN   \n",
       "\n",
       "   retweeted_status_user_id retweeted_status_timestamp  \\\n",
       "0                       NaN                        NaN   \n",
       "1                       NaN                        NaN   \n",
       "2                       NaN                        NaN   \n",
       "3                       NaN                        NaN   \n",
       "4                       NaN                        NaN   \n",
       "\n",
       "                                       expanded_urls  ...  is_quote_status  \\\n",
       "0  https://twitter.com/dog_rates/status/892420643...  ...            False   \n",
       "1  https://twitter.com/dog_rates/status/892177421...  ...            False   \n",
       "2  https://twitter.com/dog_rates/status/891815181...  ...            False   \n",
       "3  https://twitter.com/dog_rates/status/891689557...  ...            False   \n",
       "4  https://twitter.com/dog_rates/status/891327558...  ...            False   \n",
       "\n",
       "   lang place possibly_sensitive possibly_sensitive_appealable retweet_count  \\\n",
       "0    en  None              False                         False          7873   \n",
       "1    en  None              False                         False          5844   \n",
       "2    en  None              False                         False          3859   \n",
       "3    en  None              False                         False          8042   \n",
       "4    en  None              False                         False          8701   \n",
       "\n",
       "  retweeted retweeted_status  truncated  \\\n",
       "0     False              NaN      False   \n",
       "1     False              NaN      False   \n",
       "2     False              NaN      False   \n",
       "3     False              NaN      False   \n",
       "4     False              NaN      False   \n",
       "\n",
       "                                                user  \n",
       "0  {'id': 4196983835, 'id_str': '4196983835', 'na...  \n",
       "1  {'id': 4196983835, 'id_str': '4196983835', 'na...  \n",
       "2  {'id': 4196983835, 'id_str': '4196983835', 'na...  \n",
       "3  {'id': 4196983835, 'id_str': '4196983835', 'na...  \n",
       "4  {'id': 4196983835, 'id_str': '4196983835', 'na...  \n",
       "\n",
       "[5 rows x 53 columns]"
      ]
     },
     "execution_count": 25,
     "metadata": {},
     "output_type": "execute_result"
    }
   ],
   "source": [
    "we_rate_dogs.head()"
   ]
  },
  {
   "cell_type": "code",
   "execution_count": 26,
   "metadata": {
    "scrolled": true
   },
   "outputs": [
    {
     "name": "stdout",
     "output_type": "stream",
     "text": [
      "<class 'pandas.core.frame.DataFrame'>\n",
      "Int64Index: 2061 entries, 0 to 2060\n",
      "Data columns (total 53 columns):\n",
      "tweet_id                         2061 non-null int64\n",
      "in_reply_to_status_id            23 non-null float64\n",
      "in_reply_to_user_id              23 non-null float64\n",
      "timestamp                        2061 non-null object\n",
      "source                           2061 non-null object\n",
      "text                             2061 non-null object\n",
      "retweeted_status_id              74 non-null float64\n",
      "retweeted_status_user_id         74 non-null float64\n",
      "retweeted_status_timestamp       74 non-null object\n",
      "expanded_urls                    2061 non-null object\n",
      "rating_numerator                 2061 non-null int64\n",
      "rating_denominator               2061 non-null int64\n",
      "name                             2061 non-null object\n",
      "doggo                            2061 non-null object\n",
      "floofer                          2061 non-null object\n",
      "pupper                           2061 non-null object\n",
      "puppo                            2061 non-null object\n",
      "jpg_url                          2061 non-null object\n",
      "img_num                          2061 non-null int64\n",
      "p1                               2061 non-null object\n",
      "p1_conf                          2061 non-null float64\n",
      "p1_dog                           2061 non-null bool\n",
      "p2                               2061 non-null object\n",
      "p2_conf                          2061 non-null float64\n",
      "p2_dog                           2061 non-null bool\n",
      "p3                               2061 non-null object\n",
      "p3_conf                          2061 non-null float64\n",
      "p3_dog                           2061 non-null bool\n",
      "contributors                     0 non-null object\n",
      "coordinates                      0 non-null object\n",
      "created_at                       2061 non-null datetime64[ns]\n",
      "display_text_range               2061 non-null object\n",
      "entities                         2061 non-null object\n",
      "extended_entities                2061 non-null object\n",
      "favorite_count                   2061 non-null int64\n",
      "favorited                        2061 non-null bool\n",
      "full_text                        2061 non-null object\n",
      "geo                              0 non-null object\n",
      "id                               2061 non-null int64\n",
      "id_str                           2061 non-null object\n",
      "in_reply_to_screen_name          23 non-null object\n",
      "in_reply_to_status_id_str        23 non-null object\n",
      "in_reply_to_user_id_str          23 non-null object\n",
      "is_quote_status                  2061 non-null bool\n",
      "lang                             2061 non-null object\n",
      "place                            1 non-null object\n",
      "possibly_sensitive               2061 non-null bool\n",
      "possibly_sensitive_appealable    2061 non-null bool\n",
      "retweet_count                    2061 non-null int64\n",
      "retweeted                        2061 non-null bool\n",
      "retweeted_status                 74 non-null object\n",
      "truncated                        2061 non-null bool\n",
      "user                             2061 non-null object\n",
      "dtypes: bool(9), datetime64[ns](1), float64(7), int64(7), object(29)\n",
      "memory usage: 742.7+ KB\n"
     ]
    }
   ],
   "source": [
    "we_rate_dogs.info()"
   ]
  },
  {
   "cell_type": "markdown",
   "metadata": {},
   "source": [
    "How many columns of data do we have after merging all datasets."
   ]
  },
  {
   "cell_type": "code",
   "execution_count": 27,
   "metadata": {},
   "outputs": [
    {
     "name": "stdout",
     "output_type": "stream",
     "text": [
      "53\n"
     ]
    }
   ],
   "source": [
    "print (len(we_rate_dogs.columns))"
   ]
  },
  {
   "cell_type": "markdown",
   "metadata": {},
   "source": [
    "## Duplicate, zero and redundant data\n",
    "First let's assess whether there are any columns that contain duplicate data, no data whatsoever or that are irrelevant for the purposes of our analysis. Let's make empty lists which we will populate over the course of our assessment and drop remove them from the dataframe."
   ]
  },
  {
   "cell_type": "markdown",
   "metadata": {},
   "source": [
    "### Duplicate columns\n",
    "Some of the data is duplicated across columns"
   ]
  },
  {
   "cell_type": "code",
   "execution_count": 28,
   "metadata": {},
   "outputs": [],
   "source": [
    "# make an empty list to hold column names with duplicate data\n",
    "duplicate_columns = []"
   ]
  },
  {
   "cell_type": "markdown",
   "metadata": {},
   "source": [
    "Tweet data structure duplicates certain columns in `int64` and `str` representations to prevent  being corrupted. Let's check our records are intact and get rid of the columns we don't need.\n",
    "\n",
    "These are `id`, `in_reply_to_user_id` and `in_reply_to_status_id`"
   ]
  },
  {
   "cell_type": "code",
   "execution_count": 29,
   "metadata": {
    "scrolled": true
   },
   "outputs": [
    {
     "name": "stdout",
     "output_type": "stream",
     "text": [
      "0\n"
     ]
    }
   ],
   "source": [
    "# store the in_reply_to_status_id_str and in_reply_to_status_id columns in Series\n",
    "ID_str = we_rate_dogs[we_rate_dogs.id_str.notna()].id_str.astype(int)\n",
    "ID = we_rate_dogs[we_rate_dogs.id.notna()].id\n",
    "# subtracting them from each other and summing the output - would flag whether there're any differences between the two series\n",
    "print (sum (ID_str - ID))"
   ]
  },
  {
   "cell_type": "markdown",
   "metadata": {},
   "source": [
    "columns are identical, so we're free to remove one of them."
   ]
  },
  {
   "cell_type": "code",
   "execution_count": 30,
   "metadata": {},
   "outputs": [],
   "source": [
    "duplicate_columns.append('id_str')"
   ]
  },
  {
   "cell_type": "code",
   "execution_count": 31,
   "metadata": {
    "scrolled": true
   },
   "outputs": [
    {
     "name": "stdout",
     "output_type": "stream",
     "text": [
      "0.0\n"
     ]
    }
   ],
   "source": [
    "# let's store the in_reply_to_status_id_str and in_reply_to_status_id columns in Series\n",
    "IRTSID_str = we_rate_dogs[we_rate_dogs.in_reply_to_status_id_str.notna()].in_reply_to_status_id_str.astype(int)\n",
    "IRTSID = we_rate_dogs[we_rate_dogs.in_reply_to_status_id.notna()].in_reply_to_status_id\n",
    "# subtracting them from each other and summing the output - would flag whether there're any differences between the two series\n",
    "print (sum (IRTSID_str - IRTSID))"
   ]
  },
  {
   "cell_type": "markdown",
   "metadata": {},
   "source": [
    "columns are identical, so we're free to remove one of them."
   ]
  },
  {
   "cell_type": "code",
   "execution_count": 32,
   "metadata": {},
   "outputs": [],
   "source": [
    "duplicate_columns.append('in_reply_to_status_id_str')"
   ]
  },
  {
   "cell_type": "code",
   "execution_count": 33,
   "metadata": {},
   "outputs": [
    {
     "name": "stdout",
     "output_type": "stream",
     "text": [
      "0.0\n"
     ]
    }
   ],
   "source": [
    "# let's store the in_reply_to_user_id_str and in_reply_to_user_id columns in Series\n",
    "IRTUID_str = we_rate_dogs[we_rate_dogs.in_reply_to_user_id_str.notna()].in_reply_to_user_id_str.astype(int)\n",
    "IRTUID = we_rate_dogs[we_rate_dogs.in_reply_to_user_id.notna()].in_reply_to_user_id\n",
    "# subtracting them from each other and summing the output - would flag whether there're any differences between the two series\n",
    "print (sum (IRTUID_str - IRTUID))"
   ]
  },
  {
   "cell_type": "markdown",
   "metadata": {},
   "source": [
    "columns are identical, so we're free to remove one of them."
   ]
  },
  {
   "cell_type": "code",
   "execution_count": 34,
   "metadata": {},
   "outputs": [],
   "source": [
    "duplicate_columns.append('in_reply_to_user_id_str')"
   ]
  },
  {
   "cell_type": "markdown",
   "metadata": {},
   "source": [
    "`timestamp` and `created_at` columns probably contain identical set of records. Let's subtract two columns from each other and see how many unique differences are there."
   ]
  },
  {
   "cell_type": "code",
   "execution_count": 35,
   "metadata": {},
   "outputs": [
    {
     "data": {
      "text/plain": [
       "array([0], dtype='timedelta64[ns]')"
      ]
     },
     "execution_count": 35,
     "metadata": {},
     "output_type": "execute_result"
    }
   ],
   "source": [
    "# we have to remove timezone data to perform arithmetic on timestamps\n",
    "column_created = we_rate_dogs.created_at.dt.tz_localize(None)\n",
    "column_timestamp = we_rate_dogs.timestamp.apply(lambda x: pd.Timestamp(x)).dt.tz_localize(None)\n",
    "\n",
    "(column_created - column_timestamp).unique()"
   ]
  },
  {
   "cell_type": "markdown",
   "metadata": {},
   "source": [
    "There's only one unique value and that value is `0`. We can conclude that both columns contain indentical sets of data. Therefore let's add one of them to the `duplicate_columns` list for future removal. As `created_at` is the original field from tweet json and is represented in correct data type - let's keep it and remove the `timestamp` column."
   ]
  },
  {
   "cell_type": "markdown",
   "metadata": {},
   "source": [
    "columns are identical, so we're free to remove one of them."
   ]
  },
  {
   "cell_type": "code",
   "execution_count": 36,
   "metadata": {},
   "outputs": [],
   "source": [
    "duplicate_columns.append('timestamp')"
   ]
  },
  {
   "cell_type": "code",
   "execution_count": 37,
   "metadata": {
    "scrolled": true
   },
   "outputs": [
    {
     "name": "stdout",
     "output_type": "stream",
     "text": [
      "duplicate_columns:  ['id_str', 'in_reply_to_status_id_str', 'in_reply_to_user_id_str', 'timestamp']\n"
     ]
    }
   ],
   "source": [
    "print ('duplicate_columns: ', duplicate_columns)"
   ]
  },
  {
   "cell_type": "markdown",
   "metadata": {},
   "source": [
    "Two other columns look suspiciously similarly named: `tweet_id` and `id`. Let's check if they're any different from each other."
   ]
  },
  {
   "cell_type": "code",
   "execution_count": 38,
   "metadata": {
    "scrolled": true
   },
   "outputs": [
    {
     "data": {
      "text/plain": [
       "0"
      ]
     },
     "execution_count": 38,
     "metadata": {},
     "output_type": "execute_result"
    }
   ],
   "source": [
    "sum (we_rate_dogs.tweet_id - we_rate_dogs.id)"
   ]
  },
  {
   "cell_type": "markdown",
   "metadata": {},
   "source": [
    "columns are identical, so we're free to remove one of them."
   ]
  },
  {
   "cell_type": "code",
   "execution_count": 39,
   "metadata": {},
   "outputs": [],
   "source": [
    "duplicate_columns.append('tweet_id')"
   ]
  },
  {
   "cell_type": "markdown",
   "metadata": {},
   "source": [
    "Columns to be removed are:"
   ]
  },
  {
   "cell_type": "code",
   "execution_count": 40,
   "metadata": {},
   "outputs": [
    {
     "data": {
      "text/plain": [
       "['id_str',\n",
       " 'in_reply_to_status_id_str',\n",
       " 'in_reply_to_user_id_str',\n",
       " 'timestamp',\n",
       " 'tweet_id']"
      ]
     },
     "execution_count": 40,
     "metadata": {},
     "output_type": "execute_result"
    }
   ],
   "source": [
    "duplicate_columns"
   ]
  },
  {
   "cell_type": "markdown",
   "metadata": {},
   "source": [
    "### Zero columns"
   ]
  },
  {
   "cell_type": "code",
   "execution_count": 41,
   "metadata": {},
   "outputs": [],
   "source": [
    "# let's make an empty list to hold column names with no data in them\n",
    "zero_columns = []"
   ]
  },
  {
   "cell_type": "markdown",
   "metadata": {},
   "source": [
    "Summing data in columns highlights some of the empty variables."
   ]
  },
  {
   "cell_type": "code",
   "execution_count": 42,
   "metadata": {},
   "outputs": [],
   "source": [
    "zeros = we_rate_dogs.sum(axis=0) == 0"
   ]
  },
  {
   "cell_type": "code",
   "execution_count": 43,
   "metadata": {},
   "outputs": [
    {
     "data": {
      "text/plain": [
       "Index(['contributors', 'coordinates', 'favorited', 'geo', 'is_quote_status',\n",
       "       'possibly_sensitive', 'possibly_sensitive_appealable', 'retweeted',\n",
       "       'truncated'],\n",
       "      dtype='object')"
      ]
     },
     "execution_count": 43,
     "metadata": {},
     "output_type": "execute_result"
    }
   ],
   "source": [
    "zeros.index[zeros]"
   ]
  },
  {
   "cell_type": "code",
   "execution_count": 44,
   "metadata": {},
   "outputs": [],
   "source": [
    "# make list of all zero-value columns\n",
    "zero_columns.extend(we_rate_dogs[zeros.index[zeros]].columns)"
   ]
  },
  {
   "cell_type": "markdown",
   "metadata": {},
   "source": [
    "### Redundant columns\n",
    "some of the data in this set is not relevant to our future analysis. let's put it aside."
   ]
  },
  {
   "cell_type": "code",
   "execution_count": 45,
   "metadata": {},
   "outputs": [],
   "source": [
    "# let's make an empty list to hold column names with data not pertinent to our analysis\n",
    "redundant_columns = []"
   ]
  },
  {
   "cell_type": "markdown",
   "metadata": {},
   "source": [
    "It seems that there is only one record in the 'place' column. What is it?"
   ]
  },
  {
   "cell_type": "code",
   "execution_count": 46,
   "metadata": {},
   "outputs": [
    {
     "data": {
      "text/plain": [
       "686    {'id': '7356b662670b2c31', 'url': 'https://api...\n",
       "Name: place, dtype: object"
      ]
     },
     "execution_count": 46,
     "metadata": {},
     "output_type": "execute_result"
    }
   ],
   "source": [
    "we_rate_dogs[we_rate_dogs.place.notnull()].place"
   ]
  },
  {
   "cell_type": "markdown",
   "metadata": {},
   "source": [
    "Let's store this geographic location in a separate variable and remove the column."
   ]
  },
  {
   "cell_type": "code",
   "execution_count": 47,
   "metadata": {},
   "outputs": [],
   "source": [
    "wrd_place = we_rate_dogs.iloc[686]"
   ]
  },
  {
   "cell_type": "markdown",
   "metadata": {},
   "source": [
    "Retweets and status replies comprise only a small fraction of tweets for this account. Let's store them in separate dataframes and remove from our main analysis."
   ]
  },
  {
   "cell_type": "code",
   "execution_count": 48,
   "metadata": {},
   "outputs": [
    {
     "name": "stdout",
     "output_type": "stream",
     "text": [
      "23  :  in_reply_to_status_id\n",
      "23  :  in_reply_to_user_id\n",
      "74  :  retweeted_status_id\n",
      "74  :  retweeted_status_user_id\n",
      "74  :  retweeted_status_timestamp\n",
      "23  :  in_reply_to_screen_name\n",
      "23  :  in_reply_to_status_id_str\n",
      "23  :  in_reply_to_user_id_str\n",
      "1  :  place\n",
      "74  :  retweeted_status\n"
     ]
    }
   ],
   "source": [
    "for i in we_rate_dogs.columns:\n",
    "    c = we_rate_dogs[i].notna()\n",
    "    c = len(c.index[c])\n",
    "    if 0<c<len(we_rate_dogs):\n",
    "        redundant_columns.append(i)\n",
    "        print (c,' : ', i)"
   ]
  },
  {
   "cell_type": "code",
   "execution_count": 49,
   "metadata": {},
   "outputs": [],
   "source": [
    "replies_01 = we_rate_dogs[we_rate_dogs.in_reply_to_status_id.notna()]\n",
    "replies_02 = we_rate_dogs[we_rate_dogs.in_reply_to_user_id.notna()]\n",
    "retweets_01 = we_rate_dogs[we_rate_dogs.retweeted_status.notna()]\n",
    "retweets_02 = we_rate_dogs[we_rate_dogs.retweeted_status_id.notna()]\n",
    "retweets_03 = we_rate_dogs[we_rate_dogs.retweeted_status_user_id.notna()]\n",
    "retweets_04 = we_rate_dogs[we_rate_dogs.retweeted_status_timestamp.notna()]"
   ]
  },
  {
   "cell_type": "markdown",
   "metadata": {},
   "source": [
    "As we're only looking into tweets from a single account - the column `user` just duplicates the same information in every record. Let's store it to a separate variable and get rid of the whole column."
   ]
  },
  {
   "cell_type": "code",
   "execution_count": 50,
   "metadata": {},
   "outputs": [
    {
     "data": {
      "text/html": [
       "<div>\n",
       "<style scoped>\n",
       "    .dataframe tbody tr th:only-of-type {\n",
       "        vertical-align: middle;\n",
       "    }\n",
       "\n",
       "    .dataframe tbody tr th {\n",
       "        vertical-align: top;\n",
       "    }\n",
       "\n",
       "    .dataframe thead th {\n",
       "        text-align: right;\n",
       "    }\n",
       "</style>\n",
       "<table border=\"1\" class=\"dataframe\">\n",
       "  <thead>\n",
       "    <tr style=\"text-align: right;\">\n",
       "      <th></th>\n",
       "      <th>tweet_id</th>\n",
       "      <th>in_reply_to_status_id</th>\n",
       "      <th>in_reply_to_user_id</th>\n",
       "      <th>timestamp</th>\n",
       "      <th>source</th>\n",
       "      <th>text</th>\n",
       "      <th>retweeted_status_id</th>\n",
       "      <th>retweeted_status_user_id</th>\n",
       "      <th>retweeted_status_timestamp</th>\n",
       "      <th>expanded_urls</th>\n",
       "      <th>...</th>\n",
       "      <th>is_quote_status</th>\n",
       "      <th>lang</th>\n",
       "      <th>place</th>\n",
       "      <th>possibly_sensitive</th>\n",
       "      <th>possibly_sensitive_appealable</th>\n",
       "      <th>retweet_count</th>\n",
       "      <th>retweeted</th>\n",
       "      <th>retweeted_status</th>\n",
       "      <th>truncated</th>\n",
       "      <th>user</th>\n",
       "    </tr>\n",
       "  </thead>\n",
       "  <tbody>\n",
       "  </tbody>\n",
       "</table>\n",
       "<p>0 rows × 53 columns</p>\n",
       "</div>"
      ],
      "text/plain": [
       "Empty DataFrame\n",
       "Columns: [tweet_id, in_reply_to_status_id, in_reply_to_user_id, timestamp, source, text, retweeted_status_id, retweeted_status_user_id, retweeted_status_timestamp, expanded_urls, rating_numerator, rating_denominator, name, doggo, floofer, pupper, puppo, jpg_url, img_num, p1, p1_conf, p1_dog, p2, p2_conf, p2_dog, p3, p3_conf, p3_dog, contributors, coordinates, created_at, display_text_range, entities, extended_entities, favorite_count, favorited, full_text, geo, id, id_str, in_reply_to_screen_name, in_reply_to_status_id_str, in_reply_to_user_id_str, is_quote_status, lang, place, possibly_sensitive, possibly_sensitive_appealable, retweet_count, retweeted, retweeted_status, truncated, user]\n",
       "Index: []\n",
       "\n",
       "[0 rows x 53 columns]"
      ]
     },
     "execution_count": 50,
     "metadata": {},
     "output_type": "execute_result"
    }
   ],
   "source": [
    "we_rate_dogs[we_rate_dogs.user.apply(lambda x: x['id']) != 4196983835]"
   ]
  },
  {
   "cell_type": "code",
   "execution_count": 51,
   "metadata": {},
   "outputs": [],
   "source": [
    "wrd_user = we_rate_dogs.iloc[0].user\n",
    "redundant_columns.append('user')"
   ]
  },
  {
   "cell_type": "code",
   "execution_count": 52,
   "metadata": {},
   "outputs": [
    {
     "data": {
      "text/plain": [
       "['in_reply_to_status_id',\n",
       " 'in_reply_to_user_id',\n",
       " 'retweeted_status_id',\n",
       " 'retweeted_status_user_id',\n",
       " 'retweeted_status_timestamp',\n",
       " 'in_reply_to_screen_name',\n",
       " 'in_reply_to_status_id_str',\n",
       " 'in_reply_to_user_id_str',\n",
       " 'place',\n",
       " 'retweeted_status',\n",
       " 'user']"
      ]
     },
     "execution_count": 52,
     "metadata": {},
     "output_type": "execute_result"
    }
   ],
   "source": [
    "redundant_columns"
   ]
  },
  {
   "cell_type": "markdown",
   "metadata": {},
   "source": [
    "## Incorrect data types.\n",
    "\n",
    "Some of the columns are `object` type, whereas they can be better represented by more specific variable types. Namely: \n",
    "\n",
    "`\n",
    "doggo                            object >> bool\n",
    "floofer                          object >> bool\n",
    "pupper                           object >> bool\n",
    "puppo                            object >> bool\n",
    "lang                             object >> category\n",
    "`"
   ]
  },
  {
   "cell_type": "markdown",
   "metadata": {},
   "source": [
    "## Badly formatted data\n",
    "### `expanded_urls` column\n",
    "`expanded_urls` column contains long strings of multiple, often duplicate, URLs. They need to be parsed, duplicates removed, and stored in lists. Let's look how such an entry looks like."
   ]
  },
  {
   "cell_type": "code",
   "execution_count": 53,
   "metadata": {
    "scrolled": false
   },
   "outputs": [
    {
     "data": {
      "text/plain": [
       "'https://www.gofundme.com/meeko-needs-heart-surgery,https://twitter.com/dog_rates/status/857393404942143489/photo/1,https://twitter.com/dog_rates/status/857393404942143489/photo/1,https://twitter.com/dog_rates/status/857393404942143489/photo/1,https://twitter.com/dog_rates/status/857393404942143489/photo/1'"
      ]
     },
     "execution_count": 53,
     "metadata": {},
     "output_type": "execute_result"
    }
   ],
   "source": [
    "we_rate_dogs.expanded_urls[145]"
   ]
  },
  {
   "cell_type": "markdown",
   "metadata": {},
   "source": [
    "### `source` column\n",
    "`source` column contains messy long URLs, which, when parsed correctly can be best represented by a `category` type variable."
   ]
  },
  {
   "cell_type": "code",
   "execution_count": 54,
   "metadata": {},
   "outputs": [
    {
     "data": {
      "text/plain": [
       "'<a href=\"http://twitter.com/download/iphone\" rel=\"nofollow\">Twitter for iPhone</a>'"
      ]
     },
     "execution_count": 54,
     "metadata": {},
     "output_type": "execute_result"
    }
   ],
   "source": [
    "we_rate_dogs.source[145]"
   ]
  },
  {
   "cell_type": "markdown",
   "metadata": {},
   "source": [
    "### Hashtags\n",
    "\n",
    "Hashtags are hidden deep inside hierarchical dictionaries. As they are very valuable analysis material - they'd rather be unpacked into a separate column."
   ]
  },
  {
   "cell_type": "code",
   "execution_count": 55,
   "metadata": {},
   "outputs": [
    {
     "data": {
      "text/plain": [
       "[{'text': 'BarkWeek', 'indices': [121, 130]}]"
      ]
     },
     "execution_count": 55,
     "metadata": {},
     "output_type": "execute_result"
    }
   ],
   "source": [
    "we_rate_dogs.entities.iloc[10]['hashtags']"
   ]
  },
  {
   "cell_type": "markdown",
   "metadata": {},
   "source": [
    "---\n",
    "# Clean data\n",
    "---\n",
    "After assessing the data - it's time to clean it.\n",
    "\n",
    "Let's keep the original in place and work on the copy."
   ]
  },
  {
   "cell_type": "code",
   "execution_count": 56,
   "metadata": {},
   "outputs": [],
   "source": [
    "wrd = we_rate_dogs.copy()"
   ]
  },
  {
   "cell_type": "markdown",
   "metadata": {},
   "source": [
    "## Quality issues"
   ]
  },
  {
   "cell_type": "markdown",
   "metadata": {},
   "source": [
    "### Redundant data"
   ]
  },
  {
   "cell_type": "markdown",
   "metadata": {},
   "source": [
    "#### Define\n",
    "get rid of retweet and reply data as it's not relevant to our analysis"
   ]
  },
  {
   "cell_type": "code",
   "execution_count": 57,
   "metadata": {},
   "outputs": [
    {
     "data": {
      "text/plain": [
       "['in_reply_to_status_id',\n",
       " 'in_reply_to_user_id',\n",
       " 'retweeted_status_id',\n",
       " 'retweeted_status_user_id',\n",
       " 'retweeted_status_timestamp',\n",
       " 'in_reply_to_screen_name',\n",
       " 'in_reply_to_status_id_str',\n",
       " 'in_reply_to_user_id_str',\n",
       " 'place',\n",
       " 'retweeted_status',\n",
       " 'user']"
      ]
     },
     "execution_count": 57,
     "metadata": {},
     "output_type": "execute_result"
    }
   ],
   "source": [
    "redundant_columns"
   ]
  },
  {
   "cell_type": "markdown",
   "metadata": {},
   "source": [
    "#### Code"
   ]
  },
  {
   "cell_type": "code",
   "execution_count": 58,
   "metadata": {},
   "outputs": [],
   "source": [
    "wrd.drop(columns=redundant_columns, axis=1, inplace=True)"
   ]
  },
  {
   "cell_type": "markdown",
   "metadata": {},
   "source": [
    "#### Test"
   ]
  },
  {
   "cell_type": "code",
   "execution_count": 59,
   "metadata": {},
   "outputs": [
    {
     "name": "stdout",
     "output_type": "stream",
     "text": [
      "<class 'pandas.core.frame.DataFrame'>\n",
      "Int64Index: 2061 entries, 0 to 2060\n",
      "Data columns (total 42 columns):\n",
      "tweet_id                         2061 non-null int64\n",
      "timestamp                        2061 non-null object\n",
      "source                           2061 non-null object\n",
      "text                             2061 non-null object\n",
      "expanded_urls                    2061 non-null object\n",
      "rating_numerator                 2061 non-null int64\n",
      "rating_denominator               2061 non-null int64\n",
      "name                             2061 non-null object\n",
      "doggo                            2061 non-null object\n",
      "floofer                          2061 non-null object\n",
      "pupper                           2061 non-null object\n",
      "puppo                            2061 non-null object\n",
      "jpg_url                          2061 non-null object\n",
      "img_num                          2061 non-null int64\n",
      "p1                               2061 non-null object\n",
      "p1_conf                          2061 non-null float64\n",
      "p1_dog                           2061 non-null bool\n",
      "p2                               2061 non-null object\n",
      "p2_conf                          2061 non-null float64\n",
      "p2_dog                           2061 non-null bool\n",
      "p3                               2061 non-null object\n",
      "p3_conf                          2061 non-null float64\n",
      "p3_dog                           2061 non-null bool\n",
      "contributors                     0 non-null object\n",
      "coordinates                      0 non-null object\n",
      "created_at                       2061 non-null datetime64[ns]\n",
      "display_text_range               2061 non-null object\n",
      "entities                         2061 non-null object\n",
      "extended_entities                2061 non-null object\n",
      "favorite_count                   2061 non-null int64\n",
      "favorited                        2061 non-null bool\n",
      "full_text                        2061 non-null object\n",
      "geo                              0 non-null object\n",
      "id                               2061 non-null int64\n",
      "id_str                           2061 non-null object\n",
      "is_quote_status                  2061 non-null bool\n",
      "lang                             2061 non-null object\n",
      "possibly_sensitive               2061 non-null bool\n",
      "possibly_sensitive_appealable    2061 non-null bool\n",
      "retweet_count                    2061 non-null int64\n",
      "retweeted                        2061 non-null bool\n",
      "truncated                        2061 non-null bool\n",
      "dtypes: bool(9), datetime64[ns](1), float64(3), int64(7), object(22)\n",
      "memory usage: 565.6+ KB\n"
     ]
    }
   ],
   "source": [
    "wrd.info()"
   ]
  },
  {
   "cell_type": "markdown",
   "metadata": {},
   "source": [
    "### Zero data"
   ]
  },
  {
   "cell_type": "markdown",
   "metadata": {},
   "source": [
    "#### Define\n",
    "Columns with zero data are irrelevant for our analysis. Let's just drop them."
   ]
  },
  {
   "cell_type": "code",
   "execution_count": 60,
   "metadata": {},
   "outputs": [
    {
     "data": {
      "text/plain": [
       "['contributors',\n",
       " 'coordinates',\n",
       " 'favorited',\n",
       " 'geo',\n",
       " 'is_quote_status',\n",
       " 'possibly_sensitive',\n",
       " 'possibly_sensitive_appealable',\n",
       " 'retweeted',\n",
       " 'truncated']"
      ]
     },
     "execution_count": 60,
     "metadata": {},
     "output_type": "execute_result"
    }
   ],
   "source": [
    "zero_columns"
   ]
  },
  {
   "cell_type": "markdown",
   "metadata": {},
   "source": [
    "#### Code"
   ]
  },
  {
   "cell_type": "code",
   "execution_count": 61,
   "metadata": {},
   "outputs": [],
   "source": [
    "wrd.drop(columns=zero_columns, axis=1, inplace=True)"
   ]
  },
  {
   "cell_type": "markdown",
   "metadata": {},
   "source": [
    "#### Test"
   ]
  },
  {
   "cell_type": "code",
   "execution_count": 62,
   "metadata": {},
   "outputs": [
    {
     "name": "stdout",
     "output_type": "stream",
     "text": [
      "<class 'pandas.core.frame.DataFrame'>\n",
      "Int64Index: 2061 entries, 0 to 2060\n",
      "Data columns (total 33 columns):\n",
      "tweet_id              2061 non-null int64\n",
      "timestamp             2061 non-null object\n",
      "source                2061 non-null object\n",
      "text                  2061 non-null object\n",
      "expanded_urls         2061 non-null object\n",
      "rating_numerator      2061 non-null int64\n",
      "rating_denominator    2061 non-null int64\n",
      "name                  2061 non-null object\n",
      "doggo                 2061 non-null object\n",
      "floofer               2061 non-null object\n",
      "pupper                2061 non-null object\n",
      "puppo                 2061 non-null object\n",
      "jpg_url               2061 non-null object\n",
      "img_num               2061 non-null int64\n",
      "p1                    2061 non-null object\n",
      "p1_conf               2061 non-null float64\n",
      "p1_dog                2061 non-null bool\n",
      "p2                    2061 non-null object\n",
      "p2_conf               2061 non-null float64\n",
      "p2_dog                2061 non-null bool\n",
      "p3                    2061 non-null object\n",
      "p3_conf               2061 non-null float64\n",
      "p3_dog                2061 non-null bool\n",
      "created_at            2061 non-null datetime64[ns]\n",
      "display_text_range    2061 non-null object\n",
      "entities              2061 non-null object\n",
      "extended_entities     2061 non-null object\n",
      "favorite_count        2061 non-null int64\n",
      "full_text             2061 non-null object\n",
      "id                    2061 non-null int64\n",
      "id_str                2061 non-null object\n",
      "lang                  2061 non-null object\n",
      "retweet_count         2061 non-null int64\n",
      "dtypes: bool(3), datetime64[ns](1), float64(3), int64(7), object(19)\n",
      "memory usage: 505.2+ KB\n"
     ]
    }
   ],
   "source": [
    "wrd.info()"
   ]
  },
  {
   "cell_type": "markdown",
   "metadata": {},
   "source": [
    "### Duplicate data"
   ]
  },
  {
   "cell_type": "markdown",
   "metadata": {},
   "source": [
    "#### Define"
   ]
  },
  {
   "cell_type": "code",
   "execution_count": 63,
   "metadata": {},
   "outputs": [
    {
     "data": {
      "text/plain": [
       "['id_str',\n",
       " 'in_reply_to_status_id_str',\n",
       " 'in_reply_to_user_id_str',\n",
       " 'timestamp',\n",
       " 'tweet_id']"
      ]
     },
     "execution_count": 63,
     "metadata": {},
     "output_type": "execute_result"
    }
   ],
   "source": [
    "duplicate_columns"
   ]
  },
  {
   "cell_type": "markdown",
   "metadata": {},
   "source": [
    "#### Code"
   ]
  },
  {
   "cell_type": "markdown",
   "metadata": {},
   "source": [
    "As two reply columns we've already removed with redundant data. Let's only remove `id`, `id_str` and  `timestamp` now."
   ]
  },
  {
   "cell_type": "code",
   "execution_count": 64,
   "metadata": {},
   "outputs": [],
   "source": [
    "wrd.drop(columns=['id','id_str','timestamp'], axis=1, inplace=True)"
   ]
  },
  {
   "cell_type": "markdown",
   "metadata": {},
   "source": [
    "#### Test"
   ]
  },
  {
   "cell_type": "code",
   "execution_count": 65,
   "metadata": {},
   "outputs": [
    {
     "name": "stdout",
     "output_type": "stream",
     "text": [
      "<class 'pandas.core.frame.DataFrame'>\n",
      "Int64Index: 2061 entries, 0 to 2060\n",
      "Data columns (total 30 columns):\n",
      "tweet_id              2061 non-null int64\n",
      "source                2061 non-null object\n",
      "text                  2061 non-null object\n",
      "expanded_urls         2061 non-null object\n",
      "rating_numerator      2061 non-null int64\n",
      "rating_denominator    2061 non-null int64\n",
      "name                  2061 non-null object\n",
      "doggo                 2061 non-null object\n",
      "floofer               2061 non-null object\n",
      "pupper                2061 non-null object\n",
      "puppo                 2061 non-null object\n",
      "jpg_url               2061 non-null object\n",
      "img_num               2061 non-null int64\n",
      "p1                    2061 non-null object\n",
      "p1_conf               2061 non-null float64\n",
      "p1_dog                2061 non-null bool\n",
      "p2                    2061 non-null object\n",
      "p2_conf               2061 non-null float64\n",
      "p2_dog                2061 non-null bool\n",
      "p3                    2061 non-null object\n",
      "p3_conf               2061 non-null float64\n",
      "p3_dog                2061 non-null bool\n",
      "created_at            2061 non-null datetime64[ns]\n",
      "display_text_range    2061 non-null object\n",
      "entities              2061 non-null object\n",
      "extended_entities     2061 non-null object\n",
      "favorite_count        2061 non-null int64\n",
      "full_text             2061 non-null object\n",
      "lang                  2061 non-null object\n",
      "retweet_count         2061 non-null int64\n",
      "dtypes: bool(3), datetime64[ns](1), float64(3), int64(6), object(17)\n",
      "memory usage: 456.9+ KB\n"
     ]
    }
   ],
   "source": [
    "wrd.info()"
   ]
  },
  {
   "cell_type": "markdown",
   "metadata": {},
   "source": [
    "### Dog columns to bools"
   ]
  },
  {
   "cell_type": "markdown",
   "metadata": {},
   "source": [
    "#### Define\n",
    "`doggo`, `floofer`, `pupper`, `puppo` columns are better represented as `bool`s."
   ]
  },
  {
   "cell_type": "markdown",
   "metadata": {},
   "source": [
    "#### Code"
   ]
  },
  {
   "cell_type": "code",
   "execution_count": 66,
   "metadata": {},
   "outputs": [],
   "source": [
    "def to_bool(x):\n",
    "    if x=='None':\n",
    "        return False\n",
    "    else:\n",
    "        return True\n",
    "    \n",
    "wrd.doggo = wrd.doggo.apply(to_bool)\n",
    "wrd.floofer = wrd.floofer.apply(to_bool)\n",
    "wrd.pupper = wrd.pupper.apply(to_bool)\n",
    "wrd.puppo = wrd.puppo.apply(to_bool)"
   ]
  },
  {
   "cell_type": "markdown",
   "metadata": {},
   "source": [
    "#### Test"
   ]
  },
  {
   "cell_type": "code",
   "execution_count": 67,
   "metadata": {},
   "outputs": [
    {
     "name": "stdout",
     "output_type": "stream",
     "text": [
      "<class 'pandas.core.frame.DataFrame'>\n",
      "Int64Index: 2061 entries, 0 to 2060\n",
      "Data columns (total 30 columns):\n",
      "tweet_id              2061 non-null int64\n",
      "source                2061 non-null object\n",
      "text                  2061 non-null object\n",
      "expanded_urls         2061 non-null object\n",
      "rating_numerator      2061 non-null int64\n",
      "rating_denominator    2061 non-null int64\n",
      "name                  2061 non-null object\n",
      "doggo                 2061 non-null bool\n",
      "floofer               2061 non-null bool\n",
      "pupper                2061 non-null bool\n",
      "puppo                 2061 non-null bool\n",
      "jpg_url               2061 non-null object\n",
      "img_num               2061 non-null int64\n",
      "p1                    2061 non-null object\n",
      "p1_conf               2061 non-null float64\n",
      "p1_dog                2061 non-null bool\n",
      "p2                    2061 non-null object\n",
      "p2_conf               2061 non-null float64\n",
      "p2_dog                2061 non-null bool\n",
      "p3                    2061 non-null object\n",
      "p3_conf               2061 non-null float64\n",
      "p3_dog                2061 non-null bool\n",
      "created_at            2061 non-null datetime64[ns]\n",
      "display_text_range    2061 non-null object\n",
      "entities              2061 non-null object\n",
      "extended_entities     2061 non-null object\n",
      "favorite_count        2061 non-null int64\n",
      "full_text             2061 non-null object\n",
      "lang                  2061 non-null object\n",
      "retweet_count         2061 non-null int64\n",
      "dtypes: bool(7), datetime64[ns](1), float64(3), int64(6), object(13)\n",
      "memory usage: 400.5+ KB\n"
     ]
    }
   ],
   "source": [
    "wrd.info()"
   ]
  },
  {
   "cell_type": "markdown",
   "metadata": {},
   "source": [
    "### Lang column to category"
   ]
  },
  {
   "cell_type": "markdown",
   "metadata": {},
   "source": [
    "#### Define\n",
    "Convert lang column into category."
   ]
  },
  {
   "cell_type": "markdown",
   "metadata": {},
   "source": [
    "#### Code"
   ]
  },
  {
   "cell_type": "code",
   "execution_count": 68,
   "metadata": {},
   "outputs": [],
   "source": [
    "wrd.lang = wrd.lang.astype('category')"
   ]
  },
  {
   "cell_type": "markdown",
   "metadata": {},
   "source": [
    "#### Test"
   ]
  },
  {
   "cell_type": "code",
   "execution_count": 69,
   "metadata": {},
   "outputs": [
    {
     "name": "stdout",
     "output_type": "stream",
     "text": [
      "<class 'pandas.core.frame.DataFrame'>\n",
      "Int64Index: 2061 entries, 0 to 2060\n",
      "Data columns (total 30 columns):\n",
      "tweet_id              2061 non-null int64\n",
      "source                2061 non-null object\n",
      "text                  2061 non-null object\n",
      "expanded_urls         2061 non-null object\n",
      "rating_numerator      2061 non-null int64\n",
      "rating_denominator    2061 non-null int64\n",
      "name                  2061 non-null object\n",
      "doggo                 2061 non-null bool\n",
      "floofer               2061 non-null bool\n",
      "pupper                2061 non-null bool\n",
      "puppo                 2061 non-null bool\n",
      "jpg_url               2061 non-null object\n",
      "img_num               2061 non-null int64\n",
      "p1                    2061 non-null object\n",
      "p1_conf               2061 non-null float64\n",
      "p1_dog                2061 non-null bool\n",
      "p2                    2061 non-null object\n",
      "p2_conf               2061 non-null float64\n",
      "p2_dog                2061 non-null bool\n",
      "p3                    2061 non-null object\n",
      "p3_conf               2061 non-null float64\n",
      "p3_dog                2061 non-null bool\n",
      "created_at            2061 non-null datetime64[ns]\n",
      "display_text_range    2061 non-null object\n",
      "entities              2061 non-null object\n",
      "extended_entities     2061 non-null object\n",
      "favorite_count        2061 non-null int64\n",
      "full_text             2061 non-null object\n",
      "lang                  2061 non-null category\n",
      "retweet_count         2061 non-null int64\n",
      "dtypes: bool(7), category(1), datetime64[ns](1), float64(3), int64(6), object(12)\n",
      "memory usage: 386.6+ KB\n"
     ]
    }
   ],
   "source": [
    "wrd.info()"
   ]
  },
  {
   "cell_type": "markdown",
   "metadata": {},
   "source": [
    "### Display_text_range into int"
   ]
  },
  {
   "cell_type": "markdown",
   "metadata": {},
   "source": [
    "#### Define\n",
    "`display_text_range` column can be effectively reduced to a single `int` rather than a list."
   ]
  },
  {
   "cell_type": "markdown",
   "metadata": {},
   "source": [
    "#### Code"
   ]
  },
  {
   "cell_type": "code",
   "execution_count": 70,
   "metadata": {},
   "outputs": [],
   "source": [
    "wrd['display_text_end'] = wrd.display_text_range.apply(lambda x: x[1]).astype(int)\n",
    "wrd.drop(columns='display_text_range', inplace=True)"
   ]
  },
  {
   "cell_type": "markdown",
   "metadata": {},
   "source": [
    "#### Test"
   ]
  },
  {
   "cell_type": "code",
   "execution_count": 71,
   "metadata": {},
   "outputs": [
    {
     "name": "stdout",
     "output_type": "stream",
     "text": [
      "<class 'pandas.core.frame.DataFrame'>\n",
      "Int64Index: 2061 entries, 0 to 2060\n",
      "Data columns (total 30 columns):\n",
      "tweet_id              2061 non-null int64\n",
      "source                2061 non-null object\n",
      "text                  2061 non-null object\n",
      "expanded_urls         2061 non-null object\n",
      "rating_numerator      2061 non-null int64\n",
      "rating_denominator    2061 non-null int64\n",
      "name                  2061 non-null object\n",
      "doggo                 2061 non-null bool\n",
      "floofer               2061 non-null bool\n",
      "pupper                2061 non-null bool\n",
      "puppo                 2061 non-null bool\n",
      "jpg_url               2061 non-null object\n",
      "img_num               2061 non-null int64\n",
      "p1                    2061 non-null object\n",
      "p1_conf               2061 non-null float64\n",
      "p1_dog                2061 non-null bool\n",
      "p2                    2061 non-null object\n",
      "p2_conf               2061 non-null float64\n",
      "p2_dog                2061 non-null bool\n",
      "p3                    2061 non-null object\n",
      "p3_conf               2061 non-null float64\n",
      "p3_dog                2061 non-null bool\n",
      "created_at            2061 non-null datetime64[ns]\n",
      "entities              2061 non-null object\n",
      "extended_entities     2061 non-null object\n",
      "favorite_count        2061 non-null int64\n",
      "full_text             2061 non-null object\n",
      "lang                  2061 non-null category\n",
      "retweet_count         2061 non-null int64\n",
      "display_text_end      2061 non-null int64\n",
      "dtypes: bool(7), category(1), datetime64[ns](1), float64(3), int64(7), object(11)\n",
      "memory usage: 386.6+ KB\n"
     ]
    }
   ],
   "source": [
    "wrd.info()"
   ]
  },
  {
   "cell_type": "markdown",
   "metadata": {},
   "source": [
    "### Parse `source` column and make it categorical variable"
   ]
  },
  {
   "cell_type": "markdown",
   "metadata": {},
   "source": [
    "#### Define\n",
    "There is probablay a limited set of appications used to post tweets. Let's extract those from the long strings and categorise them."
   ]
  },
  {
   "cell_type": "markdown",
   "metadata": {},
   "source": [
    "#### Code"
   ]
  },
  {
   "cell_type": "code",
   "execution_count": 72,
   "metadata": {},
   "outputs": [],
   "source": [
    "wrd.source = wrd.source.apply(lambda x: x.split('>')[1].split('<')[0]).astype('category')"
   ]
  },
  {
   "cell_type": "markdown",
   "metadata": {},
   "source": [
    "#### Test"
   ]
  },
  {
   "cell_type": "code",
   "execution_count": 73,
   "metadata": {},
   "outputs": [
    {
     "data": {
      "text/plain": [
       "[Twitter for iPhone, Twitter Web Client, TweetDeck]\n",
       "Categories (3, object): [Twitter for iPhone, Twitter Web Client, TweetDeck]"
      ]
     },
     "execution_count": 73,
     "metadata": {},
     "output_type": "execute_result"
    }
   ],
   "source": [
    "wrd.source.unique()"
   ]
  },
  {
   "cell_type": "code",
   "execution_count": 74,
   "metadata": {},
   "outputs": [
    {
     "name": "stdout",
     "output_type": "stream",
     "text": [
      "<class 'pandas.core.frame.DataFrame'>\n",
      "Int64Index: 2061 entries, 0 to 2060\n",
      "Data columns (total 30 columns):\n",
      "tweet_id              2061 non-null int64\n",
      "source                2061 non-null category\n",
      "text                  2061 non-null object\n",
      "expanded_urls         2061 non-null object\n",
      "rating_numerator      2061 non-null int64\n",
      "rating_denominator    2061 non-null int64\n",
      "name                  2061 non-null object\n",
      "doggo                 2061 non-null bool\n",
      "floofer               2061 non-null bool\n",
      "pupper                2061 non-null bool\n",
      "puppo                 2061 non-null bool\n",
      "jpg_url               2061 non-null object\n",
      "img_num               2061 non-null int64\n",
      "p1                    2061 non-null object\n",
      "p1_conf               2061 non-null float64\n",
      "p1_dog                2061 non-null bool\n",
      "p2                    2061 non-null object\n",
      "p2_conf               2061 non-null float64\n",
      "p2_dog                2061 non-null bool\n",
      "p3                    2061 non-null object\n",
      "p3_conf               2061 non-null float64\n",
      "p3_dog                2061 non-null bool\n",
      "created_at            2061 non-null datetime64[ns]\n",
      "entities              2061 non-null object\n",
      "extended_entities     2061 non-null object\n",
      "favorite_count        2061 non-null int64\n",
      "full_text             2061 non-null object\n",
      "lang                  2061 non-null category\n",
      "retweet_count         2061 non-null int64\n",
      "display_text_end      2061 non-null int64\n",
      "dtypes: bool(7), category(2), datetime64[ns](1), float64(3), int64(7), object(10)\n",
      "memory usage: 372.7+ KB\n"
     ]
    }
   ],
   "source": [
    "wrd.info()"
   ]
  },
  {
   "cell_type": "markdown",
   "metadata": {},
   "source": [
    "### Duplicate data in `entities` and `extended_entities` columns"
   ]
  },
  {
   "cell_type": "markdown",
   "metadata": {},
   "source": [
    "#### Define\n",
    "`entities` column already probably includes all the infotmation from the `extended_entities` column."
   ]
  },
  {
   "cell_type": "code",
   "execution_count": 75,
   "metadata": {},
   "outputs": [
    {
     "name": "stdout",
     "output_type": "stream",
     "text": [
      "15\n",
      "{'id': 889278779352338437, 'id_str': '889278779352338437', 'indices': [139, 162], 'media_url': 'http://pbs.twimg.com/ext_tw_video_thumb/889278779352338437/pu/img/VlbFB3v8H8VwzVNY.jpg', 'media_url_https': 'https://pbs.twimg.com/ext_tw_video_thumb/889278779352338437/pu/img/VlbFB3v8H8VwzVNY.jpg', 'url': 'https://t.co/WpHvrQedPb', 'display_url': 'pic.twitter.com/WpHvrQedPb', 'expanded_url': 'https://twitter.com/dog_rates/status/889278841981685760/video/1', 'type': 'photo', 'sizes': {'thumb': {'w': 150, 'h': 150, 'resize': 'crop'}, 'large': {'w': 320, 'h': 568, 'resize': 'fit'}, 'small': {'w': 320, 'h': 568, 'resize': 'fit'}, 'medium': {'w': 320, 'h': 568, 'resize': 'fit'}}, 'features': {}}\n",
      "-----------\n",
      "{'id': 889278779352338437, 'id_str': '889278779352338437', 'indices': [139, 162], 'media_url': 'http://pbs.twimg.com/ext_tw_video_thumb/889278779352338437/pu/img/VlbFB3v8H8VwzVNY.jpg', 'media_url_https': 'https://pbs.twimg.com/ext_tw_video_thumb/889278779352338437/pu/img/VlbFB3v8H8VwzVNY.jpg', 'url': 'https://t.co/WpHvrQedPb', 'display_url': 'pic.twitter.com/WpHvrQedPb', 'expanded_url': 'https://twitter.com/dog_rates/status/889278841981685760/video/1', 'type': 'video', 'sizes': {'thumb': {'w': 150, 'h': 150, 'resize': 'crop'}, 'large': {'w': 320, 'h': 568, 'resize': 'fit'}, 'small': {'w': 320, 'h': 568, 'resize': 'fit'}, 'medium': {'w': 320, 'h': 568, 'resize': 'fit'}}, 'video_info': {'aspect_ratio': [40, 71], 'duration_millis': 5935, 'variants': [{'content_type': 'application/x-mpegURL', 'url': 'https://video.twimg.com/ext_tw_video/889278779352338437/pu/pl/IfTYoaAW0nRVGj_G.m3u8'}, {'bitrate': 256000, 'content_type': 'video/mp4', 'url': 'https://video.twimg.com/ext_tw_video/889278779352338437/pu/vid/180x320/3GlIRAJBsw-sfUcI.mp4'}]}, 'features': {}, 'additional_media_info': {'monetizable': False}}\n",
      "===========\n",
      "21\n",
      "{'id': 887517108413886465, 'id_str': '887517108413886465', 'indices': [109, 132], 'media_url': 'http://pbs.twimg.com/ext_tw_video_thumb/887517108413886465/pu/img/WanJKwssZj4VJvL9.jpg', 'media_url_https': 'https://pbs.twimg.com/ext_tw_video_thumb/887517108413886465/pu/img/WanJKwssZj4VJvL9.jpg', 'url': 'https://t.co/20VrLAA8ba', 'display_url': 'pic.twitter.com/20VrLAA8ba', 'expanded_url': 'https://twitter.com/dog_rates/status/887517139158093824/video/1', 'type': 'photo', 'sizes': {'small': {'w': 480, 'h': 480, 'resize': 'fit'}, 'thumb': {'w': 150, 'h': 150, 'resize': 'crop'}, 'medium': {'w': 480, 'h': 480, 'resize': 'fit'}, 'large': {'w': 480, 'h': 480, 'resize': 'fit'}}, 'features': {}}\n",
      "-----------\n",
      "{'id': 887517108413886465, 'id_str': '887517108413886465', 'indices': [109, 132], 'media_url': 'http://pbs.twimg.com/ext_tw_video_thumb/887517108413886465/pu/img/WanJKwssZj4VJvL9.jpg', 'media_url_https': 'https://pbs.twimg.com/ext_tw_video_thumb/887517108413886465/pu/img/WanJKwssZj4VJvL9.jpg', 'url': 'https://t.co/20VrLAA8ba', 'display_url': 'pic.twitter.com/20VrLAA8ba', 'expanded_url': 'https://twitter.com/dog_rates/status/887517139158093824/video/1', 'type': 'video', 'sizes': {'small': {'w': 480, 'h': 480, 'resize': 'fit'}, 'thumb': {'w': 150, 'h': 150, 'resize': 'crop'}, 'medium': {'w': 480, 'h': 480, 'resize': 'fit'}, 'large': {'w': 480, 'h': 480, 'resize': 'fit'}}, 'video_info': {'aspect_ratio': [1, 1], 'duration_millis': 5133, 'variants': [{'bitrate': 256000, 'content_type': 'video/mp4', 'url': 'https://video.twimg.com/ext_tw_video/887517108413886465/pu/vid/240x240/Hs2yRQTiDSLa7M8C.mp4'}, {'bitrate': 832000, 'content_type': 'video/mp4', 'url': 'https://video.twimg.com/ext_tw_video/887517108413886465/pu/vid/480x480/NpOg7nB9xklNcXr_.mp4'}, {'content_type': 'application/x-mpegURL', 'url': 'https://video.twimg.com/ext_tw_video/887517108413886465/pu/pl/SHwbyNo3VB-OSZVv.m3u8'}]}, 'features': {}, 'additional_media_info': {'monetizable': False}}\n",
      "===========\n",
      "23\n",
      "{'id': 887343120832229379, 'id_str': '887343120832229379', 'indices': [89, 112], 'media_url': 'http://pbs.twimg.com/ext_tw_video_thumb/887343120832229379/pu/img/6HSuFrW1lzI_9Mht.jpg', 'media_url_https': 'https://pbs.twimg.com/ext_tw_video_thumb/887343120832229379/pu/img/6HSuFrW1lzI_9Mht.jpg', 'url': 'https://t.co/WZqNqygEyV', 'display_url': 'pic.twitter.com/WZqNqygEyV', 'expanded_url': 'https://twitter.com/dog_rates/status/887343217045368832/video/1', 'type': 'photo', 'sizes': {'thumb': {'w': 150, 'h': 150, 'resize': 'crop'}, 'medium': {'w': 1200, 'h': 675, 'resize': 'fit'}, 'small': {'w': 680, 'h': 383, 'resize': 'fit'}, 'large': {'w': 1280, 'h': 720, 'resize': 'fit'}}, 'features': {}}\n",
      "-----------\n",
      "{'id': 887343120832229379, 'id_str': '887343120832229379', 'indices': [89, 112], 'media_url': 'http://pbs.twimg.com/ext_tw_video_thumb/887343120832229379/pu/img/6HSuFrW1lzI_9Mht.jpg', 'media_url_https': 'https://pbs.twimg.com/ext_tw_video_thumb/887343120832229379/pu/img/6HSuFrW1lzI_9Mht.jpg', 'url': 'https://t.co/WZqNqygEyV', 'display_url': 'pic.twitter.com/WZqNqygEyV', 'expanded_url': 'https://twitter.com/dog_rates/status/887343217045368832/video/1', 'type': 'video', 'sizes': {'thumb': {'w': 150, 'h': 150, 'resize': 'crop'}, 'medium': {'w': 1200, 'h': 675, 'resize': 'fit'}, 'small': {'w': 680, 'h': 383, 'resize': 'fit'}, 'large': {'w': 1280, 'h': 720, 'resize': 'fit'}}, 'video_info': {'aspect_ratio': [16, 9], 'duration_millis': 17333, 'variants': [{'content_type': 'application/x-mpegURL', 'url': 'https://video.twimg.com/ext_tw_video/887343120832229379/pu/pl/IRqa3JWRV-6dT5bW.m3u8'}, {'bitrate': 832000, 'content_type': 'video/mp4', 'url': 'https://video.twimg.com/ext_tw_video/887343120832229379/pu/vid/640x360/MqkCqqvfi68A-8xi.mp4'}, {'bitrate': 2176000, 'content_type': 'video/mp4', 'url': 'https://video.twimg.com/ext_tw_video/887343120832229379/pu/vid/1280x720/FCiTl-fY7s5I_5eU.mp4'}, {'bitrate': 256000, 'content_type': 'video/mp4', 'url': 'https://video.twimg.com/ext_tw_video/887343120832229379/pu/vid/320x180/hFsDGePMXqOYpOyl.mp4'}]}, 'features': {}, 'additional_media_info': {'monetizable': False}}\n",
      "===========\n",
      "50\n",
      "{'id': 881535971568889856, 'id_str': '881535971568889856', 'indices': [131, 154], 'media_url': 'http://pbs.twimg.com/ext_tw_video_thumb/881535971568889856/pu/img/9bawiZ--8FKywTkz.jpg', 'media_url_https': 'https://pbs.twimg.com/ext_tw_video_thumb/881535971568889856/pu/img/9bawiZ--8FKywTkz.jpg', 'url': 'https://t.co/ghXBIIeQZF', 'display_url': 'pic.twitter.com/ghXBIIeQZF', 'expanded_url': 'https://twitter.com/dog_rates/status/881536004380872706/video/1', 'type': 'photo', 'sizes': {'small': {'w': 480, 'h': 480, 'resize': 'fit'}, 'thumb': {'w': 150, 'h': 150, 'resize': 'crop'}, 'medium': {'w': 480, 'h': 480, 'resize': 'fit'}, 'large': {'w': 480, 'h': 480, 'resize': 'fit'}}, 'features': {}}\n",
      "-----------\n",
      "{'id': 881535971568889856, 'id_str': '881535971568889856', 'indices': [131, 154], 'media_url': 'http://pbs.twimg.com/ext_tw_video_thumb/881535971568889856/pu/img/9bawiZ--8FKywTkz.jpg', 'media_url_https': 'https://pbs.twimg.com/ext_tw_video_thumb/881535971568889856/pu/img/9bawiZ--8FKywTkz.jpg', 'url': 'https://t.co/ghXBIIeQZF', 'display_url': 'pic.twitter.com/ghXBIIeQZF', 'expanded_url': 'https://twitter.com/dog_rates/status/881536004380872706/video/1', 'type': 'video', 'sizes': {'small': {'w': 480, 'h': 480, 'resize': 'fit'}, 'thumb': {'w': 150, 'h': 150, 'resize': 'crop'}, 'medium': {'w': 480, 'h': 480, 'resize': 'fit'}, 'large': {'w': 480, 'h': 480, 'resize': 'fit'}}, 'video_info': {'aspect_ratio': [1, 1], 'duration_millis': 13033, 'variants': [{'bitrate': 256000, 'content_type': 'video/mp4', 'url': 'https://video.twimg.com/ext_tw_video/881535971568889856/pu/vid/240x240/_D_Ru1i40DJjZnLa.mp4'}, {'bitrate': 832000, 'content_type': 'video/mp4', 'url': 'https://video.twimg.com/ext_tw_video/881535971568889856/pu/vid/480x480/eHoZev4usFv8pDFG.mp4'}, {'content_type': 'application/x-mpegURL', 'url': 'https://video.twimg.com/ext_tw_video/881535971568889856/pu/pl/x6e2xfkZo48Hm3u0.m3u8'}]}, 'features': {}, 'additional_media_info': {'monetizable': False}}\n",
      "===========\n",
      "59\n",
      "{'id': 879415784908390401, 'id_str': '879415784908390401', 'indices': [83, 106], 'media_url': 'http://pbs.twimg.com/ext_tw_video_thumb/879415784908390401/pu/img/cX7XI1TnUsseGET5.jpg', 'media_url_https': 'https://pbs.twimg.com/ext_tw_video_thumb/879415784908390401/pu/img/cX7XI1TnUsseGET5.jpg', 'url': 'https://t.co/UDT7ZkcTgY', 'display_url': 'pic.twitter.com/UDT7ZkcTgY', 'expanded_url': 'https://twitter.com/dog_rates/status/879415818425184262/video/1', 'type': 'photo', 'sizes': {'medium': {'w': 718, 'h': 404, 'resize': 'fit'}, 'thumb': {'w': 150, 'h': 150, 'resize': 'crop'}, 'large': {'w': 718, 'h': 404, 'resize': 'fit'}, 'small': {'w': 680, 'h': 383, 'resize': 'fit'}}, 'features': {}}\n",
      "-----------\n",
      "{'id': 879415784908390401, 'id_str': '879415784908390401', 'indices': [83, 106], 'media_url': 'http://pbs.twimg.com/ext_tw_video_thumb/879415784908390401/pu/img/cX7XI1TnUsseGET5.jpg', 'media_url_https': 'https://pbs.twimg.com/ext_tw_video_thumb/879415784908390401/pu/img/cX7XI1TnUsseGET5.jpg', 'url': 'https://t.co/UDT7ZkcTgY', 'display_url': 'pic.twitter.com/UDT7ZkcTgY', 'expanded_url': 'https://twitter.com/dog_rates/status/879415818425184262/video/1', 'type': 'video', 'sizes': {'medium': {'w': 718, 'h': 404, 'resize': 'fit'}, 'thumb': {'w': 150, 'h': 150, 'resize': 'crop'}, 'large': {'w': 718, 'h': 404, 'resize': 'fit'}, 'small': {'w': 680, 'h': 383, 'resize': 'fit'}}, 'video_info': {'aspect_ratio': [359, 202], 'duration_millis': 6375, 'variants': [{'bitrate': 256000, 'content_type': 'video/mp4', 'url': 'https://video.twimg.com/ext_tw_video/879415784908390401/pu/vid/318x180/HiOuK7PX8Clzp9V6.mp4'}, {'content_type': 'application/x-mpegURL', 'url': 'https://video.twimg.com/ext_tw_video/879415784908390401/pu/pl/BPRZU-j_oy3s3yjc.m3u8'}, {'bitrate': 832000, 'content_type': 'video/mp4', 'url': 'https://video.twimg.com/ext_tw_video/879415784908390401/pu/vid/638x360/-FhdelrCgXVtun1S.mp4'}]}, 'features': {}, 'additional_media_info': {'monetizable': False}}\n",
      "===========\n",
      "75\n",
      "{'id': 875144175078957056, 'id_str': '875144175078957056', 'indices': [134, 157], 'media_url': 'http://pbs.twimg.com/ext_tw_video_thumb/875144175078957056/pu/img/BRi_l7vUdpb93Knf.jpg', 'media_url_https': 'https://pbs.twimg.com/ext_tw_video_thumb/875144175078957056/pu/img/BRi_l7vUdpb93Knf.jpg', 'url': 'https://t.co/ogith9ejNj', 'display_url': 'pic.twitter.com/ogith9ejNj', 'expanded_url': 'https://twitter.com/dog_rates/status/875144289856114688/video/1', 'type': 'photo', 'sizes': {'thumb': {'w': 150, 'h': 150, 'resize': 'crop'}, 'small': {'w': 383, 'h': 680, 'resize': 'fit'}, 'large': {'w': 720, 'h': 1280, 'resize': 'fit'}, 'medium': {'w': 675, 'h': 1200, 'resize': 'fit'}}, 'features': {}}\n",
      "-----------\n",
      "{'id': 875144175078957056, 'id_str': '875144175078957056', 'indices': [134, 157], 'media_url': 'http://pbs.twimg.com/ext_tw_video_thumb/875144175078957056/pu/img/BRi_l7vUdpb93Knf.jpg', 'media_url_https': 'https://pbs.twimg.com/ext_tw_video_thumb/875144175078957056/pu/img/BRi_l7vUdpb93Knf.jpg', 'url': 'https://t.co/ogith9ejNj', 'display_url': 'pic.twitter.com/ogith9ejNj', 'expanded_url': 'https://twitter.com/dog_rates/status/875144289856114688/video/1', 'type': 'video', 'sizes': {'thumb': {'w': 150, 'h': 150, 'resize': 'crop'}, 'small': {'w': 383, 'h': 680, 'resize': 'fit'}, 'large': {'w': 720, 'h': 1280, 'resize': 'fit'}, 'medium': {'w': 675, 'h': 1200, 'resize': 'fit'}}, 'video_info': {'aspect_ratio': [9, 16], 'duration_millis': 16778, 'variants': [{'content_type': 'application/x-mpegURL', 'url': 'https://video.twimg.com/ext_tw_video/875144175078957056/pu/pl/YwnR7lHYQOqklz_S.m3u8'}, {'bitrate': 832000, 'content_type': 'video/mp4', 'url': 'https://video.twimg.com/ext_tw_video/875144175078957056/pu/vid/360x640/EY6RY4tS3IRSTEoz.mp4'}, {'bitrate': 256000, 'content_type': 'video/mp4', 'url': 'https://video.twimg.com/ext_tw_video/875144175078957056/pu/vid/180x320/vwJtwWs3433URIJm.mp4'}, {'bitrate': 2176000, 'content_type': 'video/mp4', 'url': 'https://video.twimg.com/ext_tw_video/875144175078957056/pu/vid/720x1280/M9IbYEg_OemZYcfp.mp4'}]}, 'features': {}, 'additional_media_info': {'monetizable': False}}\n",
      "===========\n",
      "119\n",
      "{'id': 863553036815355904, 'id_str': '863553036815355904', 'indices': [92, 115], 'media_url': 'http://pbs.twimg.com/ext_tw_video_thumb/863553036815355904/pu/img/B6Dos-XOD8l82tK7.jpg', 'media_url_https': 'https://pbs.twimg.com/ext_tw_video_thumb/863553036815355904/pu/img/B6Dos-XOD8l82tK7.jpg', 'url': 'https://t.co/tordvmaaop', 'display_url': 'pic.twitter.com/tordvmaaop', 'expanded_url': 'https://twitter.com/dog_rates/status/863553081350529029/video/1', 'type': 'photo', 'sizes': {'thumb': {'w': 150, 'h': 150, 'resize': 'crop'}, 'large': {'w': 320, 'h': 568, 'resize': 'fit'}, 'small': {'w': 320, 'h': 568, 'resize': 'fit'}, 'medium': {'w': 320, 'h': 568, 'resize': 'fit'}}, 'features': {}}\n",
      "-----------\n",
      "{'id': 863553036815355904, 'id_str': '863553036815355904', 'indices': [92, 115], 'media_url': 'http://pbs.twimg.com/ext_tw_video_thumb/863553036815355904/pu/img/B6Dos-XOD8l82tK7.jpg', 'media_url_https': 'https://pbs.twimg.com/ext_tw_video_thumb/863553036815355904/pu/img/B6Dos-XOD8l82tK7.jpg', 'url': 'https://t.co/tordvmaaop', 'display_url': 'pic.twitter.com/tordvmaaop', 'expanded_url': 'https://twitter.com/dog_rates/status/863553081350529029/video/1', 'type': 'video', 'sizes': {'thumb': {'w': 150, 'h': 150, 'resize': 'crop'}, 'large': {'w': 320, 'h': 568, 'resize': 'fit'}, 'small': {'w': 320, 'h': 568, 'resize': 'fit'}, 'medium': {'w': 320, 'h': 568, 'resize': 'fit'}}, 'video_info': {'aspect_ratio': [40, 71], 'duration_millis': 6767, 'variants': [{'content_type': 'application/x-mpegURL', 'url': 'https://video.twimg.com/ext_tw_video/863553036815355904/pu/pl/8i2DX1sl8nRngzYc.m3u8'}, {'bitrate': 256000, 'content_type': 'video/mp4', 'url': 'https://video.twimg.com/ext_tw_video/863553036815355904/pu/vid/180x320/BlYzEyppcBwS1Q5W.mp4'}]}, 'features': {}, 'additional_media_info': {'monetizable': False}}\n",
      "===========\n",
      "128\n",
      "{'id': 861288473281437696, 'id_str': '861288473281437696', 'indices': [139, 162], 'media_url': 'http://pbs.twimg.com/ext_tw_video_thumb/861288473281437696/pu/img/RERGmRgPyaaaB-tB.jpg', 'media_url_https': 'https://pbs.twimg.com/ext_tw_video_thumb/861288473281437696/pu/img/RERGmRgPyaaaB-tB.jpg', 'url': 'https://t.co/SqKJPwbQ2g', 'display_url': 'pic.twitter.com/SqKJPwbQ2g', 'expanded_url': 'https://twitter.com/dog_rates/status/861288531465048066/video/1', 'type': 'photo', 'sizes': {'thumb': {'w': 150, 'h': 150, 'resize': 'crop'}, 'small': {'w': 544, 'h': 680, 'resize': 'fit'}, 'large': {'w': 640, 'h': 800, 'resize': 'fit'}, 'medium': {'w': 640, 'h': 800, 'resize': 'fit'}}, 'features': {}}\n",
      "-----------\n",
      "{'id': 861288473281437696, 'id_str': '861288473281437696', 'indices': [139, 162], 'media_url': 'http://pbs.twimg.com/ext_tw_video_thumb/861288473281437696/pu/img/RERGmRgPyaaaB-tB.jpg', 'media_url_https': 'https://pbs.twimg.com/ext_tw_video_thumb/861288473281437696/pu/img/RERGmRgPyaaaB-tB.jpg', 'url': 'https://t.co/SqKJPwbQ2g', 'display_url': 'pic.twitter.com/SqKJPwbQ2g', 'expanded_url': 'https://twitter.com/dog_rates/status/861288531465048066/video/1', 'type': 'video', 'sizes': {'thumb': {'w': 150, 'h': 150, 'resize': 'crop'}, 'small': {'w': 544, 'h': 680, 'resize': 'fit'}, 'large': {'w': 640, 'h': 800, 'resize': 'fit'}, 'medium': {'w': 640, 'h': 800, 'resize': 'fit'}}, 'video_info': {'aspect_ratio': [4, 5], 'duration_millis': 9510, 'variants': [{'bitrate': 256000, 'content_type': 'video/mp4', 'url': 'https://video.twimg.com/ext_tw_video/861288473281437696/pu/vid/256x320/MvLmzpEYWG6yIUGZ.mp4'}, {'bitrate': 832000, 'content_type': 'video/mp4', 'url': 'https://video.twimg.com/ext_tw_video/861288473281437696/pu/vid/512x640/WxbN1XQdYjoD0gMe.mp4'}, {'content_type': 'application/x-mpegURL', 'url': 'https://video.twimg.com/ext_tw_video/861288473281437696/pu/pl/YcunL9iOx4Z0BdPt.m3u8'}]}, 'features': {}, 'additional_media_info': {'monetizable': False}}\n",
      "===========\n",
      "138\n",
      "{'id': 859196962498805762, 'id_str': '859196962498805762', 'indices': [125, 148], 'media_url': 'http://pbs.twimg.com/ext_tw_video_thumb/859196962498805762/pu/img/-yBpr4-o4GJZECYE.jpg', 'media_url_https': 'https://pbs.twimg.com/ext_tw_video_thumb/859196962498805762/pu/img/-yBpr4-o4GJZECYE.jpg', 'url': 'https://t.co/g2nSyGenG9', 'display_url': 'pic.twitter.com/g2nSyGenG9', 'expanded_url': 'https://twitter.com/dog_rates/status/859196978902773760/video/1', 'type': 'photo', 'sizes': {'small': {'w': 480, 'h': 480, 'resize': 'fit'}, 'thumb': {'w': 150, 'h': 150, 'resize': 'crop'}, 'medium': {'w': 480, 'h': 480, 'resize': 'fit'}, 'large': {'w': 480, 'h': 480, 'resize': 'fit'}}, 'features': {}}\n",
      "-----------\n",
      "{'id': 859196962498805762, 'id_str': '859196962498805762', 'indices': [125, 148], 'media_url': 'http://pbs.twimg.com/ext_tw_video_thumb/859196962498805762/pu/img/-yBpr4-o4GJZECYE.jpg', 'media_url_https': 'https://pbs.twimg.com/ext_tw_video_thumb/859196962498805762/pu/img/-yBpr4-o4GJZECYE.jpg', 'url': 'https://t.co/g2nSyGenG9', 'display_url': 'pic.twitter.com/g2nSyGenG9', 'expanded_url': 'https://twitter.com/dog_rates/status/859196978902773760/video/1', 'type': 'video', 'sizes': {'small': {'w': 480, 'h': 480, 'resize': 'fit'}, 'thumb': {'w': 150, 'h': 150, 'resize': 'crop'}, 'medium': {'w': 480, 'h': 480, 'resize': 'fit'}, 'large': {'w': 480, 'h': 480, 'resize': 'fit'}}, 'video_info': {'aspect_ratio': [1, 1], 'duration_millis': 5467, 'variants': [{'bitrate': 832000, 'content_type': 'video/mp4', 'url': 'https://video.twimg.com/ext_tw_video/859196962498805762/pu/vid/480x480/tlEuPL7G9GR-7Kqp.mp4'}, {'bitrate': 256000, 'content_type': 'video/mp4', 'url': 'https://video.twimg.com/ext_tw_video/859196962498805762/pu/vid/240x240/j9YkVYhW62-UOOB5.mp4'}, {'content_type': 'application/x-mpegURL', 'url': 'https://video.twimg.com/ext_tw_video/859196962498805762/pu/pl/Wo_KYsFyTtB12y_V.m3u8'}]}, 'features': {}, 'additional_media_info': {'monetizable': False}}\n",
      "===========\n",
      "165\n",
      "{'id': 852223481894903808, 'id_str': '852223481894903808', 'indices': [138, 161], 'media_url': 'http://pbs.twimg.com/ext_tw_video_thumb/852223481894903808/pu/img/JWNq40ol4DXvHoUP.jpg', 'media_url_https': 'https://pbs.twimg.com/ext_tw_video_thumb/852223481894903808/pu/img/JWNq40ol4DXvHoUP.jpg', 'url': 'https://t.co/NP5JW8LnmW', 'display_url': 'pic.twitter.com/NP5JW8LnmW', 'expanded_url': 'https://twitter.com/dog_rates/status/852226086759018497/video/1', 'type': 'photo', 'sizes': {'thumb': {'w': 150, 'h': 150, 'resize': 'crop'}, 'medium': {'w': 1200, 'h': 675, 'resize': 'fit'}, 'small': {'w': 680, 'h': 383, 'resize': 'fit'}, 'large': {'w': 1280, 'h': 720, 'resize': 'fit'}}, 'features': {}}\n",
      "-----------\n",
      "{'id': 852223481894903808, 'id_str': '852223481894903808', 'indices': [138, 161], 'media_url': 'http://pbs.twimg.com/ext_tw_video_thumb/852223481894903808/pu/img/JWNq40ol4DXvHoUP.jpg', 'media_url_https': 'https://pbs.twimg.com/ext_tw_video_thumb/852223481894903808/pu/img/JWNq40ol4DXvHoUP.jpg', 'url': 'https://t.co/NP5JW8LnmW', 'display_url': 'pic.twitter.com/NP5JW8LnmW', 'expanded_url': 'https://twitter.com/dog_rates/status/852226086759018497/video/1', 'type': 'video', 'sizes': {'thumb': {'w': 150, 'h': 150, 'resize': 'crop'}, 'medium': {'w': 1200, 'h': 675, 'resize': 'fit'}, 'small': {'w': 680, 'h': 383, 'resize': 'fit'}, 'large': {'w': 1280, 'h': 720, 'resize': 'fit'}}, 'video_info': {'aspect_ratio': [16, 9], 'duration_millis': 77200, 'variants': [{'bitrate': 2176000, 'content_type': 'video/mp4', 'url': 'https://video.twimg.com/ext_tw_video/852223481894903808/pu/vid/1280x720/_PATbQEuOoF0dueL.mp4'}, {'content_type': 'application/x-mpegURL', 'url': 'https://video.twimg.com/ext_tw_video/852223481894903808/pu/pl/pUNWBDtVBDQVOVM1.m3u8'}, {'bitrate': 256000, 'content_type': 'video/mp4', 'url': 'https://video.twimg.com/ext_tw_video/852223481894903808/pu/vid/320x180/LBQSmxJl5tbJWcuD.mp4'}, {'bitrate': 832000, 'content_type': 'video/mp4', 'url': 'https://video.twimg.com/ext_tw_video/852223481894903808/pu/vid/640x360/9SJubiIX_5LRni_C.mp4'}]}, 'features': {}, 'additional_media_info': {'monetizable': False}}\n",
      "===========\n",
      "172\n",
      "{'id': 850380153985355777, 'id_str': '850380153985355777', 'indices': [141, 164], 'media_url': 'http://pbs.twimg.com/ext_tw_video_thumb/850380153985355777/pu/img/lFouhg-EZvJs8eMr.jpg', 'media_url_https': 'https://pbs.twimg.com/ext_tw_video_thumb/850380153985355777/pu/img/lFouhg-EZvJs8eMr.jpg', 'url': 'https://t.co/FXZQtBcnTO', 'display_url': 'pic.twitter.com/FXZQtBcnTO', 'expanded_url': 'https://twitter.com/dog_rates/status/850380195714523136/video/1', 'type': 'photo', 'sizes': {'thumb': {'w': 150, 'h': 150, 'resize': 'crop'}, 'small': {'w': 544, 'h': 680, 'resize': 'fit'}, 'large': {'w': 640, 'h': 800, 'resize': 'fit'}, 'medium': {'w': 640, 'h': 800, 'resize': 'fit'}}, 'features': {}}\n",
      "-----------\n",
      "{'id': 850380153985355777, 'id_str': '850380153985355777', 'indices': [141, 164], 'media_url': 'http://pbs.twimg.com/ext_tw_video_thumb/850380153985355777/pu/img/lFouhg-EZvJs8eMr.jpg', 'media_url_https': 'https://pbs.twimg.com/ext_tw_video_thumb/850380153985355777/pu/img/lFouhg-EZvJs8eMr.jpg', 'url': 'https://t.co/FXZQtBcnTO', 'display_url': 'pic.twitter.com/FXZQtBcnTO', 'expanded_url': 'https://twitter.com/dog_rates/status/850380195714523136/video/1', 'type': 'video', 'sizes': {'thumb': {'w': 150, 'h': 150, 'resize': 'crop'}, 'small': {'w': 544, 'h': 680, 'resize': 'fit'}, 'large': {'w': 640, 'h': 800, 'resize': 'fit'}, 'medium': {'w': 640, 'h': 800, 'resize': 'fit'}}, 'video_info': {'aspect_ratio': [4, 5], 'duration_millis': 11745, 'variants': [{'bitrate': 832000, 'content_type': 'video/mp4', 'url': 'https://video.twimg.com/ext_tw_video/850380153985355777/pu/vid/512x640/dC9FQ0C9qjS1-EY4.mp4'}, {'bitrate': 256000, 'content_type': 'video/mp4', 'url': 'https://video.twimg.com/ext_tw_video/850380153985355777/pu/vid/256x320/XI0LZIOnaHLYj1MS.mp4'}, {'content_type': 'application/x-mpegURL', 'url': 'https://video.twimg.com/ext_tw_video/850380153985355777/pu/pl/WHwPWTqDgzhgDyJs.m3u8'}]}, 'features': {}, 'additional_media_info': {'monetizable': False}}\n",
      "===========\n",
      "209\n",
      "{'id': 817423809049493505, 'id_str': '817423809049493505', 'indices': [72, 95], 'media_url': 'http://pbs.twimg.com/ext_tw_video_thumb/817423809049493505/pu/img/5OFW0yueFu9oTUiQ.jpg', 'media_url_https': 'https://pbs.twimg.com/ext_tw_video_thumb/817423809049493505/pu/img/5OFW0yueFu9oTUiQ.jpg', 'url': 'https://t.co/btzf1zTDeQ', 'display_url': 'pic.twitter.com/btzf1zTDeQ', 'expanded_url': 'https://twitter.com/dog_rates/status/817423860136083457/video/1', 'type': 'photo', 'sizes': {'thumb': {'w': 150, 'h': 150, 'resize': 'crop'}, 'small': {'w': 680, 'h': 680, 'resize': 'fit'}, 'medium': {'w': 720, 'h': 720, 'resize': 'fit'}, 'large': {'w': 720, 'h': 720, 'resize': 'fit'}}, 'source_status_id': 817423860136083457, 'source_status_id_str': '817423860136083457', 'source_user_id': 4196983835, 'source_user_id_str': '4196983835', 'features': {}}\n",
      "-----------\n",
      "{'id': 817423809049493505, 'id_str': '817423809049493505', 'indices': [72, 95], 'media_url': 'http://pbs.twimg.com/ext_tw_video_thumb/817423809049493505/pu/img/5OFW0yueFu9oTUiQ.jpg', 'media_url_https': 'https://pbs.twimg.com/ext_tw_video_thumb/817423809049493505/pu/img/5OFW0yueFu9oTUiQ.jpg', 'url': 'https://t.co/btzf1zTDeQ', 'display_url': 'pic.twitter.com/btzf1zTDeQ', 'expanded_url': 'https://twitter.com/dog_rates/status/817423860136083457/video/1', 'type': 'video', 'sizes': {'thumb': {'w': 150, 'h': 150, 'resize': 'crop'}, 'small': {'w': 680, 'h': 680, 'resize': 'fit'}, 'medium': {'w': 720, 'h': 720, 'resize': 'fit'}, 'large': {'w': 720, 'h': 720, 'resize': 'fit'}}, 'source_status_id': 817423860136083457, 'source_status_id_str': '817423860136083457', 'source_user_id': 4196983835, 'source_user_id_str': '4196983835', 'video_info': {'aspect_ratio': [1, 1], 'duration_millis': 12079, 'variants': [{'bitrate': 1280000, 'content_type': 'video/mp4', 'url': 'https://video.twimg.com/ext_tw_video/817423809049493505/pu/vid/720x720/I9zru8euq3KyMtPW.mp4'}, {'content_type': 'application/x-mpegURL', 'url': 'https://video.twimg.com/ext_tw_video/817423809049493505/pu/pl/pjux09oIx4_Pqa3X.m3u8'}, {'bitrate': 832000, 'content_type': 'video/mp4', 'url': 'https://video.twimg.com/ext_tw_video/817423809049493505/pu/vid/480x480/dHYYdvXMlZuCCtRJ.mp4'}, {'bitrate': 256000, 'content_type': 'video/mp4', 'url': 'https://video.twimg.com/ext_tw_video/817423809049493505/pu/vid/240x240/J33-HErqMVqpUn6L.mp4'}]}, 'features': {}, 'additional_media_info': {'monetizable': False, 'source_user': {'id': 4196983835, 'id_str': '4196983835', 'name': 'WeRateDogs®', 'screen_name': 'dog_rates', 'location': '「 DM YOUR DOGS 」', 'description': 'Your Only Source For Professional Dog Ratings Instagram and Facebook ➪ WeRateDogs partnerships@weratedogs.com ⠀⠀⠀⠀⠀⠀⠀⠀⠀⠀⠀⠀', 'url': 'https://t.co/N7sNNHSfPq', 'entities': {'url': {'urls': [{'url': 'https://t.co/N7sNNHSfPq', 'expanded_url': 'http://weratedogs.com', 'display_url': 'weratedogs.com', 'indices': [0, 23]}]}, 'description': {'urls': []}}, 'protected': False, 'followers_count': 8494996, 'friends_count': 14, 'listed_count': 6717, 'created_at': 'Sun Nov 15 21:41:29 +0000 2015', 'favourites_count': 143613, 'utc_offset': None, 'time_zone': None, 'geo_enabled': True, 'verified': True, 'statuses_count': 11069, 'lang': None, 'contributors_enabled': False, 'is_translator': False, 'is_translation_enabled': False, 'profile_background_color': '000000', 'profile_background_image_url': 'http://abs.twimg.com/images/themes/theme1/bg.png', 'profile_background_image_url_https': 'https://abs.twimg.com/images/themes/theme1/bg.png', 'profile_background_tile': False, 'profile_image_url': 'http://pbs.twimg.com/profile_images/1191848405112426496/lz8cuaiI_normal.jpg', 'profile_image_url_https': 'https://pbs.twimg.com/profile_images/1191848405112426496/lz8cuaiI_normal.jpg', 'profile_banner_url': 'https://pbs.twimg.com/profile_banners/4196983835/1565965307', 'profile_link_color': 'F5ABB5', 'profile_sidebar_border_color': '000000', 'profile_sidebar_fill_color': '000000', 'profile_text_color': '000000', 'profile_use_background_image': False, 'has_extended_profile': False, 'default_profile': False, 'default_profile_image': False, 'can_media_tag': True, 'followed_by': False, 'following': False, 'follow_request_sent': False, 'notifications': False, 'translator_type': 'none'}}}\n",
      "===========\n",
      "212\n",
      "{'id': 841311812641533952, 'id_str': '841311812641533952', 'indices': [128, 151], 'media_url': 'http://pbs.twimg.com/ext_tw_video_thumb/841311812641533952/pu/img/sBUGt8u76n9azPWI.jpg', 'media_url_https': 'https://pbs.twimg.com/ext_tw_video_thumb/841311812641533952/pu/img/sBUGt8u76n9azPWI.jpg', 'url': 'https://t.co/9lVAqDEvZ5', 'display_url': 'pic.twitter.com/9lVAqDEvZ5', 'expanded_url': 'https://twitter.com/dog_rates/status/841314665196081154/video/1', 'type': 'photo', 'sizes': {'medium': {'w': 718, 'h': 404, 'resize': 'fit'}, 'thumb': {'w': 150, 'h': 150, 'resize': 'crop'}, 'large': {'w': 718, 'h': 404, 'resize': 'fit'}, 'small': {'w': 680, 'h': 383, 'resize': 'fit'}}, 'features': {}}\n",
      "-----------\n",
      "{'id': 841311812641533952, 'id_str': '841311812641533952', 'indices': [128, 151], 'media_url': 'http://pbs.twimg.com/ext_tw_video_thumb/841311812641533952/pu/img/sBUGt8u76n9azPWI.jpg', 'media_url_https': 'https://pbs.twimg.com/ext_tw_video_thumb/841311812641533952/pu/img/sBUGt8u76n9azPWI.jpg', 'url': 'https://t.co/9lVAqDEvZ5', 'display_url': 'pic.twitter.com/9lVAqDEvZ5', 'expanded_url': 'https://twitter.com/dog_rates/status/841314665196081154/video/1', 'type': 'video', 'sizes': {'medium': {'w': 718, 'h': 404, 'resize': 'fit'}, 'thumb': {'w': 150, 'h': 150, 'resize': 'crop'}, 'large': {'w': 718, 'h': 404, 'resize': 'fit'}, 'small': {'w': 680, 'h': 383, 'resize': 'fit'}}, 'video_info': {'aspect_ratio': [359, 202], 'duration_millis': 15015, 'variants': [{'bitrate': 256000, 'content_type': 'video/mp4', 'url': 'https://video.twimg.com/ext_tw_video/841311812641533952/pu/vid/318x180/umPCPClfDjQeUSqg.mp4'}, {'bitrate': 832000, 'content_type': 'video/mp4', 'url': 'https://video.twimg.com/ext_tw_video/841311812641533952/pu/vid/638x360/7vqIA-_UfM3dJ7XV.mp4'}, {'content_type': 'application/x-mpegURL', 'url': 'https://video.twimg.com/ext_tw_video/841311812641533952/pu/pl/qpjZhO6Y6T5s48Yq.m3u8'}]}, 'features': {}, 'additional_media_info': {'monetizable': False}}\n",
      "===========\n",
      "260\n",
      "{'id': 832273373149413377, 'id_str': '832273373149413377', 'indices': [131, 154], 'media_url': 'http://pbs.twimg.com/ext_tw_video_thumb/832273373149413377/pu/img/qOqxM0b48fEarmq6.jpg', 'media_url_https': 'https://pbs.twimg.com/ext_tw_video_thumb/832273373149413377/pu/img/qOqxM0b48fEarmq6.jpg', 'url': 'https://t.co/SHAb1wHjMz', 'display_url': 'pic.twitter.com/SHAb1wHjMz', 'expanded_url': 'https://twitter.com/dog_rates/status/832273440279240704/video/1', 'type': 'photo', 'sizes': {'thumb': {'w': 150, 'h': 150, 'resize': 'crop'}, 'medium': {'w': 1200, 'h': 675, 'resize': 'fit'}, 'small': {'w': 680, 'h': 383, 'resize': 'fit'}, 'large': {'w': 1280, 'h': 720, 'resize': 'fit'}}, 'features': {}}\n",
      "-----------\n",
      "{'id': 832273373149413377, 'id_str': '832273373149413377', 'indices': [131, 154], 'media_url': 'http://pbs.twimg.com/ext_tw_video_thumb/832273373149413377/pu/img/qOqxM0b48fEarmq6.jpg', 'media_url_https': 'https://pbs.twimg.com/ext_tw_video_thumb/832273373149413377/pu/img/qOqxM0b48fEarmq6.jpg', 'url': 'https://t.co/SHAb1wHjMz', 'display_url': 'pic.twitter.com/SHAb1wHjMz', 'expanded_url': 'https://twitter.com/dog_rates/status/832273440279240704/video/1', 'type': 'video', 'sizes': {'thumb': {'w': 150, 'h': 150, 'resize': 'crop'}, 'medium': {'w': 1200, 'h': 675, 'resize': 'fit'}, 'small': {'w': 680, 'h': 383, 'resize': 'fit'}, 'large': {'w': 1280, 'h': 720, 'resize': 'fit'}}, 'video_info': {'aspect_ratio': [16, 9], 'duration_millis': 23282, 'variants': [{'bitrate': 2176000, 'content_type': 'video/mp4', 'url': 'https://video.twimg.com/ext_tw_video/832273373149413377/pu/vid/1280x720/4VhBJ0Ca_D4yKcmA.mp4'}, {'bitrate': 832000, 'content_type': 'video/mp4', 'url': 'https://video.twimg.com/ext_tw_video/832273373149413377/pu/vid/640x360/2oEmeRltWzxbnLzb.mp4'}, {'bitrate': 256000, 'content_type': 'video/mp4', 'url': 'https://video.twimg.com/ext_tw_video/832273373149413377/pu/vid/320x180/MGOqTVIB0Cqm2zq5.mp4'}, {'content_type': 'application/x-mpegURL', 'url': 'https://video.twimg.com/ext_tw_video/832273373149413377/pu/pl/1xVC6gdDVtcQ3B_Y.m3u8'}]}, 'features': {}, 'additional_media_info': {'monetizable': False}}\n",
      "===========\n",
      "273\n",
      "{'id': 830956118893543424, 'id_str': '830956118893543424', 'indices': [61, 84], 'media_url': 'http://pbs.twimg.com/ext_tw_video_thumb/830956118893543424/pu/img/t2G0raF7pDPRMAH5.jpg', 'media_url_https': 'https://pbs.twimg.com/ext_tw_video_thumb/830956118893543424/pu/img/t2G0raF7pDPRMAH5.jpg', 'url': 'https://t.co/X4vNEzAod5', 'display_url': 'pic.twitter.com/X4vNEzAod5', 'expanded_url': 'https://twitter.com/dog_rates/status/830956169170665475/video/1', 'type': 'photo', 'sizes': {'thumb': {'w': 150, 'h': 150, 'resize': 'crop'}, 'medium': {'w': 384, 'h': 480, 'resize': 'fit'}, 'small': {'w': 384, 'h': 480, 'resize': 'fit'}, 'large': {'w': 384, 'h': 480, 'resize': 'fit'}}, 'features': {}}\n",
      "-----------\n",
      "{'id': 830956118893543424, 'id_str': '830956118893543424', 'indices': [61, 84], 'media_url': 'http://pbs.twimg.com/ext_tw_video_thumb/830956118893543424/pu/img/t2G0raF7pDPRMAH5.jpg', 'media_url_https': 'https://pbs.twimg.com/ext_tw_video_thumb/830956118893543424/pu/img/t2G0raF7pDPRMAH5.jpg', 'url': 'https://t.co/X4vNEzAod5', 'display_url': 'pic.twitter.com/X4vNEzAod5', 'expanded_url': 'https://twitter.com/dog_rates/status/830956169170665475/video/1', 'type': 'video', 'sizes': {'thumb': {'w': 150, 'h': 150, 'resize': 'crop'}, 'medium': {'w': 384, 'h': 480, 'resize': 'fit'}, 'small': {'w': 384, 'h': 480, 'resize': 'fit'}, 'large': {'w': 384, 'h': 480, 'resize': 'fit'}}, 'video_info': {'aspect_ratio': [4, 5], 'duration_millis': 6455, 'variants': [{'bitrate': 256000, 'content_type': 'video/mp4', 'url': 'https://video.twimg.com/ext_tw_video/830956118893543424/pu/vid/256x320/ClvYQGis06SUvIXR.mp4'}, {'content_type': 'application/x-mpegURL', 'url': 'https://video.twimg.com/ext_tw_video/830956118893543424/pu/pl/dT_piXUmoo_0G3mN.m3u8'}]}, 'features': {}, 'additional_media_info': {'monetizable': False}}\n",
      "===========\n"
     ]
    },
    {
     "name": "stdout",
     "output_type": "stream",
     "text": [
      "331\n",
      "{'id': 821407155391725568, 'id_str': '821407155391725568', 'indices': [115, 138], 'media_url': 'http://pbs.twimg.com/ext_tw_video_thumb/821407155391725568/pu/img/AJC07gFJDDBuwNTD.jpg', 'media_url_https': 'https://pbs.twimg.com/ext_tw_video_thumb/821407155391725568/pu/img/AJC07gFJDDBuwNTD.jpg', 'url': 'https://t.co/Xn5AQtiqzG', 'display_url': 'pic.twitter.com/Xn5AQtiqzG', 'expanded_url': 'https://twitter.com/dog_rates/status/821407182352777218/video/1', 'type': 'photo', 'sizes': {'thumb': {'w': 150, 'h': 150, 'resize': 'crop'}, 'medium': {'w': 568, 'h': 320, 'resize': 'fit'}, 'large': {'w': 568, 'h': 320, 'resize': 'fit'}, 'small': {'w': 568, 'h': 320, 'resize': 'fit'}}, 'features': {}}\n",
      "-----------\n",
      "{'id': 821407155391725568, 'id_str': '821407155391725568', 'indices': [115, 138], 'media_url': 'http://pbs.twimg.com/ext_tw_video_thumb/821407155391725568/pu/img/AJC07gFJDDBuwNTD.jpg', 'media_url_https': 'https://pbs.twimg.com/ext_tw_video_thumb/821407155391725568/pu/img/AJC07gFJDDBuwNTD.jpg', 'url': 'https://t.co/Xn5AQtiqzG', 'display_url': 'pic.twitter.com/Xn5AQtiqzG', 'expanded_url': 'https://twitter.com/dog_rates/status/821407182352777218/video/1', 'type': 'video', 'sizes': {'thumb': {'w': 150, 'h': 150, 'resize': 'crop'}, 'medium': {'w': 568, 'h': 320, 'resize': 'fit'}, 'large': {'w': 568, 'h': 320, 'resize': 'fit'}, 'small': {'w': 568, 'h': 320, 'resize': 'fit'}}, 'video_info': {'aspect_ratio': [71, 40], 'duration_millis': 13742, 'variants': [{'content_type': 'application/x-mpegURL', 'url': 'https://video.twimg.com/ext_tw_video/821407155391725568/pu/pl/2lZLmtVj1vCFlWkH.m3u8'}, {'bitrate': 256000, 'content_type': 'video/mp4', 'url': 'https://video.twimg.com/ext_tw_video/821407155391725568/pu/vid/318x180/m3qZ2XpwSfkFrL5q.mp4'}]}, 'features': {}, 'additional_media_info': {'monetizable': False}}\n",
      "===========\n",
      "332\n",
      "{'id': 821149477142556673, 'id_str': '821149477142556673', 'indices': [63, 86], 'media_url': 'http://pbs.twimg.com/ext_tw_video_thumb/821149477142556673/pu/img/88_DV098c60pC5AA.jpg', 'media_url_https': 'https://pbs.twimg.com/ext_tw_video_thumb/821149477142556673/pu/img/88_DV098c60pC5AA.jpg', 'url': 'https://t.co/r8DxA8DYJ2', 'display_url': 'pic.twitter.com/r8DxA8DYJ2', 'expanded_url': 'https://twitter.com/dog_rates/status/821149554670182400/video/1', 'type': 'photo', 'sizes': {'thumb': {'w': 150, 'h': 150, 'resize': 'crop'}, 'small': {'w': 383, 'h': 680, 'resize': 'fit'}, 'large': {'w': 720, 'h': 1280, 'resize': 'fit'}, 'medium': {'w': 675, 'h': 1200, 'resize': 'fit'}}, 'features': {}}\n",
      "-----------\n",
      "{'id': 821149477142556673, 'id_str': '821149477142556673', 'indices': [63, 86], 'media_url': 'http://pbs.twimg.com/ext_tw_video_thumb/821149477142556673/pu/img/88_DV098c60pC5AA.jpg', 'media_url_https': 'https://pbs.twimg.com/ext_tw_video_thumb/821149477142556673/pu/img/88_DV098c60pC5AA.jpg', 'url': 'https://t.co/r8DxA8DYJ2', 'display_url': 'pic.twitter.com/r8DxA8DYJ2', 'expanded_url': 'https://twitter.com/dog_rates/status/821149554670182400/video/1', 'type': 'video', 'sizes': {'thumb': {'w': 150, 'h': 150, 'resize': 'crop'}, 'small': {'w': 383, 'h': 680, 'resize': 'fit'}, 'large': {'w': 720, 'h': 1280, 'resize': 'fit'}, 'medium': {'w': 675, 'h': 1200, 'resize': 'fit'}}, 'video_info': {'aspect_ratio': [9, 16], 'duration_millis': 9973, 'variants': [{'bitrate': 832000, 'content_type': 'video/mp4', 'url': 'https://video.twimg.com/ext_tw_video/821149477142556673/pu/vid/360x640/EiJigAo1HWWaapjE.mp4'}, {'bitrate': 2176000, 'content_type': 'video/mp4', 'url': 'https://video.twimg.com/ext_tw_video/821149477142556673/pu/vid/720x1280/TGcn4gpcV55iVcJN.mp4'}, {'bitrate': 256000, 'content_type': 'video/mp4', 'url': 'https://video.twimg.com/ext_tw_video/821149477142556673/pu/vid/180x320/E4au_SLstZi0py2J.mp4'}, {'content_type': 'application/x-mpegURL', 'url': 'https://video.twimg.com/ext_tw_video/821149477142556673/pu/pl/-lfb3YUSt5rsjN8K.m3u8'}]}, 'features': {}, 'additional_media_info': {'monetizable': False}}\n",
      "===========\n",
      "341\n",
      "{'id': 819924138965999617, 'id_str': '819924138965999617', 'indices': [98, 121], 'media_url': 'http://pbs.twimg.com/ext_tw_video_thumb/819924138965999617/pu/img/6OIToyT9eLESHXLU.jpg', 'media_url_https': 'https://pbs.twimg.com/ext_tw_video_thumb/819924138965999617/pu/img/6OIToyT9eLESHXLU.jpg', 'url': 'https://t.co/XdRNXNYD4E', 'display_url': 'pic.twitter.com/XdRNXNYD4E', 'expanded_url': 'https://twitter.com/dog_rates/status/819924195358416896/video/1', 'type': 'photo', 'sizes': {'medium': {'w': 480, 'h': 270, 'resize': 'fit'}, 'thumb': {'w': 150, 'h': 150, 'resize': 'crop'}, 'small': {'w': 480, 'h': 270, 'resize': 'fit'}, 'large': {'w': 480, 'h': 270, 'resize': 'fit'}}, 'features': {}}\n",
      "-----------\n",
      "{'id': 819924138965999617, 'id_str': '819924138965999617', 'indices': [98, 121], 'media_url': 'http://pbs.twimg.com/ext_tw_video_thumb/819924138965999617/pu/img/6OIToyT9eLESHXLU.jpg', 'media_url_https': 'https://pbs.twimg.com/ext_tw_video_thumb/819924138965999617/pu/img/6OIToyT9eLESHXLU.jpg', 'url': 'https://t.co/XdRNXNYD4E', 'display_url': 'pic.twitter.com/XdRNXNYD4E', 'expanded_url': 'https://twitter.com/dog_rates/status/819924195358416896/video/1', 'type': 'video', 'sizes': {'medium': {'w': 480, 'h': 270, 'resize': 'fit'}, 'thumb': {'w': 150, 'h': 150, 'resize': 'crop'}, 'small': {'w': 480, 'h': 270, 'resize': 'fit'}, 'large': {'w': 480, 'h': 270, 'resize': 'fit'}}, 'video_info': {'aspect_ratio': [16, 9], 'duration_millis': 26300, 'variants': [{'bitrate': 256000, 'content_type': 'video/mp4', 'url': 'https://video.twimg.com/ext_tw_video/819924138965999617/pu/vid/320x180/M2MxmTw_gkf0jHvh.mp4'}, {'content_type': 'application/x-mpegURL', 'url': 'https://video.twimg.com/ext_tw_video/819924138965999617/pu/pl/ExbfVGjHPVfDYLRs.m3u8'}]}, 'features': {}, 'additional_media_info': {'monetizable': False}}\n",
      "===========\n",
      "356\n",
      "{'id': 817827663108771841, 'id_str': '817827663108771841', 'indices': [117, 140], 'media_url': 'http://pbs.twimg.com/ext_tw_video_thumb/817827663108771841/pu/img/e9oi839RGWJR37jF.jpg', 'media_url_https': 'https://pbs.twimg.com/ext_tw_video_thumb/817827663108771841/pu/img/e9oi839RGWJR37jF.jpg', 'url': 'https://t.co/q2BgNIi3OA', 'display_url': 'pic.twitter.com/q2BgNIi3OA', 'expanded_url': 'https://twitter.com/dog_rates/status/817827839487737858/video/1', 'type': 'photo', 'sizes': {'thumb': {'w': 150, 'h': 150, 'resize': 'crop'}, 'small': {'w': 383, 'h': 680, 'resize': 'fit'}, 'medium': {'w': 406, 'h': 720, 'resize': 'fit'}, 'large': {'w': 406, 'h': 720, 'resize': 'fit'}}, 'features': {}}\n",
      "-----------\n",
      "{'id': 817827663108771841, 'id_str': '817827663108771841', 'indices': [117, 140], 'media_url': 'http://pbs.twimg.com/ext_tw_video_thumb/817827663108771841/pu/img/e9oi839RGWJR37jF.jpg', 'media_url_https': 'https://pbs.twimg.com/ext_tw_video_thumb/817827663108771841/pu/img/e9oi839RGWJR37jF.jpg', 'url': 'https://t.co/q2BgNIi3OA', 'display_url': 'pic.twitter.com/q2BgNIi3OA', 'expanded_url': 'https://twitter.com/dog_rates/status/817827839487737858/video/1', 'type': 'video', 'sizes': {'thumb': {'w': 150, 'h': 150, 'resize': 'crop'}, 'small': {'w': 383, 'h': 680, 'resize': 'fit'}, 'medium': {'w': 406, 'h': 720, 'resize': 'fit'}, 'large': {'w': 406, 'h': 720, 'resize': 'fit'}}, 'video_info': {'aspect_ratio': [203, 360], 'duration_millis': 63167, 'variants': [{'bitrate': 256000, 'content_type': 'video/mp4', 'url': 'https://video.twimg.com/ext_tw_video/817827663108771841/pu/vid/180x320/IrfbBqsst8qEXxNG.mp4'}, {'bitrate': 832000, 'content_type': 'video/mp4', 'url': 'https://video.twimg.com/ext_tw_video/817827663108771841/pu/vid/360x640/O3a0D7xslG80E2QM.mp4'}, {'content_type': 'application/x-mpegURL', 'url': 'https://video.twimg.com/ext_tw_video/817827663108771841/pu/pl/0ec0OHgwuDKE45Wv.m3u8'}]}, 'features': {}, 'additional_media_info': {'monetizable': False}}\n",
      "===========\n",
      "357\n",
      "{'id': 817777588030476288, 'id_str': '817777588030476288', 'indices': [141, 164], 'media_url': 'http://pbs.twimg.com/ext_tw_video_thumb/817777588030476288/pu/img/KbuLpE4krHF4VdPf.jpg', 'media_url_https': 'https://pbs.twimg.com/ext_tw_video_thumb/817777588030476288/pu/img/KbuLpE4krHF4VdPf.jpg', 'url': 'https://t.co/m7isZrOBX7', 'display_url': 'pic.twitter.com/m7isZrOBX7', 'expanded_url': 'https://twitter.com/dog_rates/status/817777686764523521/video/1', 'type': 'photo', 'sizes': {'thumb': {'w': 150, 'h': 150, 'resize': 'crop'}, 'medium': {'w': 384, 'h': 480, 'resize': 'fit'}, 'small': {'w': 384, 'h': 480, 'resize': 'fit'}, 'large': {'w': 384, 'h': 480, 'resize': 'fit'}}, 'features': {}}\n",
      "-----------\n",
      "{'id': 817777588030476288, 'id_str': '817777588030476288', 'indices': [141, 164], 'media_url': 'http://pbs.twimg.com/ext_tw_video_thumb/817777588030476288/pu/img/KbuLpE4krHF4VdPf.jpg', 'media_url_https': 'https://pbs.twimg.com/ext_tw_video_thumb/817777588030476288/pu/img/KbuLpE4krHF4VdPf.jpg', 'url': 'https://t.co/m7isZrOBX7', 'display_url': 'pic.twitter.com/m7isZrOBX7', 'expanded_url': 'https://twitter.com/dog_rates/status/817777686764523521/video/1', 'type': 'video', 'sizes': {'thumb': {'w': 150, 'h': 150, 'resize': 'crop'}, 'medium': {'w': 384, 'h': 480, 'resize': 'fit'}, 'small': {'w': 384, 'h': 480, 'resize': 'fit'}, 'large': {'w': 384, 'h': 480, 'resize': 'fit'}}, 'video_info': {'aspect_ratio': [4, 5], 'duration_millis': 45030, 'variants': [{'bitrate': 256000, 'content_type': 'video/mp4', 'url': 'https://video.twimg.com/ext_tw_video/817777588030476288/pu/vid/256x320/k3rN1SZVoTvIG8iz.mp4'}, {'content_type': 'application/x-mpegURL', 'url': 'https://video.twimg.com/ext_tw_video/817777588030476288/pu/pl/IElDkG2nvol7sRFM.m3u8'}]}, 'features': {}, 'additional_media_info': {'monetizable': False}}\n",
      "===========\n",
      "359\n",
      "{'id': 817423809049493505, 'id_str': '817423809049493505', 'indices': [57, 80], 'media_url': 'http://pbs.twimg.com/ext_tw_video_thumb/817423809049493505/pu/img/5OFW0yueFu9oTUiQ.jpg', 'media_url_https': 'https://pbs.twimg.com/ext_tw_video_thumb/817423809049493505/pu/img/5OFW0yueFu9oTUiQ.jpg', 'url': 'https://t.co/btzf1zTDeQ', 'display_url': 'pic.twitter.com/btzf1zTDeQ', 'expanded_url': 'https://twitter.com/dog_rates/status/817423860136083457/video/1', 'type': 'photo', 'sizes': {'thumb': {'w': 150, 'h': 150, 'resize': 'crop'}, 'small': {'w': 680, 'h': 680, 'resize': 'fit'}, 'medium': {'w': 720, 'h': 720, 'resize': 'fit'}, 'large': {'w': 720, 'h': 720, 'resize': 'fit'}}, 'features': {}}\n",
      "-----------\n",
      "{'id': 817423809049493505, 'id_str': '817423809049493505', 'indices': [57, 80], 'media_url': 'http://pbs.twimg.com/ext_tw_video_thumb/817423809049493505/pu/img/5OFW0yueFu9oTUiQ.jpg', 'media_url_https': 'https://pbs.twimg.com/ext_tw_video_thumb/817423809049493505/pu/img/5OFW0yueFu9oTUiQ.jpg', 'url': 'https://t.co/btzf1zTDeQ', 'display_url': 'pic.twitter.com/btzf1zTDeQ', 'expanded_url': 'https://twitter.com/dog_rates/status/817423860136083457/video/1', 'type': 'video', 'sizes': {'thumb': {'w': 150, 'h': 150, 'resize': 'crop'}, 'small': {'w': 680, 'h': 680, 'resize': 'fit'}, 'medium': {'w': 720, 'h': 720, 'resize': 'fit'}, 'large': {'w': 720, 'h': 720, 'resize': 'fit'}}, 'video_info': {'aspect_ratio': [1, 1], 'duration_millis': 12079, 'variants': [{'bitrate': 1280000, 'content_type': 'video/mp4', 'url': 'https://video.twimg.com/ext_tw_video/817423809049493505/pu/vid/720x720/I9zru8euq3KyMtPW.mp4'}, {'content_type': 'application/x-mpegURL', 'url': 'https://video.twimg.com/ext_tw_video/817423809049493505/pu/pl/pjux09oIx4_Pqa3X.m3u8'}, {'bitrate': 832000, 'content_type': 'video/mp4', 'url': 'https://video.twimg.com/ext_tw_video/817423809049493505/pu/vid/480x480/dHYYdvXMlZuCCtRJ.mp4'}, {'bitrate': 256000, 'content_type': 'video/mp4', 'url': 'https://video.twimg.com/ext_tw_video/817423809049493505/pu/vid/240x240/J33-HErqMVqpUn6L.mp4'}]}, 'features': {}, 'additional_media_info': {'monetizable': False}}\n",
      "===========\n",
      "361\n",
      "{'id': 815965888126062592, 'id_str': '815965888126062592', 'indices': [73, 96], 'media_url': 'http://pbs.twimg.com/ext_tw_video_thumb/815965888126062592/pu/img/JleSw4wRhgKDWQj5.jpg', 'media_url_https': 'https://pbs.twimg.com/ext_tw_video_thumb/815965888126062592/pu/img/JleSw4wRhgKDWQj5.jpg', 'url': 'https://t.co/MiMKtsLN6k', 'display_url': 'pic.twitter.com/MiMKtsLN6k', 'expanded_url': 'https://twitter.com/dog_rates/status/815966073409433600/video/1', 'type': 'photo', 'sizes': {'thumb': {'w': 150, 'h': 150, 'resize': 'crop'}, 'medium': {'w': 568, 'h': 320, 'resize': 'fit'}, 'large': {'w': 568, 'h': 320, 'resize': 'fit'}, 'small': {'w': 568, 'h': 320, 'resize': 'fit'}}, 'source_status_id': 815966073409433600, 'source_status_id_str': '815966073409433600', 'source_user_id': 4196983835, 'source_user_id_str': '4196983835', 'features': {}}\n",
      "-----------\n",
      "{'id': 815965888126062592, 'id_str': '815965888126062592', 'indices': [73, 96], 'media_url': 'http://pbs.twimg.com/ext_tw_video_thumb/815965888126062592/pu/img/JleSw4wRhgKDWQj5.jpg', 'media_url_https': 'https://pbs.twimg.com/ext_tw_video_thumb/815965888126062592/pu/img/JleSw4wRhgKDWQj5.jpg', 'url': 'https://t.co/MiMKtsLN6k', 'display_url': 'pic.twitter.com/MiMKtsLN6k', 'expanded_url': 'https://twitter.com/dog_rates/status/815966073409433600/video/1', 'type': 'video', 'sizes': {'thumb': {'w': 150, 'h': 150, 'resize': 'crop'}, 'medium': {'w': 568, 'h': 320, 'resize': 'fit'}, 'large': {'w': 568, 'h': 320, 'resize': 'fit'}, 'small': {'w': 568, 'h': 320, 'resize': 'fit'}}, 'source_status_id': 815966073409433600, 'source_status_id_str': '815966073409433600', 'source_user_id': 4196983835, 'source_user_id_str': '4196983835', 'video_info': {'aspect_ratio': [71, 40], 'duration_millis': 14933, 'variants': [{'content_type': 'application/x-mpegURL', 'url': 'https://video.twimg.com/ext_tw_video/815965888126062592/pu/pl/_HKfIcEFLAA4vJZb.m3u8'}, {'bitrate': 256000, 'content_type': 'video/mp4', 'url': 'https://video.twimg.com/ext_tw_video/815965888126062592/pu/vid/318x180/pcQ7LVEhPzXZ8_7p.mp4'}]}, 'features': {}, 'additional_media_info': {'monetizable': False, 'source_user': {'id': 4196983835, 'id_str': '4196983835', 'name': 'WeRateDogs®', 'screen_name': 'dog_rates', 'location': '「 DM YOUR DOGS 」', 'description': 'Your Only Source For Professional Dog Ratings Instagram and Facebook ➪ WeRateDogs partnerships@weratedogs.com ⠀⠀⠀⠀⠀⠀⠀⠀⠀⠀⠀⠀', 'url': 'https://t.co/N7sNNHSfPq', 'entities': {'url': {'urls': [{'url': 'https://t.co/N7sNNHSfPq', 'expanded_url': 'http://weratedogs.com', 'display_url': 'weratedogs.com', 'indices': [0, 23]}]}, 'description': {'urls': []}}, 'protected': False, 'followers_count': 8495005, 'friends_count': 14, 'listed_count': 6718, 'created_at': 'Sun Nov 15 21:41:29 +0000 2015', 'favourites_count': 143613, 'utc_offset': None, 'time_zone': None, 'geo_enabled': True, 'verified': True, 'statuses_count': 11069, 'lang': None, 'contributors_enabled': False, 'is_translator': False, 'is_translation_enabled': False, 'profile_background_color': '000000', 'profile_background_image_url': 'http://abs.twimg.com/images/themes/theme1/bg.png', 'profile_background_image_url_https': 'https://abs.twimg.com/images/themes/theme1/bg.png', 'profile_background_tile': False, 'profile_image_url': 'http://pbs.twimg.com/profile_images/1191848405112426496/lz8cuaiI_normal.jpg', 'profile_image_url_https': 'https://pbs.twimg.com/profile_images/1191848405112426496/lz8cuaiI_normal.jpg', 'profile_banner_url': 'https://pbs.twimg.com/profile_banners/4196983835/1565965307', 'profile_link_color': 'F5ABB5', 'profile_sidebar_border_color': '000000', 'profile_sidebar_fill_color': '000000', 'profile_text_color': '000000', 'profile_use_background_image': False, 'has_extended_profile': False, 'default_profile': False, 'default_profile_image': False, 'can_media_tag': True, 'followed_by': False, 'following': False, 'follow_request_sent': False, 'notifications': False, 'translator_type': 'none'}}}\n",
      "===========\n",
      "373\n",
      "{'id': 815965888126062592, 'id_str': '815965888126062592', 'indices': [58, 81], 'media_url': 'http://pbs.twimg.com/ext_tw_video_thumb/815965888126062592/pu/img/JleSw4wRhgKDWQj5.jpg', 'media_url_https': 'https://pbs.twimg.com/ext_tw_video_thumb/815965888126062592/pu/img/JleSw4wRhgKDWQj5.jpg', 'url': 'https://t.co/MiMKtsLN6k', 'display_url': 'pic.twitter.com/MiMKtsLN6k', 'expanded_url': 'https://twitter.com/dog_rates/status/815966073409433600/video/1', 'type': 'photo', 'sizes': {'thumb': {'w': 150, 'h': 150, 'resize': 'crop'}, 'medium': {'w': 568, 'h': 320, 'resize': 'fit'}, 'large': {'w': 568, 'h': 320, 'resize': 'fit'}, 'small': {'w': 568, 'h': 320, 'resize': 'fit'}}, 'features': {}}\n",
      "-----------\n",
      "{'id': 815965888126062592, 'id_str': '815965888126062592', 'indices': [58, 81], 'media_url': 'http://pbs.twimg.com/ext_tw_video_thumb/815965888126062592/pu/img/JleSw4wRhgKDWQj5.jpg', 'media_url_https': 'https://pbs.twimg.com/ext_tw_video_thumb/815965888126062592/pu/img/JleSw4wRhgKDWQj5.jpg', 'url': 'https://t.co/MiMKtsLN6k', 'display_url': 'pic.twitter.com/MiMKtsLN6k', 'expanded_url': 'https://twitter.com/dog_rates/status/815966073409433600/video/1', 'type': 'video', 'sizes': {'thumb': {'w': 150, 'h': 150, 'resize': 'crop'}, 'medium': {'w': 568, 'h': 320, 'resize': 'fit'}, 'large': {'w': 568, 'h': 320, 'resize': 'fit'}, 'small': {'w': 568, 'h': 320, 'resize': 'fit'}}, 'video_info': {'aspect_ratio': [71, 40], 'duration_millis': 14933, 'variants': [{'content_type': 'application/x-mpegURL', 'url': 'https://video.twimg.com/ext_tw_video/815965888126062592/pu/pl/_HKfIcEFLAA4vJZb.m3u8'}, {'bitrate': 256000, 'content_type': 'video/mp4', 'url': 'https://video.twimg.com/ext_tw_video/815965888126062592/pu/vid/318x180/pcQ7LVEhPzXZ8_7p.mp4'}]}, 'features': {}, 'additional_media_info': {'monetizable': False}}\n",
      "===========\n",
      "423\n",
      "{'id': 807106774843039744, 'id_str': '807106774843039744', 'indices': [62, 85], 'media_url': 'http://pbs.twimg.com/ext_tw_video_thumb/807106774843039744/pu/img/8XZg1xW35Xp2J6JW.jpg', 'media_url_https': 'https://pbs.twimg.com/ext_tw_video_thumb/807106774843039744/pu/img/8XZg1xW35Xp2J6JW.jpg', 'url': 'https://t.co/DkBYaCAg2d', 'display_url': 'pic.twitter.com/DkBYaCAg2d', 'expanded_url': 'https://twitter.com/dog_rates/status/807106840509214720/video/1', 'type': 'photo', 'sizes': {'thumb': {'w': 150, 'h': 150, 'resize': 'crop'}, 'small': {'w': 544, 'h': 680, 'resize': 'fit'}, 'large': {'w': 640, 'h': 800, 'resize': 'fit'}, 'medium': {'w': 640, 'h': 800, 'resize': 'fit'}}, 'features': {}}\n",
      "-----------\n",
      "{'id': 807106774843039744, 'id_str': '807106774843039744', 'indices': [62, 85], 'media_url': 'http://pbs.twimg.com/ext_tw_video_thumb/807106774843039744/pu/img/8XZg1xW35Xp2J6JW.jpg', 'media_url_https': 'https://pbs.twimg.com/ext_tw_video_thumb/807106774843039744/pu/img/8XZg1xW35Xp2J6JW.jpg', 'url': 'https://t.co/DkBYaCAg2d', 'display_url': 'pic.twitter.com/DkBYaCAg2d', 'expanded_url': 'https://twitter.com/dog_rates/status/807106840509214720/video/1', 'type': 'video', 'sizes': {'thumb': {'w': 150, 'h': 150, 'resize': 'crop'}, 'small': {'w': 544, 'h': 680, 'resize': 'fit'}, 'large': {'w': 640, 'h': 800, 'resize': 'fit'}, 'medium': {'w': 640, 'h': 800, 'resize': 'fit'}}, 'video_info': {'aspect_ratio': [4, 5], 'duration_millis': 15967, 'variants': [{'content_type': 'application/x-mpegURL', 'url': 'https://video.twimg.com/ext_tw_video/807106774843039744/pu/pl/xYYVLGSP62Yzxz2m.m3u8'}, {'bitrate': 256000, 'content_type': 'video/mp4', 'url': 'https://video.twimg.com/ext_tw_video/807106774843039744/pu/vid/256x320/8nfyuHC5LV48MjXi.mp4'}, {'bitrate': 832000, 'content_type': 'video/mp4', 'url': 'https://video.twimg.com/ext_tw_video/807106774843039744/pu/vid/512x640/D8BmVrILrSek1MKE.mp4'}]}, 'features': {}, 'additional_media_info': {'monetizable': False}}\n",
      "===========\n",
      "432\n",
      "{'id': 805826823359631360, 'id_str': '805826823359631360', 'indices': [55, 78], 'media_url': 'http://pbs.twimg.com/ext_tw_video_thumb/805826823359631360/pu/img/yr_fF0TZCR-B70p2.jpg', 'media_url_https': 'https://pbs.twimg.com/ext_tw_video_thumb/805826823359631360/pu/img/yr_fF0TZCR-B70p2.jpg', 'url': 'https://t.co/SgpBVYIL18', 'display_url': 'pic.twitter.com/SgpBVYIL18', 'expanded_url': 'https://twitter.com/dog_rates/status/805826884734976000/video/1', 'type': 'photo', 'sizes': {'thumb': {'w': 150, 'h': 150, 'resize': 'crop'}, 'medium': {'w': 568, 'h': 320, 'resize': 'fit'}, 'large': {'w': 568, 'h': 320, 'resize': 'fit'}, 'small': {'w': 568, 'h': 320, 'resize': 'fit'}}, 'features': {}}\n",
      "-----------\n",
      "{'id': 805826823359631360, 'id_str': '805826823359631360', 'indices': [55, 78], 'media_url': 'http://pbs.twimg.com/ext_tw_video_thumb/805826823359631360/pu/img/yr_fF0TZCR-B70p2.jpg', 'media_url_https': 'https://pbs.twimg.com/ext_tw_video_thumb/805826823359631360/pu/img/yr_fF0TZCR-B70p2.jpg', 'url': 'https://t.co/SgpBVYIL18', 'display_url': 'pic.twitter.com/SgpBVYIL18', 'expanded_url': 'https://twitter.com/dog_rates/status/805826884734976000/video/1', 'type': 'video', 'sizes': {'thumb': {'w': 150, 'h': 150, 'resize': 'crop'}, 'medium': {'w': 568, 'h': 320, 'resize': 'fit'}, 'large': {'w': 568, 'h': 320, 'resize': 'fit'}, 'small': {'w': 568, 'h': 320, 'resize': 'fit'}}, 'video_info': {'aspect_ratio': [71, 40], 'duration_millis': 13413, 'variants': [{'content_type': 'application/x-mpegURL', 'url': 'https://video.twimg.com/ext_tw_video/805826823359631360/pu/pl/Z50WyyQqYYn79c5k.m3u8'}, {'bitrate': 256000, 'content_type': 'video/mp4', 'url': 'https://video.twimg.com/ext_tw_video/805826823359631360/pu/vid/318x180/9hZnITDH6BGpGBtp.mp4'}]}, 'features': {}, 'additional_media_info': {'monetizable': False}}\n",
      "===========\n",
      "441\n",
      "{'id': 803638023904559104, 'id_str': '803638023904559104', 'indices': [33, 56], 'media_url': 'http://pbs.twimg.com/ext_tw_video_thumb/803638023904559104/pu/img/vxm0Htm5iIV7EOAQ.jpg', 'media_url_https': 'https://pbs.twimg.com/ext_tw_video_thumb/803638023904559104/pu/img/vxm0Htm5iIV7EOAQ.jpg', 'url': 'https://t.co/ns9qoElfsX', 'display_url': 'pic.twitter.com/ns9qoElfsX', 'expanded_url': 'https://twitter.com/dog_rates/status/803638050916102144/video/1', 'type': 'photo', 'sizes': {'medium': {'w': 640, 'h': 640, 'resize': 'fit'}, 'thumb': {'w': 150, 'h': 150, 'resize': 'crop'}, 'large': {'w': 640, 'h': 640, 'resize': 'fit'}, 'small': {'w': 640, 'h': 640, 'resize': 'fit'}}, 'features': {}}\n",
      "-----------\n",
      "{'id': 803638023904559104, 'id_str': '803638023904559104', 'indices': [33, 56], 'media_url': 'http://pbs.twimg.com/ext_tw_video_thumb/803638023904559104/pu/img/vxm0Htm5iIV7EOAQ.jpg', 'media_url_https': 'https://pbs.twimg.com/ext_tw_video_thumb/803638023904559104/pu/img/vxm0Htm5iIV7EOAQ.jpg', 'url': 'https://t.co/ns9qoElfsX', 'display_url': 'pic.twitter.com/ns9qoElfsX', 'expanded_url': 'https://twitter.com/dog_rates/status/803638050916102144/video/1', 'type': 'video', 'sizes': {'medium': {'w': 640, 'h': 640, 'resize': 'fit'}, 'thumb': {'w': 150, 'h': 150, 'resize': 'crop'}, 'large': {'w': 640, 'h': 640, 'resize': 'fit'}, 'small': {'w': 640, 'h': 640, 'resize': 'fit'}}, 'video_info': {'aspect_ratio': [1, 1], 'duration_millis': 10000, 'variants': [{'bitrate': 256000, 'content_type': 'video/mp4', 'url': 'https://video.twimg.com/ext_tw_video/803638023904559104/pu/vid/240x240/X6pOMvaEx-_F4aif.mp4'}, {'content_type': 'application/x-mpegURL', 'url': 'https://video.twimg.com/ext_tw_video/803638023904559104/pu/pl/Lgf9iIP-6SwiG23D.m3u8'}, {'bitrate': 832000, 'content_type': 'video/mp4', 'url': 'https://video.twimg.com/ext_tw_video/803638023904559104/pu/vid/480x480/Ij0zWeaEOk4L90kY.mp4'}]}, 'features': {}, 'additional_media_info': {'monetizable': False}}\n",
      "===========\n",
      "461\n",
      "{'id': 800018199223959552, 'id_str': '800018199223959552', 'indices': [54, 77], 'media_url': 'http://pbs.twimg.com/ext_tw_video_thumb/800018199223959552/pu/img/3Qp73edtkZO-qWPy.jpg', 'media_url_https': 'https://pbs.twimg.com/ext_tw_video_thumb/800018199223959552/pu/img/3Qp73edtkZO-qWPy.jpg', 'url': 'https://t.co/gQqRBfkX4I', 'display_url': 'pic.twitter.com/gQqRBfkX4I', 'expanded_url': 'https://twitter.com/dog_rates/status/800018252395122689/video/1', 'type': 'photo', 'sizes': {'large': {'w': 720, 'h': 900, 'resize': 'fit'}, 'thumb': {'w': 150, 'h': 150, 'resize': 'crop'}, 'small': {'w': 544, 'h': 680, 'resize': 'fit'}, 'medium': {'w': 720, 'h': 900, 'resize': 'fit'}}, 'features': {}}\n",
      "-----------\n",
      "{'id': 800018199223959552, 'id_str': '800018199223959552', 'indices': [54, 77], 'media_url': 'http://pbs.twimg.com/ext_tw_video_thumb/800018199223959552/pu/img/3Qp73edtkZO-qWPy.jpg', 'media_url_https': 'https://pbs.twimg.com/ext_tw_video_thumb/800018199223959552/pu/img/3Qp73edtkZO-qWPy.jpg', 'url': 'https://t.co/gQqRBfkX4I', 'display_url': 'pic.twitter.com/gQqRBfkX4I', 'expanded_url': 'https://twitter.com/dog_rates/status/800018252395122689/video/1', 'type': 'video', 'sizes': {'large': {'w': 720, 'h': 900, 'resize': 'fit'}, 'thumb': {'w': 150, 'h': 150, 'resize': 'crop'}, 'small': {'w': 544, 'h': 680, 'resize': 'fit'}, 'medium': {'w': 720, 'h': 900, 'resize': 'fit'}}, 'video_info': {'aspect_ratio': [4, 5], 'duration_millis': 13013, 'variants': [{'content_type': 'application/x-mpegURL', 'url': 'https://video.twimg.com/ext_tw_video/800018199223959552/pu/pl/RwIvmZkbabtLlRSH.m3u8'}, {'bitrate': 256000, 'content_type': 'video/mp4', 'url': 'https://video.twimg.com/ext_tw_video/800018199223959552/pu/vid/256x320/Scr0i5NlXRK3YbWc.mp4'}, {'bitrate': 832000, 'content_type': 'video/mp4', 'url': 'https://video.twimg.com/ext_tw_video/800018199223959552/pu/vid/512x640/ZE07mjorkI-oi7U5.mp4'}]}, 'features': {}, 'additional_media_info': {'monetizable': False}}\n",
      "===========\n",
      "489\n",
      "{'id': 795464066940764160, 'id_str': '795464066940764160', 'indices': [55, 78], 'media_url': 'http://pbs.twimg.com/ext_tw_video_thumb/795464066940764160/pu/img/jPkMMQXdydb7CqFX.jpg', 'media_url_https': 'https://pbs.twimg.com/ext_tw_video_thumb/795464066940764160/pu/img/jPkMMQXdydb7CqFX.jpg', 'url': 'https://t.co/gBUDjdEcqz', 'display_url': 'pic.twitter.com/gBUDjdEcqz', 'expanded_url': 'https://twitter.com/dog_rates/status/795464331001561088/video/1', 'type': 'photo', 'sizes': {'thumb': {'w': 150, 'h': 150, 'resize': 'crop'}, 'small': {'w': 383, 'h': 680, 'resize': 'fit'}, 'large': {'w': 720, 'h': 1280, 'resize': 'fit'}, 'medium': {'w': 675, 'h': 1200, 'resize': 'fit'}}, 'features': {}}\n",
      "-----------\n",
      "{'id': 795464066940764160, 'id_str': '795464066940764160', 'indices': [55, 78], 'media_url': 'http://pbs.twimg.com/ext_tw_video_thumb/795464066940764160/pu/img/jPkMMQXdydb7CqFX.jpg', 'media_url_https': 'https://pbs.twimg.com/ext_tw_video_thumb/795464066940764160/pu/img/jPkMMQXdydb7CqFX.jpg', 'url': 'https://t.co/gBUDjdEcqz', 'display_url': 'pic.twitter.com/gBUDjdEcqz', 'expanded_url': 'https://twitter.com/dog_rates/status/795464331001561088/video/1', 'type': 'video', 'sizes': {'thumb': {'w': 150, 'h': 150, 'resize': 'crop'}, 'small': {'w': 383, 'h': 680, 'resize': 'fit'}, 'large': {'w': 720, 'h': 1280, 'resize': 'fit'}, 'medium': {'w': 675, 'h': 1200, 'resize': 'fit'}}, 'video_info': {'aspect_ratio': [9, 16], 'duration_millis': 15033, 'variants': [{'content_type': 'application/x-mpegURL', 'url': 'https://video.twimg.com/ext_tw_video/795464066940764160/pu/pl/_b0EAIvYVF8eivlT.m3u8'}, {'bitrate': 256000, 'content_type': 'video/mp4', 'url': 'https://video.twimg.com/ext_tw_video/795464066940764160/pu/vid/180x320/B_CLQyOu0qZol5Bi.mp4'}, {'bitrate': 2176000, 'content_type': 'video/mp4', 'url': 'https://video.twimg.com/ext_tw_video/795464066940764160/pu/vid/720x1280/FNHqB30qfAe1gQK3.mp4'}, {'bitrate': 832000, 'content_type': 'video/mp4', 'url': 'https://video.twimg.com/ext_tw_video/795464066940764160/pu/vid/360x640/Wz94X8j0YPVwkVD5.mp4'}]}, 'features': {}, 'additional_media_info': {'monetizable': False}}\n",
      "===========\n",
      "555\n",
      "{'id': 785872596088811520, 'id_str': '785872596088811520', 'indices': [115, 138], 'media_url': 'http://pbs.twimg.com/ext_tw_video_thumb/785872596088811520/pu/img/5O-_BgqdFQu_2Bt7.jpg', 'media_url_https': 'https://pbs.twimg.com/ext_tw_video_thumb/785872596088811520/pu/img/5O-_BgqdFQu_2Bt7.jpg', 'url': 'https://t.co/1j9kLGb4wV', 'display_url': 'pic.twitter.com/1j9kLGb4wV', 'expanded_url': 'https://twitter.com/dog_rates/status/785872687017132033/video/1', 'type': 'photo', 'sizes': {'thumb': {'w': 150, 'h': 150, 'resize': 'crop'}, 'large': {'w': 360, 'h': 640, 'resize': 'fit'}, 'medium': {'w': 360, 'h': 640, 'resize': 'fit'}, 'small': {'w': 360, 'h': 640, 'resize': 'fit'}}, 'features': {}}\n",
      "-----------\n",
      "{'id': 785872596088811520, 'id_str': '785872596088811520', 'indices': [115, 138], 'media_url': 'http://pbs.twimg.com/ext_tw_video_thumb/785872596088811520/pu/img/5O-_BgqdFQu_2Bt7.jpg', 'media_url_https': 'https://pbs.twimg.com/ext_tw_video_thumb/785872596088811520/pu/img/5O-_BgqdFQu_2Bt7.jpg', 'url': 'https://t.co/1j9kLGb4wV', 'display_url': 'pic.twitter.com/1j9kLGb4wV', 'expanded_url': 'https://twitter.com/dog_rates/status/785872687017132033/video/1', 'type': 'video', 'sizes': {'thumb': {'w': 150, 'h': 150, 'resize': 'crop'}, 'large': {'w': 360, 'h': 640, 'resize': 'fit'}, 'medium': {'w': 360, 'h': 640, 'resize': 'fit'}, 'small': {'w': 360, 'h': 640, 'resize': 'fit'}}, 'video_info': {'aspect_ratio': [9, 16], 'duration_millis': 7118, 'variants': [{'content_type': 'application/x-mpegURL', 'url': 'https://video.twimg.com/ext_tw_video/785872596088811520/pu/pl/Qhuj_sY6oN9HYk9p.m3u8'}, {'bitrate': 320000, 'content_type': 'video/mp4', 'url': 'https://video.twimg.com/ext_tw_video/785872596088811520/pu/vid/180x320/Qfdbc3jwzVIU8lYh.mp4'}, {'bitrate': 832000, 'content_type': 'video/mp4', 'url': 'https://video.twimg.com/ext_tw_video/785872596088811520/pu/vid/360x640/R0PU80Gdn9ww1-uf.mp4'}]}, 'features': {}, 'additional_media_info': {'monetizable': False}}\n",
      "===========\n"
     ]
    },
    {
     "name": "stdout",
     "output_type": "stream",
     "text": [
      "588\n",
      "{'id': 780465675571605505, 'id_str': '780465675571605505', 'indices': [80, 103], 'media_url': 'http://pbs.twimg.com/tweet_video_thumb/CtTFZZfUsAE5hgp.jpg', 'media_url_https': 'https://pbs.twimg.com/tweet_video_thumb/CtTFZZfUsAE5hgp.jpg', 'url': 'https://t.co/v4e2ywe8iO', 'display_url': 'pic.twitter.com/v4e2ywe8iO', 'expanded_url': 'https://twitter.com/Patreon/status/780465709297995776/photo/1', 'type': 'photo', 'sizes': {'thumb': {'w': 150, 'h': 150, 'resize': 'crop'}, 'large': {'w': 250, 'h': 266, 'resize': 'fit'}, 'small': {'w': 250, 'h': 266, 'resize': 'fit'}, 'medium': {'w': 250, 'h': 266, 'resize': 'fit'}}, 'source_status_id': 780465709297995776, 'source_status_id_str': '780465709297995776', 'source_user_id': 1228325660, 'source_user_id_str': '1228325660', 'features': {}}\n",
      "-----------\n",
      "{'id': 780465675571605505, 'id_str': '780465675571605505', 'indices': [80, 103], 'media_url': 'http://pbs.twimg.com/tweet_video_thumb/CtTFZZfUsAE5hgp.jpg', 'media_url_https': 'https://pbs.twimg.com/tweet_video_thumb/CtTFZZfUsAE5hgp.jpg', 'url': 'https://t.co/v4e2ywe8iO', 'display_url': 'pic.twitter.com/v4e2ywe8iO', 'expanded_url': 'https://twitter.com/Patreon/status/780465709297995776/photo/1', 'type': 'animated_gif', 'sizes': {'thumb': {'w': 150, 'h': 150, 'resize': 'crop'}, 'large': {'w': 250, 'h': 266, 'resize': 'fit'}, 'small': {'w': 250, 'h': 266, 'resize': 'fit'}, 'medium': {'w': 250, 'h': 266, 'resize': 'fit'}}, 'source_status_id': 780465709297995776, 'source_status_id_str': '780465709297995776', 'source_user_id': 1228325660, 'source_user_id_str': '1228325660', 'video_info': {'aspect_ratio': [125, 133], 'variants': [{'bitrate': 0, 'content_type': 'video/mp4', 'url': 'https://video.twimg.com/tweet_video/CtTFZZfUsAE5hgp.mp4'}]}, 'features': {}}\n",
      "===========\n",
      "592\n",
      "{'id': 779377444025499652, 'id_str': '779377444025499652', 'indices': [85, 108], 'media_url': 'http://pbs.twimg.com/ext_tw_video_thumb/779377444025499652/pu/img/eIiLDy9F6rPNarEc.jpg', 'media_url_https': 'https://pbs.twimg.com/ext_tw_video_thumb/779377444025499652/pu/img/eIiLDy9F6rPNarEc.jpg', 'url': 'https://t.co/KsqaIzlQ12', 'display_url': 'pic.twitter.com/KsqaIzlQ12', 'expanded_url': 'https://twitter.com/dog_rates/status/779377524342161408/video/1', 'type': 'photo', 'sizes': {'thumb': {'w': 150, 'h': 150, 'resize': 'crop'}, 'small': {'w': 382, 'h': 680, 'resize': 'fit'}, 'medium': {'w': 404, 'h': 720, 'resize': 'fit'}, 'large': {'w': 404, 'h': 720, 'resize': 'fit'}}, 'features': {}}\n",
      "-----------\n",
      "{'id': 779377444025499652, 'id_str': '779377444025499652', 'indices': [85, 108], 'media_url': 'http://pbs.twimg.com/ext_tw_video_thumb/779377444025499652/pu/img/eIiLDy9F6rPNarEc.jpg', 'media_url_https': 'https://pbs.twimg.com/ext_tw_video_thumb/779377444025499652/pu/img/eIiLDy9F6rPNarEc.jpg', 'url': 'https://t.co/KsqaIzlQ12', 'display_url': 'pic.twitter.com/KsqaIzlQ12', 'expanded_url': 'https://twitter.com/dog_rates/status/779377524342161408/video/1', 'type': 'video', 'sizes': {'thumb': {'w': 150, 'h': 150, 'resize': 'crop'}, 'small': {'w': 382, 'h': 680, 'resize': 'fit'}, 'medium': {'w': 404, 'h': 720, 'resize': 'fit'}, 'large': {'w': 404, 'h': 720, 'resize': 'fit'}}, 'video_info': {'aspect_ratio': [101, 180], 'duration_millis': 15000, 'variants': [{'bitrate': 832000, 'content_type': 'video/mp4', 'url': 'https://video.twimg.com/ext_tw_video/779377444025499652/pu/vid/358x640/S4Z8EAoYcWTymEe1.mp4'}, {'content_type': 'application/x-mpegURL', 'url': 'https://video.twimg.com/ext_tw_video/779377444025499652/pu/pl/xpQstEBvX94twrQR.m3u8'}, {'bitrate': 320000, 'content_type': 'video/mp4', 'url': 'https://video.twimg.com/ext_tw_video/779377444025499652/pu/vid/178x320/lxLCKOFWwc_v_ik6.mp4'}]}, 'features': {}, 'additional_media_info': {'monetizable': False}}\n",
      "===========\n",
      "633\n",
      "{'id': 772874595468795904, 'id_str': '772874595468795904', 'indices': [72, 95], 'media_url': 'http://pbs.twimg.com/ext_tw_video_thumb/772874595468795904/pu/img/t8gbjy2rA19xtQYR.jpg', 'media_url_https': 'https://pbs.twimg.com/ext_tw_video_thumb/772874595468795904/pu/img/t8gbjy2rA19xtQYR.jpg', 'url': 'https://t.co/qEP31epKEV', 'display_url': 'pic.twitter.com/qEP31epKEV', 'expanded_url': 'https://twitter.com/dog_rates/status/772877495989305348/video/1', 'type': 'photo', 'sizes': {'thumb': {'w': 150, 'h': 150, 'resize': 'crop'}, 'medium': {'w': 1200, 'h': 675, 'resize': 'fit'}, 'small': {'w': 680, 'h': 383, 'resize': 'fit'}, 'large': {'w': 1280, 'h': 720, 'resize': 'fit'}}, 'features': {}}\n",
      "-----------\n",
      "{'id': 772874595468795904, 'id_str': '772874595468795904', 'indices': [72, 95], 'media_url': 'http://pbs.twimg.com/ext_tw_video_thumb/772874595468795904/pu/img/t8gbjy2rA19xtQYR.jpg', 'media_url_https': 'https://pbs.twimg.com/ext_tw_video_thumb/772874595468795904/pu/img/t8gbjy2rA19xtQYR.jpg', 'url': 'https://t.co/qEP31epKEV', 'display_url': 'pic.twitter.com/qEP31epKEV', 'expanded_url': 'https://twitter.com/dog_rates/status/772877495989305348/video/1', 'type': 'video', 'sizes': {'thumb': {'w': 150, 'h': 150, 'resize': 'crop'}, 'medium': {'w': 1200, 'h': 675, 'resize': 'fit'}, 'small': {'w': 680, 'h': 383, 'resize': 'fit'}, 'large': {'w': 1280, 'h': 720, 'resize': 'fit'}}, 'video_info': {'aspect_ratio': [16, 9], 'duration_millis': 117832, 'variants': [{'bitrate': 320000, 'content_type': 'video/mp4', 'url': 'https://video.twimg.com/ext_tw_video/772874595468795904/pu/vid/320x180/aa0n2iabvmwW-qUy.mp4'}, {'content_type': 'application/x-mpegURL', 'url': 'https://video.twimg.com/ext_tw_video/772874595468795904/pu/pl/wVX5OqXk_3p_6xUh.m3u8'}, {'bitrate': 832000, 'content_type': 'video/mp4', 'url': 'https://video.twimg.com/ext_tw_video/772874595468795904/pu/vid/640x360/us2NEcwMBM6XYp66.mp4'}, {'bitrate': 2176000, 'content_type': 'video/mp4', 'url': 'https://video.twimg.com/ext_tw_video/772874595468795904/pu/vid/1280x720/cmraAjqDbAQbgFn3.mp4'}]}, 'features': {}, 'additional_media_info': {'monetizable': False}}\n",
      "===========\n",
      "660\n",
      "{'id': 768967618174877700, 'id_str': '768967618174877700', 'indices': [65, 88], 'media_url': 'http://pbs.twimg.com/ext_tw_video_thumb/768967618174877700/pu/img/4wfsrs0ZnQ5pstXm.jpg', 'media_url_https': 'https://pbs.twimg.com/ext_tw_video_thumb/768967618174877700/pu/img/4wfsrs0ZnQ5pstXm.jpg', 'url': 'https://t.co/UlB2mzw3Xs', 'display_url': 'pic.twitter.com/UlB2mzw3Xs', 'expanded_url': 'https://twitter.com/dog_rates/status/768970937022709760/video/1', 'type': 'photo', 'sizes': {'thumb': {'w': 150, 'h': 150, 'resize': 'crop'}, 'small': {'w': 680, 'h': 680, 'resize': 'fit'}, 'medium': {'w': 720, 'h': 720, 'resize': 'fit'}, 'large': {'w': 720, 'h': 720, 'resize': 'fit'}}, 'features': {}}\n",
      "-----------\n",
      "{'id': 768967618174877700, 'id_str': '768967618174877700', 'indices': [65, 88], 'media_url': 'http://pbs.twimg.com/ext_tw_video_thumb/768967618174877700/pu/img/4wfsrs0ZnQ5pstXm.jpg', 'media_url_https': 'https://pbs.twimg.com/ext_tw_video_thumb/768967618174877700/pu/img/4wfsrs0ZnQ5pstXm.jpg', 'url': 'https://t.co/UlB2mzw3Xs', 'display_url': 'pic.twitter.com/UlB2mzw3Xs', 'expanded_url': 'https://twitter.com/dog_rates/status/768970937022709760/video/1', 'type': 'video', 'sizes': {'thumb': {'w': 150, 'h': 150, 'resize': 'crop'}, 'small': {'w': 680, 'h': 680, 'resize': 'fit'}, 'medium': {'w': 720, 'h': 720, 'resize': 'fit'}, 'large': {'w': 720, 'h': 720, 'resize': 'fit'}}, 'video_info': {'aspect_ratio': [1, 1], 'duration_millis': 15182, 'variants': [{'content_type': 'application/x-mpegURL', 'url': 'https://video.twimg.com/ext_tw_video/768967618174877700/pu/pl/USZoEZ5c0Ze4oxWI.m3u8'}, {'bitrate': 832000, 'content_type': 'video/mp4', 'url': 'https://video.twimg.com/ext_tw_video/768967618174877700/pu/vid/480x480/9jg5ozGBJfp7yk78.mp4'}, {'bitrate': 1280000, 'content_type': 'video/mp4', 'url': 'https://video.twimg.com/ext_tw_video/768967618174877700/pu/vid/720x720/vlXLZldfCWh7Q1lT.mp4'}, {'bitrate': 320000, 'content_type': 'video/mp4', 'url': 'https://video.twimg.com/ext_tw_video/768967618174877700/pu/vid/240x240/FEBadOQ1McezF9Vh.mp4'}]}, 'features': {}, 'additional_media_info': {'monetizable': False}}\n",
      "===========\n",
      "689\n",
      "{'id': 762471745303355393, 'id_str': '762471745303355393', 'indices': [116, 139], 'media_url': 'http://pbs.twimg.com/ext_tw_video_thumb/762471745303355393/pu/img/RKcEUz7-VDipoGKJ.jpg', 'media_url_https': 'https://pbs.twimg.com/ext_tw_video_thumb/762471745303355393/pu/img/RKcEUz7-VDipoGKJ.jpg', 'url': 'https://t.co/pA4MDKwRci', 'display_url': 'pic.twitter.com/pA4MDKwRci', 'expanded_url': 'https://twitter.com/dog_rates/status/762471784394268675/video/1', 'type': 'photo', 'sizes': {'small': {'w': 680, 'h': 614, 'resize': 'fit'}, 'thumb': {'w': 150, 'h': 150, 'resize': 'crop'}, 'medium': {'w': 720, 'h': 650, 'resize': 'fit'}, 'large': {'w': 720, 'h': 650, 'resize': 'fit'}}, 'features': {}}\n",
      "-----------\n",
      "{'id': 762471745303355393, 'id_str': '762471745303355393', 'indices': [116, 139], 'media_url': 'http://pbs.twimg.com/ext_tw_video_thumb/762471745303355393/pu/img/RKcEUz7-VDipoGKJ.jpg', 'media_url_https': 'https://pbs.twimg.com/ext_tw_video_thumb/762471745303355393/pu/img/RKcEUz7-VDipoGKJ.jpg', 'url': 'https://t.co/pA4MDKwRci', 'display_url': 'pic.twitter.com/pA4MDKwRci', 'expanded_url': 'https://twitter.com/dog_rates/status/762471784394268675/video/1', 'type': 'video', 'sizes': {'small': {'w': 680, 'h': 614, 'resize': 'fit'}, 'thumb': {'w': 150, 'h': 150, 'resize': 'crop'}, 'medium': {'w': 720, 'h': 650, 'resize': 'fit'}, 'large': {'w': 720, 'h': 650, 'resize': 'fit'}}, 'video_info': {'aspect_ratio': [72, 65], 'duration_millis': 5640, 'variants': [{'content_type': 'application/x-mpegURL', 'url': 'https://video.twimg.com/ext_tw_video/762471745303355393/pu/pl/4eK0Dj-w-JDpIruJ.m3u8'}, {'bitrate': 320000, 'content_type': 'video/mp4', 'url': 'https://video.twimg.com/ext_tw_video/762471745303355393/pu/vid/198x180/0n3G_HTY1gL0uj-7.mp4'}, {'bitrate': 832000, 'content_type': 'video/mp4', 'url': 'https://video.twimg.com/ext_tw_video/762471745303355393/pu/vid/398x360/KToRXlCKUOBTqGz4.mp4'}]}, 'features': {}, 'additional_media_info': {'monetizable': False}}\n",
      "===========\n",
      "692\n",
      "{'id': 762035577168560129, 'id_str': '762035577168560129', 'indices': [48, 71], 'media_url': 'http://pbs.twimg.com/ext_tw_video_thumb/762035577168560129/pu/img/kD4TeHRRiSKgOyDx.jpg', 'media_url_https': 'https://pbs.twimg.com/ext_tw_video_thumb/762035577168560129/pu/img/kD4TeHRRiSKgOyDx.jpg', 'url': 'https://t.co/3td8P3o0mB', 'display_url': 'pic.twitter.com/3td8P3o0mB', 'expanded_url': 'https://twitter.com/dog_rates/status/762035686371364864/video/1', 'type': 'photo', 'sizes': {'thumb': {'w': 150, 'h': 150, 'resize': 'crop'}, 'small': {'w': 400, 'h': 224, 'resize': 'fit'}, 'medium': {'w': 400, 'h': 224, 'resize': 'fit'}, 'large': {'w': 400, 'h': 224, 'resize': 'fit'}}, 'features': {}}\n",
      "-----------\n",
      "{'id': 762035577168560129, 'id_str': '762035577168560129', 'indices': [48, 71], 'media_url': 'http://pbs.twimg.com/ext_tw_video_thumb/762035577168560129/pu/img/kD4TeHRRiSKgOyDx.jpg', 'media_url_https': 'https://pbs.twimg.com/ext_tw_video_thumb/762035577168560129/pu/img/kD4TeHRRiSKgOyDx.jpg', 'url': 'https://t.co/3td8P3o0mB', 'display_url': 'pic.twitter.com/3td8P3o0mB', 'expanded_url': 'https://twitter.com/dog_rates/status/762035686371364864/video/1', 'type': 'video', 'sizes': {'thumb': {'w': 150, 'h': 150, 'resize': 'crop'}, 'small': {'w': 400, 'h': 224, 'resize': 'fit'}, 'medium': {'w': 400, 'h': 224, 'resize': 'fit'}, 'large': {'w': 400, 'h': 224, 'resize': 'fit'}}, 'video_info': {'aspect_ratio': [25, 14], 'duration_millis': 42376, 'variants': [{'bitrate': 320000, 'content_type': 'video/mp4', 'url': 'https://video.twimg.com/ext_tw_video/762035577168560129/pu/vid/320x180/Jby7mpmMOv7Qz7o8.mp4'}, {'content_type': 'application/x-mpegURL', 'url': 'https://video.twimg.com/ext_tw_video/762035577168560129/pu/pl/tfsPbinqQ07_tAYJ.m3u8'}]}, 'features': {}, 'additional_media_info': {'monetizable': False}}\n",
      "===========\n",
      "696\n",
      "{'id': 761672828462718981, 'id_str': '761672828462718981', 'indices': [113, 136], 'media_url': 'http://pbs.twimg.com/ext_tw_video_thumb/761672828462718981/pu/img/R00UYAAWB3GtuHdI.jpg', 'media_url_https': 'https://pbs.twimg.com/ext_tw_video_thumb/761672828462718981/pu/img/R00UYAAWB3GtuHdI.jpg', 'url': 'https://t.co/EY8kEFuzK7', 'display_url': 'pic.twitter.com/EY8kEFuzK7', 'expanded_url': 'https://twitter.com/dog_rates/status/761672994376806400/video/1', 'type': 'photo', 'sizes': {'thumb': {'w': 150, 'h': 150, 'resize': 'crop'}, 'small': {'w': 680, 'h': 680, 'resize': 'fit'}, 'medium': {'w': 720, 'h': 720, 'resize': 'fit'}, 'large': {'w': 720, 'h': 720, 'resize': 'fit'}}, 'features': {}}\n",
      "-----------\n",
      "{'id': 761672828462718981, 'id_str': '761672828462718981', 'indices': [113, 136], 'media_url': 'http://pbs.twimg.com/ext_tw_video_thumb/761672828462718981/pu/img/R00UYAAWB3GtuHdI.jpg', 'media_url_https': 'https://pbs.twimg.com/ext_tw_video_thumb/761672828462718981/pu/img/R00UYAAWB3GtuHdI.jpg', 'url': 'https://t.co/EY8kEFuzK7', 'display_url': 'pic.twitter.com/EY8kEFuzK7', 'expanded_url': 'https://twitter.com/dog_rates/status/761672994376806400/video/1', 'type': 'video', 'sizes': {'thumb': {'w': 150, 'h': 150, 'resize': 'crop'}, 'small': {'w': 680, 'h': 680, 'resize': 'fit'}, 'medium': {'w': 720, 'h': 720, 'resize': 'fit'}, 'large': {'w': 720, 'h': 720, 'resize': 'fit'}}, 'video_info': {'aspect_ratio': [1, 1], 'duration_millis': 15082, 'variants': [{'content_type': 'application/x-mpegURL', 'url': 'https://video.twimg.com/ext_tw_video/761672828462718981/pu/pl/6WCH9yrRtq3PhhSe.m3u8'}, {'bitrate': 832000, 'content_type': 'video/mp4', 'url': 'https://video.twimg.com/ext_tw_video/761672828462718981/pu/vid/480x480/jbR6Wmcj_asEkBMe.mp4'}, {'bitrate': 1280000, 'content_type': 'video/mp4', 'url': 'https://video.twimg.com/ext_tw_video/761672828462718981/pu/vid/720x720/4FHE09W1A7uxjqHH.mp4'}, {'bitrate': 320000, 'content_type': 'video/mp4', 'url': 'https://video.twimg.com/ext_tw_video/761672828462718981/pu/vid/240x240/YXsgMdfcUmpoqgg4.mp4'}]}, 'features': {}, 'additional_media_info': {'monetizable': False}}\n",
      "===========\n",
      "698\n",
      "{'id': 711694754292109313, 'id_str': '711694754292109313', 'indices': [45, 68], 'media_url': 'http://pbs.twimg.com/tweet_video_thumb/CeBym7oXEAEWbEg.jpg', 'media_url_https': 'https://pbs.twimg.com/tweet_video_thumb/CeBym7oXEAEWbEg.jpg', 'url': 'https://t.co/Ezu6jQrKAZ', 'display_url': 'pic.twitter.com/Ezu6jQrKAZ', 'expanded_url': 'https://twitter.com/dog_rates/status/711694788429553666/photo/1', 'type': 'photo', 'sizes': {'thumb': {'w': 150, 'h': 150, 'resize': 'crop'}, 'small': {'w': 450, 'h': 340, 'resize': 'fit'}, 'medium': {'w': 450, 'h': 340, 'resize': 'fit'}, 'large': {'w': 450, 'h': 340, 'resize': 'fit'}}, 'source_status_id': 711694788429553666, 'source_status_id_str': '711694788429553666', 'source_user_id': 4196983835, 'source_user_id_str': '4196983835', 'features': {}}\n",
      "-----------\n",
      "{'id': 711694754292109313, 'id_str': '711694754292109313', 'indices': [45, 68], 'media_url': 'http://pbs.twimg.com/tweet_video_thumb/CeBym7oXEAEWbEg.jpg', 'media_url_https': 'https://pbs.twimg.com/tweet_video_thumb/CeBym7oXEAEWbEg.jpg', 'url': 'https://t.co/Ezu6jQrKAZ', 'display_url': 'pic.twitter.com/Ezu6jQrKAZ', 'expanded_url': 'https://twitter.com/dog_rates/status/711694788429553666/photo/1', 'type': 'animated_gif', 'sizes': {'thumb': {'w': 150, 'h': 150, 'resize': 'crop'}, 'small': {'w': 450, 'h': 340, 'resize': 'fit'}, 'medium': {'w': 450, 'h': 340, 'resize': 'fit'}, 'large': {'w': 450, 'h': 340, 'resize': 'fit'}}, 'source_status_id': 711694788429553666, 'source_status_id_str': '711694788429553666', 'source_user_id': 4196983835, 'source_user_id_str': '4196983835', 'video_info': {'aspect_ratio': [45, 34], 'variants': [{'bitrate': 0, 'content_type': 'video/mp4', 'url': 'https://video.twimg.com/tweet_video/CeBym7oXEAEWbEg.mp4'}]}, 'features': {}}\n",
      "===========\n",
      "707\n",
      "{'id': 760289324994879489, 'id_str': '760289324994879489', 'indices': [76, 99], 'media_url': 'http://pbs.twimg.com/ext_tw_video_thumb/760289324994879489/pu/img/3ItvBEoo4aebPfvr.jpg', 'media_url_https': 'https://pbs.twimg.com/ext_tw_video_thumb/760289324994879489/pu/img/3ItvBEoo4aebPfvr.jpg', 'url': 'https://t.co/qFsl1nnXMv', 'display_url': 'pic.twitter.com/qFsl1nnXMv', 'expanded_url': 'https://twitter.com/dog_rates/status/760290219849637889/video/1', 'type': 'photo', 'sizes': {'thumb': {'w': 150, 'h': 150, 'resize': 'crop'}, 'small': {'w': 544, 'h': 680, 'resize': 'fit'}, 'large': {'w': 640, 'h': 800, 'resize': 'fit'}, 'medium': {'w': 640, 'h': 800, 'resize': 'fit'}}, 'features': {}}\n",
      "-----------\n",
      "{'id': 760289324994879489, 'id_str': '760289324994879489', 'indices': [76, 99], 'media_url': 'http://pbs.twimg.com/ext_tw_video_thumb/760289324994879489/pu/img/3ItvBEoo4aebPfvr.jpg', 'media_url_https': 'https://pbs.twimg.com/ext_tw_video_thumb/760289324994879489/pu/img/3ItvBEoo4aebPfvr.jpg', 'url': 'https://t.co/qFsl1nnXMv', 'display_url': 'pic.twitter.com/qFsl1nnXMv', 'expanded_url': 'https://twitter.com/dog_rates/status/760290219849637889/video/1', 'type': 'video', 'sizes': {'thumb': {'w': 150, 'h': 150, 'resize': 'crop'}, 'small': {'w': 544, 'h': 680, 'resize': 'fit'}, 'large': {'w': 640, 'h': 800, 'resize': 'fit'}, 'medium': {'w': 640, 'h': 800, 'resize': 'fit'}}, 'video_info': {'aspect_ratio': [4, 5], 'duration_millis': 23524, 'variants': [{'bitrate': 320000, 'content_type': 'video/mp4', 'url': 'https://video.twimg.com/ext_tw_video/760289324994879489/pu/vid/256x320/gi4MMZe1zQZ5Thrn.mp4'}, {'bitrate': 832000, 'content_type': 'video/mp4', 'url': 'https://video.twimg.com/ext_tw_video/760289324994879489/pu/vid/512x640/yFBi5FFfjyZ6rkQT.mp4'}, {'content_type': 'application/x-mpegURL', 'url': 'https://video.twimg.com/ext_tw_video/760289324994879489/pu/pl/TrkiSrrd_MjdPBQV.m3u8'}]}, 'features': {}, 'additional_media_info': {'monetizable': False}}\n",
      "===========\n",
      "724\n",
      "{'id': 758467147756691456, 'id_str': '758467147756691456', 'indices': [55, 78], 'media_url': 'http://pbs.twimg.com/ext_tw_video_thumb/758467147756691456/pu/img/YTNzjRFDSPNXukmM.jpg', 'media_url_https': 'https://pbs.twimg.com/ext_tw_video_thumb/758467147756691456/pu/img/YTNzjRFDSPNXukmM.jpg', 'url': 'https://t.co/HmwrdfEfUE', 'display_url': 'pic.twitter.com/HmwrdfEfUE', 'expanded_url': 'https://twitter.com/dog_rates/status/758467244762497024/video/1', 'type': 'photo', 'sizes': {'thumb': {'w': 150, 'h': 150, 'resize': 'crop'}, 'large': {'w': 320, 'h': 568, 'resize': 'fit'}, 'small': {'w': 320, 'h': 568, 'resize': 'fit'}, 'medium': {'w': 320, 'h': 568, 'resize': 'fit'}}, 'features': {}}\n",
      "-----------\n",
      "{'id': 758467147756691456, 'id_str': '758467147756691456', 'indices': [55, 78], 'media_url': 'http://pbs.twimg.com/ext_tw_video_thumb/758467147756691456/pu/img/YTNzjRFDSPNXukmM.jpg', 'media_url_https': 'https://pbs.twimg.com/ext_tw_video_thumb/758467147756691456/pu/img/YTNzjRFDSPNXukmM.jpg', 'url': 'https://t.co/HmwrdfEfUE', 'display_url': 'pic.twitter.com/HmwrdfEfUE', 'expanded_url': 'https://twitter.com/dog_rates/status/758467244762497024/video/1', 'type': 'video', 'sizes': {'thumb': {'w': 150, 'h': 150, 'resize': 'crop'}, 'large': {'w': 320, 'h': 568, 'resize': 'fit'}, 'small': {'w': 320, 'h': 568, 'resize': 'fit'}, 'medium': {'w': 320, 'h': 568, 'resize': 'fit'}}, 'video_info': {'aspect_ratio': [40, 71], 'duration_millis': 19013, 'variants': [{'bitrate': 320000, 'content_type': 'video/mp4', 'url': 'https://video.twimg.com/ext_tw_video/758467147756691456/pu/vid/180x320/ajPqRhUto7kev5y0.mp4'}, {'content_type': 'application/x-mpegURL', 'url': 'https://video.twimg.com/ext_tw_video/758467147756691456/pu/pl/oAzNNYfZJy8wShWm.m3u8'}]}, 'features': {}, 'additional_media_info': {'monetizable': False}}\n",
      "===========\n",
      "744\n",
      "{'id': 755955658164465664, 'id_str': '755955658164465664', 'indices': [80, 103], 'media_url': 'http://pbs.twimg.com/ext_tw_video_thumb/755955658164465664/pu/img/YcjfthN7C3z61GUj.jpg', 'media_url_https': 'https://pbs.twimg.com/ext_tw_video_thumb/755955658164465664/pu/img/YcjfthN7C3z61GUj.jpg', 'url': 'https://t.co/GAYViEweWr', 'display_url': 'pic.twitter.com/GAYViEweWr', 'expanded_url': 'https://twitter.com/dog_rates/status/755955933503782912/video/1', 'type': 'photo', 'sizes': {'thumb': {'w': 150, 'h': 150, 'resize': 'crop'}, 'small': {'w': 383, 'h': 680, 'resize': 'fit'}, 'large': {'w': 720, 'h': 1280, 'resize': 'fit'}, 'medium': {'w': 675, 'h': 1200, 'resize': 'fit'}}, 'features': {}}\n",
      "-----------\n",
      "{'id': 755955658164465664, 'id_str': '755955658164465664', 'indices': [80, 103], 'media_url': 'http://pbs.twimg.com/ext_tw_video_thumb/755955658164465664/pu/img/YcjfthN7C3z61GUj.jpg', 'media_url_https': 'https://pbs.twimg.com/ext_tw_video_thumb/755955658164465664/pu/img/YcjfthN7C3z61GUj.jpg', 'url': 'https://t.co/GAYViEweWr', 'display_url': 'pic.twitter.com/GAYViEweWr', 'expanded_url': 'https://twitter.com/dog_rates/status/755955933503782912/video/1', 'type': 'video', 'sizes': {'thumb': {'w': 150, 'h': 150, 'resize': 'crop'}, 'small': {'w': 383, 'h': 680, 'resize': 'fit'}, 'large': {'w': 720, 'h': 1280, 'resize': 'fit'}, 'medium': {'w': 675, 'h': 1200, 'resize': 'fit'}}, 'video_info': {'aspect_ratio': [9, 16], 'duration_millis': 15210, 'variants': [{'bitrate': 832000, 'content_type': 'video/mp4', 'url': 'https://video.twimg.com/ext_tw_video/755955658164465664/pu/vid/360x640/XcDs3uiPUXQdiuXK.mp4'}, {'content_type': 'application/x-mpegURL', 'url': 'https://video.twimg.com/ext_tw_video/755955658164465664/pu/pl/HMXI8dEGvpmdPgPU.m3u8'}, {'bitrate': 320000, 'content_type': 'video/mp4', 'url': 'https://video.twimg.com/ext_tw_video/755955658164465664/pu/vid/180x320/e1d4Rol3Bg2ebRn0.mp4'}, {'bitrate': 2176000, 'content_type': 'video/mp4', 'url': 'https://video.twimg.com/ext_tw_video/755955658164465664/pu/vid/720x1280/-b5K4rMQw-L3r8sc.mp4'}]}, 'features': {}, 'additional_media_info': {'monetizable': False}}\n",
      "===========\n",
      "746\n",
      "{'id': 755110610942169088, 'id_str': '755110610942169088', 'indices': [81, 104], 'media_url': 'http://pbs.twimg.com/ext_tw_video_thumb/755110610942169088/pu/img/3-INz45pSRMkzOEF.jpg', 'media_url_https': 'https://pbs.twimg.com/ext_tw_video_thumb/755110610942169088/pu/img/3-INz45pSRMkzOEF.jpg', 'url': 'https://t.co/goX3jewkYN', 'display_url': 'pic.twitter.com/goX3jewkYN', 'expanded_url': 'https://twitter.com/dog_rates/status/755110668769038337/video/1', 'type': 'photo', 'sizes': {'small': {'w': 480, 'h': 480, 'resize': 'fit'}, 'thumb': {'w': 150, 'h': 150, 'resize': 'crop'}, 'medium': {'w': 480, 'h': 480, 'resize': 'fit'}, 'large': {'w': 480, 'h': 480, 'resize': 'fit'}}, 'features': {}}\n",
      "-----------\n",
      "{'id': 755110610942169088, 'id_str': '755110610942169088', 'indices': [81, 104], 'media_url': 'http://pbs.twimg.com/ext_tw_video_thumb/755110610942169088/pu/img/3-INz45pSRMkzOEF.jpg', 'media_url_https': 'https://pbs.twimg.com/ext_tw_video_thumb/755110610942169088/pu/img/3-INz45pSRMkzOEF.jpg', 'url': 'https://t.co/goX3jewkYN', 'display_url': 'pic.twitter.com/goX3jewkYN', 'expanded_url': 'https://twitter.com/dog_rates/status/755110668769038337/video/1', 'type': 'video', 'sizes': {'small': {'w': 480, 'h': 480, 'resize': 'fit'}, 'thumb': {'w': 150, 'h': 150, 'resize': 'crop'}, 'medium': {'w': 480, 'h': 480, 'resize': 'fit'}, 'large': {'w': 480, 'h': 480, 'resize': 'fit'}}, 'video_info': {'aspect_ratio': [1, 1], 'duration_millis': 11645, 'variants': [{'content_type': 'application/x-mpegURL', 'url': 'https://video.twimg.com/ext_tw_video/755110610942169088/pu/pl/jfGiuKchxXU9pPKm.m3u8'}, {'bitrate': 832000, 'content_type': 'video/mp4', 'url': 'https://video.twimg.com/ext_tw_video/755110610942169088/pu/vid/480x480/hRDJIT6WSlKV9E65.mp4'}, {'bitrate': 320000, 'content_type': 'video/mp4', 'url': 'https://video.twimg.com/ext_tw_video/755110610942169088/pu/vid/240x240/Ss8zgkYtXR8HTupi.mp4'}]}, 'features': {}, 'additional_media_info': {'monetizable': False}}\n",
      "===========\n",
      "750\n",
      "{'id': 754481405627957248, 'id_str': '754481405627957248', 'indices': [57, 80], 'media_url': 'http://pbs.twimg.com/ext_tw_video_thumb/754481405627957248/pu/img/YY1eBDOlP9QFC4Bj.jpg', 'media_url_https': 'https://pbs.twimg.com/ext_tw_video_thumb/754481405627957248/pu/img/YY1eBDOlP9QFC4Bj.jpg', 'url': 'https://t.co/ca0q9HM8II', 'display_url': 'pic.twitter.com/ca0q9HM8II', 'expanded_url': 'https://twitter.com/dog_rates/status/754482103782404096/video/1', 'type': 'photo', 'sizes': {'thumb': {'w': 150, 'h': 150, 'resize': 'crop'}, 'large': {'w': 480, 'h': 854, 'resize': 'fit'}, 'small': {'w': 382, 'h': 680, 'resize': 'fit'}, 'medium': {'w': 480, 'h': 854, 'resize': 'fit'}}, 'features': {}}\n",
      "-----------\n",
      "{'id': 754481405627957248, 'id_str': '754481405627957248', 'indices': [57, 80], 'media_url': 'http://pbs.twimg.com/ext_tw_video_thumb/754481405627957248/pu/img/YY1eBDOlP9QFC4Bj.jpg', 'media_url_https': 'https://pbs.twimg.com/ext_tw_video_thumb/754481405627957248/pu/img/YY1eBDOlP9QFC4Bj.jpg', 'url': 'https://t.co/ca0q9HM8II', 'display_url': 'pic.twitter.com/ca0q9HM8II', 'expanded_url': 'https://twitter.com/dog_rates/status/754482103782404096/video/1', 'type': 'video', 'sizes': {'thumb': {'w': 150, 'h': 150, 'resize': 'crop'}, 'large': {'w': 480, 'h': 854, 'resize': 'fit'}, 'small': {'w': 382, 'h': 680, 'resize': 'fit'}, 'medium': {'w': 480, 'h': 854, 'resize': 'fit'}}, 'video_info': {'aspect_ratio': [240, 427], 'duration_millis': 3835, 'variants': [{'bitrate': 320000, 'content_type': 'video/mp4', 'url': 'https://video.twimg.com/ext_tw_video/754481405627957248/pu/vid/178x320/U3jBd_HBnirEeCee.mp4'}, {'content_type': 'application/x-mpegURL', 'url': 'https://video.twimg.com/ext_tw_video/754481405627957248/pu/pl/iRGrvGMp6nknnbQD.m3u8'}, {'bitrate': 832000, 'content_type': 'video/mp4', 'url': 'https://video.twimg.com/ext_tw_video/754481405627957248/pu/vid/358x640/VqWyJk9dgxRaVj9X.mp4'}]}, 'features': {}, 'additional_media_info': {'monetizable': False}}\n",
      "===========\n",
      "754\n",
      "{'id': 753420390836346880, 'id_str': '753420390836346880', 'indices': [116, 139], 'media_url': 'http://pbs.twimg.com/ext_tw_video_thumb/753420390836346880/pu/img/ZHLvYxSHYuQK3uXi.jpg', 'media_url_https': 'https://pbs.twimg.com/ext_tw_video_thumb/753420390836346880/pu/img/ZHLvYxSHYuQK3uXi.jpg', 'url': 'https://t.co/CCdlwiTwQf', 'display_url': 'pic.twitter.com/CCdlwiTwQf', 'expanded_url': 'https://twitter.com/dog_rates/status/753420520834629632/video/1', 'type': 'photo', 'sizes': {'large': {'w': 222, 'h': 400, 'resize': 'fit'}, 'thumb': {'w': 150, 'h': 150, 'resize': 'crop'}, 'medium': {'w': 222, 'h': 400, 'resize': 'fit'}, 'small': {'w': 222, 'h': 400, 'resize': 'fit'}}, 'features': {}}\n",
      "-----------\n",
      "{'id': 753420390836346880, 'id_str': '753420390836346880', 'indices': [116, 139], 'media_url': 'http://pbs.twimg.com/ext_tw_video_thumb/753420390836346880/pu/img/ZHLvYxSHYuQK3uXi.jpg', 'media_url_https': 'https://pbs.twimg.com/ext_tw_video_thumb/753420390836346880/pu/img/ZHLvYxSHYuQK3uXi.jpg', 'url': 'https://t.co/CCdlwiTwQf', 'display_url': 'pic.twitter.com/CCdlwiTwQf', 'expanded_url': 'https://twitter.com/dog_rates/status/753420520834629632/video/1', 'type': 'video', 'sizes': {'large': {'w': 222, 'h': 400, 'resize': 'fit'}, 'thumb': {'w': 150, 'h': 150, 'resize': 'crop'}, 'medium': {'w': 222, 'h': 400, 'resize': 'fit'}, 'small': {'w': 222, 'h': 400, 'resize': 'fit'}}, 'video_info': {'aspect_ratio': [111, 200], 'duration_millis': 40113, 'variants': [{'bitrate': 320000, 'content_type': 'video/mp4', 'url': 'https://video.twimg.com/ext_tw_video/753420390836346880/pu/vid/176x320/5kF8OF6GGfcY4icy.mp4'}, {'content_type': 'application/x-mpegURL', 'url': 'https://video.twimg.com/ext_tw_video/753420390836346880/pu/pl/wtZXZS3NPoSUo8M-.m3u8'}]}, 'features': {}, 'additional_media_info': {'monetizable': False}}\n",
      "===========\n",
      "755\n",
      "{'id': 753398183879991296, 'id_str': '753398183879991296', 'indices': [56, 79], 'media_url': 'http://pbs.twimg.com/ext_tw_video_thumb/753398183879991296/pu/img/bqFy5Zc_PEk6Mx-B.jpg', 'media_url_https': 'https://pbs.twimg.com/ext_tw_video_thumb/753398183879991296/pu/img/bqFy5Zc_PEk6Mx-B.jpg', 'url': 'https://t.co/ov05LIoQJX', 'display_url': 'pic.twitter.com/ov05LIoQJX', 'expanded_url': 'https://twitter.com/dog_rates/status/753398408988139520/video/1', 'type': 'photo', 'sizes': {'thumb': {'w': 150, 'h': 150, 'resize': 'crop'}, 'large': {'w': 320, 'h': 568, 'resize': 'fit'}, 'small': {'w': 320, 'h': 568, 'resize': 'fit'}, 'medium': {'w': 320, 'h': 568, 'resize': 'fit'}}, 'features': {}}\n",
      "-----------\n",
      "{'id': 753398183879991296, 'id_str': '753398183879991296', 'indices': [56, 79], 'media_url': 'http://pbs.twimg.com/ext_tw_video_thumb/753398183879991296/pu/img/bqFy5Zc_PEk6Mx-B.jpg', 'media_url_https': 'https://pbs.twimg.com/ext_tw_video_thumb/753398183879991296/pu/img/bqFy5Zc_PEk6Mx-B.jpg', 'url': 'https://t.co/ov05LIoQJX', 'display_url': 'pic.twitter.com/ov05LIoQJX', 'expanded_url': 'https://twitter.com/dog_rates/status/753398408988139520/video/1', 'type': 'video', 'sizes': {'thumb': {'w': 150, 'h': 150, 'resize': 'crop'}, 'large': {'w': 320, 'h': 568, 'resize': 'fit'}, 'small': {'w': 320, 'h': 568, 'resize': 'fit'}, 'medium': {'w': 320, 'h': 568, 'resize': 'fit'}}, 'video_info': {'aspect_ratio': [40, 71], 'duration_millis': 29633, 'variants': [{'bitrate': 320000, 'content_type': 'video/mp4', 'url': 'https://video.twimg.com/ext_tw_video/753398183879991296/pu/vid/180x320/b60YCAfB8Shc8RUJ.mp4'}, {'content_type': 'application/x-mpegURL', 'url': 'https://video.twimg.com/ext_tw_video/753398183879991296/pu/pl/qRXoafPS8S8602r_.m3u8'}]}, 'features': {}, 'additional_media_info': {'monetizable': False}}\n",
      "===========\n",
      "763\n",
      "{'id': 752334354492362752, 'id_str': '752334354492362752', 'indices': [79, 102], 'media_url': 'http://pbs.twimg.com/ext_tw_video_thumb/752334354492362752/pu/img/uWISPc0YRmhUi9Ju.jpg', 'media_url_https': 'https://pbs.twimg.com/ext_tw_video_thumb/752334354492362752/pu/img/uWISPc0YRmhUi9Ju.jpg', 'url': 'https://t.co/jwd0j6oWLE', 'display_url': 'pic.twitter.com/jwd0j6oWLE', 'expanded_url': 'https://twitter.com/dog_rates/status/752334515931054080/video/1', 'type': 'photo', 'sizes': {'thumb': {'w': 150, 'h': 150, 'resize': 'crop'}, 'small': {'w': 383, 'h': 680, 'resize': 'fit'}, 'large': {'w': 720, 'h': 1280, 'resize': 'fit'}, 'medium': {'w': 675, 'h': 1200, 'resize': 'fit'}}, 'features': {}}\n",
      "-----------\n",
      "{'id': 752334354492362752, 'id_str': '752334354492362752', 'indices': [79, 102], 'media_url': 'http://pbs.twimg.com/ext_tw_video_thumb/752334354492362752/pu/img/uWISPc0YRmhUi9Ju.jpg', 'media_url_https': 'https://pbs.twimg.com/ext_tw_video_thumb/752334354492362752/pu/img/uWISPc0YRmhUi9Ju.jpg', 'url': 'https://t.co/jwd0j6oWLE', 'display_url': 'pic.twitter.com/jwd0j6oWLE', 'expanded_url': 'https://twitter.com/dog_rates/status/752334515931054080/video/1', 'type': 'video', 'sizes': {'thumb': {'w': 150, 'h': 150, 'resize': 'crop'}, 'small': {'w': 383, 'h': 680, 'resize': 'fit'}, 'large': {'w': 720, 'h': 1280, 'resize': 'fit'}, 'medium': {'w': 675, 'h': 1200, 'resize': 'fit'}}, 'video_info': {'aspect_ratio': [9, 16], 'duration_millis': 13609, 'variants': [{'content_type': 'application/x-mpegURL', 'url': 'https://video.twimg.com/ext_tw_video/752334354492362752/pu/pl/aJjpgRRwzc4ek8_N.m3u8'}, {'bitrate': 2176000, 'content_type': 'video/mp4', 'url': 'https://video.twimg.com/ext_tw_video/752334354492362752/pu/vid/720x1280/3sTVYtcVwYBvkUEF.mp4'}, {'bitrate': 320000, 'content_type': 'video/mp4', 'url': 'https://video.twimg.com/ext_tw_video/752334354492362752/pu/vid/180x320/Gv2QKL8Wl2FhgKdV.mp4'}, {'bitrate': 832000, 'content_type': 'video/mp4', 'url': 'https://video.twimg.com/ext_tw_video/752334354492362752/pu/vid/360x640/hjMs5rm7-G7VkGpy.mp4'}]}, 'features': {}, 'additional_media_info': {'monetizable': False}}\n",
      "===========\n",
      "764\n",
      "{'id': 675354114423808004, 'id_str': '675354114423808004', 'indices': [51, 74], 'media_url': 'http://pbs.twimg.com/ext_tw_video_thumb/675354114423808004/pu/img/qL1R_nGLqa6lmkOx.jpg', 'media_url_https': 'https://pbs.twimg.com/ext_tw_video_thumb/675354114423808004/pu/img/qL1R_nGLqa6lmkOx.jpg', 'url': 'https://t.co/Bb3xnpsWBC', 'display_url': 'pic.twitter.com/Bb3xnpsWBC', 'expanded_url': 'https://twitter.com/dog_rates/status/675354435921575936/video/1', 'type': 'photo', 'sizes': {'small': {'w': 480, 'h': 480, 'resize': 'fit'}, 'thumb': {'w': 150, 'h': 150, 'resize': 'crop'}, 'medium': {'w': 480, 'h': 480, 'resize': 'fit'}, 'large': {'w': 480, 'h': 480, 'resize': 'fit'}}, 'source_status_id': 675354435921575936, 'source_status_id_str': '675354435921575936', 'source_user_id': 4196983835, 'source_user_id_str': '4196983835', 'features': {}}\n",
      "-----------\n",
      "{'id': 675354114423808004, 'id_str': '675354114423808004', 'indices': [51, 74], 'media_url': 'http://pbs.twimg.com/ext_tw_video_thumb/675354114423808004/pu/img/qL1R_nGLqa6lmkOx.jpg', 'media_url_https': 'https://pbs.twimg.com/ext_tw_video_thumb/675354114423808004/pu/img/qL1R_nGLqa6lmkOx.jpg', 'url': 'https://t.co/Bb3xnpsWBC', 'display_url': 'pic.twitter.com/Bb3xnpsWBC', 'expanded_url': 'https://twitter.com/dog_rates/status/675354435921575936/video/1', 'type': 'video', 'sizes': {'small': {'w': 480, 'h': 480, 'resize': 'fit'}, 'thumb': {'w': 150, 'h': 150, 'resize': 'crop'}, 'medium': {'w': 480, 'h': 480, 'resize': 'fit'}, 'large': {'w': 480, 'h': 480, 'resize': 'fit'}}, 'source_status_id': 675354435921575936, 'source_status_id_str': '675354435921575936', 'source_user_id': 4196983835, 'source_user_id_str': '4196983835', 'video_info': {'aspect_ratio': [1, 1], 'duration_millis': 6500, 'variants': [{'content_type': 'application/x-mpegURL', 'url': 'https://video.twimg.com/ext_tw_video/675354114423808004/pu/pl/KOhoNx6pTCSdb2LU.m3u8'}, {'bitrate': 320000, 'content_type': 'video/mp4', 'url': 'https://video.twimg.com/ext_tw_video/675354114423808004/pu/vid/240x240/CCWxU4pQylJfjLaW.mp4'}, {'bitrate': 832000, 'content_type': 'video/mp4', 'url': 'https://video.twimg.com/ext_tw_video/675354114423808004/pu/vid/480x480/nyoss-OfvNGCX6Id.mp4'}]}, 'features': {}, 'additional_media_info': {'monetizable': False, 'source_user': {'id': 4196983835, 'id_str': '4196983835', 'name': 'WeRateDogs®', 'screen_name': 'dog_rates', 'location': '「 DM YOUR DOGS 」', 'description': 'Your Only Source For Professional Dog Ratings Instagram and Facebook ➪ WeRateDogs partnerships@weratedogs.com ⠀⠀⠀⠀⠀⠀⠀⠀⠀⠀⠀⠀', 'url': 'https://t.co/N7sNNHSfPq', 'entities': {'url': {'urls': [{'url': 'https://t.co/N7sNNHSfPq', 'expanded_url': 'http://weratedogs.com', 'display_url': 'weratedogs.com', 'indices': [0, 23]}]}, 'description': {'urls': []}}, 'protected': False, 'followers_count': 8495761, 'friends_count': 14, 'listed_count': 6718, 'created_at': 'Sun Nov 15 21:41:29 +0000 2015', 'favourites_count': 143614, 'utc_offset': None, 'time_zone': None, 'geo_enabled': True, 'verified': True, 'statuses_count': 11069, 'lang': None, 'contributors_enabled': False, 'is_translator': False, 'is_translation_enabled': False, 'profile_background_color': '000000', 'profile_background_image_url': 'http://abs.twimg.com/images/themes/theme1/bg.png', 'profile_background_image_url_https': 'https://abs.twimg.com/images/themes/theme1/bg.png', 'profile_background_tile': False, 'profile_image_url': 'http://pbs.twimg.com/profile_images/1191848405112426496/lz8cuaiI_normal.jpg', 'profile_image_url_https': 'https://pbs.twimg.com/profile_images/1191848405112426496/lz8cuaiI_normal.jpg', 'profile_banner_url': 'https://pbs.twimg.com/profile_banners/4196983835/1565965307', 'profile_link_color': 'F5ABB5', 'profile_sidebar_border_color': '000000', 'profile_sidebar_fill_color': '000000', 'profile_text_color': '000000', 'profile_use_background_image': False, 'has_extended_profile': False, 'default_profile': False, 'default_profile_image': False, 'can_media_tag': True, 'followed_by': False, 'following': False, 'follow_request_sent': False, 'notifications': False, 'translator_type': 'none'}}}\n",
      "===========\n",
      "771\n",
      "{'id': 751456786360725504, 'id_str': '751456786360725504', 'indices': [99, 122], 'media_url': 'http://pbs.twimg.com/ext_tw_video_thumb/751456786360725504/pu/img/hWqfIQ29A0cBv6f_.jpg', 'media_url_https': 'https://pbs.twimg.com/ext_tw_video_thumb/751456786360725504/pu/img/hWqfIQ29A0cBv6f_.jpg', 'url': 'https://t.co/lsVAMBq6ex', 'display_url': 'pic.twitter.com/lsVAMBq6ex', 'expanded_url': 'https://twitter.com/dog_rates/status/751456908746354688/video/1', 'type': 'photo', 'sizes': {'thumb': {'w': 150, 'h': 150, 'resize': 'crop'}, 'large': {'w': 320, 'h': 568, 'resize': 'fit'}, 'small': {'w': 320, 'h': 568, 'resize': 'fit'}, 'medium': {'w': 320, 'h': 568, 'resize': 'fit'}}, 'features': {}}\n",
      "-----------\n",
      "{'id': 751456786360725504, 'id_str': '751456786360725504', 'indices': [99, 122], 'media_url': 'http://pbs.twimg.com/ext_tw_video_thumb/751456786360725504/pu/img/hWqfIQ29A0cBv6f_.jpg', 'media_url_https': 'https://pbs.twimg.com/ext_tw_video_thumb/751456786360725504/pu/img/hWqfIQ29A0cBv6f_.jpg', 'url': 'https://t.co/lsVAMBq6ex', 'display_url': 'pic.twitter.com/lsVAMBq6ex', 'expanded_url': 'https://twitter.com/dog_rates/status/751456908746354688/video/1', 'type': 'video', 'sizes': {'thumb': {'w': 150, 'h': 150, 'resize': 'crop'}, 'large': {'w': 320, 'h': 568, 'resize': 'fit'}, 'small': {'w': 320, 'h': 568, 'resize': 'fit'}, 'medium': {'w': 320, 'h': 568, 'resize': 'fit'}}, 'video_info': {'aspect_ratio': [40, 71], 'duration_millis': 19807, 'variants': [{'bitrate': 320000, 'content_type': 'video/mp4', 'url': 'https://video.twimg.com/ext_tw_video/751456786360725504/pu/vid/180x320/ZeNPgGJeX5uW0n8w.mp4'}, {'content_type': 'application/x-mpegURL', 'url': 'https://video.twimg.com/ext_tw_video/751456786360725504/pu/pl/hWCMVpA87b340Z2K.m3u8'}]}, 'features': {}, 'additional_media_info': {'monetizable': False}}\n",
      "===========\n",
      "772\n",
      "{'id': 751250895690731520, 'id_str': '751250895690731520', 'indices': [111, 134], 'media_url': 'http://pbs.twimg.com/ext_tw_video_thumb/751250895690731520/pu/img/eziHbU1KbgZg-ijN.jpg', 'media_url_https': 'https://pbs.twimg.com/ext_tw_video_thumb/751250895690731520/pu/img/eziHbU1KbgZg-ijN.jpg', 'url': 'https://t.co/wayKZkDRTG', 'display_url': 'pic.twitter.com/wayKZkDRTG', 'expanded_url': 'https://twitter.com/dog_rates/status/751251247299190784/video/1', 'type': 'photo', 'sizes': {'thumb': {'w': 150, 'h': 150, 'resize': 'crop'}, 'medium': {'w': 1200, 'h': 675, 'resize': 'fit'}, 'small': {'w': 680, 'h': 383, 'resize': 'fit'}, 'large': {'w': 1280, 'h': 720, 'resize': 'fit'}}, 'features': {}}\n",
      "-----------\n",
      "{'id': 751250895690731520, 'id_str': '751250895690731520', 'indices': [111, 134], 'media_url': 'http://pbs.twimg.com/ext_tw_video_thumb/751250895690731520/pu/img/eziHbU1KbgZg-ijN.jpg', 'media_url_https': 'https://pbs.twimg.com/ext_tw_video_thumb/751250895690731520/pu/img/eziHbU1KbgZg-ijN.jpg', 'url': 'https://t.co/wayKZkDRTG', 'display_url': 'pic.twitter.com/wayKZkDRTG', 'expanded_url': 'https://twitter.com/dog_rates/status/751251247299190784/video/1', 'type': 'video', 'sizes': {'thumb': {'w': 150, 'h': 150, 'resize': 'crop'}, 'medium': {'w': 1200, 'h': 675, 'resize': 'fit'}, 'small': {'w': 680, 'h': 383, 'resize': 'fit'}, 'large': {'w': 1280, 'h': 720, 'resize': 'fit'}}, 'video_info': {'aspect_ratio': [16, 9], 'duration_millis': 31031, 'variants': [{'bitrate': 832000, 'content_type': 'video/mp4', 'url': 'https://video.twimg.com/ext_tw_video/751250895690731520/pu/vid/640x360/_W0aMv-wx94dqcsY.mp4'}, {'bitrate': 320000, 'content_type': 'video/mp4', 'url': 'https://video.twimg.com/ext_tw_video/751250895690731520/pu/vid/320x180/irLBxt83yZrSHeaA.mp4'}, {'content_type': 'application/x-mpegURL', 'url': 'https://video.twimg.com/ext_tw_video/751250895690731520/pu/pl/kV0iZ9rg-obGV7xm.m3u8'}, {'bitrate': 2176000, 'content_type': 'video/mp4', 'url': 'https://video.twimg.com/ext_tw_video/751250895690731520/pu/vid/1280x720/GLhBKiuF3keDzQmY.mp4'}]}, 'features': {}, 'additional_media_info': {'monetizable': False}}\n",
      "===========\n",
      "796\n",
      "{'id': 749316899712950272, 'id_str': '749316899712950272', 'indices': [116, 139], 'media_url': 'http://pbs.twimg.com/ext_tw_video_thumb/749316899712950272/pu/img/nvZI9mkoAxt89sul.jpg', 'media_url_https': 'https://pbs.twimg.com/ext_tw_video_thumb/749316899712950272/pu/img/nvZI9mkoAxt89sul.jpg', 'url': 'https://t.co/HHUAnBb6QB', 'display_url': 'pic.twitter.com/HHUAnBb6QB', 'expanded_url': 'https://twitter.com/dog_rates/status/749317047558017024/video/1', 'type': 'photo', 'sizes': {'thumb': {'w': 150, 'h': 150, 'resize': 'crop'}, 'medium': {'w': 568, 'h': 320, 'resize': 'fit'}, 'large': {'w': 568, 'h': 320, 'resize': 'fit'}, 'small': {'w': 568, 'h': 320, 'resize': 'fit'}}, 'features': {}}\n",
      "-----------\n",
      "{'id': 749316899712950272, 'id_str': '749316899712950272', 'indices': [116, 139], 'media_url': 'http://pbs.twimg.com/ext_tw_video_thumb/749316899712950272/pu/img/nvZI9mkoAxt89sul.jpg', 'media_url_https': 'https://pbs.twimg.com/ext_tw_video_thumb/749316899712950272/pu/img/nvZI9mkoAxt89sul.jpg', 'url': 'https://t.co/HHUAnBb6QB', 'display_url': 'pic.twitter.com/HHUAnBb6QB', 'expanded_url': 'https://twitter.com/dog_rates/status/749317047558017024/video/1', 'type': 'video', 'sizes': {'thumb': {'w': 150, 'h': 150, 'resize': 'crop'}, 'medium': {'w': 568, 'h': 320, 'resize': 'fit'}, 'large': {'w': 568, 'h': 320, 'resize': 'fit'}, 'small': {'w': 568, 'h': 320, 'resize': 'fit'}}, 'video_info': {'aspect_ratio': [71, 40], 'duration_millis': 22315, 'variants': [{'bitrate': 320000, 'content_type': 'video/mp4', 'url': 'https://video.twimg.com/ext_tw_video/749316899712950272/pu/vid/318x180/dzmMJmtfev31PChV.mp4'}, {'content_type': 'application/x-mpegURL', 'url': 'https://video.twimg.com/ext_tw_video/749316899712950272/pu/pl/ksQSvgwGGgGk4_nj.m3u8'}]}, 'features': {}, 'additional_media_info': {'monetizable': False}}\n",
      "===========\n",
      "801\n",
      "{'id': 748704826305970176, 'id_str': '748704826305970176', 'indices': [111, 134], 'media_url': 'http://pbs.twimg.com/ext_tw_video_thumb/748704826305970176/pu/img/QHuadM5eEygfBeOf.jpg', 'media_url_https': 'https://pbs.twimg.com/ext_tw_video_thumb/748704826305970176/pu/img/QHuadM5eEygfBeOf.jpg', 'url': 'https://t.co/eA7k1ZQslA', 'display_url': 'pic.twitter.com/eA7k1ZQslA', 'expanded_url': 'https://twitter.com/dog_rates/status/748705597323898880/video/1', 'type': 'photo', 'sizes': {'thumb': {'w': 150, 'h': 150, 'resize': 'crop'}, 'medium': {'w': 1200, 'h': 675, 'resize': 'fit'}, 'small': {'w': 680, 'h': 383, 'resize': 'fit'}, 'large': {'w': 1280, 'h': 720, 'resize': 'fit'}}, 'features': {}}\n",
      "-----------\n",
      "{'id': 748704826305970176, 'id_str': '748704826305970176', 'indices': [111, 134], 'media_url': 'http://pbs.twimg.com/ext_tw_video_thumb/748704826305970176/pu/img/QHuadM5eEygfBeOf.jpg', 'media_url_https': 'https://pbs.twimg.com/ext_tw_video_thumb/748704826305970176/pu/img/QHuadM5eEygfBeOf.jpg', 'url': 'https://t.co/eA7k1ZQslA', 'display_url': 'pic.twitter.com/eA7k1ZQslA', 'expanded_url': 'https://twitter.com/dog_rates/status/748705597323898880/video/1', 'type': 'video', 'sizes': {'thumb': {'w': 150, 'h': 150, 'resize': 'crop'}, 'medium': {'w': 1200, 'h': 675, 'resize': 'fit'}, 'small': {'w': 680, 'h': 383, 'resize': 'fit'}, 'large': {'w': 1280, 'h': 720, 'resize': 'fit'}}, 'video_info': {'aspect_ratio': [16, 9], 'duration_millis': 19433, 'variants': [{'bitrate': 832000, 'content_type': 'video/mp4', 'url': 'https://video.twimg.com/ext_tw_video/748704826305970176/pu/vid/640x360/vwcvIkF91_AfJnFI.mp4'}, {'content_type': 'application/x-mpegURL', 'url': 'https://video.twimg.com/ext_tw_video/748704826305970176/pu/pl/nNkYAC9_qAZT39QU.m3u8'}, {'bitrate': 320000, 'content_type': 'video/mp4', 'url': 'https://video.twimg.com/ext_tw_video/748704826305970176/pu/vid/320x180/OxnRJGJRdpJUuaxQ.mp4'}, {'bitrate': 2176000, 'content_type': 'video/mp4', 'url': 'https://video.twimg.com/ext_tw_video/748704826305970176/pu/vid/1280x720/lnqr6BUATWAk_vpG.mp4'}]}, 'features': {}, 'additional_media_info': {'monetizable': False}}\n",
      "===========\n"
     ]
    },
    {
     "name": "stdout",
     "output_type": "stream",
     "text": [
      "805\n",
      "{'id': 748568890477789184, 'id_str': '748568890477789184', 'indices': [86, 109], 'media_url': 'http://pbs.twimg.com/ext_tw_video_thumb/748568890477789184/pu/img/1MzP7FuodJdHw8zA.jpg', 'media_url_https': 'https://pbs.twimg.com/ext_tw_video_thumb/748568890477789184/pu/img/1MzP7FuodJdHw8zA.jpg', 'url': 'https://t.co/uUncaAGH18', 'display_url': 'pic.twitter.com/uUncaAGH18', 'expanded_url': 'https://twitter.com/dog_rates/status/748568946752774144/video/1', 'type': 'photo', 'sizes': {'thumb': {'w': 150, 'h': 150, 'resize': 'crop'}, 'medium': {'w': 316, 'h': 568, 'resize': 'fit'}, 'small': {'w': 316, 'h': 568, 'resize': 'fit'}, 'large': {'w': 316, 'h': 568, 'resize': 'fit'}}, 'features': {}}\n",
      "-----------\n",
      "{'id': 748568890477789184, 'id_str': '748568890477789184', 'indices': [86, 109], 'media_url': 'http://pbs.twimg.com/ext_tw_video_thumb/748568890477789184/pu/img/1MzP7FuodJdHw8zA.jpg', 'media_url_https': 'https://pbs.twimg.com/ext_tw_video_thumb/748568890477789184/pu/img/1MzP7FuodJdHw8zA.jpg', 'url': 'https://t.co/uUncaAGH18', 'display_url': 'pic.twitter.com/uUncaAGH18', 'expanded_url': 'https://twitter.com/dog_rates/status/748568946752774144/video/1', 'type': 'video', 'sizes': {'thumb': {'w': 150, 'h': 150, 'resize': 'crop'}, 'medium': {'w': 316, 'h': 568, 'resize': 'fit'}, 'small': {'w': 316, 'h': 568, 'resize': 'fit'}, 'large': {'w': 316, 'h': 568, 'resize': 'fit'}}, 'video_info': {'aspect_ratio': [79, 142], 'duration_millis': 8972, 'variants': [{'bitrate': 320000, 'content_type': 'video/mp4', 'url': 'https://video.twimg.com/ext_tw_video/748568890477789184/pu/vid/178x320/u3pmEM3JH_00ZOcX.mp4'}, {'content_type': 'application/x-mpegURL', 'url': 'https://video.twimg.com/ext_tw_video/748568890477789184/pu/pl/eHFxpIEy9wDqITA7.m3u8'}]}, 'features': {}, 'additional_media_info': {'monetizable': False}}\n",
      "===========\n",
      "840\n",
      "{'id': 744234667679821824, 'id_str': '744234667679821824', 'indices': [92, 115], 'media_url': 'http://pbs.twimg.com/ext_tw_video_thumb/744234667679821824/pu/img/1GaWmtJtdqzZV7jy.jpg', 'media_url_https': 'https://pbs.twimg.com/ext_tw_video_thumb/744234667679821824/pu/img/1GaWmtJtdqzZV7jy.jpg', 'url': 'https://t.co/7wE9LTEXC4', 'display_url': 'pic.twitter.com/7wE9LTEXC4', 'expanded_url': 'https://twitter.com/dog_rates/status/744234799360020481/video/1', 'type': 'photo', 'sizes': {'thumb': {'w': 150, 'h': 150, 'resize': 'crop'}, 'small': {'w': 383, 'h': 680, 'resize': 'fit'}, 'medium': {'w': 406, 'h': 720, 'resize': 'fit'}, 'large': {'w': 406, 'h': 720, 'resize': 'fit'}}, 'features': {}}\n",
      "-----------\n",
      "{'id': 744234667679821824, 'id_str': '744234667679821824', 'indices': [92, 115], 'media_url': 'http://pbs.twimg.com/ext_tw_video_thumb/744234667679821824/pu/img/1GaWmtJtdqzZV7jy.jpg', 'media_url_https': 'https://pbs.twimg.com/ext_tw_video_thumb/744234667679821824/pu/img/1GaWmtJtdqzZV7jy.jpg', 'url': 'https://t.co/7wE9LTEXC4', 'display_url': 'pic.twitter.com/7wE9LTEXC4', 'expanded_url': 'https://twitter.com/dog_rates/status/744234799360020481/video/1', 'type': 'video', 'sizes': {'thumb': {'w': 150, 'h': 150, 'resize': 'crop'}, 'small': {'w': 383, 'h': 680, 'resize': 'fit'}, 'medium': {'w': 406, 'h': 720, 'resize': 'fit'}, 'large': {'w': 406, 'h': 720, 'resize': 'fit'}}, 'video_info': {'aspect_ratio': [203, 360], 'duration_millis': 30026, 'variants': [{'bitrate': 832000, 'content_type': 'video/mp4', 'url': 'https://video.twimg.com/ext_tw_video/744234667679821824/pu/vid/360x640/aLoem87jSUDyshiY.mp4'}, {'bitrate': 320000, 'content_type': 'video/mp4', 'url': 'https://video.twimg.com/ext_tw_video/744234667679821824/pu/vid/180x320/KHYXq_pAC0hC_7dx.mp4'}, {'content_type': 'application/x-mpegURL', 'url': 'https://video.twimg.com/ext_tw_video/744234667679821824/pu/pl/4OkmKMtxaFkrBAJG.m3u8'}]}, 'features': {}, 'additional_media_info': {'monetizable': False}}\n",
      "===========\n",
      "846\n",
      "{'id': 743509040018268160, 'id_str': '743509040018268160', 'indices': [112, 135], 'media_url': 'http://pbs.twimg.com/ext_tw_video_thumb/743509040018268160/pu/img/Ol2OgO5f8ciUp80r.jpg', 'media_url_https': 'https://pbs.twimg.com/ext_tw_video_thumb/743509040018268160/pu/img/Ol2OgO5f8ciUp80r.jpg', 'url': 'https://t.co/qGeVjHSUKH', 'display_url': 'pic.twitter.com/qGeVjHSUKH', 'expanded_url': 'https://twitter.com/dog_rates/status/743510151680958465/video/1', 'type': 'photo', 'sizes': {'thumb': {'w': 150, 'h': 150, 'resize': 'crop'}, 'medium': {'w': 1200, 'h': 675, 'resize': 'fit'}, 'small': {'w': 680, 'h': 383, 'resize': 'fit'}, 'large': {'w': 1280, 'h': 720, 'resize': 'fit'}}, 'features': {}}\n",
      "-----------\n",
      "{'id': 743509040018268160, 'id_str': '743509040018268160', 'indices': [112, 135], 'media_url': 'http://pbs.twimg.com/ext_tw_video_thumb/743509040018268160/pu/img/Ol2OgO5f8ciUp80r.jpg', 'media_url_https': 'https://pbs.twimg.com/ext_tw_video_thumb/743509040018268160/pu/img/Ol2OgO5f8ciUp80r.jpg', 'url': 'https://t.co/qGeVjHSUKH', 'display_url': 'pic.twitter.com/qGeVjHSUKH', 'expanded_url': 'https://twitter.com/dog_rates/status/743510151680958465/video/1', 'type': 'video', 'sizes': {'thumb': {'w': 150, 'h': 150, 'resize': 'crop'}, 'medium': {'w': 1200, 'h': 675, 'resize': 'fit'}, 'small': {'w': 680, 'h': 383, 'resize': 'fit'}, 'large': {'w': 1280, 'h': 720, 'resize': 'fit'}}, 'video_info': {'aspect_ratio': [16, 9], 'duration_millis': 30000, 'variants': [{'content_type': 'application/x-mpegURL', 'url': 'https://video.twimg.com/ext_tw_video/743509040018268160/pu/pl/2IjJLsmb8WOubEGl.m3u8'}, {'bitrate': 832000, 'content_type': 'video/mp4', 'url': 'https://video.twimg.com/ext_tw_video/743509040018268160/pu/vid/640x360/AyGlDFtMj1wXNlx9.mp4'}, {'bitrate': 320000, 'content_type': 'video/mp4', 'url': 'https://video.twimg.com/ext_tw_video/743509040018268160/pu/vid/320x180/4YJMghRnrl1umKMe.mp4'}, {'bitrate': 2176000, 'content_type': 'video/mp4', 'url': 'https://video.twimg.com/ext_tw_video/743509040018268160/pu/vid/1280x720/Jw3WAQ4-d4XDDU-N.mp4'}]}, 'features': {}, 'additional_media_info': {'monetizable': False}}\n",
      "===========\n",
      "875\n",
      "{'id': 739238016737267712, 'id_str': '739238016737267712', 'indices': [115, 138], 'media_url': 'http://pbs.twimg.com/ext_tw_video_thumb/739238016737267712/pu/img/-tLpyiuIzD5zR1et.jpg', 'media_url_https': 'https://pbs.twimg.com/ext_tw_video_thumb/739238016737267712/pu/img/-tLpyiuIzD5zR1et.jpg', 'url': 'https://t.co/YcXgHfp1EC', 'display_url': 'pic.twitter.com/YcXgHfp1EC', 'expanded_url': 'https://twitter.com/dog_rates/status/739238157791694849/video/1', 'type': 'photo', 'sizes': {'thumb': {'w': 150, 'h': 150, 'resize': 'crop'}, 'medium': {'w': 1200, 'h': 675, 'resize': 'fit'}, 'small': {'w': 680, 'h': 383, 'resize': 'fit'}, 'large': {'w': 1280, 'h': 720, 'resize': 'fit'}}, 'features': {}}\n",
      "-----------\n",
      "{'id': 739238016737267712, 'id_str': '739238016737267712', 'indices': [115, 138], 'media_url': 'http://pbs.twimg.com/ext_tw_video_thumb/739238016737267712/pu/img/-tLpyiuIzD5zR1et.jpg', 'media_url_https': 'https://pbs.twimg.com/ext_tw_video_thumb/739238016737267712/pu/img/-tLpyiuIzD5zR1et.jpg', 'url': 'https://t.co/YcXgHfp1EC', 'display_url': 'pic.twitter.com/YcXgHfp1EC', 'expanded_url': 'https://twitter.com/dog_rates/status/739238157791694849/video/1', 'type': 'video', 'sizes': {'thumb': {'w': 150, 'h': 150, 'resize': 'crop'}, 'medium': {'w': 1200, 'h': 675, 'resize': 'fit'}, 'small': {'w': 680, 'h': 383, 'resize': 'fit'}, 'large': {'w': 1280, 'h': 720, 'resize': 'fit'}}, 'video_info': {'aspect_ratio': [16, 9], 'duration_millis': 30026, 'variants': [{'content_type': 'application/x-mpegURL', 'url': 'https://video.twimg.com/ext_tw_video/739238016737267712/pu/pl/eABZ1Ti3QC6fwNcR.m3u8'}, {'bitrate': 320000, 'content_type': 'video/mp4', 'url': 'https://video.twimg.com/ext_tw_video/739238016737267712/pu/vid/320x180/iakpSCu_6N0Mo0GE.mp4'}, {'bitrate': 2176000, 'content_type': 'video/mp4', 'url': 'https://video.twimg.com/ext_tw_video/739238016737267712/pu/vid/1280x720/oOC5LaMR5O7OAD-z.mp4'}, {'bitrate': 832000, 'content_type': 'video/mp4', 'url': 'https://video.twimg.com/ext_tw_video/739238016737267712/pu/vid/640x360/jRatWZ6QgiAKBIpO.mp4'}]}, 'features': {}, 'additional_media_info': {'monetizable': False}}\n",
      "===========\n",
      "888\n",
      "{'id': 737310236135043073, 'id_str': '737310236135043073', 'indices': [82, 105], 'media_url': 'http://pbs.twimg.com/ext_tw_video_thumb/737310236135043073/pu/img/_lG4DXmH-_XEq7Rc.jpg', 'media_url_https': 'https://pbs.twimg.com/ext_tw_video_thumb/737310236135043073/pu/img/_lG4DXmH-_XEq7Rc.jpg', 'url': 'https://t.co/wvjqSCN6iC', 'display_url': 'pic.twitter.com/wvjqSCN6iC', 'expanded_url': 'https://twitter.com/dog_rates/status/737310737551491075/video/1', 'type': 'photo', 'sizes': {'small': {'w': 480, 'h': 480, 'resize': 'fit'}, 'thumb': {'w': 150, 'h': 150, 'resize': 'crop'}, 'medium': {'w': 480, 'h': 480, 'resize': 'fit'}, 'large': {'w': 480, 'h': 480, 'resize': 'fit'}}, 'features': {}}\n",
      "-----------\n",
      "{'id': 737310236135043073, 'id_str': '737310236135043073', 'indices': [82, 105], 'media_url': 'http://pbs.twimg.com/ext_tw_video_thumb/737310236135043073/pu/img/_lG4DXmH-_XEq7Rc.jpg', 'media_url_https': 'https://pbs.twimg.com/ext_tw_video_thumb/737310236135043073/pu/img/_lG4DXmH-_XEq7Rc.jpg', 'url': 'https://t.co/wvjqSCN6iC', 'display_url': 'pic.twitter.com/wvjqSCN6iC', 'expanded_url': 'https://twitter.com/dog_rates/status/737310737551491075/video/1', 'type': 'video', 'sizes': {'small': {'w': 480, 'h': 480, 'resize': 'fit'}, 'thumb': {'w': 150, 'h': 150, 'resize': 'crop'}, 'medium': {'w': 480, 'h': 480, 'resize': 'fit'}, 'large': {'w': 480, 'h': 480, 'resize': 'fit'}}, 'video_info': {'aspect_ratio': [1, 1], 'duration_millis': 28700, 'variants': [{'bitrate': 832000, 'content_type': 'video/mp4', 'url': 'https://video.twimg.com/ext_tw_video/737310236135043073/pu/vid/480x480/4_FIQwts62fMhbhy.mp4'}, {'content_type': 'application/x-mpegURL', 'url': 'https://video.twimg.com/ext_tw_video/737310236135043073/pu/pl/qCobnfig9wQHOjgY.m3u8'}, {'bitrate': 320000, 'content_type': 'video/mp4', 'url': 'https://video.twimg.com/ext_tw_video/737310236135043073/pu/vid/240x240/VuIwsCKsLMO5ezr5.mp4'}]}, 'features': {}, 'additional_media_info': {'monetizable': False}}\n",
      "===========\n",
      "920\n",
      "{'id': 729838572744912896, 'id_str': '729838572744912896', 'indices': [44, 67], 'media_url': 'http://pbs.twimg.com/ext_tw_video_thumb/729838572744912896/pu/img/RIl-XYmRxW-YLFSV.jpg', 'media_url_https': 'https://pbs.twimg.com/ext_tw_video_thumb/729838572744912896/pu/img/RIl-XYmRxW-YLFSV.jpg', 'url': 'https://t.co/85dTK7XCXB', 'display_url': 'pic.twitter.com/85dTK7XCXB', 'expanded_url': 'https://twitter.com/dog_rates/status/729838605770891264/video/1', 'type': 'photo', 'sizes': {'thumb': {'w': 150, 'h': 150, 'resize': 'crop'}, 'small': {'w': 383, 'h': 680, 'resize': 'fit'}, 'large': {'w': 720, 'h': 1280, 'resize': 'fit'}, 'medium': {'w': 675, 'h': 1200, 'resize': 'fit'}}, 'features': {}}\n",
      "-----------\n",
      "{'id': 729838572744912896, 'id_str': '729838572744912896', 'indices': [44, 67], 'media_url': 'http://pbs.twimg.com/ext_tw_video_thumb/729838572744912896/pu/img/RIl-XYmRxW-YLFSV.jpg', 'media_url_https': 'https://pbs.twimg.com/ext_tw_video_thumb/729838572744912896/pu/img/RIl-XYmRxW-YLFSV.jpg', 'url': 'https://t.co/85dTK7XCXB', 'display_url': 'pic.twitter.com/85dTK7XCXB', 'expanded_url': 'https://twitter.com/dog_rates/status/729838605770891264/video/1', 'type': 'video', 'sizes': {'thumb': {'w': 150, 'h': 150, 'resize': 'crop'}, 'small': {'w': 383, 'h': 680, 'resize': 'fit'}, 'large': {'w': 720, 'h': 1280, 'resize': 'fit'}, 'medium': {'w': 675, 'h': 1200, 'resize': 'fit'}}, 'video_info': {'aspect_ratio': [9, 16], 'duration_millis': 4178, 'variants': [{'content_type': 'application/x-mpegURL', 'url': 'https://video.twimg.com/ext_tw_video/729838572744912896/pu/pl/WG36Yb0Oi5bonhfp.m3u8'}, {'bitrate': 320000, 'content_type': 'video/mp4', 'url': 'https://video.twimg.com/ext_tw_video/729838572744912896/pu/vid/180x320/MHKB-RZNN1pxNlo3.mp4'}, {'bitrate': 832000, 'content_type': 'video/mp4', 'url': 'https://video.twimg.com/ext_tw_video/729838572744912896/pu/vid/360x640/ZrUlrRQY22ML1n7E.mp4'}, {'bitrate': 2176000, 'content_type': 'video/mp4', 'url': 'https://video.twimg.com/ext_tw_video/729838572744912896/pu/vid/720x1280/K9W-rBibesBDvOUg.mp4'}]}, 'features': {}, 'additional_media_info': {'monetizable': False}}\n",
      "===========\n",
      "1024\n",
      "{'id': 711998175234510848, 'id_str': '711998175234510848', 'indices': [74, 97], 'media_url': 'http://pbs.twimg.com/tweet_video_thumb/CeGGkWuUUAAYWU1.jpg', 'media_url_https': 'https://pbs.twimg.com/tweet_video_thumb/CeGGkWuUUAAYWU1.jpg', 'url': 'https://t.co/j6FQGhxYuN', 'display_url': 'pic.twitter.com/j6FQGhxYuN', 'expanded_url': 'https://twitter.com/twitter/status/711998279773347841/photo/1', 'type': 'photo', 'sizes': {'thumb': {'w': 150, 'h': 150, 'resize': 'crop'}, 'small': {'w': 648, 'h': 648, 'resize': 'fit'}, 'medium': {'w': 648, 'h': 648, 'resize': 'fit'}, 'large': {'w': 648, 'h': 648, 'resize': 'fit'}}, 'source_status_id': 711998279773347841, 'source_status_id_str': '711998279773347841', 'source_user_id': 783214, 'source_user_id_str': '783214', 'features': {}}\n",
      "-----------\n",
      "{'id': 711998175234510848, 'id_str': '711998175234510848', 'indices': [74, 97], 'media_url': 'http://pbs.twimg.com/tweet_video_thumb/CeGGkWuUUAAYWU1.jpg', 'media_url_https': 'https://pbs.twimg.com/tweet_video_thumb/CeGGkWuUUAAYWU1.jpg', 'url': 'https://t.co/j6FQGhxYuN', 'display_url': 'pic.twitter.com/j6FQGhxYuN', 'expanded_url': 'https://twitter.com/twitter/status/711998279773347841/photo/1', 'type': 'animated_gif', 'sizes': {'thumb': {'w': 150, 'h': 150, 'resize': 'crop'}, 'small': {'w': 648, 'h': 648, 'resize': 'fit'}, 'medium': {'w': 648, 'h': 648, 'resize': 'fit'}, 'large': {'w': 648, 'h': 648, 'resize': 'fit'}}, 'source_status_id': 711998279773347841, 'source_status_id_str': '711998279773347841', 'source_user_id': 783214, 'source_user_id_str': '783214', 'video_info': {'aspect_ratio': [1, 1], 'variants': [{'bitrate': 0, 'content_type': 'video/mp4', 'url': 'https://video.twimg.com/tweet_video/CeGGkWuUUAAYWU1.mp4'}]}, 'features': {}}\n",
      "===========\n",
      "1028\n",
      "{'id': 711694754292109313, 'id_str': '711694754292109313', 'indices': [30, 53], 'media_url': 'http://pbs.twimg.com/tweet_video_thumb/CeBym7oXEAEWbEg.jpg', 'media_url_https': 'https://pbs.twimg.com/tweet_video_thumb/CeBym7oXEAEWbEg.jpg', 'url': 'https://t.co/Ezu6jQrKAZ', 'display_url': 'pic.twitter.com/Ezu6jQrKAZ', 'expanded_url': 'https://twitter.com/dog_rates/status/711694788429553666/photo/1', 'type': 'photo', 'sizes': {'thumb': {'w': 150, 'h': 150, 'resize': 'crop'}, 'small': {'w': 450, 'h': 340, 'resize': 'fit'}, 'medium': {'w': 450, 'h': 340, 'resize': 'fit'}, 'large': {'w': 450, 'h': 340, 'resize': 'fit'}}, 'features': {}}\n",
      "-----------\n",
      "{'id': 711694754292109313, 'id_str': '711694754292109313', 'indices': [30, 53], 'media_url': 'http://pbs.twimg.com/tweet_video_thumb/CeBym7oXEAEWbEg.jpg', 'media_url_https': 'https://pbs.twimg.com/tweet_video_thumb/CeBym7oXEAEWbEg.jpg', 'url': 'https://t.co/Ezu6jQrKAZ', 'display_url': 'pic.twitter.com/Ezu6jQrKAZ', 'expanded_url': 'https://twitter.com/dog_rates/status/711694788429553666/photo/1', 'type': 'animated_gif', 'sizes': {'thumb': {'w': 150, 'h': 150, 'resize': 'crop'}, 'small': {'w': 450, 'h': 340, 'resize': 'fit'}, 'medium': {'w': 450, 'h': 340, 'resize': 'fit'}, 'large': {'w': 450, 'h': 340, 'resize': 'fit'}}, 'video_info': {'aspect_ratio': [45, 34], 'variants': [{'bitrate': 0, 'content_type': 'video/mp4', 'url': 'https://video.twimg.com/tweet_video/CeBym7oXEAEWbEg.mp4'}]}, 'features': {}}\n",
      "===========\n"
     ]
    },
    {
     "name": "stdout",
     "output_type": "stream",
     "text": [
      "1070\n",
      "{'id': 708026062568087553, 'id_str': '708026062568087553', 'indices': [106, 129], 'media_url': 'http://pbs.twimg.com/ext_tw_video_thumb/708026062568087553/pu/img/rNhylAwIfb6YthGu.jpg', 'media_url_https': 'https://pbs.twimg.com/ext_tw_video_thumb/708026062568087553/pu/img/rNhylAwIfb6YthGu.jpg', 'url': 'https://t.co/5AJs8TIV1U', 'display_url': 'pic.twitter.com/5AJs8TIV1U', 'expanded_url': 'https://twitter.com/dog_rates/status/708026248782585858/video/1', 'type': 'photo', 'sizes': {'thumb': {'w': 150, 'h': 150, 'resize': 'crop'}, 'medium': {'w': 1200, 'h': 675, 'resize': 'fit'}, 'small': {'w': 680, 'h': 383, 'resize': 'fit'}, 'large': {'w': 1280, 'h': 720, 'resize': 'fit'}}, 'features': {}}\n",
      "-----------\n",
      "{'id': 708026062568087553, 'id_str': '708026062568087553', 'indices': [106, 129], 'media_url': 'http://pbs.twimg.com/ext_tw_video_thumb/708026062568087553/pu/img/rNhylAwIfb6YthGu.jpg', 'media_url_https': 'https://pbs.twimg.com/ext_tw_video_thumb/708026062568087553/pu/img/rNhylAwIfb6YthGu.jpg', 'url': 'https://t.co/5AJs8TIV1U', 'display_url': 'pic.twitter.com/5AJs8TIV1U', 'expanded_url': 'https://twitter.com/dog_rates/status/708026248782585858/video/1', 'type': 'video', 'sizes': {'thumb': {'w': 150, 'h': 150, 'resize': 'crop'}, 'medium': {'w': 1200, 'h': 675, 'resize': 'fit'}, 'small': {'w': 680, 'h': 383, 'resize': 'fit'}, 'large': {'w': 1280, 'h': 720, 'resize': 'fit'}}, 'video_info': {'aspect_ratio': [16, 9], 'duration_millis': 29677, 'variants': [{'bitrate': 2176000, 'content_type': 'video/mp4', 'url': 'https://video.twimg.com/ext_tw_video/708026062568087553/pu/vid/1280x720/Sg1nYWHToZPhfY71.mp4'}, {'content_type': 'application/x-mpegURL', 'url': 'https://video.twimg.com/ext_tw_video/708026062568087553/pu/pl/GBC2qASJZwLmSYpt.m3u8'}, {'bitrate': 832000, 'content_type': 'video/mp4', 'url': 'https://video.twimg.com/ext_tw_video/708026062568087553/pu/vid/640x360/Rzwhi1sxEtUJIKTB.mp4'}, {'bitrate': 320000, 'content_type': 'video/mp4', 'url': 'https://video.twimg.com/ext_tw_video/708026062568087553/pu/vid/320x180/D7YkMBFt71UvrWgl.mp4'}]}, 'features': {}, 'additional_media_info': {'monetizable': False}}\n",
      "===========\n",
      "1089\n",
      "{'id': 706644797256241152, 'id_str': '706644797256241152', 'indices': [117, 140], 'media_url': 'http://pbs.twimg.com/ext_tw_video_thumb/706644797256241152/pu/img/NTqvmIUQExGmKFSR.jpg', 'media_url_https': 'https://pbs.twimg.com/ext_tw_video_thumb/706644797256241152/pu/img/NTqvmIUQExGmKFSR.jpg', 'url': 'https://t.co/cdOkfEpjFw', 'display_url': 'pic.twitter.com/cdOkfEpjFw', 'expanded_url': 'https://twitter.com/dog_rates/status/706644897839910912/video/1', 'type': 'photo', 'sizes': {'thumb': {'w': 150, 'h': 150, 'resize': 'crop'}, 'large': {'w': 288, 'h': 420, 'resize': 'fit'}, 'small': {'w': 288, 'h': 420, 'resize': 'fit'}, 'medium': {'w': 288, 'h': 420, 'resize': 'fit'}}, 'features': {}}\n",
      "-----------\n",
      "{'id': 706644797256241152, 'id_str': '706644797256241152', 'indices': [117, 140], 'media_url': 'http://pbs.twimg.com/ext_tw_video_thumb/706644797256241152/pu/img/NTqvmIUQExGmKFSR.jpg', 'media_url_https': 'https://pbs.twimg.com/ext_tw_video_thumb/706644797256241152/pu/img/NTqvmIUQExGmKFSR.jpg', 'url': 'https://t.co/cdOkfEpjFw', 'display_url': 'pic.twitter.com/cdOkfEpjFw', 'expanded_url': 'https://twitter.com/dog_rates/status/706644897839910912/video/1', 'type': 'video', 'sizes': {'thumb': {'w': 150, 'h': 150, 'resize': 'crop'}, 'large': {'w': 288, 'h': 420, 'resize': 'fit'}, 'small': {'w': 288, 'h': 420, 'resize': 'fit'}, 'medium': {'w': 288, 'h': 420, 'resize': 'fit'}}, 'video_info': {'aspect_ratio': [24, 35], 'duration_millis': 14733, 'variants': [{'content_type': 'application/x-mpegURL', 'url': 'https://video.twimg.com/ext_tw_video/706644797256241152/pu/pl/-VqrlS2um6Epk2j8.m3u8'}, {'bitrate': 320000, 'content_type': 'video/mp4', 'url': 'https://video.twimg.com/ext_tw_video/706644797256241152/pu/vid/218x320/BGdMNHcatpQtBxyN.mp4'}]}, 'features': {}, 'additional_media_info': {'monetizable': False}}\n",
      "===========\n",
      "1174\n",
      "{'id': 699072391083880449, 'id_str': '699072391083880449', 'indices': [29, 52], 'media_url': 'http://pbs.twimg.com/ext_tw_video_thumb/699072391083880449/pu/img/fMp1-dvLMeio1Kzk.jpg', 'media_url_https': 'https://pbs.twimg.com/ext_tw_video_thumb/699072391083880449/pu/img/fMp1-dvLMeio1Kzk.jpg', 'url': 'https://t.co/7WrAWKdBac', 'display_url': 'pic.twitter.com/7WrAWKdBac', 'expanded_url': 'https://twitter.com/dog_rates/status/699072405256409088/video/1', 'type': 'photo', 'sizes': {'medium': {'w': 240, 'h': 320, 'resize': 'fit'}, 'thumb': {'w': 150, 'h': 150, 'resize': 'crop'}, 'large': {'w': 240, 'h': 320, 'resize': 'fit'}, 'small': {'w': 240, 'h': 320, 'resize': 'fit'}}, 'features': {}}\n",
      "-----------\n",
      "{'id': 699072391083880449, 'id_str': '699072391083880449', 'indices': [29, 52], 'media_url': 'http://pbs.twimg.com/ext_tw_video_thumb/699072391083880449/pu/img/fMp1-dvLMeio1Kzk.jpg', 'media_url_https': 'https://pbs.twimg.com/ext_tw_video_thumb/699072391083880449/pu/img/fMp1-dvLMeio1Kzk.jpg', 'url': 'https://t.co/7WrAWKdBac', 'display_url': 'pic.twitter.com/7WrAWKdBac', 'expanded_url': 'https://twitter.com/dog_rates/status/699072405256409088/video/1', 'type': 'video', 'sizes': {'medium': {'w': 240, 'h': 320, 'resize': 'fit'}, 'thumb': {'w': 150, 'h': 150, 'resize': 'crop'}, 'large': {'w': 240, 'h': 320, 'resize': 'fit'}, 'small': {'w': 240, 'h': 320, 'resize': 'fit'}}, 'video_info': {'aspect_ratio': [3, 4], 'duration_millis': 12204, 'variants': [{'content_type': 'application/x-mpegURL', 'url': 'https://video.twimg.com/ext_tw_video/699072391083880449/pu/pl/wnNn0Ltbaot6yYdi.m3u8'}, {'bitrate': 320000, 'content_type': 'video/mp4', 'url': 'https://video.twimg.com/ext_tw_video/699072391083880449/pu/vid/240x320/M4T2CZbhZzD9Ssao.mp4'}]}, 'features': {}, 'additional_media_info': {'monetizable': False}}\n",
      "===========\n",
      "1181\n",
      "{'id': 698635005506015234, 'id_str': '698635005506015234', 'indices': [111, 134], 'media_url': 'http://pbs.twimg.com/ext_tw_video_thumb/698635005506015234/pu/img/wQ4yFXTZ-2QLt68b.jpg', 'media_url_https': 'https://pbs.twimg.com/ext_tw_video_thumb/698635005506015234/pu/img/wQ4yFXTZ-2QLt68b.jpg', 'url': 'https://t.co/rb8nzVNh7F', 'display_url': 'pic.twitter.com/rb8nzVNh7F', 'expanded_url': 'https://twitter.com/dog_rates/status/698635131305795584/video/1', 'type': 'photo', 'sizes': {'large': {'w': 480, 'h': 272, 'resize': 'fit'}, 'thumb': {'w': 150, 'h': 150, 'resize': 'crop'}, 'medium': {'w': 480, 'h': 272, 'resize': 'fit'}, 'small': {'w': 480, 'h': 272, 'resize': 'fit'}}, 'features': {}}\n",
      "-----------\n",
      "{'id': 698635005506015234, 'id_str': '698635005506015234', 'indices': [111, 134], 'media_url': 'http://pbs.twimg.com/ext_tw_video_thumb/698635005506015234/pu/img/wQ4yFXTZ-2QLt68b.jpg', 'media_url_https': 'https://pbs.twimg.com/ext_tw_video_thumb/698635005506015234/pu/img/wQ4yFXTZ-2QLt68b.jpg', 'url': 'https://t.co/rb8nzVNh7F', 'display_url': 'pic.twitter.com/rb8nzVNh7F', 'expanded_url': 'https://twitter.com/dog_rates/status/698635131305795584/video/1', 'type': 'video', 'sizes': {'large': {'w': 480, 'h': 272, 'resize': 'fit'}, 'thumb': {'w': 150, 'h': 150, 'resize': 'crop'}, 'medium': {'w': 480, 'h': 272, 'resize': 'fit'}, 'small': {'w': 480, 'h': 272, 'resize': 'fit'}}, 'video_info': {'aspect_ratio': [30, 17], 'duration_millis': 26576, 'variants': [{'content_type': 'application/x-mpegURL', 'url': 'https://video.twimg.com/ext_tw_video/698635005506015234/pu/pl/bjBeb3i290l8lFvI.m3u8'}, {'bitrate': 320000, 'content_type': 'video/mp4', 'url': 'https://video.twimg.com/ext_tw_video/698635005506015234/pu/vid/316x180/mziB_epBReCnzLmj.mp4'}]}, 'features': {}, 'additional_media_info': {'monetizable': False}}\n",
      "===========\n",
      "1184\n",
      "{'id': 698341973569245184, 'id_str': '698341973569245184', 'indices': [117, 140], 'media_url': 'http://pbs.twimg.com/ext_tw_video_thumb/698341973569245184/pu/img/Sj3A2vSfbKWSv61T.jpg', 'media_url_https': 'https://pbs.twimg.com/ext_tw_video_thumb/698341973569245184/pu/img/Sj3A2vSfbKWSv61T.jpg', 'url': 'https://t.co/VmFfWMjNkp', 'display_url': 'pic.twitter.com/VmFfWMjNkp', 'expanded_url': 'https://twitter.com/dog_rates/status/698342080612007937/video/1', 'type': 'photo', 'sizes': {'thumb': {'w': 150, 'h': 150, 'resize': 'crop'}, 'small': {'w': 680, 'h': 680, 'resize': 'fit'}, 'medium': {'w': 720, 'h': 720, 'resize': 'fit'}, 'large': {'w': 720, 'h': 720, 'resize': 'fit'}}, 'features': {}}\n",
      "-----------\n",
      "{'id': 698341973569245184, 'id_str': '698341973569245184', 'indices': [117, 140], 'media_url': 'http://pbs.twimg.com/ext_tw_video_thumb/698341973569245184/pu/img/Sj3A2vSfbKWSv61T.jpg', 'media_url_https': 'https://pbs.twimg.com/ext_tw_video_thumb/698341973569245184/pu/img/Sj3A2vSfbKWSv61T.jpg', 'url': 'https://t.co/VmFfWMjNkp', 'display_url': 'pic.twitter.com/VmFfWMjNkp', 'expanded_url': 'https://twitter.com/dog_rates/status/698342080612007937/video/1', 'type': 'video', 'sizes': {'thumb': {'w': 150, 'h': 150, 'resize': 'crop'}, 'small': {'w': 680, 'h': 680, 'resize': 'fit'}, 'medium': {'w': 720, 'h': 720, 'resize': 'fit'}, 'large': {'w': 720, 'h': 720, 'resize': 'fit'}}, 'video_info': {'aspect_ratio': [1, 1], 'duration_millis': 15058, 'variants': [{'bitrate': 320000, 'content_type': 'video/mp4', 'url': 'https://video.twimg.com/ext_tw_video/698341973569245184/pu/vid/240x240/O78Cw3KpcM7Y08A7.mp4'}, {'bitrate': 1280000, 'content_type': 'video/mp4', 'url': 'https://video.twimg.com/ext_tw_video/698341973569245184/pu/vid/720x720/FP7tMqjo0wYuD3oV.mp4'}, {'content_type': 'application/x-mpegURL', 'url': 'https://video.twimg.com/ext_tw_video/698341973569245184/pu/pl/eRh3Va2T7gqNpMQz.m3u8'}, {'bitrate': 832000, 'content_type': 'video/mp4', 'url': 'https://video.twimg.com/ext_tw_video/698341973569245184/pu/vid/480x480/zw8q3gwaouVSnEjR.mp4'}]}, 'features': {}, 'additional_media_info': {'monetizable': False}}\n",
      "===========\n",
      "1218\n",
      "{'id': 695064251149508610, 'id_str': '695064251149508610', 'indices': [115, 138], 'media_url': 'http://pbs.twimg.com/ext_tw_video_thumb/695064251149508610/pu/img/0OPED0aUurb9Z16a.jpg', 'media_url_https': 'https://pbs.twimg.com/ext_tw_video_thumb/695064251149508610/pu/img/0OPED0aUurb9Z16a.jpg', 'url': 'https://t.co/uaJmNgXR2P', 'display_url': 'pic.twitter.com/uaJmNgXR2P', 'expanded_url': 'https://twitter.com/dog_rates/status/695064344191721472/video/1', 'type': 'photo', 'sizes': {'thumb': {'w': 150, 'h': 150, 'resize': 'crop'}, 'small': {'w': 383, 'h': 680, 'resize': 'fit'}, 'large': {'w': 720, 'h': 1280, 'resize': 'fit'}, 'medium': {'w': 675, 'h': 1200, 'resize': 'fit'}}, 'features': {}}\n",
      "-----------\n",
      "{'id': 695064251149508610, 'id_str': '695064251149508610', 'indices': [115, 138], 'media_url': 'http://pbs.twimg.com/ext_tw_video_thumb/695064251149508610/pu/img/0OPED0aUurb9Z16a.jpg', 'media_url_https': 'https://pbs.twimg.com/ext_tw_video_thumb/695064251149508610/pu/img/0OPED0aUurb9Z16a.jpg', 'url': 'https://t.co/uaJmNgXR2P', 'display_url': 'pic.twitter.com/uaJmNgXR2P', 'expanded_url': 'https://twitter.com/dog_rates/status/695064344191721472/video/1', 'type': 'video', 'sizes': {'thumb': {'w': 150, 'h': 150, 'resize': 'crop'}, 'small': {'w': 383, 'h': 680, 'resize': 'fit'}, 'large': {'w': 720, 'h': 1280, 'resize': 'fit'}, 'medium': {'w': 675, 'h': 1200, 'resize': 'fit'}}, 'video_info': {'aspect_ratio': [9, 16], 'duration_millis': 9691, 'variants': [{'bitrate': 2176000, 'content_type': 'video/mp4', 'url': 'https://video.twimg.com/ext_tw_video/695064251149508610/pu/vid/720x1280/kTHA4PRWxrVFUn9o.mp4'}, {'content_type': 'application/x-mpegURL', 'url': 'https://video.twimg.com/ext_tw_video/695064251149508610/pu/pl/1mUmCn4Nd5KyYeiS.m3u8'}, {'bitrate': 320000, 'content_type': 'video/mp4', 'url': 'https://video.twimg.com/ext_tw_video/695064251149508610/pu/vid/180x320/R_0ImrocctvLO1wj.mp4'}, {'bitrate': 832000, 'content_type': 'video/mp4', 'url': 'https://video.twimg.com/ext_tw_video/695064251149508610/pu/vid/360x640/xxi8eopv6x3J5DKg.mp4'}]}, 'features': {}, 'additional_media_info': {'monetizable': False}}\n",
      "===========\n",
      "1234\n",
      "{'id': 693486485266247680, 'id_str': '693486485266247680', 'indices': [100, 123], 'media_url': 'http://pbs.twimg.com/ext_tw_video_thumb/693486485266247680/pu/img/KhapmUYPQTpbwNf8.jpg', 'media_url_https': 'https://pbs.twimg.com/ext_tw_video_thumb/693486485266247680/pu/img/KhapmUYPQTpbwNf8.jpg', 'url': 'https://t.co/S6cQsIoX27', 'display_url': 'pic.twitter.com/S6cQsIoX27', 'expanded_url': 'https://twitter.com/dog_rates/status/693486665285931008/video/1', 'type': 'photo', 'sizes': {'thumb': {'w': 150, 'h': 150, 'resize': 'crop'}, 'large': {'w': 320, 'h': 568, 'resize': 'fit'}, 'small': {'w': 320, 'h': 568, 'resize': 'fit'}, 'medium': {'w': 320, 'h': 568, 'resize': 'fit'}}, 'features': {}}\n",
      "-----------\n",
      "{'id': 693486485266247680, 'id_str': '693486485266247680', 'indices': [100, 123], 'media_url': 'http://pbs.twimg.com/ext_tw_video_thumb/693486485266247680/pu/img/KhapmUYPQTpbwNf8.jpg', 'media_url_https': 'https://pbs.twimg.com/ext_tw_video_thumb/693486485266247680/pu/img/KhapmUYPQTpbwNf8.jpg', 'url': 'https://t.co/S6cQsIoX27', 'display_url': 'pic.twitter.com/S6cQsIoX27', 'expanded_url': 'https://twitter.com/dog_rates/status/693486665285931008/video/1', 'type': 'video', 'sizes': {'thumb': {'w': 150, 'h': 150, 'resize': 'crop'}, 'large': {'w': 320, 'h': 568, 'resize': 'fit'}, 'small': {'w': 320, 'h': 568, 'resize': 'fit'}, 'medium': {'w': 320, 'h': 568, 'resize': 'fit'}}, 'video_info': {'aspect_ratio': [40, 71], 'duration_millis': 17512, 'variants': [{'bitrate': 320000, 'content_type': 'video/mp4', 'url': 'https://video.twimg.com/ext_tw_video/693486485266247680/pu/vid/180x320/Mq5Txz_bbvttynFS.mp4'}, {'content_type': 'application/x-mpegURL', 'url': 'https://video.twimg.com/ext_tw_video/693486485266247680/pu/pl/9_9WeQMcANG7xLgO.m3u8'}]}, 'features': {}, 'additional_media_info': {'monetizable': False}}\n",
      "===========\n",
      "1239\n",
      "{'id': 693108992730632192, 'id_str': '693108992730632192', 'indices': [76, 99], 'media_url': 'http://pbs.twimg.com/ext_tw_video_thumb/693108992730632192/pu/img/ncJQQZf3eroMSF12.jpg', 'media_url_https': 'https://pbs.twimg.com/ext_tw_video_thumb/693108992730632192/pu/img/ncJQQZf3eroMSF12.jpg', 'url': 'https://t.co/NY3cPAZAIM', 'display_url': 'pic.twitter.com/NY3cPAZAIM', 'expanded_url': 'https://twitter.com/dog_rates/status/693109034023534592/video/1', 'type': 'photo', 'sizes': {'thumb': {'w': 150, 'h': 150, 'resize': 'crop'}, 'medium': {'w': 384, 'h': 480, 'resize': 'fit'}, 'small': {'w': 384, 'h': 480, 'resize': 'fit'}, 'large': {'w': 384, 'h': 480, 'resize': 'fit'}}, 'features': {}}\n",
      "-----------\n",
      "{'id': 693108992730632192, 'id_str': '693108992730632192', 'indices': [76, 99], 'media_url': 'http://pbs.twimg.com/ext_tw_video_thumb/693108992730632192/pu/img/ncJQQZf3eroMSF12.jpg', 'media_url_https': 'https://pbs.twimg.com/ext_tw_video_thumb/693108992730632192/pu/img/ncJQQZf3eroMSF12.jpg', 'url': 'https://t.co/NY3cPAZAIM', 'display_url': 'pic.twitter.com/NY3cPAZAIM', 'expanded_url': 'https://twitter.com/dog_rates/status/693109034023534592/video/1', 'type': 'video', 'sizes': {'thumb': {'w': 150, 'h': 150, 'resize': 'crop'}, 'medium': {'w': 384, 'h': 480, 'resize': 'fit'}, 'small': {'w': 384, 'h': 480, 'resize': 'fit'}, 'large': {'w': 384, 'h': 480, 'resize': 'fit'}}, 'video_info': {'aspect_ratio': [4, 5], 'duration_millis': 6536, 'variants': [{'bitrate': 320000, 'content_type': 'video/mp4', 'url': 'https://video.twimg.com/ext_tw_video/693108992730632192/pu/vid/256x320/WcRTnVAoUMPBX3GP.mp4'}, {'content_type': 'application/x-mpegURL', 'url': 'https://video.twimg.com/ext_tw_video/693108992730632192/pu/pl/-6tXwajmvtpHKkrk.m3u8'}]}, 'features': {}, 'additional_media_info': {'monetizable': False}}\n",
      "===========\n",
      "1246\n",
      "{'id': 692752274041507842, 'id_str': '692752274041507842', 'indices': [69, 92], 'media_url': 'http://pbs.twimg.com/tweet_video_thumb/CZ0mhduWkAICSGe.png', 'media_url_https': 'https://pbs.twimg.com/tweet_video_thumb/CZ0mhduWkAICSGe.png', 'url': 'https://t.co/kYWcXbluUu', 'display_url': 'pic.twitter.com/kYWcXbluUu', 'expanded_url': 'https://twitter.com/dog_rates/status/692752401762250755/photo/1', 'type': 'photo', 'sizes': {'small': {'w': 196, 'h': 327, 'resize': 'fit'}, 'large': {'w': 196, 'h': 327, 'resize': 'fit'}, 'thumb': {'w': 150, 'h': 150, 'resize': 'crop'}, 'medium': {'w': 196, 'h': 327, 'resize': 'fit'}}, 'features': {}}\n",
      "-----------\n",
      "{'id': 692752274041507842, 'id_str': '692752274041507842', 'indices': [69, 92], 'media_url': 'http://pbs.twimg.com/tweet_video_thumb/CZ0mhduWkAICSGe.png', 'media_url_https': 'https://pbs.twimg.com/tweet_video_thumb/CZ0mhduWkAICSGe.png', 'url': 'https://t.co/kYWcXbluUu', 'display_url': 'pic.twitter.com/kYWcXbluUu', 'expanded_url': 'https://twitter.com/dog_rates/status/692752401762250755/photo/1', 'type': 'animated_gif', 'sizes': {'small': {'w': 196, 'h': 327, 'resize': 'fit'}, 'large': {'w': 196, 'h': 327, 'resize': 'fit'}, 'thumb': {'w': 150, 'h': 150, 'resize': 'crop'}, 'medium': {'w': 196, 'h': 327, 'resize': 'fit'}}, 'video_info': {'aspect_ratio': [196, 327], 'variants': [{'bitrate': 0, 'content_type': 'video/mp4', 'url': 'https://video.twimg.com/tweet_video/CZ0mhduWkAICSGe.mp4'}]}, 'features': {}}\n",
      "===========\n",
      "1291\n",
      "{'id': 689289176076959744, 'id_str': '689289176076959744', 'indices': [99, 122], 'media_url': 'http://pbs.twimg.com/ext_tw_video_thumb/689289176076959744/pu/img/hEFkFtmMu_hkTlxK.jpg', 'media_url_https': 'https://pbs.twimg.com/ext_tw_video_thumb/689289176076959744/pu/img/hEFkFtmMu_hkTlxK.jpg', 'url': 'https://t.co/Rxrd4hPmp4', 'display_url': 'pic.twitter.com/Rxrd4hPmp4', 'expanded_url': 'https://twitter.com/dog_rates/status/689289219123089408/video/1', 'type': 'photo', 'sizes': {'thumb': {'w': 150, 'h': 150, 'resize': 'crop'}, 'large': {'w': 320, 'h': 568, 'resize': 'fit'}, 'small': {'w': 320, 'h': 568, 'resize': 'fit'}, 'medium': {'w': 320, 'h': 568, 'resize': 'fit'}}, 'features': {}}\n",
      "-----------\n",
      "{'id': 689289176076959744, 'id_str': '689289176076959744', 'indices': [99, 122], 'media_url': 'http://pbs.twimg.com/ext_tw_video_thumb/689289176076959744/pu/img/hEFkFtmMu_hkTlxK.jpg', 'media_url_https': 'https://pbs.twimg.com/ext_tw_video_thumb/689289176076959744/pu/img/hEFkFtmMu_hkTlxK.jpg', 'url': 'https://t.co/Rxrd4hPmp4', 'display_url': 'pic.twitter.com/Rxrd4hPmp4', 'expanded_url': 'https://twitter.com/dog_rates/status/689289219123089408/video/1', 'type': 'video', 'sizes': {'thumb': {'w': 150, 'h': 150, 'resize': 'crop'}, 'large': {'w': 320, 'h': 568, 'resize': 'fit'}, 'small': {'w': 320, 'h': 568, 'resize': 'fit'}, 'medium': {'w': 320, 'h': 568, 'resize': 'fit'}}, 'video_info': {'aspect_ratio': [40, 71], 'duration_millis': 16700, 'variants': [{'content_type': 'application/x-mpegURL', 'url': 'https://video.twimg.com/ext_tw_video/689289176076959744/pu/pl/Pa7myp-oZViNb1D0.m3u8'}, {'bitrate': 320000, 'content_type': 'video/mp4', 'url': 'https://video.twimg.com/ext_tw_video/689289176076959744/pu/vid/180x320/B0MFdiiYIsM2MwN3.mp4'}]}, 'features': {}, 'additional_media_info': {'monetizable': False}}\n",
      "===========\n",
      "1307\n",
      "{'id': 688211379870806016, 'id_str': '688211379870806016', 'indices': [59, 82], 'media_url': 'http://pbs.twimg.com/ext_tw_video_thumb/688211379870806016/pu/img/OI0VTwPYnsScQg8R.jpg', 'media_url_https': 'https://pbs.twimg.com/ext_tw_video_thumb/688211379870806016/pu/img/OI0VTwPYnsScQg8R.jpg', 'url': 'https://t.co/o4Nfc8WoAO', 'display_url': 'pic.twitter.com/o4Nfc8WoAO', 'expanded_url': 'https://twitter.com/dog_rates/status/688211956440801280/video/1', 'type': 'photo', 'sizes': {'thumb': {'w': 150, 'h': 150, 'resize': 'crop'}, 'small': {'w': 383, 'h': 680, 'resize': 'fit'}, 'large': {'w': 720, 'h': 1280, 'resize': 'fit'}, 'medium': {'w': 675, 'h': 1200, 'resize': 'fit'}}, 'features': {}}\n",
      "-----------\n",
      "{'id': 688211379870806016, 'id_str': '688211379870806016', 'indices': [59, 82], 'media_url': 'http://pbs.twimg.com/ext_tw_video_thumb/688211379870806016/pu/img/OI0VTwPYnsScQg8R.jpg', 'media_url_https': 'https://pbs.twimg.com/ext_tw_video_thumb/688211379870806016/pu/img/OI0VTwPYnsScQg8R.jpg', 'url': 'https://t.co/o4Nfc8WoAO', 'display_url': 'pic.twitter.com/o4Nfc8WoAO', 'expanded_url': 'https://twitter.com/dog_rates/status/688211956440801280/video/1', 'type': 'video', 'sizes': {'thumb': {'w': 150, 'h': 150, 'resize': 'crop'}, 'small': {'w': 383, 'h': 680, 'resize': 'fit'}, 'large': {'w': 720, 'h': 1280, 'resize': 'fit'}, 'medium': {'w': 675, 'h': 1200, 'resize': 'fit'}}, 'video_info': {'aspect_ratio': [9, 16], 'duration_millis': 14882, 'variants': [{'content_type': 'application/x-mpegURL', 'url': 'https://video.twimg.com/ext_tw_video/688211379870806016/pu/pl/NtSIa7doYcgqv0YG.m3u8'}, {'bitrate': 2176000, 'content_type': 'video/mp4', 'url': 'https://video.twimg.com/ext_tw_video/688211379870806016/pu/vid/720x1280/SZ2bT6nntG70fxpB.mp4'}, {'bitrate': 320000, 'content_type': 'video/mp4', 'url': 'https://video.twimg.com/ext_tw_video/688211379870806016/pu/vid/180x320/j3HKQd9STHr2_UHR.mp4'}, {'bitrate': 832000, 'content_type': 'video/mp4', 'url': 'https://video.twimg.com/ext_tw_video/688211379870806016/pu/vid/360x640/XoXZNX03Z4Yb1mF7.mp4'}]}, 'features': {}, 'additional_media_info': {'monetizable': False}}\n",
      "===========\n",
      "1341\n",
      "{'id': 685943751555051520, 'id_str': '685943751555051520', 'indices': [117, 140], 'media_url': 'http://pbs.twimg.com/ext_tw_video_thumb/685943751555051520/pu/img/rlBvQWaFPUMx1MTi.jpg', 'media_url_https': 'https://pbs.twimg.com/ext_tw_video_thumb/685943751555051520/pu/img/rlBvQWaFPUMx1MTi.jpg', 'url': 'https://t.co/wbAcvFoNtn', 'display_url': 'pic.twitter.com/wbAcvFoNtn', 'expanded_url': 'https://twitter.com/dog_rates/status/685943807276412928/video/1', 'type': 'photo', 'sizes': {'thumb': {'w': 150, 'h': 150, 'resize': 'crop'}, 'small': {'w': 383, 'h': 680, 'resize': 'fit'}, 'large': {'w': 720, 'h': 1280, 'resize': 'fit'}, 'medium': {'w': 675, 'h': 1200, 'resize': 'fit'}}, 'features': {}}\n",
      "-----------\n",
      "{'id': 685943751555051520, 'id_str': '685943751555051520', 'indices': [117, 140], 'media_url': 'http://pbs.twimg.com/ext_tw_video_thumb/685943751555051520/pu/img/rlBvQWaFPUMx1MTi.jpg', 'media_url_https': 'https://pbs.twimg.com/ext_tw_video_thumb/685943751555051520/pu/img/rlBvQWaFPUMx1MTi.jpg', 'url': 'https://t.co/wbAcvFoNtn', 'display_url': 'pic.twitter.com/wbAcvFoNtn', 'expanded_url': 'https://twitter.com/dog_rates/status/685943807276412928/video/1', 'type': 'video', 'sizes': {'thumb': {'w': 150, 'h': 150, 'resize': 'crop'}, 'small': {'w': 383, 'h': 680, 'resize': 'fit'}, 'large': {'w': 720, 'h': 1280, 'resize': 'fit'}, 'medium': {'w': 675, 'h': 1200, 'resize': 'fit'}}, 'video_info': {'aspect_ratio': [9, 16], 'duration_millis': 9870, 'variants': [{'bitrate': 832000, 'content_type': 'video/mp4', 'url': 'https://video.twimg.com/ext_tw_video/685943751555051520/pu/vid/360x640/Y1Lx1AHZinlYhLQd.mp4'}, {'bitrate': 320000, 'content_type': 'video/mp4', 'url': 'https://video.twimg.com/ext_tw_video/685943751555051520/pu/vid/180x320/Tg98cfrBD-pWVUVz.mp4'}, {'bitrate': 2176000, 'content_type': 'video/mp4', 'url': 'https://video.twimg.com/ext_tw_video/685943751555051520/pu/vid/720x1280/nzCdZJJ1J_zAce5v.mp4'}, {'content_type': 'application/x-mpegURL', 'url': 'https://video.twimg.com/ext_tw_video/685943751555051520/pu/pl/ya9sp9SLXNqjrWab.m3u8'}]}, 'features': {}, 'additional_media_info': {'monetizable': False}}\n",
      "===========\n",
      "1344\n",
      "{'id': 685663358637486080, 'id_str': '685663358637486080', 'indices': [86, 109], 'media_url': 'http://pbs.twimg.com/ext_tw_video_thumb/685663358637486080/pu/img/3cXSHFZAgJQ_dDCf.jpg', 'media_url_https': 'https://pbs.twimg.com/ext_tw_video_thumb/685663358637486080/pu/img/3cXSHFZAgJQ_dDCf.jpg', 'url': 'https://t.co/AcVWe39nmM', 'display_url': 'pic.twitter.com/AcVWe39nmM', 'expanded_url': 'https://twitter.com/dog_rates/status/685663452032069632/video/1', 'type': 'photo', 'sizes': {'thumb': {'w': 150, 'h': 150, 'resize': 'crop'}, 'large': {'w': 320, 'h': 568, 'resize': 'fit'}, 'small': {'w': 320, 'h': 568, 'resize': 'fit'}, 'medium': {'w': 320, 'h': 568, 'resize': 'fit'}}, 'features': {}}\n",
      "-----------\n",
      "{'id': 685663358637486080, 'id_str': '685663358637486080', 'indices': [86, 109], 'media_url': 'http://pbs.twimg.com/ext_tw_video_thumb/685663358637486080/pu/img/3cXSHFZAgJQ_dDCf.jpg', 'media_url_https': 'https://pbs.twimg.com/ext_tw_video_thumb/685663358637486080/pu/img/3cXSHFZAgJQ_dDCf.jpg', 'url': 'https://t.co/AcVWe39nmM', 'display_url': 'pic.twitter.com/AcVWe39nmM', 'expanded_url': 'https://twitter.com/dog_rates/status/685663452032069632/video/1', 'type': 'video', 'sizes': {'thumb': {'w': 150, 'h': 150, 'resize': 'crop'}, 'large': {'w': 320, 'h': 568, 'resize': 'fit'}, 'small': {'w': 320, 'h': 568, 'resize': 'fit'}, 'medium': {'w': 320, 'h': 568, 'resize': 'fit'}}, 'video_info': {'aspect_ratio': [40, 71], 'duration_millis': 30026, 'variants': [{'bitrate': 320000, 'content_type': 'video/mp4', 'url': 'https://video.twimg.com/ext_tw_video/685663358637486080/pu/vid/180x320/Sw3FBUUE7Zqtowxy.mp4'}, {'content_type': 'application/x-mpegURL', 'url': 'https://video.twimg.com/ext_tw_video/685663358637486080/pu/pl/csfEEcs_Tl--oyaR.m3u8'}]}, 'features': {}, 'additional_media_info': {'monetizable': False}}\n",
      "===========\n",
      "1364\n",
      "{'id': 684538367950872576, 'id_str': '684538367950872576', 'indices': [97, 120], 'media_url': 'http://pbs.twimg.com/ext_tw_video_thumb/684538367950872576/pu/img/kTKOkSU45BS-fpq8.jpg', 'media_url_https': 'https://pbs.twimg.com/ext_tw_video_thumb/684538367950872576/pu/img/kTKOkSU45BS-fpq8.jpg', 'url': 'https://t.co/IKoRK4yoxV', 'display_url': 'pic.twitter.com/IKoRK4yoxV', 'expanded_url': 'https://twitter.com/dog_rates/status/684538444857667585/video/1', 'type': 'photo', 'sizes': {'small': {'w': 545, 'h': 680, 'resize': 'fit'}, 'thumb': {'w': 150, 'h': 150, 'resize': 'crop'}, 'large': {'w': 640, 'h': 798, 'resize': 'fit'}, 'medium': {'w': 640, 'h': 798, 'resize': 'fit'}}, 'features': {}}\n",
      "-----------\n",
      "{'id': 684538367950872576, 'id_str': '684538367950872576', 'indices': [97, 120], 'media_url': 'http://pbs.twimg.com/ext_tw_video_thumb/684538367950872576/pu/img/kTKOkSU45BS-fpq8.jpg', 'media_url_https': 'https://pbs.twimg.com/ext_tw_video_thumb/684538367950872576/pu/img/kTKOkSU45BS-fpq8.jpg', 'url': 'https://t.co/IKoRK4yoxV', 'display_url': 'pic.twitter.com/IKoRK4yoxV', 'expanded_url': 'https://twitter.com/dog_rates/status/684538444857667585/video/1', 'type': 'video', 'sizes': {'small': {'w': 545, 'h': 680, 'resize': 'fit'}, 'thumb': {'w': 150, 'h': 150, 'resize': 'crop'}, 'large': {'w': 640, 'h': 798, 'resize': 'fit'}, 'medium': {'w': 640, 'h': 798, 'resize': 'fit'}}, 'video_info': {'aspect_ratio': [320, 399], 'duration_millis': 15038, 'variants': [{'content_type': 'application/x-mpegURL', 'url': 'https://video.twimg.com/ext_tw_video/684538367950872576/pu/pl/vcd-YPs5rh5N5FYc.m3u8'}, {'bitrate': 832000, 'content_type': 'video/mp4', 'url': 'https://video.twimg.com/ext_tw_video/684538367950872576/pu/vid/512x640/OQwSUIHdOcjMAcdG.mp4'}, {'bitrate': 320000, 'content_type': 'video/mp4', 'url': 'https://video.twimg.com/ext_tw_video/684538367950872576/pu/vid/256x320/QtjPjzUschf3l-q8.mp4'}]}, 'features': {}, 'additional_media_info': {'monetizable': False}}\n",
      "===========\n",
      "1379\n",
      "{'id': 683834825250320385, 'id_str': '683834825250320385', 'indices': [120, 143], 'media_url': 'http://pbs.twimg.com/ext_tw_video_thumb/683834825250320385/pu/img/yZdrqMlyky4KGOu6.jpg', 'media_url_https': 'https://pbs.twimg.com/ext_tw_video_thumb/683834825250320385/pu/img/yZdrqMlyky4KGOu6.jpg', 'url': 'https://t.co/O1E4AtHVxO', 'display_url': 'pic.twitter.com/O1E4AtHVxO', 'expanded_url': 'https://twitter.com/dog_rates/status/683834909291606017/video/1', 'type': 'photo', 'sizes': {'thumb': {'w': 150, 'h': 150, 'resize': 'crop'}, 'large': {'w': 320, 'h': 568, 'resize': 'fit'}, 'small': {'w': 320, 'h': 568, 'resize': 'fit'}, 'medium': {'w': 320, 'h': 568, 'resize': 'fit'}}, 'features': {}}\n",
      "-----------\n",
      "{'id': 683834825250320385, 'id_str': '683834825250320385', 'indices': [120, 143], 'media_url': 'http://pbs.twimg.com/ext_tw_video_thumb/683834825250320385/pu/img/yZdrqMlyky4KGOu6.jpg', 'media_url_https': 'https://pbs.twimg.com/ext_tw_video_thumb/683834825250320385/pu/img/yZdrqMlyky4KGOu6.jpg', 'url': 'https://t.co/O1E4AtHVxO', 'display_url': 'pic.twitter.com/O1E4AtHVxO', 'expanded_url': 'https://twitter.com/dog_rates/status/683834909291606017/video/1', 'type': 'video', 'sizes': {'thumb': {'w': 150, 'h': 150, 'resize': 'crop'}, 'large': {'w': 320, 'h': 568, 'resize': 'fit'}, 'small': {'w': 320, 'h': 568, 'resize': 'fit'}, 'medium': {'w': 320, 'h': 568, 'resize': 'fit'}}, 'video_info': {'aspect_ratio': [40, 71], 'duration_millis': 27367, 'variants': [{'bitrate': 320000, 'content_type': 'video/mp4', 'url': 'https://video.twimg.com/ext_tw_video/683834825250320385/pu/vid/180x320/ZwCefuBHUyBotCCO.mp4'}, {'content_type': 'application/x-mpegURL', 'url': 'https://video.twimg.com/ext_tw_video/683834825250320385/pu/pl/Bn1ZSrwiA8LSescz.m3u8'}]}, 'features': {}, 'additional_media_info': {'monetizable': False}}\n",
      "===========\n",
      "1442\n",
      "{'id': 680440290977693696, 'id_str': '680440290977693696', 'indices': [95, 118], 'media_url': 'http://pbs.twimg.com/ext_tw_video_thumb/680440290977693696/pu/img/B900g7b-n-zhnwi5.jpg', 'media_url_https': 'https://pbs.twimg.com/ext_tw_video_thumb/680440290977693696/pu/img/B900g7b-n-zhnwi5.jpg', 'url': 'https://t.co/UKqIAnR3He', 'display_url': 'pic.twitter.com/UKqIAnR3He', 'expanded_url': 'https://twitter.com/dog_rates/status/680440374763077632/video/1', 'type': 'photo', 'sizes': {'thumb': {'w': 150, 'h': 150, 'resize': 'crop'}, 'medium': {'w': 568, 'h': 320, 'resize': 'fit'}, 'large': {'w': 568, 'h': 320, 'resize': 'fit'}, 'small': {'w': 568, 'h': 320, 'resize': 'fit'}}, 'features': {}}\n",
      "-----------\n",
      "{'id': 680440290977693696, 'id_str': '680440290977693696', 'indices': [95, 118], 'media_url': 'http://pbs.twimg.com/ext_tw_video_thumb/680440290977693696/pu/img/B900g7b-n-zhnwi5.jpg', 'media_url_https': 'https://pbs.twimg.com/ext_tw_video_thumb/680440290977693696/pu/img/B900g7b-n-zhnwi5.jpg', 'url': 'https://t.co/UKqIAnR3He', 'display_url': 'pic.twitter.com/UKqIAnR3He', 'expanded_url': 'https://twitter.com/dog_rates/status/680440374763077632/video/1', 'type': 'video', 'sizes': {'thumb': {'w': 150, 'h': 150, 'resize': 'crop'}, 'medium': {'w': 568, 'h': 320, 'resize': 'fit'}, 'large': {'w': 568, 'h': 320, 'resize': 'fit'}, 'small': {'w': 568, 'h': 320, 'resize': 'fit'}}, 'video_info': {'aspect_ratio': [71, 40], 'duration_millis': 19967, 'variants': [{'bitrate': 320000, 'content_type': 'video/mp4', 'url': 'https://video.twimg.com/ext_tw_video/680440290977693696/pu/vid/318x180/jeZImakDDQXSLYLo.mp4'}, {'content_type': 'application/x-mpegURL', 'url': 'https://video.twimg.com/ext_tw_video/680440290977693696/pu/pl/vttnF_6KAWEFM6k3.m3u8'}]}, 'features': {}, 'additional_media_info': {'monetizable': False}}\n",
      "===========\n"
     ]
    },
    {
     "name": "stdout",
     "output_type": "stream",
     "text": [
      "1472\n",
      "{'id': 679111114081370114, 'id_str': '679111114081370114', 'indices': [56, 79], 'media_url': 'http://pbs.twimg.com/ext_tw_video_thumb/679111114081370114/pu/img/hFca8BHjRopgD0cM.jpg', 'media_url_https': 'https://pbs.twimg.com/ext_tw_video_thumb/679111114081370114/pu/img/hFca8BHjRopgD0cM.jpg', 'url': 'https://t.co/4R0Cc0sLVE', 'display_url': 'pic.twitter.com/4R0Cc0sLVE', 'expanded_url': 'https://twitter.com/dog_rates/status/679111216690831360/video/1', 'type': 'photo', 'sizes': {'thumb': {'w': 150, 'h': 150, 'resize': 'crop'}, 'small': {'w': 383, 'h': 680, 'resize': 'fit'}, 'large': {'w': 720, 'h': 1280, 'resize': 'fit'}, 'medium': {'w': 675, 'h': 1200, 'resize': 'fit'}}, 'features': {}}\n",
      "-----------\n",
      "{'id': 679111114081370114, 'id_str': '679111114081370114', 'indices': [56, 79], 'media_url': 'http://pbs.twimg.com/ext_tw_video_thumb/679111114081370114/pu/img/hFca8BHjRopgD0cM.jpg', 'media_url_https': 'https://pbs.twimg.com/ext_tw_video_thumb/679111114081370114/pu/img/hFca8BHjRopgD0cM.jpg', 'url': 'https://t.co/4R0Cc0sLVE', 'display_url': 'pic.twitter.com/4R0Cc0sLVE', 'expanded_url': 'https://twitter.com/dog_rates/status/679111216690831360/video/1', 'type': 'video', 'sizes': {'thumb': {'w': 150, 'h': 150, 'resize': 'crop'}, 'small': {'w': 383, 'h': 680, 'resize': 'fit'}, 'large': {'w': 720, 'h': 1280, 'resize': 'fit'}, 'medium': {'w': 675, 'h': 1200, 'resize': 'fit'}}, 'video_info': {'aspect_ratio': [9, 16], 'duration_millis': 9673, 'variants': [{'content_type': 'application/x-mpegURL', 'url': 'https://video.twimg.com/ext_tw_video/679111114081370114/pu/pl/eIxIY_IV7ZDs53vV.m3u8'}, {'bitrate': 832000, 'content_type': 'video/mp4', 'url': 'https://video.twimg.com/ext_tw_video/679111114081370114/pu/vid/360x640/OF3MFaUt4vQEWG8h.mp4'}, {'bitrate': 320000, 'content_type': 'video/mp4', 'url': 'https://video.twimg.com/ext_tw_video/679111114081370114/pu/vid/180x320/t78agw0dHS0WVCnO.mp4'}, {'bitrate': 2176000, 'content_type': 'video/mp4', 'url': 'https://video.twimg.com/ext_tw_video/679111114081370114/pu/vid/720x1280/xbkEaMgYwrzIsC2q.mp4'}]}, 'features': {}, 'additional_media_info': {'monetizable': False}}\n",
      "===========\n",
      "1489\n",
      "{'id': 678399528077250560, 'id_str': '678399528077250560', 'indices': [37, 60], 'media_url': 'http://pbs.twimg.com/ext_tw_video_thumb/678399528077250560/pu/img/BOjUNHRsYLeSo0hl.jpg', 'media_url_https': 'https://pbs.twimg.com/ext_tw_video_thumb/678399528077250560/pu/img/BOjUNHRsYLeSo0hl.jpg', 'url': 'https://t.co/VRTbo3aAcm', 'display_url': 'pic.twitter.com/VRTbo3aAcm', 'expanded_url': 'https://twitter.com/dog_rates/status/678399652199309312/video/1', 'type': 'photo', 'sizes': {'medium': {'w': 640, 'h': 640, 'resize': 'fit'}, 'thumb': {'w': 150, 'h': 150, 'resize': 'crop'}, 'large': {'w': 640, 'h': 640, 'resize': 'fit'}, 'small': {'w': 640, 'h': 640, 'resize': 'fit'}}, 'features': {}}\n",
      "-----------\n",
      "{'id': 678399528077250560, 'id_str': '678399528077250560', 'indices': [37, 60], 'media_url': 'http://pbs.twimg.com/ext_tw_video_thumb/678399528077250560/pu/img/BOjUNHRsYLeSo0hl.jpg', 'media_url_https': 'https://pbs.twimg.com/ext_tw_video_thumb/678399528077250560/pu/img/BOjUNHRsYLeSo0hl.jpg', 'url': 'https://t.co/VRTbo3aAcm', 'display_url': 'pic.twitter.com/VRTbo3aAcm', 'expanded_url': 'https://twitter.com/dog_rates/status/678399652199309312/video/1', 'type': 'video', 'sizes': {'medium': {'w': 640, 'h': 640, 'resize': 'fit'}, 'thumb': {'w': 150, 'h': 150, 'resize': 'crop'}, 'large': {'w': 640, 'h': 640, 'resize': 'fit'}, 'small': {'w': 640, 'h': 640, 'resize': 'fit'}}, 'video_info': {'aspect_ratio': [1, 1], 'duration_millis': 15033, 'variants': [{'content_type': 'application/x-mpegURL', 'url': 'https://video.twimg.com/ext_tw_video/678399528077250560/pu/pl/IJ207Mm1gxaZu0Hw.m3u8'}, {'bitrate': 832000, 'content_type': 'video/mp4', 'url': 'https://video.twimg.com/ext_tw_video/678399528077250560/pu/vid/480x480/7weQs_vC8zI06pS2.mp4'}, {'bitrate': 320000, 'content_type': 'video/mp4', 'url': 'https://video.twimg.com/ext_tw_video/678399528077250560/pu/vid/240x240/hcA6zoixppH_0Lp8.mp4'}]}, 'features': {}, 'additional_media_info': {'monetizable': False}}\n",
      "===========\n",
      "1506\n",
      "{'id': 677644010865999872, 'id_str': '677644010865999872', 'indices': [80, 103], 'media_url': 'http://pbs.twimg.com/ext_tw_video_thumb/677644010865999872/pu/img/zVHEMYnJKzq1SauT.jpg', 'media_url_https': 'https://pbs.twimg.com/ext_tw_video_thumb/677644010865999872/pu/img/zVHEMYnJKzq1SauT.jpg', 'url': 'https://t.co/Ozo9KHTRND', 'display_url': 'pic.twitter.com/Ozo9KHTRND', 'expanded_url': 'https://twitter.com/dog_rates/status/677644091929329666/video/1', 'type': 'photo', 'sizes': {'small': {'w': 480, 'h': 480, 'resize': 'fit'}, 'thumb': {'w': 150, 'h': 150, 'resize': 'crop'}, 'medium': {'w': 480, 'h': 480, 'resize': 'fit'}, 'large': {'w': 480, 'h': 480, 'resize': 'fit'}}, 'features': {}}\n",
      "-----------\n",
      "{'id': 677644010865999872, 'id_str': '677644010865999872', 'indices': [80, 103], 'media_url': 'http://pbs.twimg.com/ext_tw_video_thumb/677644010865999872/pu/img/zVHEMYnJKzq1SauT.jpg', 'media_url_https': 'https://pbs.twimg.com/ext_tw_video_thumb/677644010865999872/pu/img/zVHEMYnJKzq1SauT.jpg', 'url': 'https://t.co/Ozo9KHTRND', 'display_url': 'pic.twitter.com/Ozo9KHTRND', 'expanded_url': 'https://twitter.com/dog_rates/status/677644091929329666/video/1', 'type': 'video', 'sizes': {'small': {'w': 480, 'h': 480, 'resize': 'fit'}, 'thumb': {'w': 150, 'h': 150, 'resize': 'crop'}, 'medium': {'w': 480, 'h': 480, 'resize': 'fit'}, 'large': {'w': 480, 'h': 480, 'resize': 'fit'}}, 'video_info': {'aspect_ratio': [1, 1], 'duration_millis': 15033, 'variants': [{'bitrate': 832000, 'content_type': 'video/mp4', 'url': 'https://video.twimg.com/ext_tw_video/677644010865999872/pu/vid/480x480/PjBM07faZxC2wE2v.mp4'}, {'bitrate': 320000, 'content_type': 'video/mp4', 'url': 'https://video.twimg.com/ext_tw_video/677644010865999872/pu/vid/240x240/UiYx4j14_AS7CIVm.mp4'}, {'content_type': 'application/x-mpegURL', 'url': 'https://video.twimg.com/ext_tw_video/677644010865999872/pu/pl/FL0OkMT7hzPBzYq6.m3u8'}]}, 'features': {}, 'additional_media_info': {'monetizable': False}}\n",
      "===========\n",
      "1521\n",
      "{'id': 676957802976419840, 'id_str': '676957802976419840', 'indices': [57, 80], 'media_url': 'http://pbs.twimg.com/ext_tw_video_thumb/676957802976419840/pu/img/dCj-qlXo73A5hf6Q.jpg', 'media_url_https': 'https://pbs.twimg.com/ext_tw_video_thumb/676957802976419840/pu/img/dCj-qlXo73A5hf6Q.jpg', 'url': 'https://t.co/ngTNXYQF0L', 'display_url': 'pic.twitter.com/ngTNXYQF0L', 'expanded_url': 'https://twitter.com/dog_rates/status/676957860086095872/video/1', 'type': 'photo', 'sizes': {'thumb': {'w': 150, 'h': 150, 'resize': 'crop'}, 'small': {'w': 383, 'h': 680, 'resize': 'fit'}, 'large': {'w': 720, 'h': 1280, 'resize': 'fit'}, 'medium': {'w': 675, 'h': 1200, 'resize': 'fit'}}, 'features': {}}\n",
      "-----------\n",
      "{'id': 676957802976419840, 'id_str': '676957802976419840', 'indices': [57, 80], 'media_url': 'http://pbs.twimg.com/ext_tw_video_thumb/676957802976419840/pu/img/dCj-qlXo73A5hf6Q.jpg', 'media_url_https': 'https://pbs.twimg.com/ext_tw_video_thumb/676957802976419840/pu/img/dCj-qlXo73A5hf6Q.jpg', 'url': 'https://t.co/ngTNXYQF0L', 'display_url': 'pic.twitter.com/ngTNXYQF0L', 'expanded_url': 'https://twitter.com/dog_rates/status/676957860086095872/video/1', 'type': 'video', 'sizes': {'thumb': {'w': 150, 'h': 150, 'resize': 'crop'}, 'small': {'w': 383, 'h': 680, 'resize': 'fit'}, 'large': {'w': 720, 'h': 1280, 'resize': 'fit'}, 'medium': {'w': 675, 'h': 1200, 'resize': 'fit'}}, 'video_info': {'aspect_ratio': [9, 16], 'duration_millis': 9376, 'variants': [{'bitrate': 832000, 'content_type': 'video/mp4', 'url': 'https://video.twimg.com/ext_tw_video/676957802976419840/pu/vid/360x640/d_JNjd95QBRZ4QYU.mp4'}, {'bitrate': 320000, 'content_type': 'video/mp4', 'url': 'https://video.twimg.com/ext_tw_video/676957802976419840/pu/vid/180x320/I-KzfQH91jNtt9Ki.mp4'}, {'content_type': 'application/x-mpegURL', 'url': 'https://video.twimg.com/ext_tw_video/676957802976419840/pu/pl/Bz5Xdp4nZqSFhXzh.m3u8'}, {'bitrate': 2176000, 'content_type': 'video/mp4', 'url': 'https://video.twimg.com/ext_tw_video/676957802976419840/pu/vid/720x1280/7ARuPu5uFP2Qug-8.mp4'}]}, 'features': {}, 'additional_media_info': {'monetizable': False}}\n",
      "===========\n",
      "1532\n",
      "{'id': 676776408941662209, 'id_str': '676776408941662209', 'indices': [94, 117], 'media_url': 'http://pbs.twimg.com/ext_tw_video_thumb/676776408941662209/pu/img/k-6I3YEZAQtYPBXR.jpg', 'media_url_https': 'https://pbs.twimg.com/ext_tw_video_thumb/676776408941662209/pu/img/k-6I3YEZAQtYPBXR.jpg', 'url': 'https://t.co/4rMZi5Ca1k', 'display_url': 'pic.twitter.com/4rMZi5Ca1k', 'expanded_url': 'https://twitter.com/dog_rates/status/676776431406465024/video/1', 'type': 'photo', 'sizes': {'thumb': {'w': 150, 'h': 150, 'resize': 'crop'}, 'medium': {'w': 568, 'h': 320, 'resize': 'fit'}, 'large': {'w': 568, 'h': 320, 'resize': 'fit'}, 'small': {'w': 568, 'h': 320, 'resize': 'fit'}}, 'features': {}}\n",
      "-----------\n",
      "{'id': 676776408941662209, 'id_str': '676776408941662209', 'indices': [94, 117], 'media_url': 'http://pbs.twimg.com/ext_tw_video_thumb/676776408941662209/pu/img/k-6I3YEZAQtYPBXR.jpg', 'media_url_https': 'https://pbs.twimg.com/ext_tw_video_thumb/676776408941662209/pu/img/k-6I3YEZAQtYPBXR.jpg', 'url': 'https://t.co/4rMZi5Ca1k', 'display_url': 'pic.twitter.com/4rMZi5Ca1k', 'expanded_url': 'https://twitter.com/dog_rates/status/676776431406465024/video/1', 'type': 'video', 'sizes': {'thumb': {'w': 150, 'h': 150, 'resize': 'crop'}, 'medium': {'w': 568, 'h': 320, 'resize': 'fit'}, 'large': {'w': 568, 'h': 320, 'resize': 'fit'}, 'small': {'w': 568, 'h': 320, 'resize': 'fit'}}, 'video_info': {'aspect_ratio': [71, 40], 'duration_millis': 3500, 'variants': [{'bitrate': 320000, 'content_type': 'video/mp4', 'url': 'https://video.twimg.com/ext_tw_video/676776408941662209/pu/vid/318x180/xqq0tYwoyYyBYeEt.mp4'}, {'content_type': 'application/x-mpegURL', 'url': 'https://video.twimg.com/ext_tw_video/676776408941662209/pu/pl/IwAzvW5Po6O85v-A.m3u8'}]}, 'features': {}, 'additional_media_info': {'monetizable': False}}\n",
      "===========\n",
      "1565\n",
      "{'id': 675740268751138818, 'id_str': '675740268751138818', 'indices': [59, 82], 'media_url': 'http://pbs.twimg.com/ext_tw_video_thumb/675740268751138818/pu/img/dVaVeFAVT-lk_1ZV.jpg', 'media_url_https': 'https://pbs.twimg.com/ext_tw_video_thumb/675740268751138818/pu/img/dVaVeFAVT-lk_1ZV.jpg', 'url': 'https://t.co/AUJi8ujxw9', 'display_url': 'pic.twitter.com/AUJi8ujxw9', 'expanded_url': 'https://twitter.com/dog_rates/status/675740360753160193/video/1', 'type': 'photo', 'sizes': {'thumb': {'w': 150, 'h': 150, 'resize': 'crop'}, 'large': {'w': 320, 'h': 568, 'resize': 'fit'}, 'small': {'w': 320, 'h': 568, 'resize': 'fit'}, 'medium': {'w': 320, 'h': 568, 'resize': 'fit'}}, 'features': {}}\n",
      "-----------\n",
      "{'id': 675740268751138818, 'id_str': '675740268751138818', 'indices': [59, 82], 'media_url': 'http://pbs.twimg.com/ext_tw_video_thumb/675740268751138818/pu/img/dVaVeFAVT-lk_1ZV.jpg', 'media_url_https': 'https://pbs.twimg.com/ext_tw_video_thumb/675740268751138818/pu/img/dVaVeFAVT-lk_1ZV.jpg', 'url': 'https://t.co/AUJi8ujxw9', 'display_url': 'pic.twitter.com/AUJi8ujxw9', 'expanded_url': 'https://twitter.com/dog_rates/status/675740360753160193/video/1', 'type': 'video', 'sizes': {'thumb': {'w': 150, 'h': 150, 'resize': 'crop'}, 'large': {'w': 320, 'h': 568, 'resize': 'fit'}, 'small': {'w': 320, 'h': 568, 'resize': 'fit'}, 'medium': {'w': 320, 'h': 568, 'resize': 'fit'}}, 'video_info': {'aspect_ratio': [40, 71], 'duration_millis': 30000, 'variants': [{'bitrate': 320000, 'content_type': 'video/mp4', 'url': 'https://video.twimg.com/ext_tw_video/675740268751138818/pu/vid/180x320/aNZ95zsxoK6meapV.mp4'}, {'content_type': 'application/x-mpegURL', 'url': 'https://video.twimg.com/ext_tw_video/675740268751138818/pu/pl/DQND3KtytUJ2RGyW.m3u8'}]}, 'features': {}, 'additional_media_info': {'monetizable': False}}\n",
      "===========\n",
      "1580\n",
      "{'id': 675354114423808004, 'id_str': '675354114423808004', 'indices': [36, 59], 'media_url': 'http://pbs.twimg.com/ext_tw_video_thumb/675354114423808004/pu/img/qL1R_nGLqa6lmkOx.jpg', 'media_url_https': 'https://pbs.twimg.com/ext_tw_video_thumb/675354114423808004/pu/img/qL1R_nGLqa6lmkOx.jpg', 'url': 'https://t.co/Bb3xnpsWBC', 'display_url': 'pic.twitter.com/Bb3xnpsWBC', 'expanded_url': 'https://twitter.com/dog_rates/status/675354435921575936/video/1', 'type': 'photo', 'sizes': {'small': {'w': 480, 'h': 480, 'resize': 'fit'}, 'thumb': {'w': 150, 'h': 150, 'resize': 'crop'}, 'medium': {'w': 480, 'h': 480, 'resize': 'fit'}, 'large': {'w': 480, 'h': 480, 'resize': 'fit'}}, 'features': {}}\n",
      "-----------\n",
      "{'id': 675354114423808004, 'id_str': '675354114423808004', 'indices': [36, 59], 'media_url': 'http://pbs.twimg.com/ext_tw_video_thumb/675354114423808004/pu/img/qL1R_nGLqa6lmkOx.jpg', 'media_url_https': 'https://pbs.twimg.com/ext_tw_video_thumb/675354114423808004/pu/img/qL1R_nGLqa6lmkOx.jpg', 'url': 'https://t.co/Bb3xnpsWBC', 'display_url': 'pic.twitter.com/Bb3xnpsWBC', 'expanded_url': 'https://twitter.com/dog_rates/status/675354435921575936/video/1', 'type': 'video', 'sizes': {'small': {'w': 480, 'h': 480, 'resize': 'fit'}, 'thumb': {'w': 150, 'h': 150, 'resize': 'crop'}, 'medium': {'w': 480, 'h': 480, 'resize': 'fit'}, 'large': {'w': 480, 'h': 480, 'resize': 'fit'}}, 'video_info': {'aspect_ratio': [1, 1], 'duration_millis': 6500, 'variants': [{'content_type': 'application/x-mpegURL', 'url': 'https://video.twimg.com/ext_tw_video/675354114423808004/pu/pl/KOhoNx6pTCSdb2LU.m3u8'}, {'bitrate': 320000, 'content_type': 'video/mp4', 'url': 'https://video.twimg.com/ext_tw_video/675354114423808004/pu/vid/240x240/CCWxU4pQylJfjLaW.mp4'}, {'bitrate': 832000, 'content_type': 'video/mp4', 'url': 'https://video.twimg.com/ext_tw_video/675354114423808004/pu/vid/480x480/nyoss-OfvNGCX6Id.mp4'}]}, 'features': {}, 'additional_media_info': {'monetizable': False}}\n",
      "===========\n",
      "1598\n",
      "{'id': 674805331965399040, 'id_str': '674805331965399040', 'indices': [110, 133], 'media_url': 'http://pbs.twimg.com/ext_tw_video_thumb/674805331965399040/pu/img/-7bw8niVrgIkLKOW.jpg', 'media_url_https': 'https://pbs.twimg.com/ext_tw_video_thumb/674805331965399040/pu/img/-7bw8niVrgIkLKOW.jpg', 'url': 'https://t.co/vqFkgYPCW8', 'display_url': 'pic.twitter.com/vqFkgYPCW8', 'expanded_url': 'https://twitter.com/dog_rates/status/674805413498527744/video/1', 'type': 'photo', 'sizes': {'small': {'w': 480, 'h': 480, 'resize': 'fit'}, 'thumb': {'w': 150, 'h': 150, 'resize': 'crop'}, 'medium': {'w': 480, 'h': 480, 'resize': 'fit'}, 'large': {'w': 480, 'h': 480, 'resize': 'fit'}}, 'features': {}}\n",
      "-----------\n",
      "{'id': 674805331965399040, 'id_str': '674805331965399040', 'indices': [110, 133], 'media_url': 'http://pbs.twimg.com/ext_tw_video_thumb/674805331965399040/pu/img/-7bw8niVrgIkLKOW.jpg', 'media_url_https': 'https://pbs.twimg.com/ext_tw_video_thumb/674805331965399040/pu/img/-7bw8niVrgIkLKOW.jpg', 'url': 'https://t.co/vqFkgYPCW8', 'display_url': 'pic.twitter.com/vqFkgYPCW8', 'expanded_url': 'https://twitter.com/dog_rates/status/674805413498527744/video/1', 'type': 'video', 'sizes': {'small': {'w': 480, 'h': 480, 'resize': 'fit'}, 'thumb': {'w': 150, 'h': 150, 'resize': 'crop'}, 'medium': {'w': 480, 'h': 480, 'resize': 'fit'}, 'large': {'w': 480, 'h': 480, 'resize': 'fit'}}, 'video_info': {'aspect_ratio': [1, 1], 'duration_millis': 15072, 'variants': [{'bitrate': 832000, 'content_type': 'video/mp4', 'url': 'https://video.twimg.com/ext_tw_video/674805331965399040/pu/vid/480x480/M1a8_6sw5RzV9Ziv.mp4'}, {'bitrate': 320000, 'content_type': 'video/mp4', 'url': 'https://video.twimg.com/ext_tw_video/674805331965399040/pu/vid/240x240/yXftdF10gYwxah9q.mp4'}, {'content_type': 'application/x-mpegURL', 'url': 'https://video.twimg.com/ext_tw_video/674805331965399040/pu/pl/nDPBL11hPDMknxkT.m3u8'}]}, 'features': {}, 'additional_media_info': {'monetizable': False}}\n",
      "===========\n",
      "1740\n",
      "{'id': 671789647081644032, 'id_str': '671789647081644032', 'indices': [116, 139], 'media_url': 'http://pbs.twimg.com/tweet_video_thumb/CVKtH-4WIAAmiQ5.png', 'media_url_https': 'https://pbs.twimg.com/tweet_video_thumb/CVKtH-4WIAAmiQ5.png', 'url': 'https://t.co/SfPQ2KeLdq', 'display_url': 'pic.twitter.com/SfPQ2KeLdq', 'expanded_url': 'https://twitter.com/dog_rates/status/671789708968640512/photo/1', 'type': 'photo', 'sizes': {'medium': {'w': 400, 'h': 224, 'resize': 'fit'}, 'large': {'w': 400, 'h': 224, 'resize': 'fit'}, 'small': {'w': 400, 'h': 224, 'resize': 'fit'}, 'thumb': {'w': 150, 'h': 150, 'resize': 'crop'}}, 'features': {}}\n",
      "-----------\n",
      "{'id': 671789647081644032, 'id_str': '671789647081644032', 'indices': [116, 139], 'media_url': 'http://pbs.twimg.com/tweet_video_thumb/CVKtH-4WIAAmiQ5.png', 'media_url_https': 'https://pbs.twimg.com/tweet_video_thumb/CVKtH-4WIAAmiQ5.png', 'url': 'https://t.co/SfPQ2KeLdq', 'display_url': 'pic.twitter.com/SfPQ2KeLdq', 'expanded_url': 'https://twitter.com/dog_rates/status/671789708968640512/photo/1', 'type': 'animated_gif', 'sizes': {'medium': {'w': 400, 'h': 224, 'resize': 'fit'}, 'large': {'w': 400, 'h': 224, 'resize': 'fit'}, 'small': {'w': 400, 'h': 224, 'resize': 'fit'}, 'thumb': {'w': 150, 'h': 150, 'resize': 'crop'}}, 'video_info': {'aspect_ratio': [25, 14], 'variants': [{'bitrate': 0, 'content_type': 'video/mp4', 'url': 'https://video.twimg.com/tweet_video/CVKtH-4WIAAmiQ5.mp4'}]}, 'features': {}}\n",
      "===========\n"
     ]
    }
   ],
   "source": [
    "for i in range(0, len(wrd)):\n",
    "    if wrd.iloc[i].entities['media'][0] != wrd.iloc[i].extended_entities['media'][0]:\n",
    "        print (i)\n",
    "        print (wrd.iloc[i].entities['media'][0])\n",
    "        print ('-----------')\n",
    "        print (wrd.iloc[i].extended_entities['media'][0])\n",
    "        print ('===========')\n",
    "    "
   ]
  },
  {
   "cell_type": "markdown",
   "metadata": {},
   "source": [
    "it looks like these fields differ only in case of a video post. "
   ]
  },
  {
   "cell_type": "code",
   "execution_count": 76,
   "metadata": {},
   "outputs": [],
   "source": [
    "for i in range(0, len(wrd)):\n",
    "    if wrd.iloc[i].entities['media'][0] != wrd.iloc[i].extended_entities['media'][0]:\n",
    "        if 'video' not in wrd.iloc[i].entities['media'][0]['media_url']:\n",
    "            print (i)"
   ]
  },
  {
   "cell_type": "markdown",
   "metadata": {},
   "source": [
    "As the loop came out empty - the assumption above was correct. "
   ]
  },
  {
   "cell_type": "markdown",
   "metadata": {},
   "source": [
    "#### Code\n",
    "\n",
    "Make a new column identifying posts with videos in them."
   ]
  },
  {
   "cell_type": "code",
   "execution_count": 77,
   "metadata": {},
   "outputs": [],
   "source": [
    "wrd['video'] = wrd.entities.apply(lambda x: 'video' in x['media'][0]['media_url'])"
   ]
  },
  {
   "cell_type": "markdown",
   "metadata": {},
   "source": [
    "#### Test"
   ]
  },
  {
   "cell_type": "code",
   "execution_count": 78,
   "metadata": {
    "scrolled": true
   },
   "outputs": [
    {
     "name": "stdout",
     "output_type": "stream",
     "text": [
      "<class 'pandas.core.frame.DataFrame'>\n",
      "Int64Index: 2061 entries, 0 to 2060\n",
      "Data columns (total 31 columns):\n",
      "tweet_id              2061 non-null int64\n",
      "source                2061 non-null category\n",
      "text                  2061 non-null object\n",
      "expanded_urls         2061 non-null object\n",
      "rating_numerator      2061 non-null int64\n",
      "rating_denominator    2061 non-null int64\n",
      "name                  2061 non-null object\n",
      "doggo                 2061 non-null bool\n",
      "floofer               2061 non-null bool\n",
      "pupper                2061 non-null bool\n",
      "puppo                 2061 non-null bool\n",
      "jpg_url               2061 non-null object\n",
      "img_num               2061 non-null int64\n",
      "p1                    2061 non-null object\n",
      "p1_conf               2061 non-null float64\n",
      "p1_dog                2061 non-null bool\n",
      "p2                    2061 non-null object\n",
      "p2_conf               2061 non-null float64\n",
      "p2_dog                2061 non-null bool\n",
      "p3                    2061 non-null object\n",
      "p3_conf               2061 non-null float64\n",
      "p3_dog                2061 non-null bool\n",
      "created_at            2061 non-null datetime64[ns]\n",
      "entities              2061 non-null object\n",
      "extended_entities     2061 non-null object\n",
      "favorite_count        2061 non-null int64\n",
      "full_text             2061 non-null object\n",
      "lang                  2061 non-null category\n",
      "retweet_count         2061 non-null int64\n",
      "display_text_end      2061 non-null int64\n",
      "video                 2061 non-null bool\n",
      "dtypes: bool(8), category(2), datetime64[ns](1), float64(3), int64(7), object(10)\n",
      "memory usage: 374.7+ KB\n"
     ]
    }
   ],
   "source": [
    "wrd.info()"
   ]
  },
  {
   "cell_type": "markdown",
   "metadata": {},
   "source": [
    "new boolean column `video` is added to the dataset."
   ]
  },
  {
   "cell_type": "markdown",
   "metadata": {},
   "source": [
    "## Tidiness issues"
   ]
  },
  {
   "cell_type": "markdown",
   "metadata": {},
   "source": [
    "### Unpack hashtags from dictionaries"
   ]
  },
  {
   "cell_type": "markdown",
   "metadata": {},
   "source": [
    "#### Define\n",
    "Hashtags are nested deep inside dictionaries. To be useful for analysis - they need to be extracted into a separate column."
   ]
  },
  {
   "cell_type": "markdown",
   "metadata": {},
   "source": [
    "#### Code"
   ]
  },
  {
   "cell_type": "code",
   "execution_count": 79,
   "metadata": {},
   "outputs": [],
   "source": [
    "wrd['hashtags'] = wrd.entities.apply(lambda x: x['hashtags'])"
   ]
  },
  {
   "cell_type": "code",
   "execution_count": 80,
   "metadata": {},
   "outputs": [],
   "source": [
    "def unpack_hashtags(x):\n",
    "    try:\n",
    "        return x[0]['text']\n",
    "    except:\n",
    "        return None\n",
    "        \n",
    "wrd.hashtags = wrd.hashtags.apply(lambda x: unpack_hashtags(x))"
   ]
  },
  {
   "cell_type": "code",
   "execution_count": 81,
   "metadata": {},
   "outputs": [
    {
     "data": {
      "text/plain": [
       "array([None, 'BarkWeek', 'Canada150', 'PrideMonthPuppo', 'PrideMonth',\n",
       "       'dogsatpollingstations', 'ScienceMarch', 'K9VeteransDay',\n",
       "       'GoodDogs', 'WKCDogShow', 'BellLetsTalk', 'WomensMarch',\n",
       "       'FinalFur', 'LoveTwitter', 'notallpuppers', 'NoDaysOff'],\n",
       "      dtype=object)"
      ]
     },
     "execution_count": 81,
     "metadata": {},
     "output_type": "execute_result"
    }
   ],
   "source": [
    "wrd.hashtags.unique()"
   ]
  },
  {
   "cell_type": "markdown",
   "metadata": {},
   "source": [
    "#### Test"
   ]
  },
  {
   "cell_type": "code",
   "execution_count": 99,
   "metadata": {
    "scrolled": true
   },
   "outputs": [
    {
     "name": "stdout",
     "output_type": "stream",
     "text": [
      "<class 'pandas.core.frame.DataFrame'>\n",
      "Int64Index: 2061 entries, 0 to 2060\n",
      "Data columns (total 31 columns):\n",
      "tweet_id              2061 non-null int64\n",
      "source                2061 non-null category\n",
      "text                  2061 non-null object\n",
      "expanded_urls         2061 non-null object\n",
      "rating_numerator      2061 non-null int64\n",
      "rating_denominator    2061 non-null int64\n",
      "name                  2061 non-null object\n",
      "doggo                 2061 non-null bool\n",
      "floofer               2061 non-null bool\n",
      "pupper                2061 non-null bool\n",
      "puppo                 2061 non-null bool\n",
      "jpg_url               2061 non-null object\n",
      "img_num               2061 non-null int64\n",
      "p1                    2061 non-null object\n",
      "p1_conf               2061 non-null float64\n",
      "p1_dog                2061 non-null bool\n",
      "p2                    2061 non-null object\n",
      "p2_conf               2061 non-null float64\n",
      "p2_dog                2061 non-null bool\n",
      "p3                    2061 non-null object\n",
      "p3_conf               2061 non-null float64\n",
      "p3_dog                2061 non-null bool\n",
      "created_at            2061 non-null datetime64[ns]\n",
      "favorite_count        2061 non-null int64\n",
      "full_text             2061 non-null object\n",
      "lang                  2061 non-null category\n",
      "retweet_count         2061 non-null int64\n",
      "display_text_end      2061 non-null int64\n",
      "video                 2061 non-null bool\n",
      "hashtags              24 non-null object\n",
      "url                   2061 non-null object\n",
      "dtypes: bool(8), category(2), datetime64[ns](1), float64(3), int64(7), object(10)\n",
      "memory usage: 454.7+ KB\n"
     ]
    }
   ],
   "source": [
    "wrd.info()"
   ]
  },
  {
   "cell_type": "markdown",
   "metadata": {},
   "source": [
    "New column is created specifically for hashtags."
   ]
  },
  {
   "cell_type": "markdown",
   "metadata": {},
   "source": [
    "### Unpack URLs from dictionaries"
   ]
  },
  {
   "cell_type": "markdown",
   "metadata": {},
   "source": [
    "#### Define\n",
    "Same as hashtags - urls are nested deep inside dictionaries. They need to be extracted into a separate column."
   ]
  },
  {
   "cell_type": "markdown",
   "metadata": {},
   "source": [
    "#### Code"
   ]
  },
  {
   "cell_type": "code",
   "execution_count": 82,
   "metadata": {},
   "outputs": [],
   "source": [
    "# take the single tweet url into a separate column\n",
    "wrd['url'] = wrd.entities.apply(lambda x: x['media'][0]['url'])"
   ]
  },
  {
   "cell_type": "code",
   "execution_count": 83,
   "metadata": {},
   "outputs": [],
   "source": [
    "# take all other urls into a separate column\n",
    "wrd['expanded_urls'] = wrd.expanded_urls.apply(lambda x: x.split(','))"
   ]
  },
  {
   "cell_type": "markdown",
   "metadata": {},
   "source": [
    "#### Test"
   ]
  },
  {
   "cell_type": "code",
   "execution_count": 84,
   "metadata": {},
   "outputs": [
    {
     "name": "stdout",
     "output_type": "stream",
     "text": [
      "745  :  https://t.co/I5ld3eKD5k\n"
     ]
    }
   ],
   "source": [
    "r = randrange(0,len(wrd))\n",
    "print(r, ' : ', wrd.iloc[r]['url'])"
   ]
  },
  {
   "cell_type": "code",
   "execution_count": 85,
   "metadata": {},
   "outputs": [
    {
     "name": "stdout",
     "output_type": "stream",
     "text": [
      "274  :  ['https://twitter.com/dog_rates/status/830583320585068544/photo/1', 'https://twitter.com/dog_rates/status/830583320585068544/photo/1']\n"
     ]
    }
   ],
   "source": [
    "# select a random item from list of entriel where 'urls' contains more than one entry\n",
    "r = choice(wrd[wrd['expanded_urls'].apply(lambda x: len(x) > 1)]['expanded_urls'].index)\n",
    "print(r, ' : ', wrd.iloc[r]['expanded_urls'])"
   ]
  },
  {
   "cell_type": "markdown",
   "metadata": {},
   "source": [
    "now that the relevant information has been extracted from `entities` and `extended_entities` columns - we can drop them."
   ]
  },
  {
   "cell_type": "code",
   "execution_count": 86,
   "metadata": {},
   "outputs": [],
   "source": [
    "wrd.drop(['entities', 'extended_entities'], axis=1,inplace=True)"
   ]
  },
  {
   "cell_type": "code",
   "execution_count": 87,
   "metadata": {},
   "outputs": [
    {
     "data": {
      "text/plain": [
       "Index(['tweet_id', 'source', 'text', 'expanded_urls', 'rating_numerator',\n",
       "       'rating_denominator', 'name', 'doggo', 'floofer', 'pupper', 'puppo',\n",
       "       'jpg_url', 'img_num', 'p1', 'p1_conf', 'p1_dog', 'p2', 'p2_conf',\n",
       "       'p2_dog', 'p3', 'p3_conf', 'p3_dog', 'created_at', 'favorite_count',\n",
       "       'full_text', 'lang', 'retweet_count', 'display_text_end', 'video',\n",
       "       'hashtags', 'url'],\n",
       "      dtype='object')"
      ]
     },
     "execution_count": 87,
     "metadata": {},
     "output_type": "execute_result"
    }
   ],
   "source": [
    "wrd.columns"
   ]
  },
  {
   "cell_type": "markdown",
   "metadata": {},
   "source": [
    "# Store cleaned archive"
   ]
  },
  {
   "cell_type": "code",
   "execution_count": 100,
   "metadata": {},
   "outputs": [],
   "source": [
    "wrd.to_csv('twitter_archive_master.csv')"
   ]
  },
  {
   "cell_type": "markdown",
   "metadata": {},
   "source": [
    "# Insights"
   ]
  },
  {
   "cell_type": "markdown",
   "metadata": {},
   "source": [
    "## Favorites and retweet correlation\n",
    "\n",
    "let's do a scatter plot of the `favorite_count` and `retweet_count` columns to see whether there is any correlation between the two. As an added insight - let's colour the points with `rating_numerator` values to see whether this correlates as well."
   ]
  },
  {
   "cell_type": "code",
   "execution_count": 89,
   "metadata": {
    "scrolled": false
   },
   "outputs": [
    {
     "data": {
      "text/plain": [
       "Text(46.17760803472221, 0.5, 'retweets')"
      ]
     },
     "execution_count": 89,
     "metadata": {},
     "output_type": "execute_result"
    },
    {
     "data": {
      "image/png": "[encoded data removed]",
      "text/plain": [
       "<Figure size 455.18x360 with 1 Axes>"
      ]
     },
     "metadata": {},
     "output_type": "display_data"
    }
   ],
   "source": [
    "# Set style of scatterplot\n",
    "sb.set_context(\"notebook\", font_scale=1.1)\n",
    "sb.set_style(\"ticks\")\n",
    "\n",
    "# Create scatterplot of dataframe\n",
    "sb.lmplot('favorite_count', # Horizontal axis\n",
    "           'retweet_count', # Vertical axis\n",
    "           data=wrd, # Data source\n",
    "           fit_reg=False, # Don't fix a regression line\n",
    "           hue='rating_numerator', # Set color\n",
    "           scatter_kws={\"marker\": \"D\", # Set marker style\n",
    "                        \"s\": 100}) # S marker size\n",
    "\n",
    "# Set title\n",
    "plt.title(' favorites vs retweets')\n",
    "\n",
    "# Set x-axis label\n",
    "plt.xlabel('favorites')\n",
    "\n",
    "# Set y-axis label\n",
    "plt.ylabel('retweets')"
   ]
  },
  {
   "cell_type": "markdown",
   "metadata": {},
   "source": [
    "Apart from the group that has zero favorites and numerous retweets (which is most likely a data quality issue, but we won't go into that with this analysis) - the two values seem to be almost linearly related. "
   ]
  },
  {
   "cell_type": "markdown",
   "metadata": {},
   "source": [
    "## Tool used to post tweets\n",
    "\n",
    "What kind of tool does this accont use most to post tweets?"
   ]
  },
  {
   "cell_type": "code",
   "execution_count": 90,
   "metadata": {},
   "outputs": [
    {
     "data": {
      "image/png": "[encoded data removed]",
      "text/plain": [
       "<Figure size 432x288 with 1 Axes>"
      ]
     },
     "metadata": {},
     "output_type": "display_data"
    }
   ],
   "source": [
    "ax = sb.countplot(x=wrd.source, data=wrd)"
   ]
  },
  {
   "cell_type": "markdown",
   "metadata": {},
   "source": [
    "Pretty clear - it's twitter's own app that is used to post most of the tweets."
   ]
  },
  {
   "cell_type": "markdown",
   "metadata": {},
   "source": [
    "## At what time of the day are tweets mostly posted?"
   ]
  },
  {
   "cell_type": "code",
   "execution_count": 91,
   "metadata": {},
   "outputs": [
    {
     "data": {
      "text/plain": [
       "<matplotlib.axes._subplots.AxesSubplot at 0x1a278099e8>"
      ]
     },
     "execution_count": 91,
     "metadata": {},
     "output_type": "execute_result"
    },
    {
     "data": {
      "image/png": "[encoded data removed]",
      "text/plain": [
       "<Figure size 432x288 with 1 Axes>"
      ]
     },
     "metadata": {},
     "output_type": "display_data"
    }
   ],
   "source": [
    "sb.countplot(x=wrd.created_at.apply(lambda x: x.hour), data=wrd)"
   ]
  },
  {
   "cell_type": "markdown",
   "metadata": {},
   "source": [
    "Seems like this account's author is a night owl, with the peak o tweets being posted between 23:00 and 02:00. There is a clear dip in tweets in normal office hours, from which we may assume that running this account is done next to this person's main work engagement."
   ]
  },
  {
   "cell_type": "markdown",
   "metadata": {},
   "source": [
    "## Which days of the week see most posts?\n",
    "\n",
    "Is there a difference across various days of the week in the frequency of posts?"
   ]
  },
  {
   "cell_type": "code",
   "execution_count": 92,
   "metadata": {},
   "outputs": [
    {
     "data": {
      "text/plain": [
       "<matplotlib.axes._subplots.AxesSubplot at 0x1a27d3e748>"
      ]
     },
     "execution_count": 92,
     "metadata": {},
     "output_type": "execute_result"
    },
    {
     "data": {
      "image/png": "[encoded data removed]",
      "text/plain": [
       "<Figure size 432x288 with 1 Axes>"
      ]
     },
     "metadata": {},
     "output_type": "display_data"
    }
   ],
   "source": [
    "sb.countplot(x=wrd.created_at.apply(lambda x: x.weekday()), data=wrd)"
   ]
  },
  {
   "cell_type": "markdown",
   "metadata": {},
   "source": [
    "There is a clear, although not significant tendency for the amount of tweets to decreas from about 340 on Monday to about 260 on Sunday."
   ]
  },
  {
   "cell_type": "markdown",
   "metadata": {},
   "source": [
    "## Seasonal post variation\n",
    "\n",
    "Is there variation in account activity across seasons?"
   ]
  },
  {
   "cell_type": "code",
   "execution_count": 93,
   "metadata": {
    "scrolled": true
   },
   "outputs": [
    {
     "data": {
      "text/plain": [
       "<matplotlib.axes._subplots.AxesSubplot at 0x1a281a8400>"
      ]
     },
     "execution_count": 93,
     "metadata": {},
     "output_type": "execute_result"
    },
    {
     "data": {
      "image/png": "[encoded data removed]",
      "text/plain": [
       "<Figure size 432x288 with 1 Axes>"
      ]
     },
     "metadata": {},
     "output_type": "display_data"
    }
   ],
   "source": [
    "sb.countplot(x=wrd.created_at.apply(lambda x: x.quarter), data=wrd)"
   ]
  },
  {
   "cell_type": "markdown",
   "metadata": {},
   "source": [
    "Autumn and winter see most tweets, and summer, being the vacation period is least active."
   ]
  },
  {
   "cell_type": "markdown",
   "metadata": {},
   "source": [
    "## Popularity dynamic over time\n",
    "How has this account's popularity grown over time? Plotting favourite counts over time can provide some basic insight into that."
   ]
  },
  {
   "cell_type": "code",
   "execution_count": 98,
   "metadata": {
    "scrolled": true
   },
   "outputs": [
    {
     "name": "stderr",
     "output_type": "stream",
     "text": [
      "/Users/s8/anaconda3/lib/python3.7/site-packages/pandas/plotting/_converter.py:129: FutureWarning: Using an implicitly registered datetime converter for a matplotlib plotting method. The converter was registered by pandas on import. Future versions of pandas will require you to explicitly register matplotlib converters.\n",
      "\n",
      "To register the converters:\n",
      "\t>>> from pandas.plotting import register_matplotlib_converters\n",
      "\t>>> register_matplotlib_converters()\n",
      "  warnings.warn(msg, FutureWarning)\n"
     ]
    },
    {
     "data": {
      "image/png": "[encoded data removed]",
      "text/plain": [
       "<Figure size 432x288 with 1 Axes>"
      ]
     },
     "metadata": {},
     "output_type": "display_data"
    }
   ],
   "source": [
    "timeline = sb.lineplot(x=\"created_at\", y=\"favorite_count\", data=wrd, linewidth=0.5)"
   ]
  },
  {
   "cell_type": "markdown",
   "metadata": {},
   "source": [
    "It is clear that from nearly zero favourites in 2015, the account has grown to average 25000 favourites per post in 2017. Seems like the pivotal moment was a highly popular tweet that amassed more than 150000 tweets."
   ]
  }
 ],
 "metadata": {
  "kernelspec": {
   "display_name": "Python 3",
   "language": "python",
   "name": "python3"
  },
  "language_info": {
   "codemirror_mode": {
    "name": "ipython",
    "version": 3
   },
   "file_extension": ".py",
   "mimetype": "text/x-python",
   "name": "python",
   "nbconvert_exporter": "python",
   "pygments_lexer": "ipython3",
   "version": "3.7.3"
  },
  "toc": {
   "base_numbering": 1,
   "nav_menu": {},
   "number_sections": true,
   "sideBar": true,
   "skip_h1_title": false,
   "title_cell": "Table of Contents",
   "title_sidebar": "Contents",
   "toc_cell": false,
   "toc_position": {
    "height": "47.05882263183594px",
    "left": "79px",
    "top": "108.60293579101562px",
    "width": "326.36029052734375px"
   },
   "toc_section_display": true,
   "toc_window_display": true
  }
 },
 "nbformat": 4,
 "nbformat_minor": 2
}
