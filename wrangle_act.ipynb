{
 "cells": [
  {
   "cell_type": "markdown",
   "metadata": {},
   "source": [
    "\n",
    "**Your goal**: wrangle WeRateDogs Twitter data to create interesting and trustworthy analyses and visualizations. The Twitter archive is great, but it only contains very basic tweet information. Additional gathering, then assessing and cleaning is required for \"Wow!\"-worthy analyses and visualizations.\n",
    "\n",
    "\n",
    "1. The WeRateDogs Twitter archive. I am giving this file to you, so imagine it as a file on hand. Download this file manually by clicking the following link: twitter_archive_enhanced.csv\n",
    "\n",
    "2. The tweet image predictions, i.e., what breed of dog (or other object, animal, etc.) is present in each tweet according to a neural network. This file (image_predictions.tsv) is hosted on Udacity's servers and should be downloaded programmatically using the Requests library and the following URL: https://d17h27t6h515a5.cloudfront.net/topher/2017/August/599fd2ad_image-predictions/image-predictions.tsv]\n",
    "\n",
    "3. Each tweet's retweet count and favorite (\"like\") count at minimum, and any additional data you find interesting. Using the tweet IDs in the WeRateDogs Twitter archive, query the Twitter API for each tweet's JSON data using Python's Tweepy library and store each tweet's entire set of JSON data in a file called tweet_json.txt file. Each tweet's JSON data should be written to its own line. Then read this .txt file line by line into a pandas DataFrame with (at minimum) tweet ID, retweet count, and favorite count. Note: do not include your Twitter API keys, secrets, and tokens in your project submission.\n",
    "\n",
    "Detect and document at least\n",
    "* **Eight quality issues**\n",
    "* **Two tidiness issues**\n",
    "\n",
    "\n",
    "* **three insights** \n",
    "* **one visualization**\n",
    "\n",
    "* Create a 300-600 word written report called wrangle_report.pdf or wrangle_report.html that briefly describes your wrangling efforts. This is to be framed as an internal document.\n",
    "\n",
    "* Create a 250-word-minimum written report called act_report.pdf or act_report.html that communicates the insights and displays the visualization(s) produced from your wrangled data. This is to be framed as an external document, like a blog post or magazine article, for example.\n"
   ]
  },
  {
   "cell_type": "markdown",
   "metadata": {},
   "source": [
    "## Basic wrangling strategy\n",
    "\n",
    "1. Gather all data sets, document issues pertinent to every dataset in the process.\n",
    "2. Merge all data sets.\n",
    "3. Remove duplicate and redundant data.\n",
    "4. Resolve tidiness issues.\n",
    "5. Resolve quality issues.\n"
   ]
  },
  {
   "cell_type": "markdown",
   "metadata": {},
   "source": [
    "## Possible analysis and visualisation questions\n",
    "- Locate the 'they are good dogs Brent' tweet and see how it affected number of followers\n",
    "    - this tweet is not part of the archive used\n",
    "- is there a correlation between dog breed and the number of favorites and retweets?"
   ]
  },
  {
   "cell_type": "markdown",
   "metadata": {},
   "source": [
    "### Twitter archive issues\n",
    "\n",
    "- source field needs to be parsed and turned into `category` type variable\n",
    "- `timestamp` column should be a `date_time` type variable\n",
    "- `retweeted_status_timestamp` columnh should be a `date_time` variable\n",
    "- `doggo / floofer / pupper / puppo` columns should be boolean variables"
   ]
  },
  {
   "cell_type": "code",
   "execution_count": 1,
   "metadata": {},
   "outputs": [],
   "source": [
    "import requests as rq\n",
    "import pandas as pd\n",
    "import numpy as np\n",
    "import io\n",
    "import json"
   ]
  },
  {
   "cell_type": "markdown",
   "metadata": {},
   "source": [
    "\n",
    "## Dataset 1\n",
    "### Read the enhanced twitter archive into a dataframe"
   ]
  },
  {
   "cell_type": "code",
   "execution_count": 2,
   "metadata": {},
   "outputs": [],
   "source": [
    "twitter_archive = pd.read_csv('twitter-archive-enhanced.csv')"
   ]
  },
  {
   "cell_type": "code",
   "execution_count": 3,
   "metadata": {
    "scrolled": true
   },
   "outputs": [
    {
     "data": {
      "text/html": [
       "<div>\n",
       "<style scoped>\n",
       "    .dataframe tbody tr th:only-of-type {\n",
       "        vertical-align: middle;\n",
       "    }\n",
       "\n",
       "    .dataframe tbody tr th {\n",
       "        vertical-align: top;\n",
       "    }\n",
       "\n",
       "    .dataframe thead th {\n",
       "        text-align: right;\n",
       "    }\n",
       "</style>\n",
       "<table border=\"1\" class=\"dataframe\">\n",
       "  <thead>\n",
       "    <tr style=\"text-align: right;\">\n",
       "      <th></th>\n",
       "      <th>tweet_id</th>\n",
       "      <th>in_reply_to_status_id</th>\n",
       "      <th>in_reply_to_user_id</th>\n",
       "      <th>timestamp</th>\n",
       "      <th>source</th>\n",
       "      <th>text</th>\n",
       "      <th>retweeted_status_id</th>\n",
       "      <th>retweeted_status_user_id</th>\n",
       "      <th>retweeted_status_timestamp</th>\n",
       "      <th>expanded_urls</th>\n",
       "      <th>rating_numerator</th>\n",
       "      <th>rating_denominator</th>\n",
       "      <th>name</th>\n",
       "      <th>doggo</th>\n",
       "      <th>floofer</th>\n",
       "      <th>pupper</th>\n",
       "      <th>puppo</th>\n",
       "    </tr>\n",
       "  </thead>\n",
       "  <tbody>\n",
       "    <tr>\n",
       "      <th>0</th>\n",
       "      <td>892420643555336193</td>\n",
       "      <td>NaN</td>\n",
       "      <td>NaN</td>\n",
       "      <td>2017-08-01 16:23:56 +0000</td>\n",
       "      <td>&lt;a href=\"http://twitter.com/download/iphone\" r...</td>\n",
       "      <td>This is Phineas. He's a mystical boy. Only eve...</td>\n",
       "      <td>NaN</td>\n",
       "      <td>NaN</td>\n",
       "      <td>NaN</td>\n",
       "      <td>https://twitter.com/dog_rates/status/892420643...</td>\n",
       "      <td>13</td>\n",
       "      <td>10</td>\n",
       "      <td>Phineas</td>\n",
       "      <td>None</td>\n",
       "      <td>None</td>\n",
       "      <td>None</td>\n",
       "      <td>None</td>\n",
       "    </tr>\n",
       "    <tr>\n",
       "      <th>1</th>\n",
       "      <td>892177421306343426</td>\n",
       "      <td>NaN</td>\n",
       "      <td>NaN</td>\n",
       "      <td>2017-08-01 00:17:27 +0000</td>\n",
       "      <td>&lt;a href=\"http://twitter.com/download/iphone\" r...</td>\n",
       "      <td>This is Tilly. She's just checking pup on you....</td>\n",
       "      <td>NaN</td>\n",
       "      <td>NaN</td>\n",
       "      <td>NaN</td>\n",
       "      <td>https://twitter.com/dog_rates/status/892177421...</td>\n",
       "      <td>13</td>\n",
       "      <td>10</td>\n",
       "      <td>Tilly</td>\n",
       "      <td>None</td>\n",
       "      <td>None</td>\n",
       "      <td>None</td>\n",
       "      <td>None</td>\n",
       "    </tr>\n",
       "    <tr>\n",
       "      <th>2</th>\n",
       "      <td>891815181378084864</td>\n",
       "      <td>NaN</td>\n",
       "      <td>NaN</td>\n",
       "      <td>2017-07-31 00:18:03 +0000</td>\n",
       "      <td>&lt;a href=\"http://twitter.com/download/iphone\" r...</td>\n",
       "      <td>This is Archie. He is a rare Norwegian Pouncin...</td>\n",
       "      <td>NaN</td>\n",
       "      <td>NaN</td>\n",
       "      <td>NaN</td>\n",
       "      <td>https://twitter.com/dog_rates/status/891815181...</td>\n",
       "      <td>12</td>\n",
       "      <td>10</td>\n",
       "      <td>Archie</td>\n",
       "      <td>None</td>\n",
       "      <td>None</td>\n",
       "      <td>None</td>\n",
       "      <td>None</td>\n",
       "    </tr>\n",
       "    <tr>\n",
       "      <th>3</th>\n",
       "      <td>891689557279858688</td>\n",
       "      <td>NaN</td>\n",
       "      <td>NaN</td>\n",
       "      <td>2017-07-30 15:58:51 +0000</td>\n",
       "      <td>&lt;a href=\"http://twitter.com/download/iphone\" r...</td>\n",
       "      <td>This is Darla. She commenced a snooze mid meal...</td>\n",
       "      <td>NaN</td>\n",
       "      <td>NaN</td>\n",
       "      <td>NaN</td>\n",
       "      <td>https://twitter.com/dog_rates/status/891689557...</td>\n",
       "      <td>13</td>\n",
       "      <td>10</td>\n",
       "      <td>Darla</td>\n",
       "      <td>None</td>\n",
       "      <td>None</td>\n",
       "      <td>None</td>\n",
       "      <td>None</td>\n",
       "    </tr>\n",
       "    <tr>\n",
       "      <th>4</th>\n",
       "      <td>891327558926688256</td>\n",
       "      <td>NaN</td>\n",
       "      <td>NaN</td>\n",
       "      <td>2017-07-29 16:00:24 +0000</td>\n",
       "      <td>&lt;a href=\"http://twitter.com/download/iphone\" r...</td>\n",
       "      <td>This is Franklin. He would like you to stop ca...</td>\n",
       "      <td>NaN</td>\n",
       "      <td>NaN</td>\n",
       "      <td>NaN</td>\n",
       "      <td>https://twitter.com/dog_rates/status/891327558...</td>\n",
       "      <td>12</td>\n",
       "      <td>10</td>\n",
       "      <td>Franklin</td>\n",
       "      <td>None</td>\n",
       "      <td>None</td>\n",
       "      <td>None</td>\n",
       "      <td>None</td>\n",
       "    </tr>\n",
       "    <tr>\n",
       "      <th>5</th>\n",
       "      <td>891087950875897856</td>\n",
       "      <td>NaN</td>\n",
       "      <td>NaN</td>\n",
       "      <td>2017-07-29 00:08:17 +0000</td>\n",
       "      <td>&lt;a href=\"http://twitter.com/download/iphone\" r...</td>\n",
       "      <td>Here we have a majestic great white breaching ...</td>\n",
       "      <td>NaN</td>\n",
       "      <td>NaN</td>\n",
       "      <td>NaN</td>\n",
       "      <td>https://twitter.com/dog_rates/status/891087950...</td>\n",
       "      <td>13</td>\n",
       "      <td>10</td>\n",
       "      <td>None</td>\n",
       "      <td>None</td>\n",
       "      <td>None</td>\n",
       "      <td>None</td>\n",
       "      <td>None</td>\n",
       "    </tr>\n",
       "    <tr>\n",
       "      <th>6</th>\n",
       "      <td>890971913173991426</td>\n",
       "      <td>NaN</td>\n",
       "      <td>NaN</td>\n",
       "      <td>2017-07-28 16:27:12 +0000</td>\n",
       "      <td>&lt;a href=\"http://twitter.com/download/iphone\" r...</td>\n",
       "      <td>Meet Jax. He enjoys ice cream so much he gets ...</td>\n",
       "      <td>NaN</td>\n",
       "      <td>NaN</td>\n",
       "      <td>NaN</td>\n",
       "      <td>https://gofundme.com/ydvmve-surgery-for-jax,ht...</td>\n",
       "      <td>13</td>\n",
       "      <td>10</td>\n",
       "      <td>Jax</td>\n",
       "      <td>None</td>\n",
       "      <td>None</td>\n",
       "      <td>None</td>\n",
       "      <td>None</td>\n",
       "    </tr>\n",
       "    <tr>\n",
       "      <th>7</th>\n",
       "      <td>890729181411237888</td>\n",
       "      <td>NaN</td>\n",
       "      <td>NaN</td>\n",
       "      <td>2017-07-28 00:22:40 +0000</td>\n",
       "      <td>&lt;a href=\"http://twitter.com/download/iphone\" r...</td>\n",
       "      <td>When you watch your owner call another dog a g...</td>\n",
       "      <td>NaN</td>\n",
       "      <td>NaN</td>\n",
       "      <td>NaN</td>\n",
       "      <td>https://twitter.com/dog_rates/status/890729181...</td>\n",
       "      <td>13</td>\n",
       "      <td>10</td>\n",
       "      <td>None</td>\n",
       "      <td>None</td>\n",
       "      <td>None</td>\n",
       "      <td>None</td>\n",
       "      <td>None</td>\n",
       "    </tr>\n",
       "    <tr>\n",
       "      <th>8</th>\n",
       "      <td>890609185150312448</td>\n",
       "      <td>NaN</td>\n",
       "      <td>NaN</td>\n",
       "      <td>2017-07-27 16:25:51 +0000</td>\n",
       "      <td>&lt;a href=\"http://twitter.com/download/iphone\" r...</td>\n",
       "      <td>This is Zoey. She doesn't want to be one of th...</td>\n",
       "      <td>NaN</td>\n",
       "      <td>NaN</td>\n",
       "      <td>NaN</td>\n",
       "      <td>https://twitter.com/dog_rates/status/890609185...</td>\n",
       "      <td>13</td>\n",
       "      <td>10</td>\n",
       "      <td>Zoey</td>\n",
       "      <td>None</td>\n",
       "      <td>None</td>\n",
       "      <td>None</td>\n",
       "      <td>None</td>\n",
       "    </tr>\n",
       "    <tr>\n",
       "      <th>9</th>\n",
       "      <td>890240255349198849</td>\n",
       "      <td>NaN</td>\n",
       "      <td>NaN</td>\n",
       "      <td>2017-07-26 15:59:51 +0000</td>\n",
       "      <td>&lt;a href=\"http://twitter.com/download/iphone\" r...</td>\n",
       "      <td>This is Cassie. She is a college pup. Studying...</td>\n",
       "      <td>NaN</td>\n",
       "      <td>NaN</td>\n",
       "      <td>NaN</td>\n",
       "      <td>https://twitter.com/dog_rates/status/890240255...</td>\n",
       "      <td>14</td>\n",
       "      <td>10</td>\n",
       "      <td>Cassie</td>\n",
       "      <td>doggo</td>\n",
       "      <td>None</td>\n",
       "      <td>None</td>\n",
       "      <td>None</td>\n",
       "    </tr>\n",
       "    <tr>\n",
       "      <th>10</th>\n",
       "      <td>890006608113172480</td>\n",
       "      <td>NaN</td>\n",
       "      <td>NaN</td>\n",
       "      <td>2017-07-26 00:31:25 +0000</td>\n",
       "      <td>&lt;a href=\"http://twitter.com/download/iphone\" r...</td>\n",
       "      <td>This is Koda. He is a South Australian decksha...</td>\n",
       "      <td>NaN</td>\n",
       "      <td>NaN</td>\n",
       "      <td>NaN</td>\n",
       "      <td>https://twitter.com/dog_rates/status/890006608...</td>\n",
       "      <td>13</td>\n",
       "      <td>10</td>\n",
       "      <td>Koda</td>\n",
       "      <td>None</td>\n",
       "      <td>None</td>\n",
       "      <td>None</td>\n",
       "      <td>None</td>\n",
       "    </tr>\n",
       "    <tr>\n",
       "      <th>11</th>\n",
       "      <td>889880896479866881</td>\n",
       "      <td>NaN</td>\n",
       "      <td>NaN</td>\n",
       "      <td>2017-07-25 16:11:53 +0000</td>\n",
       "      <td>&lt;a href=\"http://twitter.com/download/iphone\" r...</td>\n",
       "      <td>This is Bruno. He is a service shark. Only get...</td>\n",
       "      <td>NaN</td>\n",
       "      <td>NaN</td>\n",
       "      <td>NaN</td>\n",
       "      <td>https://twitter.com/dog_rates/status/889880896...</td>\n",
       "      <td>13</td>\n",
       "      <td>10</td>\n",
       "      <td>Bruno</td>\n",
       "      <td>None</td>\n",
       "      <td>None</td>\n",
       "      <td>None</td>\n",
       "      <td>None</td>\n",
       "    </tr>\n",
       "    <tr>\n",
       "      <th>12</th>\n",
       "      <td>889665388333682689</td>\n",
       "      <td>NaN</td>\n",
       "      <td>NaN</td>\n",
       "      <td>2017-07-25 01:55:32 +0000</td>\n",
       "      <td>&lt;a href=\"http://twitter.com/download/iphone\" r...</td>\n",
       "      <td>Here's a puppo that seems to be on the fence a...</td>\n",
       "      <td>NaN</td>\n",
       "      <td>NaN</td>\n",
       "      <td>NaN</td>\n",
       "      <td>https://twitter.com/dog_rates/status/889665388...</td>\n",
       "      <td>13</td>\n",
       "      <td>10</td>\n",
       "      <td>None</td>\n",
       "      <td>None</td>\n",
       "      <td>None</td>\n",
       "      <td>None</td>\n",
       "      <td>puppo</td>\n",
       "    </tr>\n",
       "    <tr>\n",
       "      <th>13</th>\n",
       "      <td>889638837579907072</td>\n",
       "      <td>NaN</td>\n",
       "      <td>NaN</td>\n",
       "      <td>2017-07-25 00:10:02 +0000</td>\n",
       "      <td>&lt;a href=\"http://twitter.com/download/iphone\" r...</td>\n",
       "      <td>This is Ted. He does his best. Sometimes that'...</td>\n",
       "      <td>NaN</td>\n",
       "      <td>NaN</td>\n",
       "      <td>NaN</td>\n",
       "      <td>https://twitter.com/dog_rates/status/889638837...</td>\n",
       "      <td>12</td>\n",
       "      <td>10</td>\n",
       "      <td>Ted</td>\n",
       "      <td>None</td>\n",
       "      <td>None</td>\n",
       "      <td>None</td>\n",
       "      <td>None</td>\n",
       "    </tr>\n",
       "    <tr>\n",
       "      <th>14</th>\n",
       "      <td>889531135344209921</td>\n",
       "      <td>NaN</td>\n",
       "      <td>NaN</td>\n",
       "      <td>2017-07-24 17:02:04 +0000</td>\n",
       "      <td>&lt;a href=\"http://twitter.com/download/iphone\" r...</td>\n",
       "      <td>This is Stuart. He's sporting his favorite fan...</td>\n",
       "      <td>NaN</td>\n",
       "      <td>NaN</td>\n",
       "      <td>NaN</td>\n",
       "      <td>https://twitter.com/dog_rates/status/889531135...</td>\n",
       "      <td>13</td>\n",
       "      <td>10</td>\n",
       "      <td>Stuart</td>\n",
       "      <td>None</td>\n",
       "      <td>None</td>\n",
       "      <td>None</td>\n",
       "      <td>puppo</td>\n",
       "    </tr>\n",
       "  </tbody>\n",
       "</table>\n",
       "</div>"
      ],
      "text/plain": [
       "              tweet_id  in_reply_to_status_id  in_reply_to_user_id  \\\n",
       "0   892420643555336193                    NaN                  NaN   \n",
       "1   892177421306343426                    NaN                  NaN   \n",
       "2   891815181378084864                    NaN                  NaN   \n",
       "3   891689557279858688                    NaN                  NaN   \n",
       "4   891327558926688256                    NaN                  NaN   \n",
       "5   891087950875897856                    NaN                  NaN   \n",
       "6   890971913173991426                    NaN                  NaN   \n",
       "7   890729181411237888                    NaN                  NaN   \n",
       "8   890609185150312448                    NaN                  NaN   \n",
       "9   890240255349198849                    NaN                  NaN   \n",
       "10  890006608113172480                    NaN                  NaN   \n",
       "11  889880896479866881                    NaN                  NaN   \n",
       "12  889665388333682689                    NaN                  NaN   \n",
       "13  889638837579907072                    NaN                  NaN   \n",
       "14  889531135344209921                    NaN                  NaN   \n",
       "\n",
       "                    timestamp  \\\n",
       "0   2017-08-01 16:23:56 +0000   \n",
       "1   2017-08-01 00:17:27 +0000   \n",
       "2   2017-07-31 00:18:03 +0000   \n",
       "3   2017-07-30 15:58:51 +0000   \n",
       "4   2017-07-29 16:00:24 +0000   \n",
       "5   2017-07-29 00:08:17 +0000   \n",
       "6   2017-07-28 16:27:12 +0000   \n",
       "7   2017-07-28 00:22:40 +0000   \n",
       "8   2017-07-27 16:25:51 +0000   \n",
       "9   2017-07-26 15:59:51 +0000   \n",
       "10  2017-07-26 00:31:25 +0000   \n",
       "11  2017-07-25 16:11:53 +0000   \n",
       "12  2017-07-25 01:55:32 +0000   \n",
       "13  2017-07-25 00:10:02 +0000   \n",
       "14  2017-07-24 17:02:04 +0000   \n",
       "\n",
       "                                               source  \\\n",
       "0   <a href=\"http://twitter.com/download/iphone\" r...   \n",
       "1   <a href=\"http://twitter.com/download/iphone\" r...   \n",
       "2   <a href=\"http://twitter.com/download/iphone\" r...   \n",
       "3   <a href=\"http://twitter.com/download/iphone\" r...   \n",
       "4   <a href=\"http://twitter.com/download/iphone\" r...   \n",
       "5   <a href=\"http://twitter.com/download/iphone\" r...   \n",
       "6   <a href=\"http://twitter.com/download/iphone\" r...   \n",
       "7   <a href=\"http://twitter.com/download/iphone\" r...   \n",
       "8   <a href=\"http://twitter.com/download/iphone\" r...   \n",
       "9   <a href=\"http://twitter.com/download/iphone\" r...   \n",
       "10  <a href=\"http://twitter.com/download/iphone\" r...   \n",
       "11  <a href=\"http://twitter.com/download/iphone\" r...   \n",
       "12  <a href=\"http://twitter.com/download/iphone\" r...   \n",
       "13  <a href=\"http://twitter.com/download/iphone\" r...   \n",
       "14  <a href=\"http://twitter.com/download/iphone\" r...   \n",
       "\n",
       "                                                 text  retweeted_status_id  \\\n",
       "0   This is Phineas. He's a mystical boy. Only eve...                  NaN   \n",
       "1   This is Tilly. She's just checking pup on you....                  NaN   \n",
       "2   This is Archie. He is a rare Norwegian Pouncin...                  NaN   \n",
       "3   This is Darla. She commenced a snooze mid meal...                  NaN   \n",
       "4   This is Franklin. He would like you to stop ca...                  NaN   \n",
       "5   Here we have a majestic great white breaching ...                  NaN   \n",
       "6   Meet Jax. He enjoys ice cream so much he gets ...                  NaN   \n",
       "7   When you watch your owner call another dog a g...                  NaN   \n",
       "8   This is Zoey. She doesn't want to be one of th...                  NaN   \n",
       "9   This is Cassie. She is a college pup. Studying...                  NaN   \n",
       "10  This is Koda. He is a South Australian decksha...                  NaN   \n",
       "11  This is Bruno. He is a service shark. Only get...                  NaN   \n",
       "12  Here's a puppo that seems to be on the fence a...                  NaN   \n",
       "13  This is Ted. He does his best. Sometimes that'...                  NaN   \n",
       "14  This is Stuart. He's sporting his favorite fan...                  NaN   \n",
       "\n",
       "    retweeted_status_user_id retweeted_status_timestamp  \\\n",
       "0                        NaN                        NaN   \n",
       "1                        NaN                        NaN   \n",
       "2                        NaN                        NaN   \n",
       "3                        NaN                        NaN   \n",
       "4                        NaN                        NaN   \n",
       "5                        NaN                        NaN   \n",
       "6                        NaN                        NaN   \n",
       "7                        NaN                        NaN   \n",
       "8                        NaN                        NaN   \n",
       "9                        NaN                        NaN   \n",
       "10                       NaN                        NaN   \n",
       "11                       NaN                        NaN   \n",
       "12                       NaN                        NaN   \n",
       "13                       NaN                        NaN   \n",
       "14                       NaN                        NaN   \n",
       "\n",
       "                                        expanded_urls  rating_numerator  \\\n",
       "0   https://twitter.com/dog_rates/status/892420643...                13   \n",
       "1   https://twitter.com/dog_rates/status/892177421...                13   \n",
       "2   https://twitter.com/dog_rates/status/891815181...                12   \n",
       "3   https://twitter.com/dog_rates/status/891689557...                13   \n",
       "4   https://twitter.com/dog_rates/status/891327558...                12   \n",
       "5   https://twitter.com/dog_rates/status/891087950...                13   \n",
       "6   https://gofundme.com/ydvmve-surgery-for-jax,ht...                13   \n",
       "7   https://twitter.com/dog_rates/status/890729181...                13   \n",
       "8   https://twitter.com/dog_rates/status/890609185...                13   \n",
       "9   https://twitter.com/dog_rates/status/890240255...                14   \n",
       "10  https://twitter.com/dog_rates/status/890006608...                13   \n",
       "11  https://twitter.com/dog_rates/status/889880896...                13   \n",
       "12  https://twitter.com/dog_rates/status/889665388...                13   \n",
       "13  https://twitter.com/dog_rates/status/889638837...                12   \n",
       "14  https://twitter.com/dog_rates/status/889531135...                13   \n",
       "\n",
       "    rating_denominator      name  doggo floofer pupper  puppo  \n",
       "0                   10   Phineas   None    None   None   None  \n",
       "1                   10     Tilly   None    None   None   None  \n",
       "2                   10    Archie   None    None   None   None  \n",
       "3                   10     Darla   None    None   None   None  \n",
       "4                   10  Franklin   None    None   None   None  \n",
       "5                   10      None   None    None   None   None  \n",
       "6                   10       Jax   None    None   None   None  \n",
       "7                   10      None   None    None   None   None  \n",
       "8                   10      Zoey   None    None   None   None  \n",
       "9                   10    Cassie  doggo    None   None   None  \n",
       "10                  10      Koda   None    None   None   None  \n",
       "11                  10     Bruno   None    None   None   None  \n",
       "12                  10      None   None    None   None  puppo  \n",
       "13                  10       Ted   None    None   None   None  \n",
       "14                  10    Stuart   None    None   None  puppo  "
      ]
     },
     "execution_count": 3,
     "metadata": {},
     "output_type": "execute_result"
    }
   ],
   "source": [
    "twitter_archive.head(15)"
   ]
  },
  {
   "cell_type": "code",
   "execution_count": 4,
   "metadata": {
    "scrolled": true
   },
   "outputs": [
    {
     "name": "stdout",
     "output_type": "stream",
     "text": [
      "<class 'pandas.core.frame.DataFrame'>\n",
      "RangeIndex: 2356 entries, 0 to 2355\n",
      "Data columns (total 17 columns):\n",
      "tweet_id                      2356 non-null int64\n",
      "in_reply_to_status_id         78 non-null float64\n",
      "in_reply_to_user_id           78 non-null float64\n",
      "timestamp                     2356 non-null object\n",
      "source                        2356 non-null object\n",
      "text                          2356 non-null object\n",
      "retweeted_status_id           181 non-null float64\n",
      "retweeted_status_user_id      181 non-null float64\n",
      "retweeted_status_timestamp    181 non-null object\n",
      "expanded_urls                 2297 non-null object\n",
      "rating_numerator              2356 non-null int64\n",
      "rating_denominator            2356 non-null int64\n",
      "name                          2356 non-null object\n",
      "doggo                         2356 non-null object\n",
      "floofer                       2356 non-null object\n",
      "pupper                        2356 non-null object\n",
      "puppo                         2356 non-null object\n",
      "dtypes: float64(4), int64(3), object(10)\n",
      "memory usage: 313.0+ KB\n"
     ]
    }
   ],
   "source": [
    "twitter_archive.info()"
   ]
  },
  {
   "cell_type": "markdown",
   "metadata": {},
   "source": [
    "### Twitter archive issues\n",
    "\n",
    "- source field needs to be parsed and turned into `category` type variable\n",
    "- `timestamp` column should be a `date_time` type variable\n",
    "- `retweeted_status_timestamp` columnh should be a `date_time` variable\n",
    "- `doggo / floofer / pupper / puppo` columns should be boolean variables"
   ]
  },
  {
   "cell_type": "markdown",
   "metadata": {},
   "source": [
    "### Downloaded archive issues\n",
    "\n",
    "#### quality:\n",
    "* remove all empty columns\n",
    "- in_reply_to_status_id and in_reply_to_status_id_str >> should be strings\n",
    "- in_reply_to_user_id and in_reply_to_user_id_str >> should be strings\n",
    "\n",
    "\n",
    "#### tidiness:\n",
    "* 'display_text_range' is an array that always starts with '0'\n",
    "* 'source' column should be turned into a categorical variable\n",
    "* unpack hashtags into a separate column and make it a categotical variable\n",
    "* unpack tweet URLs into a separate column\n",
    "* split 'created_at'column into separate date and time\n",
    "\n"
   ]
  },
  {
   "cell_type": "markdown",
   "metadata": {},
   "source": [
    "#### tidiness:\n",
    "- source field needs to be parsed and turned into category type variable\n",
    "- 'display_text_range' is an array that always starts with '0'\n",
    "\n",
    "#### quality:\n",
    "- timestamp column should be a date_time type variable\n",
    "- doggo / floofer / pupper / puppo columns should be boolean variables\n",
    "- not matching id's from different sets?\n"
   ]
  },
  {
   "cell_type": "markdown",
   "metadata": {},
   "source": [
    "## Dataset 2\n",
    "### Download the tweet image predictions"
   ]
  },
  {
   "cell_type": "code",
   "execution_count": 20,
   "metadata": {},
   "outputs": [],
   "source": [
    "r = rq.get('https://d17h27t6h515a5.cloudfront.net/topher/2017/August/599fd2ad_image-predictions/image-predictions.tsv')"
   ]
  },
  {
   "cell_type": "code",
   "execution_count": 21,
   "metadata": {},
   "outputs": [
    {
     "data": {
      "text/plain": [
       "200"
      ]
     },
     "execution_count": 21,
     "metadata": {},
     "output_type": "execute_result"
    }
   ],
   "source": [
    "r.status_code"
   ]
  },
  {
   "cell_type": "code",
   "execution_count": 22,
   "metadata": {},
   "outputs": [
    {
     "data": {
      "text/plain": [
       "'text/tab-separated-values; charset=utf-8'"
      ]
     },
     "execution_count": 22,
     "metadata": {},
     "output_type": "execute_result"
    }
   ],
   "source": [
    "r.headers['content-type']"
   ]
  },
  {
   "cell_type": "code",
   "execution_count": 23,
   "metadata": {},
   "outputs": [
    {
     "data": {
      "text/plain": [
       "'utf-8'"
      ]
     },
     "execution_count": 23,
     "metadata": {},
     "output_type": "execute_result"
    }
   ],
   "source": [
    "r.encoding"
   ]
  },
  {
   "cell_type": "markdown",
   "metadata": {},
   "source": [
    "#### Load the received .tsv file into a dataframe"
   ]
  },
  {
   "cell_type": "code",
   "execution_count": 30,
   "metadata": {},
   "outputs": [
    {
     "name": "stderr",
     "output_type": "stream",
     "text": [
      "/anaconda3/lib/python3.7/site-packages/ipykernel_launcher.py:2: FutureWarning: from_csv is deprecated. Please use read_csv(...) instead. Note that some of the default arguments are different, so please refer to the documentation for from_csv when changing your function calls\n",
      "  \n"
     ]
    }
   ],
   "source": [
    "# load image predictions dataset from a local file\n",
    "image_predictions = pd.DataFrame.from_csv('image-predictions.tsv', sep='\\t')"
   ]
  },
  {
   "cell_type": "code",
   "execution_count": 27,
   "metadata": {
    "scrolled": false
   },
   "outputs": [
    {
     "name": "stderr",
     "output_type": "stream",
     "text": [
      "/anaconda3/lib/python3.7/site-packages/ipykernel_launcher.py:2: FutureWarning: from_csv is deprecated. Please use read_csv(...) instead. Note that some of the default arguments are different, so please refer to the documentation for from_csv when changing your function calls\n",
      "  \n"
     ]
    }
   ],
   "source": [
    "# load image predictions dataset from the URL\n",
    "image_predictions = pd.DataFrame.from_csv(io.StringIO(r.content.decode(r.encoding)), sep='\\t')"
   ]
  },
  {
   "cell_type": "code",
   "execution_count": 31,
   "metadata": {},
   "outputs": [
    {
     "data": {
      "text/html": [
       "<div>\n",
       "<style scoped>\n",
       "    .dataframe tbody tr th:only-of-type {\n",
       "        vertical-align: middle;\n",
       "    }\n",
       "\n",
       "    .dataframe tbody tr th {\n",
       "        vertical-align: top;\n",
       "    }\n",
       "\n",
       "    .dataframe thead th {\n",
       "        text-align: right;\n",
       "    }\n",
       "</style>\n",
       "<table border=\"1\" class=\"dataframe\">\n",
       "  <thead>\n",
       "    <tr style=\"text-align: right;\">\n",
       "      <th></th>\n",
       "      <th>jpg_url</th>\n",
       "      <th>img_num</th>\n",
       "      <th>p1</th>\n",
       "      <th>p1_conf</th>\n",
       "      <th>p1_dog</th>\n",
       "      <th>p2</th>\n",
       "      <th>p2_conf</th>\n",
       "      <th>p2_dog</th>\n",
       "      <th>p3</th>\n",
       "      <th>p3_conf</th>\n",
       "      <th>p3_dog</th>\n",
       "    </tr>\n",
       "    <tr>\n",
       "      <th>tweet_id</th>\n",
       "      <th></th>\n",
       "      <th></th>\n",
       "      <th></th>\n",
       "      <th></th>\n",
       "      <th></th>\n",
       "      <th></th>\n",
       "      <th></th>\n",
       "      <th></th>\n",
       "      <th></th>\n",
       "      <th></th>\n",
       "      <th></th>\n",
       "    </tr>\n",
       "  </thead>\n",
       "  <tbody>\n",
       "    <tr>\n",
       "      <th>666020888022790149</th>\n",
       "      <td>https://pbs.twimg.com/media/CT4udn0WwAA0aMy.jpg</td>\n",
       "      <td>1</td>\n",
       "      <td>Welsh_springer_spaniel</td>\n",
       "      <td>0.465074</td>\n",
       "      <td>True</td>\n",
       "      <td>collie</td>\n",
       "      <td>0.156665</td>\n",
       "      <td>True</td>\n",
       "      <td>Shetland_sheepdog</td>\n",
       "      <td>0.061428</td>\n",
       "      <td>True</td>\n",
       "    </tr>\n",
       "    <tr>\n",
       "      <th>666029285002620928</th>\n",
       "      <td>https://pbs.twimg.com/media/CT42GRgUYAA5iDo.jpg</td>\n",
       "      <td>1</td>\n",
       "      <td>redbone</td>\n",
       "      <td>0.506826</td>\n",
       "      <td>True</td>\n",
       "      <td>miniature_pinscher</td>\n",
       "      <td>0.074192</td>\n",
       "      <td>True</td>\n",
       "      <td>Rhodesian_ridgeback</td>\n",
       "      <td>0.072010</td>\n",
       "      <td>True</td>\n",
       "    </tr>\n",
       "    <tr>\n",
       "      <th>666033412701032449</th>\n",
       "      <td>https://pbs.twimg.com/media/CT4521TWwAEvMyu.jpg</td>\n",
       "      <td>1</td>\n",
       "      <td>German_shepherd</td>\n",
       "      <td>0.596461</td>\n",
       "      <td>True</td>\n",
       "      <td>malinois</td>\n",
       "      <td>0.138584</td>\n",
       "      <td>True</td>\n",
       "      <td>bloodhound</td>\n",
       "      <td>0.116197</td>\n",
       "      <td>True</td>\n",
       "    </tr>\n",
       "    <tr>\n",
       "      <th>666044226329800704</th>\n",
       "      <td>https://pbs.twimg.com/media/CT5Dr8HUEAA-lEu.jpg</td>\n",
       "      <td>1</td>\n",
       "      <td>Rhodesian_ridgeback</td>\n",
       "      <td>0.408143</td>\n",
       "      <td>True</td>\n",
       "      <td>redbone</td>\n",
       "      <td>0.360687</td>\n",
       "      <td>True</td>\n",
       "      <td>miniature_pinscher</td>\n",
       "      <td>0.222752</td>\n",
       "      <td>True</td>\n",
       "    </tr>\n",
       "    <tr>\n",
       "      <th>666049248165822465</th>\n",
       "      <td>https://pbs.twimg.com/media/CT5IQmsXIAAKY4A.jpg</td>\n",
       "      <td>1</td>\n",
       "      <td>miniature_pinscher</td>\n",
       "      <td>0.560311</td>\n",
       "      <td>True</td>\n",
       "      <td>Rottweiler</td>\n",
       "      <td>0.243682</td>\n",
       "      <td>True</td>\n",
       "      <td>Doberman</td>\n",
       "      <td>0.154629</td>\n",
       "      <td>True</td>\n",
       "    </tr>\n",
       "  </tbody>\n",
       "</table>\n",
       "</div>"
      ],
      "text/plain": [
       "                                                            jpg_url  img_num  \\\n",
       "tweet_id                                                                       \n",
       "666020888022790149  https://pbs.twimg.com/media/CT4udn0WwAA0aMy.jpg        1   \n",
       "666029285002620928  https://pbs.twimg.com/media/CT42GRgUYAA5iDo.jpg        1   \n",
       "666033412701032449  https://pbs.twimg.com/media/CT4521TWwAEvMyu.jpg        1   \n",
       "666044226329800704  https://pbs.twimg.com/media/CT5Dr8HUEAA-lEu.jpg        1   \n",
       "666049248165822465  https://pbs.twimg.com/media/CT5IQmsXIAAKY4A.jpg        1   \n",
       "\n",
       "                                        p1   p1_conf  p1_dog  \\\n",
       "tweet_id                                                       \n",
       "666020888022790149  Welsh_springer_spaniel  0.465074    True   \n",
       "666029285002620928                 redbone  0.506826    True   \n",
       "666033412701032449         German_shepherd  0.596461    True   \n",
       "666044226329800704     Rhodesian_ridgeback  0.408143    True   \n",
       "666049248165822465      miniature_pinscher  0.560311    True   \n",
       "\n",
       "                                    p2   p2_conf  p2_dog                   p3  \\\n",
       "tweet_id                                                                        \n",
       "666020888022790149              collie  0.156665    True    Shetland_sheepdog   \n",
       "666029285002620928  miniature_pinscher  0.074192    True  Rhodesian_ridgeback   \n",
       "666033412701032449            malinois  0.138584    True           bloodhound   \n",
       "666044226329800704             redbone  0.360687    True   miniature_pinscher   \n",
       "666049248165822465          Rottweiler  0.243682    True             Doberman   \n",
       "\n",
       "                     p3_conf  p3_dog  \n",
       "tweet_id                              \n",
       "666020888022790149  0.061428    True  \n",
       "666029285002620928  0.072010    True  \n",
       "666033412701032449  0.116197    True  \n",
       "666044226329800704  0.222752    True  \n",
       "666049248165822465  0.154629    True  "
      ]
     },
     "execution_count": 31,
     "metadata": {},
     "output_type": "execute_result"
    }
   ],
   "source": [
    "image_predictions.head()"
   ]
  },
  {
   "cell_type": "code",
   "execution_count": 32,
   "metadata": {},
   "outputs": [
    {
     "name": "stdout",
     "output_type": "stream",
     "text": [
      "<class 'pandas.core.frame.DataFrame'>\n",
      "Int64Index: 2075 entries, 666020888022790149 to 892420643555336193\n",
      "Data columns (total 11 columns):\n",
      "jpg_url    2075 non-null object\n",
      "img_num    2075 non-null int64\n",
      "p1         2075 non-null object\n",
      "p1_conf    2075 non-null float64\n",
      "p1_dog     2075 non-null bool\n",
      "p2         2075 non-null object\n",
      "p2_conf    2075 non-null float64\n",
      "p2_dog     2075 non-null bool\n",
      "p3         2075 non-null object\n",
      "p3_conf    2075 non-null float64\n",
      "p3_dog     2075 non-null bool\n",
      "dtypes: bool(3), float64(3), int64(1), object(4)\n",
      "memory usage: 152.0+ KB\n"
     ]
    }
   ],
   "source": [
    "image_predictions.info()"
   ]
  },
  {
   "cell_type": "markdown",
   "metadata": {},
   "source": [
    "### Merge twitter archive and image predictions"
   ]
  },
  {
   "cell_type": "code",
   "execution_count": 33,
   "metadata": {},
   "outputs": [],
   "source": [
    "merged_df = pd.merge(twitter_archive,image_predictions,how='inner',on='tweet_id')"
   ]
  },
  {
   "cell_type": "code",
   "execution_count": 34,
   "metadata": {
    "scrolled": true
   },
   "outputs": [
    {
     "name": "stdout",
     "output_type": "stream",
     "text": [
      "<class 'pandas.core.frame.DataFrame'>\n",
      "Int64Index: 2075 entries, 0 to 2074\n",
      "Data columns (total 28 columns):\n",
      "tweet_id                      2075 non-null int64\n",
      "in_reply_to_status_id         23 non-null float64\n",
      "in_reply_to_user_id           23 non-null float64\n",
      "timestamp                     2075 non-null object\n",
      "source                        2075 non-null object\n",
      "text                          2075 non-null object\n",
      "retweeted_status_id           81 non-null float64\n",
      "retweeted_status_user_id      81 non-null float64\n",
      "retweeted_status_timestamp    81 non-null object\n",
      "expanded_urls                 2075 non-null object\n",
      "rating_numerator              2075 non-null int64\n",
      "rating_denominator            2075 non-null int64\n",
      "name                          2075 non-null object\n",
      "doggo                         2075 non-null object\n",
      "floofer                       2075 non-null object\n",
      "pupper                        2075 non-null object\n",
      "puppo                         2075 non-null object\n",
      "jpg_url                       2075 non-null object\n",
      "img_num                       2075 non-null int64\n",
      "p1                            2075 non-null object\n",
      "p1_conf                       2075 non-null float64\n",
      "p1_dog                        2075 non-null bool\n",
      "p2                            2075 non-null object\n",
      "p2_conf                       2075 non-null float64\n",
      "p2_dog                        2075 non-null bool\n",
      "p3                            2075 non-null object\n",
      "p3_conf                       2075 non-null float64\n",
      "p3_dog                        2075 non-null bool\n",
      "dtypes: bool(3), float64(7), int64(4), object(14)\n",
      "memory usage: 427.6+ KB\n"
     ]
    }
   ],
   "source": [
    "merged_df.info()"
   ]
  },
  {
   "cell_type": "code",
   "execution_count": 35,
   "metadata": {},
   "outputs": [
    {
     "data": {
      "text/html": [
       "<div>\n",
       "<style scoped>\n",
       "    .dataframe tbody tr th:only-of-type {\n",
       "        vertical-align: middle;\n",
       "    }\n",
       "\n",
       "    .dataframe tbody tr th {\n",
       "        vertical-align: top;\n",
       "    }\n",
       "\n",
       "    .dataframe thead th {\n",
       "        text-align: right;\n",
       "    }\n",
       "</style>\n",
       "<table border=\"1\" class=\"dataframe\">\n",
       "  <thead>\n",
       "    <tr style=\"text-align: right;\">\n",
       "      <th></th>\n",
       "      <th>tweet_id</th>\n",
       "      <th>in_reply_to_status_id</th>\n",
       "      <th>in_reply_to_user_id</th>\n",
       "      <th>timestamp</th>\n",
       "      <th>source</th>\n",
       "      <th>text</th>\n",
       "      <th>retweeted_status_id</th>\n",
       "      <th>retweeted_status_user_id</th>\n",
       "      <th>retweeted_status_timestamp</th>\n",
       "      <th>expanded_urls</th>\n",
       "      <th>...</th>\n",
       "      <th>img_num</th>\n",
       "      <th>p1</th>\n",
       "      <th>p1_conf</th>\n",
       "      <th>p1_dog</th>\n",
       "      <th>p2</th>\n",
       "      <th>p2_conf</th>\n",
       "      <th>p2_dog</th>\n",
       "      <th>p3</th>\n",
       "      <th>p3_conf</th>\n",
       "      <th>p3_dog</th>\n",
       "    </tr>\n",
       "  </thead>\n",
       "  <tbody>\n",
       "    <tr>\n",
       "      <th>0</th>\n",
       "      <td>892420643555336193</td>\n",
       "      <td>NaN</td>\n",
       "      <td>NaN</td>\n",
       "      <td>2017-08-01 16:23:56 +0000</td>\n",
       "      <td>&lt;a href=\"http://twitter.com/download/iphone\" r...</td>\n",
       "      <td>This is Phineas. He's a mystical boy. Only eve...</td>\n",
       "      <td>NaN</td>\n",
       "      <td>NaN</td>\n",
       "      <td>NaN</td>\n",
       "      <td>https://twitter.com/dog_rates/status/892420643...</td>\n",
       "      <td>...</td>\n",
       "      <td>1</td>\n",
       "      <td>orange</td>\n",
       "      <td>0.097049</td>\n",
       "      <td>False</td>\n",
       "      <td>bagel</td>\n",
       "      <td>0.085851</td>\n",
       "      <td>False</td>\n",
       "      <td>banana</td>\n",
       "      <td>0.076110</td>\n",
       "      <td>False</td>\n",
       "    </tr>\n",
       "    <tr>\n",
       "      <th>1</th>\n",
       "      <td>892177421306343426</td>\n",
       "      <td>NaN</td>\n",
       "      <td>NaN</td>\n",
       "      <td>2017-08-01 00:17:27 +0000</td>\n",
       "      <td>&lt;a href=\"http://twitter.com/download/iphone\" r...</td>\n",
       "      <td>This is Tilly. She's just checking pup on you....</td>\n",
       "      <td>NaN</td>\n",
       "      <td>NaN</td>\n",
       "      <td>NaN</td>\n",
       "      <td>https://twitter.com/dog_rates/status/892177421...</td>\n",
       "      <td>...</td>\n",
       "      <td>1</td>\n",
       "      <td>Chihuahua</td>\n",
       "      <td>0.323581</td>\n",
       "      <td>True</td>\n",
       "      <td>Pekinese</td>\n",
       "      <td>0.090647</td>\n",
       "      <td>True</td>\n",
       "      <td>papillon</td>\n",
       "      <td>0.068957</td>\n",
       "      <td>True</td>\n",
       "    </tr>\n",
       "    <tr>\n",
       "      <th>2</th>\n",
       "      <td>891815181378084864</td>\n",
       "      <td>NaN</td>\n",
       "      <td>NaN</td>\n",
       "      <td>2017-07-31 00:18:03 +0000</td>\n",
       "      <td>&lt;a href=\"http://twitter.com/download/iphone\" r...</td>\n",
       "      <td>This is Archie. He is a rare Norwegian Pouncin...</td>\n",
       "      <td>NaN</td>\n",
       "      <td>NaN</td>\n",
       "      <td>NaN</td>\n",
       "      <td>https://twitter.com/dog_rates/status/891815181...</td>\n",
       "      <td>...</td>\n",
       "      <td>1</td>\n",
       "      <td>Chihuahua</td>\n",
       "      <td>0.716012</td>\n",
       "      <td>True</td>\n",
       "      <td>malamute</td>\n",
       "      <td>0.078253</td>\n",
       "      <td>True</td>\n",
       "      <td>kelpie</td>\n",
       "      <td>0.031379</td>\n",
       "      <td>True</td>\n",
       "    </tr>\n",
       "    <tr>\n",
       "      <th>3</th>\n",
       "      <td>891689557279858688</td>\n",
       "      <td>NaN</td>\n",
       "      <td>NaN</td>\n",
       "      <td>2017-07-30 15:58:51 +0000</td>\n",
       "      <td>&lt;a href=\"http://twitter.com/download/iphone\" r...</td>\n",
       "      <td>This is Darla. She commenced a snooze mid meal...</td>\n",
       "      <td>NaN</td>\n",
       "      <td>NaN</td>\n",
       "      <td>NaN</td>\n",
       "      <td>https://twitter.com/dog_rates/status/891689557...</td>\n",
       "      <td>...</td>\n",
       "      <td>1</td>\n",
       "      <td>paper_towel</td>\n",
       "      <td>0.170278</td>\n",
       "      <td>False</td>\n",
       "      <td>Labrador_retriever</td>\n",
       "      <td>0.168086</td>\n",
       "      <td>True</td>\n",
       "      <td>spatula</td>\n",
       "      <td>0.040836</td>\n",
       "      <td>False</td>\n",
       "    </tr>\n",
       "    <tr>\n",
       "      <th>4</th>\n",
       "      <td>891327558926688256</td>\n",
       "      <td>NaN</td>\n",
       "      <td>NaN</td>\n",
       "      <td>2017-07-29 16:00:24 +0000</td>\n",
       "      <td>&lt;a href=\"http://twitter.com/download/iphone\" r...</td>\n",
       "      <td>This is Franklin. He would like you to stop ca...</td>\n",
       "      <td>NaN</td>\n",
       "      <td>NaN</td>\n",
       "      <td>NaN</td>\n",
       "      <td>https://twitter.com/dog_rates/status/891327558...</td>\n",
       "      <td>...</td>\n",
       "      <td>2</td>\n",
       "      <td>basset</td>\n",
       "      <td>0.555712</td>\n",
       "      <td>True</td>\n",
       "      <td>English_springer</td>\n",
       "      <td>0.225770</td>\n",
       "      <td>True</td>\n",
       "      <td>German_short-haired_pointer</td>\n",
       "      <td>0.175219</td>\n",
       "      <td>True</td>\n",
       "    </tr>\n",
       "  </tbody>\n",
       "</table>\n",
       "<p>5 rows × 28 columns</p>\n",
       "</div>"
      ],
      "text/plain": [
       "             tweet_id  in_reply_to_status_id  in_reply_to_user_id  \\\n",
       "0  892420643555336193                    NaN                  NaN   \n",
       "1  892177421306343426                    NaN                  NaN   \n",
       "2  891815181378084864                    NaN                  NaN   \n",
       "3  891689557279858688                    NaN                  NaN   \n",
       "4  891327558926688256                    NaN                  NaN   \n",
       "\n",
       "                   timestamp  \\\n",
       "0  2017-08-01 16:23:56 +0000   \n",
       "1  2017-08-01 00:17:27 +0000   \n",
       "2  2017-07-31 00:18:03 +0000   \n",
       "3  2017-07-30 15:58:51 +0000   \n",
       "4  2017-07-29 16:00:24 +0000   \n",
       "\n",
       "                                              source  \\\n",
       "0  <a href=\"http://twitter.com/download/iphone\" r...   \n",
       "1  <a href=\"http://twitter.com/download/iphone\" r...   \n",
       "2  <a href=\"http://twitter.com/download/iphone\" r...   \n",
       "3  <a href=\"http://twitter.com/download/iphone\" r...   \n",
       "4  <a href=\"http://twitter.com/download/iphone\" r...   \n",
       "\n",
       "                                                text  retweeted_status_id  \\\n",
       "0  This is Phineas. He's a mystical boy. Only eve...                  NaN   \n",
       "1  This is Tilly. She's just checking pup on you....                  NaN   \n",
       "2  This is Archie. He is a rare Norwegian Pouncin...                  NaN   \n",
       "3  This is Darla. She commenced a snooze mid meal...                  NaN   \n",
       "4  This is Franklin. He would like you to stop ca...                  NaN   \n",
       "\n",
       "   retweeted_status_user_id retweeted_status_timestamp  \\\n",
       "0                       NaN                        NaN   \n",
       "1                       NaN                        NaN   \n",
       "2                       NaN                        NaN   \n",
       "3                       NaN                        NaN   \n",
       "4                       NaN                        NaN   \n",
       "\n",
       "                                       expanded_urls  ...  img_num  \\\n",
       "0  https://twitter.com/dog_rates/status/892420643...  ...        1   \n",
       "1  https://twitter.com/dog_rates/status/892177421...  ...        1   \n",
       "2  https://twitter.com/dog_rates/status/891815181...  ...        1   \n",
       "3  https://twitter.com/dog_rates/status/891689557...  ...        1   \n",
       "4  https://twitter.com/dog_rates/status/891327558...  ...        2   \n",
       "\n",
       "            p1   p1_conf p1_dog                  p2   p2_conf p2_dog  \\\n",
       "0       orange  0.097049  False               bagel  0.085851  False   \n",
       "1    Chihuahua  0.323581   True            Pekinese  0.090647   True   \n",
       "2    Chihuahua  0.716012   True            malamute  0.078253   True   \n",
       "3  paper_towel  0.170278  False  Labrador_retriever  0.168086   True   \n",
       "4       basset  0.555712   True    English_springer  0.225770   True   \n",
       "\n",
       "                            p3   p3_conf p3_dog  \n",
       "0                       banana  0.076110  False  \n",
       "1                     papillon  0.068957   True  \n",
       "2                       kelpie  0.031379   True  \n",
       "3                      spatula  0.040836  False  \n",
       "4  German_short-haired_pointer  0.175219   True  \n",
       "\n",
       "[5 rows x 28 columns]"
      ]
     },
     "execution_count": 35,
     "metadata": {},
     "output_type": "execute_result"
    }
   ],
   "source": [
    "merged_df.head()"
   ]
  },
  {
   "cell_type": "markdown",
   "metadata": {},
   "source": [
    "## Dataset 3: Twitter via API\n",
    "### Set up Twitter API via tweepy"
   ]
  },
  {
   "cell_type": "code",
   "execution_count": null,
   "metadata": {},
   "outputs": [],
   "source": [
    "import tweepy\n",
    "\n",
    "auth = tweepy.OAuthHandler(consumer_key, consumer_secret)\n",
    "auth.set_access_token(access_token, access_secret)\n",
    "\n",
    "api = tweepy.API(auth, parser=tweepy.parsers.JSONParser())\n",
    "api.wait_on_rate_limit = True"
   ]
  },
  {
   "cell_type": "markdown",
   "metadata": {},
   "source": [
    "### Download WeRateDogs Twitter archive. Takes around 30 mins."
   ]
  },
  {
   "cell_type": "code",
   "execution_count": null,
   "metadata": {},
   "outputs": [],
   "source": [
    "# create an empty array to store dictionaries retrieved via API\n",
    "tweets = []\n",
    "missing_tweets = []\n",
    "\n",
    "# use tweet_id's from our dataframe to retrieve original tweets\n",
    "for i in merged_df.tweet_id:\n",
    "    try:\n",
    "        tweets.append (api.get_status(i, tweet_mode='extended'))\n",
    "    except:\n",
    "        missing_tweets.append(i)\n",
    "        print ('tweet #', i, ' could not be located')\n",
    "            \n",
    "# write downloaded tweets to a json file and store it locally            \n",
    "with open('tweets.json', 'w') as outfile:\n",
    "    json.dump(tweets, outfile)"
   ]
  },
  {
   "cell_type": "code",
   "execution_count": null,
   "metadata": {},
   "outputs": [],
   "source": [
    "missing_tweets"
   ]
  },
  {
   "cell_type": "markdown",
   "metadata": {},
   "source": [
    "### Read the downloaded and saved archive from a local .json file"
   ]
  },
  {
   "cell_type": "code",
   "execution_count": 36,
   "metadata": {},
   "outputs": [],
   "source": [
    "tweets = pd.read_json ('tweets.json')"
   ]
  },
  {
   "cell_type": "code",
   "execution_count": 37,
   "metadata": {
    "scrolled": true
   },
   "outputs": [
    {
     "data": {
      "text/html": [
       "<div>\n",
       "<style scoped>\n",
       "    .dataframe tbody tr th:only-of-type {\n",
       "        vertical-align: middle;\n",
       "    }\n",
       "\n",
       "    .dataframe tbody tr th {\n",
       "        vertical-align: top;\n",
       "    }\n",
       "\n",
       "    .dataframe thead th {\n",
       "        text-align: right;\n",
       "    }\n",
       "</style>\n",
       "<table border=\"1\" class=\"dataframe\">\n",
       "  <thead>\n",
       "    <tr style=\"text-align: right;\">\n",
       "      <th></th>\n",
       "      <th>contributors</th>\n",
       "      <th>coordinates</th>\n",
       "      <th>created_at</th>\n",
       "      <th>display_text_range</th>\n",
       "      <th>entities</th>\n",
       "      <th>extended_entities</th>\n",
       "      <th>favorite_count</th>\n",
       "      <th>favorited</th>\n",
       "      <th>full_text</th>\n",
       "      <th>geo</th>\n",
       "      <th>...</th>\n",
       "      <th>lang</th>\n",
       "      <th>place</th>\n",
       "      <th>possibly_sensitive</th>\n",
       "      <th>possibly_sensitive_appealable</th>\n",
       "      <th>retweet_count</th>\n",
       "      <th>retweeted</th>\n",
       "      <th>retweeted_status</th>\n",
       "      <th>source</th>\n",
       "      <th>truncated</th>\n",
       "      <th>user</th>\n",
       "    </tr>\n",
       "  </thead>\n",
       "  <tbody>\n",
       "    <tr>\n",
       "      <th>0</th>\n",
       "      <td>NaN</td>\n",
       "      <td>NaN</td>\n",
       "      <td>2017-08-01 16:23:56</td>\n",
       "      <td>[0, 85]</td>\n",
       "      <td>{'hashtags': [], 'symbols': [], 'user_mentions...</td>\n",
       "      <td>{'media': [{'id': 892420639486877696, 'id_str'...</td>\n",
       "      <td>37246</td>\n",
       "      <td>False</td>\n",
       "      <td>This is Phineas. He's a mystical boy. Only eve...</td>\n",
       "      <td>NaN</td>\n",
       "      <td>...</td>\n",
       "      <td>en</td>\n",
       "      <td>None</td>\n",
       "      <td>False</td>\n",
       "      <td>False</td>\n",
       "      <td>7979</td>\n",
       "      <td>False</td>\n",
       "      <td>NaN</td>\n",
       "      <td>&lt;a href=\"http://twitter.com/download/iphone\" r...</td>\n",
       "      <td>False</td>\n",
       "      <td>{'id': 4196983835, 'id_str': '4196983835', 'na...</td>\n",
       "    </tr>\n",
       "    <tr>\n",
       "      <th>1</th>\n",
       "      <td>NaN</td>\n",
       "      <td>NaN</td>\n",
       "      <td>2017-08-01 00:17:27</td>\n",
       "      <td>[0, 138]</td>\n",
       "      <td>{'hashtags': [], 'symbols': [], 'user_mentions...</td>\n",
       "      <td>{'media': [{'id': 892177413194625024, 'id_str'...</td>\n",
       "      <td>32027</td>\n",
       "      <td>False</td>\n",
       "      <td>This is Tilly. She's just checking pup on you....</td>\n",
       "      <td>NaN</td>\n",
       "      <td>...</td>\n",
       "      <td>en</td>\n",
       "      <td>None</td>\n",
       "      <td>False</td>\n",
       "      <td>False</td>\n",
       "      <td>5925</td>\n",
       "      <td>False</td>\n",
       "      <td>NaN</td>\n",
       "      <td>&lt;a href=\"http://twitter.com/download/iphone\" r...</td>\n",
       "      <td>False</td>\n",
       "      <td>{'id': 4196983835, 'id_str': '4196983835', 'na...</td>\n",
       "    </tr>\n",
       "    <tr>\n",
       "      <th>2</th>\n",
       "      <td>NaN</td>\n",
       "      <td>NaN</td>\n",
       "      <td>2017-07-31 00:18:03</td>\n",
       "      <td>[0, 121]</td>\n",
       "      <td>{'hashtags': [], 'symbols': [], 'user_mentions...</td>\n",
       "      <td>{'media': [{'id': 891815175371796480, 'id_str'...</td>\n",
       "      <td>24129</td>\n",
       "      <td>False</td>\n",
       "      <td>This is Archie. He is a rare Norwegian Pouncin...</td>\n",
       "      <td>NaN</td>\n",
       "      <td>...</td>\n",
       "      <td>en</td>\n",
       "      <td>None</td>\n",
       "      <td>False</td>\n",
       "      <td>False</td>\n",
       "      <td>3913</td>\n",
       "      <td>False</td>\n",
       "      <td>NaN</td>\n",
       "      <td>&lt;a href=\"http://twitter.com/download/iphone\" r...</td>\n",
       "      <td>False</td>\n",
       "      <td>{'id': 4196983835, 'id_str': '4196983835', 'na...</td>\n",
       "    </tr>\n",
       "    <tr>\n",
       "      <th>3</th>\n",
       "      <td>NaN</td>\n",
       "      <td>NaN</td>\n",
       "      <td>2017-07-30 15:58:51</td>\n",
       "      <td>[0, 79]</td>\n",
       "      <td>{'hashtags': [], 'symbols': [], 'user_mentions...</td>\n",
       "      <td>{'media': [{'id': 891689552724799489, 'id_str'...</td>\n",
       "      <td>40568</td>\n",
       "      <td>False</td>\n",
       "      <td>This is Darla. She commenced a snooze mid meal...</td>\n",
       "      <td>NaN</td>\n",
       "      <td>...</td>\n",
       "      <td>en</td>\n",
       "      <td>None</td>\n",
       "      <td>False</td>\n",
       "      <td>False</td>\n",
       "      <td>8132</td>\n",
       "      <td>False</td>\n",
       "      <td>NaN</td>\n",
       "      <td>&lt;a href=\"http://twitter.com/download/iphone\" r...</td>\n",
       "      <td>False</td>\n",
       "      <td>{'id': 4196983835, 'id_str': '4196983835', 'na...</td>\n",
       "    </tr>\n",
       "    <tr>\n",
       "      <th>4</th>\n",
       "      <td>NaN</td>\n",
       "      <td>NaN</td>\n",
       "      <td>2017-07-29 16:00:24</td>\n",
       "      <td>[0, 138]</td>\n",
       "      <td>{'hashtags': [{'text': 'BarkWeek', 'indices': ...</td>\n",
       "      <td>{'media': [{'id': 891327551943041024, 'id_str'...</td>\n",
       "      <td>38800</td>\n",
       "      <td>False</td>\n",
       "      <td>This is Franklin. He would like you to stop ca...</td>\n",
       "      <td>NaN</td>\n",
       "      <td>...</td>\n",
       "      <td>en</td>\n",
       "      <td>None</td>\n",
       "      <td>False</td>\n",
       "      <td>False</td>\n",
       "      <td>8812</td>\n",
       "      <td>False</td>\n",
       "      <td>NaN</td>\n",
       "      <td>&lt;a href=\"http://twitter.com/download/iphone\" r...</td>\n",
       "      <td>False</td>\n",
       "      <td>{'id': 4196983835, 'id_str': '4196983835', 'na...</td>\n",
       "    </tr>\n",
       "  </tbody>\n",
       "</table>\n",
       "<p>5 rows × 28 columns</p>\n",
       "</div>"
      ],
      "text/plain": [
       "   contributors  coordinates          created_at display_text_range  \\\n",
       "0           NaN          NaN 2017-08-01 16:23:56            [0, 85]   \n",
       "1           NaN          NaN 2017-08-01 00:17:27           [0, 138]   \n",
       "2           NaN          NaN 2017-07-31 00:18:03           [0, 121]   \n",
       "3           NaN          NaN 2017-07-30 15:58:51            [0, 79]   \n",
       "4           NaN          NaN 2017-07-29 16:00:24           [0, 138]   \n",
       "\n",
       "                                            entities  \\\n",
       "0  {'hashtags': [], 'symbols': [], 'user_mentions...   \n",
       "1  {'hashtags': [], 'symbols': [], 'user_mentions...   \n",
       "2  {'hashtags': [], 'symbols': [], 'user_mentions...   \n",
       "3  {'hashtags': [], 'symbols': [], 'user_mentions...   \n",
       "4  {'hashtags': [{'text': 'BarkWeek', 'indices': ...   \n",
       "\n",
       "                                   extended_entities  favorite_count  \\\n",
       "0  {'media': [{'id': 892420639486877696, 'id_str'...           37246   \n",
       "1  {'media': [{'id': 892177413194625024, 'id_str'...           32027   \n",
       "2  {'media': [{'id': 891815175371796480, 'id_str'...           24129   \n",
       "3  {'media': [{'id': 891689552724799489, 'id_str'...           40568   \n",
       "4  {'media': [{'id': 891327551943041024, 'id_str'...           38800   \n",
       "\n",
       "   favorited                                          full_text  geo  ...  \\\n",
       "0      False  This is Phineas. He's a mystical boy. Only eve...  NaN  ...   \n",
       "1      False  This is Tilly. She's just checking pup on you....  NaN  ...   \n",
       "2      False  This is Archie. He is a rare Norwegian Pouncin...  NaN  ...   \n",
       "3      False  This is Darla. She commenced a snooze mid meal...  NaN  ...   \n",
       "4      False  This is Franklin. He would like you to stop ca...  NaN  ...   \n",
       "\n",
       "   lang  place possibly_sensitive  possibly_sensitive_appealable  \\\n",
       "0    en   None              False                          False   \n",
       "1    en   None              False                          False   \n",
       "2    en   None              False                          False   \n",
       "3    en   None              False                          False   \n",
       "4    en   None              False                          False   \n",
       "\n",
       "   retweet_count  retweeted  retweeted_status  \\\n",
       "0           7979      False               NaN   \n",
       "1           5925      False               NaN   \n",
       "2           3913      False               NaN   \n",
       "3           8132      False               NaN   \n",
       "4           8812      False               NaN   \n",
       "\n",
       "                                              source truncated  \\\n",
       "0  <a href=\"http://twitter.com/download/iphone\" r...     False   \n",
       "1  <a href=\"http://twitter.com/download/iphone\" r...     False   \n",
       "2  <a href=\"http://twitter.com/download/iphone\" r...     False   \n",
       "3  <a href=\"http://twitter.com/download/iphone\" r...     False   \n",
       "4  <a href=\"http://twitter.com/download/iphone\" r...     False   \n",
       "\n",
       "                                                user  \n",
       "0  {'id': 4196983835, 'id_str': '4196983835', 'na...  \n",
       "1  {'id': 4196983835, 'id_str': '4196983835', 'na...  \n",
       "2  {'id': 4196983835, 'id_str': '4196983835', 'na...  \n",
       "3  {'id': 4196983835, 'id_str': '4196983835', 'na...  \n",
       "4  {'id': 4196983835, 'id_str': '4196983835', 'na...  \n",
       "\n",
       "[5 rows x 28 columns]"
      ]
     },
     "execution_count": 37,
     "metadata": {},
     "output_type": "execute_result"
    }
   ],
   "source": [
    "tweets.head()"
   ]
  },
  {
   "cell_type": "code",
   "execution_count": 38,
   "metadata": {},
   "outputs": [
    {
     "name": "stdout",
     "output_type": "stream",
     "text": [
      "<class 'pandas.core.frame.DataFrame'>\n",
      "RangeIndex: 2061 entries, 0 to 2060\n",
      "Data columns (total 28 columns):\n",
      "contributors                     0 non-null float64\n",
      "coordinates                      0 non-null float64\n",
      "created_at                       2061 non-null datetime64[ns]\n",
      "display_text_range               2061 non-null object\n",
      "entities                         2061 non-null object\n",
      "extended_entities                2061 non-null object\n",
      "favorite_count                   2061 non-null int64\n",
      "favorited                        2061 non-null bool\n",
      "full_text                        2061 non-null object\n",
      "geo                              0 non-null float64\n",
      "id                               2061 non-null int64\n",
      "id_str                           2061 non-null int64\n",
      "in_reply_to_screen_name          23 non-null object\n",
      "in_reply_to_status_id            23 non-null float64\n",
      "in_reply_to_status_id_str        23 non-null float64\n",
      "in_reply_to_user_id              23 non-null float64\n",
      "in_reply_to_user_id_str          23 non-null float64\n",
      "is_quote_status                  2061 non-null bool\n",
      "lang                             2061 non-null object\n",
      "place                            1 non-null object\n",
      "possibly_sensitive               2061 non-null bool\n",
      "possibly_sensitive_appealable    2061 non-null bool\n",
      "retweet_count                    2061 non-null int64\n",
      "retweeted                        2061 non-null bool\n",
      "retweeted_status                 74 non-null object\n",
      "source                           2061 non-null object\n",
      "truncated                        2061 non-null bool\n",
      "user                             2061 non-null object\n",
      "dtypes: bool(6), datetime64[ns](1), float64(7), int64(4), object(10)\n",
      "memory usage: 366.4+ KB\n"
     ]
    }
   ],
   "source": [
    "tweets.info()"
   ]
  },
  {
   "cell_type": "markdown",
   "metadata": {},
   "source": [
    "#### quality:\n",
    "* remove all empty columns\n",
    "- in_reply_to_status_id and in_reply_to_status_id_str >> should be strings\n",
    "- in_reply_to_user_id and in_reply_to_user_id_str >> should be strings\n",
    "\n",
    "\n",
    "#### tidiness:\n",
    "* 'display_text_range' is an array that always starts with '0'\n",
    "* 'source' column should be turned into a categorical variable\n",
    "* unpack hashtags into a separate column and make it a categotical variable\n",
    "* unpack tweet URLs into a separate column\n",
    "* unpack `followers_count` from within `user` field\n",
    "* unpack `friends_count` from within `user` field\n",
    "* unpack `listed_coutn` from within `user` field\n",
    "* unpack `statuses_count` from within `user` field\n",
    "* split 'created_at'column into separate date and time\n"
   ]
  },
  {
   "cell_type": "markdown",
   "metadata": {},
   "source": [
    "### Merge tweets with two previous datasets"
   ]
  },
  {
   "cell_type": "code",
   "execution_count": 39,
   "metadata": {},
   "outputs": [],
   "source": [
    "# rename id columns to identical names\n",
    "tweets.rename(columns={'id':'tweet_id'},inplace=True)"
   ]
  },
  {
   "cell_type": "code",
   "execution_count": 61,
   "metadata": {
    "scrolled": true
   },
   "outputs": [],
   "source": [
    "# merge two dataframes on the 'tweet_id' column\n",
    "we_rate_dogs = pd.merge(merged_df,tweets, how='inner', on='tweet_id')"
   ]
  },
  {
   "cell_type": "markdown",
   "metadata": {},
   "source": [
    "## Remove duplicate and redundant data"
   ]
  },
  {
   "cell_type": "code",
   "execution_count": 41,
   "metadata": {},
   "outputs": [
    {
     "name": "stdout",
     "output_type": "stream",
     "text": [
      "<class 'pandas.core.frame.DataFrame'>\n",
      "Int64Index: 2061 entries, 0 to 2060\n",
      "Data columns (total 55 columns):\n",
      "tweet_id                         2061 non-null int64\n",
      "in_reply_to_status_id_x          23 non-null float64\n",
      "in_reply_to_user_id_x            23 non-null float64\n",
      "timestamp                        2061 non-null object\n",
      "source_x                         2061 non-null object\n",
      "text                             2061 non-null object\n",
      "retweeted_status_id              74 non-null float64\n",
      "retweeted_status_user_id         74 non-null float64\n",
      "retweeted_status_timestamp       74 non-null object\n",
      "expanded_urls                    2061 non-null object\n",
      "rating_numerator                 2061 non-null int64\n",
      "rating_denominator               2061 non-null int64\n",
      "name                             2061 non-null object\n",
      "doggo                            2061 non-null object\n",
      "floofer                          2061 non-null object\n",
      "pupper                           2061 non-null object\n",
      "puppo                            2061 non-null object\n",
      "jpg_url                          2061 non-null object\n",
      "img_num                          2061 non-null int64\n",
      "p1                               2061 non-null object\n",
      "p1_conf                          2061 non-null float64\n",
      "p1_dog                           2061 non-null bool\n",
      "p2                               2061 non-null object\n",
      "p2_conf                          2061 non-null float64\n",
      "p2_dog                           2061 non-null bool\n",
      "p3                               2061 non-null object\n",
      "p3_conf                          2061 non-null float64\n",
      "p3_dog                           2061 non-null bool\n",
      "contributors                     0 non-null float64\n",
      "coordinates                      0 non-null float64\n",
      "created_at                       2061 non-null datetime64[ns]\n",
      "display_text_range               2061 non-null object\n",
      "entities                         2061 non-null object\n",
      "extended_entities                2061 non-null object\n",
      "favorite_count                   2061 non-null int64\n",
      "favorited                        2061 non-null bool\n",
      "full_text                        2061 non-null object\n",
      "geo                              0 non-null float64\n",
      "id_str                           2061 non-null int64\n",
      "in_reply_to_screen_name          23 non-null object\n",
      "in_reply_to_status_id_y          23 non-null float64\n",
      "in_reply_to_status_id_str        23 non-null float64\n",
      "in_reply_to_user_id_y            23 non-null float64\n",
      "in_reply_to_user_id_str          23 non-null float64\n",
      "is_quote_status                  2061 non-null bool\n",
      "lang                             2061 non-null object\n",
      "place                            1 non-null object\n",
      "possibly_sensitive               2061 non-null bool\n",
      "possibly_sensitive_appealable    2061 non-null bool\n",
      "retweet_count                    2061 non-null int64\n",
      "retweeted                        2061 non-null bool\n",
      "retweeted_status                 74 non-null object\n",
      "source_y                         2061 non-null object\n",
      "truncated                        2061 non-null bool\n",
      "user                             2061 non-null object\n",
      "dtypes: bool(9), datetime64[ns](1), float64(14), int64(7), object(24)\n",
      "memory usage: 774.9+ KB\n"
     ]
    }
   ],
   "source": [
    "we_rate_dogs.info()"
   ]
  },
  {
   "cell_type": "markdown",
   "metadata": {},
   "source": [
    "Summing data in columns highlights some of the empty variables."
   ]
  },
  {
   "cell_type": "code",
   "execution_count": 70,
   "metadata": {},
   "outputs": [
    {
     "data": {
      "text/plain": [
       "tweet_id                                                       8098880034596373798\n",
       "in_reply_to_status_id_x                                                1.60497e+19\n",
       "in_reply_to_user_id_x                                                  9.65306e+10\n",
       "timestamp                        2017-08-01 16:23:56 +00002017-08-01 00:17:27 +...\n",
       "source_x                         <a href=\"http://twitter.com/download/iphone\" r...\n",
       "text                             This is Phineas. He's a mystical boy. Only eve...\n",
       "retweeted_status_id                                                    5.63835e+19\n",
       "retweeted_status_user_id                                               7.87462e+17\n",
       "expanded_urls                    https://twitter.com/dog_rates/status/892420643...\n",
       "rating_numerator                                                             25273\n",
       "rating_denominator                                                           21671\n",
       "name                             PhineasTillyArchieDarlaFranklinNoneJaxNoneZoey...\n",
       "doggo                            NoneNoneNoneNoneNoneNoneNoneNoneNonedoggoNoneN...\n",
       "floofer                          NoneNoneNoneNoneNoneNoneNoneNoneNoneNoneNoneNo...\n",
       "pupper                           NoneNoneNoneNoneNoneNoneNoneNoneNoneNoneNoneNo...\n",
       "puppo                            NoneNoneNoneNoneNoneNoneNoneNoneNoneNoneNoneNo...\n",
       "jpg_url                          https://pbs.twimg.com/media/DGKD1-bXoAAIAUK.jp...\n",
       "img_num                                                                       2481\n",
       "p1                               orangeChihuahuaChihuahuapaper_towelbassetChesa...\n",
       "p1_conf                                                                    1224.79\n",
       "p1_dog                                                                        1521\n",
       "p2                               bagelPekinesemalamuteLabrador_retrieverEnglish...\n",
       "p2_conf                                                                    277.529\n",
       "p2_dog                                                                        1541\n",
       "p3                               bananapapillonkelpiespatulaGerman_short-haired...\n",
       "p3_conf                                                                    124.505\n",
       "p3_dog                                                                        1487\n",
       "contributors                                                                     0\n",
       "coordinates                                                                      0\n",
       "display_text_range               [0, 85, 0, 138, 0, 121, 0, 79, 0, 138, 0, 138,...\n",
       "favorite_count                                                            16894703\n",
       "favorited                                                                        0\n",
       "full_text                        This is Phineas. He's a mystical boy. Only eve...\n",
       "geo                                                                              0\n",
       "id_str                                                         8098880034596372480\n",
       "in_reply_to_status_id_y                                                1.60497e+19\n",
       "in_reply_to_status_id_str                                              1.60497e+19\n",
       "in_reply_to_user_id_y                                                  9.65306e+10\n",
       "in_reply_to_user_id_str                                                9.65306e+10\n",
       "is_quote_status                                                                  0\n",
       "lang                             enenenenenenenenenenenenenenenenenenenenenenen...\n",
       "possibly_sensitive                                                               0\n",
       "possibly_sensitive_appealable                                                    0\n",
       "retweet_count                                                              5527092\n",
       "retweeted                                                                        0\n",
       "source_y                         <a href=\"http://twitter.com/download/iphone\" r...\n",
       "truncated                                                                        0\n",
       "dtype: object"
      ]
     },
     "execution_count": 70,
     "metadata": {},
     "output_type": "execute_result"
    }
   ],
   "source": [
    "we_rate_dogs.sum(axis=0)"
   ]
  },
  {
   "cell_type": "code",
   "execution_count": 74,
   "metadata": {},
   "outputs": [],
   "source": [
    "zero_columns = ['contributors','coordinates','favorited','geo','possibly_sensitive','possibly_sensitive_appealable','retweeted','truncated','is_quote_status']\n",
    "we_rate_dogs.drop(columns=zero_columns,inplace=True)"
   ]
  },
  {
   "cell_type": "code",
   "execution_count": 75,
   "metadata": {},
   "outputs": [
    {
     "name": "stdout",
     "output_type": "stream",
     "text": [
      "0\n"
     ]
    }
   ],
   "source": [
    "# are source_x and source_y columns identical?\n",
    "print (sum(we_rate_dogs.source_x == we_rate_dogs.source_y) - len(we_rate_dogs))"
   ]
  },
  {
   "cell_type": "markdown",
   "metadata": {},
   "source": [
    "In this analysis we will not engage in understanding social context of this account, therefore all information pertaining to retweets and replies can be considered redundant."
   ]
  },
  {
   "cell_type": "code",
   "execution_count": 76,
   "metadata": {},
   "outputs": [],
   "source": [
    "redundant_columns = ['in_reply_to_status_id_x', 'in_reply_to_user_id_x',\n",
    "'retweeted_status_id', 'retweeted_status_user_id', 'retweeted_status_timestamp',\n",
    "'in_reply_to_screen_name','in_reply_to_status_id_y', 'in_reply_to_status_id_str',\n",
    "'in_reply_to_user_id_y', 'in_reply_to_user_id_str', 'source_y','retweeted_status']"
   ]
  },
  {
   "cell_type": "code",
   "execution_count": 77,
   "metadata": {},
   "outputs": [],
   "source": [
    "we_rate_dogs.drop(columns=redundant_columns, inplace=True)"
   ]
  },
  {
   "cell_type": "code",
   "execution_count": 78,
   "metadata": {
    "scrolled": true
   },
   "outputs": [
    {
     "name": "stdout",
     "output_type": "stream",
     "text": [
      "<class 'pandas.core.frame.DataFrame'>\n",
      "Int64Index: 2061 entries, 0 to 2060\n",
      "Data columns (total 34 columns):\n",
      "tweet_id              2061 non-null int64\n",
      "timestamp             2061 non-null object\n",
      "source_x              2061 non-null object\n",
      "text                  2061 non-null object\n",
      "expanded_urls         2061 non-null object\n",
      "rating_numerator      2061 non-null int64\n",
      "rating_denominator    2061 non-null int64\n",
      "name                  2061 non-null object\n",
      "doggo                 2061 non-null object\n",
      "floofer               2061 non-null object\n",
      "pupper                2061 non-null object\n",
      "puppo                 2061 non-null object\n",
      "jpg_url               2061 non-null object\n",
      "img_num               2061 non-null int64\n",
      "p1                    2061 non-null object\n",
      "p1_conf               2061 non-null float64\n",
      "p1_dog                2061 non-null bool\n",
      "p2                    2061 non-null object\n",
      "p2_conf               2061 non-null float64\n",
      "p2_dog                2061 non-null bool\n",
      "p3                    2061 non-null object\n",
      "p3_conf               2061 non-null float64\n",
      "p3_dog                2061 non-null bool\n",
      "created_at            2061 non-null datetime64[ns]\n",
      "display_text_range    2061 non-null object\n",
      "entities              2061 non-null object\n",
      "extended_entities     2061 non-null object\n",
      "favorite_count        2061 non-null int64\n",
      "full_text             2061 non-null object\n",
      "id_str                2061 non-null int64\n",
      "lang                  2061 non-null object\n",
      "place                 1 non-null object\n",
      "retweet_count         2061 non-null int64\n",
      "user                  2061 non-null object\n",
      "dtypes: bool(3), datetime64[ns](1), float64(3), int64(7), object(20)\n",
      "memory usage: 521.3+ KB\n"
     ]
    }
   ],
   "source": [
    "we_rate_dogs.info()"
   ]
  },
  {
   "cell_type": "markdown",
   "metadata": {},
   "source": [
    "### Define \n",
    "`display_text_range` column can be effectively reduced to a single `int` rather than a list."
   ]
  },
  {
   "cell_type": "code",
   "execution_count": 79,
   "metadata": {},
   "outputs": [
    {
     "data": {
      "text/plain": [
       "0"
      ]
     },
     "execution_count": 79,
     "metadata": {},
     "output_type": "execute_result"
    }
   ],
   "source": [
    "sum(we_rate_dogs.display_text_range.apply(lambda x: 1 if x[0] > 0 else 0))"
   ]
  },
  {
   "cell_type": "markdown",
   "metadata": {},
   "source": [
    "#### Code\n",
    "\n",
    "extract the relevant value, put it into a new column and drop the old column"
   ]
  },
  {
   "cell_type": "code",
   "execution_count": 80,
   "metadata": {},
   "outputs": [],
   "source": [
    "we_rate_dogs['display_text_end'] = we_rate_dogs.display_text_range.apply(lambda x: x[1]).astype(int)\n",
    "we_rate_dogs.drop(columns='display_text_range', inplace=True)"
   ]
  },
  {
   "cell_type": "markdown",
   "metadata": {},
   "source": [
    "#### Test\n",
    "check if our new colum is of `int64` type"
   ]
  },
  {
   "cell_type": "code",
   "execution_count": 81,
   "metadata": {},
   "outputs": [
    {
     "name": "stdout",
     "output_type": "stream",
     "text": [
      "<class 'numpy.int64'>\n"
     ]
    },
    {
     "data": {
      "text/html": [
       "<div>\n",
       "<style scoped>\n",
       "    .dataframe tbody tr th:only-of-type {\n",
       "        vertical-align: middle;\n",
       "    }\n",
       "\n",
       "    .dataframe tbody tr th {\n",
       "        vertical-align: top;\n",
       "    }\n",
       "\n",
       "    .dataframe thead th {\n",
       "        text-align: right;\n",
       "    }\n",
       "</style>\n",
       "<table border=\"1\" class=\"dataframe\">\n",
       "  <thead>\n",
       "    <tr style=\"text-align: right;\">\n",
       "      <th></th>\n",
       "      <th>tweet_id</th>\n",
       "      <th>timestamp</th>\n",
       "      <th>source_x</th>\n",
       "      <th>text</th>\n",
       "      <th>expanded_urls</th>\n",
       "      <th>rating_numerator</th>\n",
       "      <th>rating_denominator</th>\n",
       "      <th>name</th>\n",
       "      <th>doggo</th>\n",
       "      <th>floofer</th>\n",
       "      <th>...</th>\n",
       "      <th>entities</th>\n",
       "      <th>extended_entities</th>\n",
       "      <th>favorite_count</th>\n",
       "      <th>full_text</th>\n",
       "      <th>id_str</th>\n",
       "      <th>lang</th>\n",
       "      <th>place</th>\n",
       "      <th>retweet_count</th>\n",
       "      <th>user</th>\n",
       "      <th>display_text_end</th>\n",
       "    </tr>\n",
       "  </thead>\n",
       "  <tbody>\n",
       "    <tr>\n",
       "      <th>0</th>\n",
       "      <td>892420643555336193</td>\n",
       "      <td>2017-08-01 16:23:56 +0000</td>\n",
       "      <td>&lt;a href=\"http://twitter.com/download/iphone\" r...</td>\n",
       "      <td>This is Phineas. He's a mystical boy. Only eve...</td>\n",
       "      <td>https://twitter.com/dog_rates/status/892420643...</td>\n",
       "      <td>13</td>\n",
       "      <td>10</td>\n",
       "      <td>Phineas</td>\n",
       "      <td>None</td>\n",
       "      <td>None</td>\n",
       "      <td>...</td>\n",
       "      <td>{'hashtags': [], 'symbols': [], 'user_mentions...</td>\n",
       "      <td>{'media': [{'id': 892420639486877696, 'id_str'...</td>\n",
       "      <td>37246</td>\n",
       "      <td>This is Phineas. He's a mystical boy. Only eve...</td>\n",
       "      <td>892420643555336192</td>\n",
       "      <td>en</td>\n",
       "      <td>None</td>\n",
       "      <td>7979</td>\n",
       "      <td>{'id': 4196983835, 'id_str': '4196983835', 'na...</td>\n",
       "      <td>85</td>\n",
       "    </tr>\n",
       "    <tr>\n",
       "      <th>1</th>\n",
       "      <td>892177421306343426</td>\n",
       "      <td>2017-08-01 00:17:27 +0000</td>\n",
       "      <td>&lt;a href=\"http://twitter.com/download/iphone\" r...</td>\n",
       "      <td>This is Tilly. She's just checking pup on you....</td>\n",
       "      <td>https://twitter.com/dog_rates/status/892177421...</td>\n",
       "      <td>13</td>\n",
       "      <td>10</td>\n",
       "      <td>Tilly</td>\n",
       "      <td>None</td>\n",
       "      <td>None</td>\n",
       "      <td>...</td>\n",
       "      <td>{'hashtags': [], 'symbols': [], 'user_mentions...</td>\n",
       "      <td>{'media': [{'id': 892177413194625024, 'id_str'...</td>\n",
       "      <td>32027</td>\n",
       "      <td>This is Tilly. She's just checking pup on you....</td>\n",
       "      <td>892177421306343424</td>\n",
       "      <td>en</td>\n",
       "      <td>None</td>\n",
       "      <td>5925</td>\n",
       "      <td>{'id': 4196983835, 'id_str': '4196983835', 'na...</td>\n",
       "      <td>138</td>\n",
       "    </tr>\n",
       "    <tr>\n",
       "      <th>2</th>\n",
       "      <td>891815181378084864</td>\n",
       "      <td>2017-07-31 00:18:03 +0000</td>\n",
       "      <td>&lt;a href=\"http://twitter.com/download/iphone\" r...</td>\n",
       "      <td>This is Archie. He is a rare Norwegian Pouncin...</td>\n",
       "      <td>https://twitter.com/dog_rates/status/891815181...</td>\n",
       "      <td>12</td>\n",
       "      <td>10</td>\n",
       "      <td>Archie</td>\n",
       "      <td>None</td>\n",
       "      <td>None</td>\n",
       "      <td>...</td>\n",
       "      <td>{'hashtags': [], 'symbols': [], 'user_mentions...</td>\n",
       "      <td>{'media': [{'id': 891815175371796480, 'id_str'...</td>\n",
       "      <td>24129</td>\n",
       "      <td>This is Archie. He is a rare Norwegian Pouncin...</td>\n",
       "      <td>891815181378084864</td>\n",
       "      <td>en</td>\n",
       "      <td>None</td>\n",
       "      <td>3913</td>\n",
       "      <td>{'id': 4196983835, 'id_str': '4196983835', 'na...</td>\n",
       "      <td>121</td>\n",
       "    </tr>\n",
       "    <tr>\n",
       "      <th>3</th>\n",
       "      <td>891689557279858688</td>\n",
       "      <td>2017-07-30 15:58:51 +0000</td>\n",
       "      <td>&lt;a href=\"http://twitter.com/download/iphone\" r...</td>\n",
       "      <td>This is Darla. She commenced a snooze mid meal...</td>\n",
       "      <td>https://twitter.com/dog_rates/status/891689557...</td>\n",
       "      <td>13</td>\n",
       "      <td>10</td>\n",
       "      <td>Darla</td>\n",
       "      <td>None</td>\n",
       "      <td>None</td>\n",
       "      <td>...</td>\n",
       "      <td>{'hashtags': [], 'symbols': [], 'user_mentions...</td>\n",
       "      <td>{'media': [{'id': 891689552724799489, 'id_str'...</td>\n",
       "      <td>40568</td>\n",
       "      <td>This is Darla. She commenced a snooze mid meal...</td>\n",
       "      <td>891689557279858688</td>\n",
       "      <td>en</td>\n",
       "      <td>None</td>\n",
       "      <td>8132</td>\n",
       "      <td>{'id': 4196983835, 'id_str': '4196983835', 'na...</td>\n",
       "      <td>79</td>\n",
       "    </tr>\n",
       "    <tr>\n",
       "      <th>4</th>\n",
       "      <td>891327558926688256</td>\n",
       "      <td>2017-07-29 16:00:24 +0000</td>\n",
       "      <td>&lt;a href=\"http://twitter.com/download/iphone\" r...</td>\n",
       "      <td>This is Franklin. He would like you to stop ca...</td>\n",
       "      <td>https://twitter.com/dog_rates/status/891327558...</td>\n",
       "      <td>12</td>\n",
       "      <td>10</td>\n",
       "      <td>Franklin</td>\n",
       "      <td>None</td>\n",
       "      <td>None</td>\n",
       "      <td>...</td>\n",
       "      <td>{'hashtags': [{'text': 'BarkWeek', 'indices': ...</td>\n",
       "      <td>{'media': [{'id': 891327551943041024, 'id_str'...</td>\n",
       "      <td>38800</td>\n",
       "      <td>This is Franklin. He would like you to stop ca...</td>\n",
       "      <td>891327558926688256</td>\n",
       "      <td>en</td>\n",
       "      <td>None</td>\n",
       "      <td>8812</td>\n",
       "      <td>{'id': 4196983835, 'id_str': '4196983835', 'na...</td>\n",
       "      <td>138</td>\n",
       "    </tr>\n",
       "  </tbody>\n",
       "</table>\n",
       "<p>5 rows × 34 columns</p>\n",
       "</div>"
      ],
      "text/plain": [
       "             tweet_id                  timestamp  \\\n",
       "0  892420643555336193  2017-08-01 16:23:56 +0000   \n",
       "1  892177421306343426  2017-08-01 00:17:27 +0000   \n",
       "2  891815181378084864  2017-07-31 00:18:03 +0000   \n",
       "3  891689557279858688  2017-07-30 15:58:51 +0000   \n",
       "4  891327558926688256  2017-07-29 16:00:24 +0000   \n",
       "\n",
       "                                            source_x  \\\n",
       "0  <a href=\"http://twitter.com/download/iphone\" r...   \n",
       "1  <a href=\"http://twitter.com/download/iphone\" r...   \n",
       "2  <a href=\"http://twitter.com/download/iphone\" r...   \n",
       "3  <a href=\"http://twitter.com/download/iphone\" r...   \n",
       "4  <a href=\"http://twitter.com/download/iphone\" r...   \n",
       "\n",
       "                                                text  \\\n",
       "0  This is Phineas. He's a mystical boy. Only eve...   \n",
       "1  This is Tilly. She's just checking pup on you....   \n",
       "2  This is Archie. He is a rare Norwegian Pouncin...   \n",
       "3  This is Darla. She commenced a snooze mid meal...   \n",
       "4  This is Franklin. He would like you to stop ca...   \n",
       "\n",
       "                                       expanded_urls  rating_numerator  \\\n",
       "0  https://twitter.com/dog_rates/status/892420643...                13   \n",
       "1  https://twitter.com/dog_rates/status/892177421...                13   \n",
       "2  https://twitter.com/dog_rates/status/891815181...                12   \n",
       "3  https://twitter.com/dog_rates/status/891689557...                13   \n",
       "4  https://twitter.com/dog_rates/status/891327558...                12   \n",
       "\n",
       "   rating_denominator      name doggo floofer  ...  \\\n",
       "0                  10   Phineas  None    None  ...   \n",
       "1                  10     Tilly  None    None  ...   \n",
       "2                  10    Archie  None    None  ...   \n",
       "3                  10     Darla  None    None  ...   \n",
       "4                  10  Franklin  None    None  ...   \n",
       "\n",
       "                                            entities  \\\n",
       "0  {'hashtags': [], 'symbols': [], 'user_mentions...   \n",
       "1  {'hashtags': [], 'symbols': [], 'user_mentions...   \n",
       "2  {'hashtags': [], 'symbols': [], 'user_mentions...   \n",
       "3  {'hashtags': [], 'symbols': [], 'user_mentions...   \n",
       "4  {'hashtags': [{'text': 'BarkWeek', 'indices': ...   \n",
       "\n",
       "                                   extended_entities favorite_count  \\\n",
       "0  {'media': [{'id': 892420639486877696, 'id_str'...          37246   \n",
       "1  {'media': [{'id': 892177413194625024, 'id_str'...          32027   \n",
       "2  {'media': [{'id': 891815175371796480, 'id_str'...          24129   \n",
       "3  {'media': [{'id': 891689552724799489, 'id_str'...          40568   \n",
       "4  {'media': [{'id': 891327551943041024, 'id_str'...          38800   \n",
       "\n",
       "                                           full_text              id_str  \\\n",
       "0  This is Phineas. He's a mystical boy. Only eve...  892420643555336192   \n",
       "1  This is Tilly. She's just checking pup on you....  892177421306343424   \n",
       "2  This is Archie. He is a rare Norwegian Pouncin...  891815181378084864   \n",
       "3  This is Darla. She commenced a snooze mid meal...  891689557279858688   \n",
       "4  This is Franklin. He would like you to stop ca...  891327558926688256   \n",
       "\n",
       "   lang  place retweet_count  \\\n",
       "0    en   None          7979   \n",
       "1    en   None          5925   \n",
       "2    en   None          3913   \n",
       "3    en   None          8132   \n",
       "4    en   None          8812   \n",
       "\n",
       "                                                user  display_text_end  \n",
       "0  {'id': 4196983835, 'id_str': '4196983835', 'na...                85  \n",
       "1  {'id': 4196983835, 'id_str': '4196983835', 'na...               138  \n",
       "2  {'id': 4196983835, 'id_str': '4196983835', 'na...               121  \n",
       "3  {'id': 4196983835, 'id_str': '4196983835', 'na...                79  \n",
       "4  {'id': 4196983835, 'id_str': '4196983835', 'na...               138  \n",
       "\n",
       "[5 rows x 34 columns]"
      ]
     },
     "execution_count": 81,
     "metadata": {},
     "output_type": "execute_result"
    }
   ],
   "source": [
    "print (type(we_rate_dogs.display_text_end[0]))\n",
    "we_rate_dogs.head()"
   ]
  },
  {
   "cell_type": "markdown",
   "metadata": {},
   "source": [
    "The `user` field contains a number of interesting fields. Let's unpack some of those into our dataframe."
   ]
  },
  {
   "cell_type": "markdown",
   "metadata": {},
   "source": [
    "### Define\n",
    "Unpack `followers_count` field from `user` into separate column"
   ]
  },
  {
   "cell_type": "markdown",
   "metadata": {},
   "source": [
    "#### Code\n",
    "Using `apply` function - unpack the values."
   ]
  },
  {
   "cell_type": "code",
   "execution_count": 93,
   "metadata": {},
   "outputs": [],
   "source": [
    "we_rate_dogs['followers'] = we_rate_dogs.user.apply(lambda x: x['followers_count'])"
   ]
  },
  {
   "cell_type": "markdown",
   "metadata": {},
   "source": [
    "#### Test\n",
    "Check the new column is in place and that it's `int64` type."
   ]
  },
  {
   "cell_type": "code",
   "execution_count": 94,
   "metadata": {},
   "outputs": [
    {
     "name": "stdout",
     "output_type": "stream",
     "text": [
      "<class 'pandas.core.frame.DataFrame'>\n",
      "Int64Index: 2061 entries, 0 to 2060\n",
      "Data columns (total 35 columns):\n",
      "tweet_id              2061 non-null int64\n",
      "timestamp             2061 non-null object\n",
      "source_x              2061 non-null object\n",
      "text                  2061 non-null object\n",
      "expanded_urls         2061 non-null object\n",
      "rating_numerator      2061 non-null int64\n",
      "rating_denominator    2061 non-null int64\n",
      "name                  2061 non-null object\n",
      "doggo                 2061 non-null object\n",
      "floofer               2061 non-null object\n",
      "pupper                2061 non-null object\n",
      "puppo                 2061 non-null object\n",
      "jpg_url               2061 non-null object\n",
      "img_num               2061 non-null int64\n",
      "p1                    2061 non-null object\n",
      "p1_conf               2061 non-null float64\n",
      "p1_dog                2061 non-null bool\n",
      "p2                    2061 non-null object\n",
      "p2_conf               2061 non-null float64\n",
      "p2_dog                2061 non-null bool\n",
      "p3                    2061 non-null object\n",
      "p3_conf               2061 non-null float64\n",
      "p3_dog                2061 non-null bool\n",
      "created_at            2061 non-null datetime64[ns]\n",
      "entities              2061 non-null object\n",
      "extended_entities     2061 non-null object\n",
      "favorite_count        2061 non-null int64\n",
      "full_text             2061 non-null object\n",
      "id_str                2061 non-null int64\n",
      "lang                  2061 non-null object\n",
      "place                 1 non-null object\n",
      "retweet_count         2061 non-null int64\n",
      "user                  2061 non-null object\n",
      "display_text_end      2061 non-null int64\n",
      "followers             2061 non-null int64\n",
      "dtypes: bool(3), datetime64[ns](1), float64(3), int64(9), object(19)\n",
      "memory usage: 617.4+ KB\n"
     ]
    }
   ],
   "source": [
    "we_rate_dogs.info()"
   ]
  },
  {
   "cell_type": "markdown",
   "metadata": {},
   "source": [
    "### Define\n",
    "Unpack `favourites_count` from within `user` field into a separate column."
   ]
  },
  {
   "cell_type": "code",
   "execution_count": 100,
   "metadata": {},
   "outputs": [],
   "source": [
    "we_rate_dogs['total_favourites'] = we_rate_dogs.user.apply(lambda x: x['favourites_count'])"
   ]
  },
  {
   "cell_type": "code",
   "execution_count": 102,
   "metadata": {},
   "outputs": [
    {
     "name": "stdout",
     "output_type": "stream",
     "text": [
      "142633\n",
      "142633.58369723434\n",
      "142636\n"
     ]
    }
   ],
   "source": [
    "print (we_rate_dogs['total_favourites'].min())\n",
    "print (we_rate_dogs['total_favourites'].mean())\n",
    "print (we_rate_dogs['total_favourites'].max())"
   ]
  },
  {
   "cell_type": "markdown",
   "metadata": {},
   "source": [
    "### Define\n",
    "\n",
    "There should be a limited set of appications used to post tweets."
   ]
  },
  {
   "cell_type": "code",
   "execution_count": 106,
   "metadata": {},
   "outputs": [
    {
     "data": {
      "text/plain": [
       "array(['<a href=\"http://twitter.com/download/iphone\" rel=\"nofollow\">Twitter for iPhone</a>',\n",
       "       '<a href=\"http://twitter.com\" rel=\"nofollow\">Twitter Web Client</a>',\n",
       "       '<a href=\"https://about.twitter.com/products/tweetdeck\" rel=\"nofollow\">TweetDeck</a>'],\n",
       "      dtype=object)"
      ]
     },
     "execution_count": 106,
     "metadata": {},
     "output_type": "execute_result"
    }
   ],
   "source": [
    "# how many various sources were used to post tweets?\n",
    "we_rate_dogs.source_x.unique()"
   ]
  },
  {
   "cell_type": "markdown",
   "metadata": {},
   "source": [
    "#### Code\n",
    "This kind of data is best represented as a categorical variable."
   ]
  },
  {
   "cell_type": "code",
   "execution_count": 107,
   "metadata": {
    "scrolled": true
   },
   "outputs": [],
   "source": [
    "we_rate_dogs.source_x = we_rate_dogs.source_x.apply(lambda x: x.split('>')[1].split('<')[0]).astype('category')"
   ]
  },
  {
   "cell_type": "markdown",
   "metadata": {},
   "source": [
    "####  Test\n",
    "Check unique values in the column."
   ]
  },
  {
   "cell_type": "code",
   "execution_count": 108,
   "metadata": {},
   "outputs": [
    {
     "data": {
      "text/plain": [
       "[Twitter for iPhone, Twitter Web Client, TweetDeck]\n",
       "Categories (3, object): [Twitter for iPhone, Twitter Web Client, TweetDeck]"
      ]
     },
     "execution_count": 108,
     "metadata": {},
     "output_type": "execute_result"
    }
   ],
   "source": [
    "we_rate_dogs.source_x.unique()"
   ]
  },
  {
   "cell_type": "markdown",
   "metadata": {},
   "source": [
    "### Define\n",
    "Hashtags are nested deep inside dictionaries. To be useful for analysis - they need to be extracted into a separate columnb"
   ]
  },
  {
   "cell_type": "markdown",
   "metadata": {},
   "source": [
    "#### Code\n",
    "\n",
    "extract hashtags using the `apply` method, put them in a separate column and cast them into `category` type variable."
   ]
  },
  {
   "cell_type": "code",
   "execution_count": 115,
   "metadata": {},
   "outputs": [],
   "source": [
    "we_rate_dogs['hashtags'] = we_rate_dogs.entities.apply(lambda x: x['hashtags'])"
   ]
  },
  {
   "cell_type": "code",
   "execution_count": 116,
   "metadata": {},
   "outputs": [],
   "source": [
    "def unpack_hashtags(x):\n",
    "    try:\n",
    "        return x[0]['text']\n",
    "    except:\n",
    "        return None\n",
    "        \n",
    "we_rate_dogs.hashtags = we_rate_dogs.hashtags.apply(lambda x: unpack_hashtags(x))"
   ]
  },
  {
   "cell_type": "code",
   "execution_count": 117,
   "metadata": {},
   "outputs": [
    {
     "data": {
      "text/plain": [
       "array([None, 'BarkWeek', 'Canada150', 'PrideMonthPuppo', 'PrideMonth',\n",
       "       'dogsatpollingstations', 'ScienceMarch', 'K9VeteransDay',\n",
       "       'GoodDogs', 'WKCDogShow', 'BellLetsTalk', 'WomensMarch',\n",
       "       'FinalFur', 'LoveTwitter', 'notallpuppers', 'NoDaysOff'],\n",
       "      dtype=object)"
      ]
     },
     "execution_count": 117,
     "metadata": {},
     "output_type": "execute_result"
    }
   ],
   "source": [
    "we_rate_dogs.hashtags.unique()"
   ]
  },
  {
   "cell_type": "markdown",
   "metadata": {},
   "source": [
    "With this few hashtags they are better as a 'category' type variable."
   ]
  },
  {
   "cell_type": "code",
   "execution_count": 118,
   "metadata": {},
   "outputs": [],
   "source": [
    "we_rate_dogs.hashtags = we_rate_dogs.hashtags.astype('category')"
   ]
  },
  {
   "cell_type": "markdown",
   "metadata": {},
   "source": [
    "#### Test\n",
    "Check that the `hashtags` colummn is a `category` type."
   ]
  },
  {
   "cell_type": "code",
   "execution_count": 119,
   "metadata": {},
   "outputs": [
    {
     "name": "stdout",
     "output_type": "stream",
     "text": [
      "<class 'pandas.core.frame.DataFrame'>\n",
      "Int64Index: 2061 entries, 0 to 2060\n",
      "Data columns (total 37 columns):\n",
      "tweet_id              2061 non-null int64\n",
      "timestamp             2061 non-null object\n",
      "source_x              2061 non-null category\n",
      "text                  2061 non-null object\n",
      "expanded_urls         2061 non-null object\n",
      "rating_numerator      2061 non-null int64\n",
      "rating_denominator    2061 non-null int64\n",
      "name                  2061 non-null object\n",
      "doggo                 2061 non-null object\n",
      "floofer               2061 non-null object\n",
      "pupper                2061 non-null object\n",
      "puppo                 2061 non-null object\n",
      "jpg_url               2061 non-null object\n",
      "img_num               2061 non-null int64\n",
      "p1                    2061 non-null object\n",
      "p1_conf               2061 non-null float64\n",
      "p1_dog                2061 non-null bool\n",
      "p2                    2061 non-null object\n",
      "p2_conf               2061 non-null float64\n",
      "p2_dog                2061 non-null bool\n",
      "p3                    2061 non-null object\n",
      "p3_conf               2061 non-null float64\n",
      "p3_dog                2061 non-null bool\n",
      "created_at            2061 non-null datetime64[ns]\n",
      "entities              2061 non-null object\n",
      "extended_entities     2061 non-null object\n",
      "favorite_count        2061 non-null int64\n",
      "full_text             2061 non-null object\n",
      "id_str                2061 non-null int64\n",
      "lang                  2061 non-null object\n",
      "place                 1 non-null object\n",
      "retweet_count         2061 non-null int64\n",
      "user                  2061 non-null object\n",
      "display_text_end      2061 non-null int64\n",
      "followers             2061 non-null int64\n",
      "total_favourites      2061 non-null int64\n",
      "hashtags              24 non-null category\n",
      "dtypes: bool(3), category(2), datetime64[ns](1), float64(3), int64(10), object(18)\n",
      "memory usage: 622.3+ KB\n"
     ]
    }
   ],
   "source": [
    "we_rate_dogs.info()"
   ]
  },
  {
   "cell_type": "markdown",
   "metadata": {},
   "source": [
    "### Define\n",
    "\n",
    "Same as hashtags - `url`s are nested deep inside dictionaries. They need to be extracted into a separate column. "
   ]
  },
  {
   "cell_type": "markdown",
   "metadata": {},
   "source": [
    "#### Code\n",
    "Using `apply` function with a short lambda expression - extract the `url` into a new column."
   ]
  },
  {
   "cell_type": "code",
   "execution_count": 120,
   "metadata": {},
   "outputs": [],
   "source": [
    "we_rate_dogs['url'] = we_rate_dogs.entities.apply(lambda x: x['media'][0]['url'])"
   ]
  },
  {
   "cell_type": "markdown",
   "metadata": {},
   "source": [
    "#### Test\n",
    "Check the new `url` column has the right information."
   ]
  },
  {
   "cell_type": "code",
   "execution_count": 121,
   "metadata": {},
   "outputs": [
    {
     "data": {
      "text/html": [
       "<div>\n",
       "<style scoped>\n",
       "    .dataframe tbody tr th:only-of-type {\n",
       "        vertical-align: middle;\n",
       "    }\n",
       "\n",
       "    .dataframe tbody tr th {\n",
       "        vertical-align: top;\n",
       "    }\n",
       "\n",
       "    .dataframe thead th {\n",
       "        text-align: right;\n",
       "    }\n",
       "</style>\n",
       "<table border=\"1\" class=\"dataframe\">\n",
       "  <thead>\n",
       "    <tr style=\"text-align: right;\">\n",
       "      <th></th>\n",
       "      <th>tweet_id</th>\n",
       "      <th>timestamp</th>\n",
       "      <th>source_x</th>\n",
       "      <th>text</th>\n",
       "      <th>expanded_urls</th>\n",
       "      <th>rating_numerator</th>\n",
       "      <th>rating_denominator</th>\n",
       "      <th>name</th>\n",
       "      <th>doggo</th>\n",
       "      <th>floofer</th>\n",
       "      <th>...</th>\n",
       "      <th>id_str</th>\n",
       "      <th>lang</th>\n",
       "      <th>place</th>\n",
       "      <th>retweet_count</th>\n",
       "      <th>user</th>\n",
       "      <th>display_text_end</th>\n",
       "      <th>followers</th>\n",
       "      <th>total_favourites</th>\n",
       "      <th>hashtags</th>\n",
       "      <th>url</th>\n",
       "    </tr>\n",
       "  </thead>\n",
       "  <tbody>\n",
       "    <tr>\n",
       "      <th>0</th>\n",
       "      <td>892420643555336193</td>\n",
       "      <td>2017-08-01 16:23:56 +0000</td>\n",
       "      <td>Twitter for iPhone</td>\n",
       "      <td>This is Phineas. He's a mystical boy. Only eve...</td>\n",
       "      <td>https://twitter.com/dog_rates/status/892420643...</td>\n",
       "      <td>13</td>\n",
       "      <td>10</td>\n",
       "      <td>Phineas</td>\n",
       "      <td>None</td>\n",
       "      <td>None</td>\n",
       "      <td>...</td>\n",
       "      <td>892420643555336192</td>\n",
       "      <td>en</td>\n",
       "      <td>None</td>\n",
       "      <td>7979</td>\n",
       "      <td>{'id': 4196983835, 'id_str': '4196983835', 'na...</td>\n",
       "      <td>85</td>\n",
       "      <td>8278771</td>\n",
       "      <td>142633</td>\n",
       "      <td>NaN</td>\n",
       "      <td>https://t.co/MgUWQ76dJU</td>\n",
       "    </tr>\n",
       "    <tr>\n",
       "      <th>1</th>\n",
       "      <td>892177421306343426</td>\n",
       "      <td>2017-08-01 00:17:27 +0000</td>\n",
       "      <td>Twitter for iPhone</td>\n",
       "      <td>This is Tilly. She's just checking pup on you....</td>\n",
       "      <td>https://twitter.com/dog_rates/status/892177421...</td>\n",
       "      <td>13</td>\n",
       "      <td>10</td>\n",
       "      <td>Tilly</td>\n",
       "      <td>None</td>\n",
       "      <td>None</td>\n",
       "      <td>...</td>\n",
       "      <td>892177421306343424</td>\n",
       "      <td>en</td>\n",
       "      <td>None</td>\n",
       "      <td>5925</td>\n",
       "      <td>{'id': 4196983835, 'id_str': '4196983835', 'na...</td>\n",
       "      <td>138</td>\n",
       "      <td>8278771</td>\n",
       "      <td>142633</td>\n",
       "      <td>NaN</td>\n",
       "      <td>https://t.co/0Xxu71qeIV</td>\n",
       "    </tr>\n",
       "    <tr>\n",
       "      <th>2</th>\n",
       "      <td>891815181378084864</td>\n",
       "      <td>2017-07-31 00:18:03 +0000</td>\n",
       "      <td>Twitter for iPhone</td>\n",
       "      <td>This is Archie. He is a rare Norwegian Pouncin...</td>\n",
       "      <td>https://twitter.com/dog_rates/status/891815181...</td>\n",
       "      <td>12</td>\n",
       "      <td>10</td>\n",
       "      <td>Archie</td>\n",
       "      <td>None</td>\n",
       "      <td>None</td>\n",
       "      <td>...</td>\n",
       "      <td>891815181378084864</td>\n",
       "      <td>en</td>\n",
       "      <td>None</td>\n",
       "      <td>3913</td>\n",
       "      <td>{'id': 4196983835, 'id_str': '4196983835', 'na...</td>\n",
       "      <td>121</td>\n",
       "      <td>8278771</td>\n",
       "      <td>142633</td>\n",
       "      <td>NaN</td>\n",
       "      <td>https://t.co/wUnZnhtVJB</td>\n",
       "    </tr>\n",
       "    <tr>\n",
       "      <th>3</th>\n",
       "      <td>891689557279858688</td>\n",
       "      <td>2017-07-30 15:58:51 +0000</td>\n",
       "      <td>Twitter for iPhone</td>\n",
       "      <td>This is Darla. She commenced a snooze mid meal...</td>\n",
       "      <td>https://twitter.com/dog_rates/status/891689557...</td>\n",
       "      <td>13</td>\n",
       "      <td>10</td>\n",
       "      <td>Darla</td>\n",
       "      <td>None</td>\n",
       "      <td>None</td>\n",
       "      <td>...</td>\n",
       "      <td>891689557279858688</td>\n",
       "      <td>en</td>\n",
       "      <td>None</td>\n",
       "      <td>8132</td>\n",
       "      <td>{'id': 4196983835, 'id_str': '4196983835', 'na...</td>\n",
       "      <td>79</td>\n",
       "      <td>8278771</td>\n",
       "      <td>142633</td>\n",
       "      <td>NaN</td>\n",
       "      <td>https://t.co/tD36da7qLQ</td>\n",
       "    </tr>\n",
       "    <tr>\n",
       "      <th>4</th>\n",
       "      <td>891327558926688256</td>\n",
       "      <td>2017-07-29 16:00:24 +0000</td>\n",
       "      <td>Twitter for iPhone</td>\n",
       "      <td>This is Franklin. He would like you to stop ca...</td>\n",
       "      <td>https://twitter.com/dog_rates/status/891327558...</td>\n",
       "      <td>12</td>\n",
       "      <td>10</td>\n",
       "      <td>Franklin</td>\n",
       "      <td>None</td>\n",
       "      <td>None</td>\n",
       "      <td>...</td>\n",
       "      <td>891327558926688256</td>\n",
       "      <td>en</td>\n",
       "      <td>None</td>\n",
       "      <td>8812</td>\n",
       "      <td>{'id': 4196983835, 'id_str': '4196983835', 'na...</td>\n",
       "      <td>138</td>\n",
       "      <td>8278771</td>\n",
       "      <td>142633</td>\n",
       "      <td>BarkWeek</td>\n",
       "      <td>https://t.co/AtUZn91f7f</td>\n",
       "    </tr>\n",
       "  </tbody>\n",
       "</table>\n",
       "<p>5 rows × 38 columns</p>\n",
       "</div>"
      ],
      "text/plain": [
       "             tweet_id                  timestamp            source_x  \\\n",
       "0  892420643555336193  2017-08-01 16:23:56 +0000  Twitter for iPhone   \n",
       "1  892177421306343426  2017-08-01 00:17:27 +0000  Twitter for iPhone   \n",
       "2  891815181378084864  2017-07-31 00:18:03 +0000  Twitter for iPhone   \n",
       "3  891689557279858688  2017-07-30 15:58:51 +0000  Twitter for iPhone   \n",
       "4  891327558926688256  2017-07-29 16:00:24 +0000  Twitter for iPhone   \n",
       "\n",
       "                                                text  \\\n",
       "0  This is Phineas. He's a mystical boy. Only eve...   \n",
       "1  This is Tilly. She's just checking pup on you....   \n",
       "2  This is Archie. He is a rare Norwegian Pouncin...   \n",
       "3  This is Darla. She commenced a snooze mid meal...   \n",
       "4  This is Franklin. He would like you to stop ca...   \n",
       "\n",
       "                                       expanded_urls  rating_numerator  \\\n",
       "0  https://twitter.com/dog_rates/status/892420643...                13   \n",
       "1  https://twitter.com/dog_rates/status/892177421...                13   \n",
       "2  https://twitter.com/dog_rates/status/891815181...                12   \n",
       "3  https://twitter.com/dog_rates/status/891689557...                13   \n",
       "4  https://twitter.com/dog_rates/status/891327558...                12   \n",
       "\n",
       "   rating_denominator      name doggo floofer  ...              id_str lang  \\\n",
       "0                  10   Phineas  None    None  ...  892420643555336192   en   \n",
       "1                  10     Tilly  None    None  ...  892177421306343424   en   \n",
       "2                  10    Archie  None    None  ...  891815181378084864   en   \n",
       "3                  10     Darla  None    None  ...  891689557279858688   en   \n",
       "4                  10  Franklin  None    None  ...  891327558926688256   en   \n",
       "\n",
       "  place  retweet_count                                               user  \\\n",
       "0  None           7979  {'id': 4196983835, 'id_str': '4196983835', 'na...   \n",
       "1  None           5925  {'id': 4196983835, 'id_str': '4196983835', 'na...   \n",
       "2  None           3913  {'id': 4196983835, 'id_str': '4196983835', 'na...   \n",
       "3  None           8132  {'id': 4196983835, 'id_str': '4196983835', 'na...   \n",
       "4  None           8812  {'id': 4196983835, 'id_str': '4196983835', 'na...   \n",
       "\n",
       "   display_text_end  followers total_favourites  hashtags  \\\n",
       "0                85    8278771           142633       NaN   \n",
       "1               138    8278771           142633       NaN   \n",
       "2               121    8278771           142633       NaN   \n",
       "3                79    8278771           142633       NaN   \n",
       "4               138    8278771           142633  BarkWeek   \n",
       "\n",
       "                       url  \n",
       "0  https://t.co/MgUWQ76dJU  \n",
       "1  https://t.co/0Xxu71qeIV  \n",
       "2  https://t.co/wUnZnhtVJB  \n",
       "3  https://t.co/tD36da7qLQ  \n",
       "4  https://t.co/AtUZn91f7f  \n",
       "\n",
       "[5 rows x 38 columns]"
      ]
     },
     "execution_count": 121,
     "metadata": {},
     "output_type": "execute_result"
    }
   ],
   "source": [
    "we_rate_dogs.head()"
   ]
  },
  {
   "cell_type": "code",
   "execution_count": 122,
   "metadata": {
    "scrolled": true
   },
   "outputs": [
    {
     "name": "stdout",
     "output_type": "stream",
     "text": [
      "<class 'pandas.core.frame.DataFrame'>\n",
      "Int64Index: 2061 entries, 0 to 2060\n",
      "Data columns (total 38 columns):\n",
      "tweet_id              2061 non-null int64\n",
      "timestamp             2061 non-null object\n",
      "source_x              2061 non-null category\n",
      "text                  2061 non-null object\n",
      "expanded_urls         2061 non-null object\n",
      "rating_numerator      2061 non-null int64\n",
      "rating_denominator    2061 non-null int64\n",
      "name                  2061 non-null object\n",
      "doggo                 2061 non-null object\n",
      "floofer               2061 non-null object\n",
      "pupper                2061 non-null object\n",
      "puppo                 2061 non-null object\n",
      "jpg_url               2061 non-null object\n",
      "img_num               2061 non-null int64\n",
      "p1                    2061 non-null object\n",
      "p1_conf               2061 non-null float64\n",
      "p1_dog                2061 non-null bool\n",
      "p2                    2061 non-null object\n",
      "p2_conf               2061 non-null float64\n",
      "p2_dog                2061 non-null bool\n",
      "p3                    2061 non-null object\n",
      "p3_conf               2061 non-null float64\n",
      "p3_dog                2061 non-null bool\n",
      "created_at            2061 non-null datetime64[ns]\n",
      "entities              2061 non-null object\n",
      "extended_entities     2061 non-null object\n",
      "favorite_count        2061 non-null int64\n",
      "full_text             2061 non-null object\n",
      "id_str                2061 non-null int64\n",
      "lang                  2061 non-null object\n",
      "place                 1 non-null object\n",
      "retweet_count         2061 non-null int64\n",
      "user                  2061 non-null object\n",
      "display_text_end      2061 non-null int64\n",
      "followers             2061 non-null int64\n",
      "total_favourites      2061 non-null int64\n",
      "hashtags              24 non-null category\n",
      "url                   2061 non-null object\n",
      "dtypes: bool(3), category(2), datetime64[ns](1), float64(3), int64(10), object(19)\n",
      "memory usage: 638.4+ KB\n"
     ]
    }
   ],
   "source": [
    "we_rate_dogs.info()"
   ]
  },
  {
   "cell_type": "markdown",
   "metadata": {},
   "source": [
    "### Define\n",
    "\n",
    "`timestamp` and `crated_at` columns are probably identical. If that's the case - one needs to be removed."
   ]
  },
  {
   "cell_type": "markdown",
   "metadata": {},
   "source": [
    "#### Code"
   ]
  },
  {
   "cell_type": "code",
   "execution_count": 123,
   "metadata": {},
   "outputs": [],
   "source": [
    "# first - convert timestamp into datetime format\n",
    "we_rate_dogs.timestamp = pd.to_datetime(we_rate_dogs.timestamp)"
   ]
  },
  {
   "cell_type": "markdown",
   "metadata": {},
   "source": [
    "#### Test"
   ]
  },
  {
   "cell_type": "code",
   "execution_count": 124,
   "metadata": {},
   "outputs": [],
   "source": [
    "# strip both fileds of time zone\n",
    "we_rate_dogs['timestamp'] = we_rate_dogs['timestamp'].apply(lambda x: x.replace(tzinfo=None))\n",
    "we_rate_dogs['created_at'] = we_rate_dogs['created_at'].apply(lambda x: x.replace(tzinfo=None))"
   ]
  },
  {
   "cell_type": "code",
   "execution_count": 125,
   "metadata": {
    "scrolled": true
   },
   "outputs": [
    {
     "data": {
      "text/plain": [
       "array([0], dtype='timedelta64[ns]')"
      ]
     },
     "execution_count": 125,
     "metadata": {},
     "output_type": "execute_result"
    }
   ],
   "source": [
    "# subtract one from the other and sum the differences to see if there's anything different between the two\n",
    "(we_rate_dogs['timestamp'] - we_rate_dogs['created_at']).unique()"
   ]
  },
  {
   "cell_type": "code",
   "execution_count": 126,
   "metadata": {},
   "outputs": [],
   "source": [
    "# drop the created_at column\n",
    "we_rate_dogs.drop(columns='created_at',inplace=True)"
   ]
  },
  {
   "cell_type": "code",
   "execution_count": 127,
   "metadata": {},
   "outputs": [
    {
     "name": "stdout",
     "output_type": "stream",
     "text": [
      "<class 'pandas.core.frame.DataFrame'>\n",
      "Int64Index: 2061 entries, 0 to 2060\n",
      "Data columns (total 37 columns):\n",
      "tweet_id              2061 non-null int64\n",
      "timestamp             2061 non-null datetime64[ns]\n",
      "source_x              2061 non-null category\n",
      "text                  2061 non-null object\n",
      "expanded_urls         2061 non-null object\n",
      "rating_numerator      2061 non-null int64\n",
      "rating_denominator    2061 non-null int64\n",
      "name                  2061 non-null object\n",
      "doggo                 2061 non-null object\n",
      "floofer               2061 non-null object\n",
      "pupper                2061 non-null object\n",
      "puppo                 2061 non-null object\n",
      "jpg_url               2061 non-null object\n",
      "img_num               2061 non-null int64\n",
      "p1                    2061 non-null object\n",
      "p1_conf               2061 non-null float64\n",
      "p1_dog                2061 non-null bool\n",
      "p2                    2061 non-null object\n",
      "p2_conf               2061 non-null float64\n",
      "p2_dog                2061 non-null bool\n",
      "p3                    2061 non-null object\n",
      "p3_conf               2061 non-null float64\n",
      "p3_dog                2061 non-null bool\n",
      "entities              2061 non-null object\n",
      "extended_entities     2061 non-null object\n",
      "favorite_count        2061 non-null int64\n",
      "full_text             2061 non-null object\n",
      "id_str                2061 non-null int64\n",
      "lang                  2061 non-null object\n",
      "place                 1 non-null object\n",
      "retweet_count         2061 non-null int64\n",
      "user                  2061 non-null object\n",
      "display_text_end      2061 non-null int64\n",
      "followers             2061 non-null int64\n",
      "total_favourites      2061 non-null int64\n",
      "hashtags              24 non-null category\n",
      "url                   2061 non-null object\n",
      "dtypes: bool(3), category(2), datetime64[ns](1), float64(3), int64(10), object(18)\n",
      "memory usage: 622.3+ KB\n"
     ]
    }
   ],
   "source": [
    "we_rate_dogs.info()"
   ]
  },
  {
   "cell_type": "markdown",
   "metadata": {},
   "source": [
    "### Define\n",
    "\n",
    "`doggo`, `floofer`, `pupper`, `puppo` columns are better represented as `bool`s."
   ]
  },
  {
   "cell_type": "markdown",
   "metadata": {},
   "source": [
    "#### Code"
   ]
  },
  {
   "cell_type": "code",
   "execution_count": 128,
   "metadata": {},
   "outputs": [],
   "source": [
    "def to_bool(x):\n",
    "    if x=='None':\n",
    "        return False\n",
    "    else:\n",
    "        return True\n",
    "    \n",
    "we_rate_dogs.doggo = we_rate_dogs.doggo.apply(to_bool)\n",
    "we_rate_dogs.floofer = we_rate_dogs.floofer.apply(to_bool)\n",
    "we_rate_dogs.pupper = we_rate_dogs.pupper.apply(to_bool)\n",
    "we_rate_dogs.puppo = we_rate_dogs.puppo.apply(to_bool)"
   ]
  },
  {
   "cell_type": "markdown",
   "metadata": {},
   "source": [
    "#### Test\n",
    "Check if the columns have correct data types in them."
   ]
  },
  {
   "cell_type": "code",
   "execution_count": 129,
   "metadata": {},
   "outputs": [
    {
     "name": "stdout",
     "output_type": "stream",
     "text": [
      "<class 'pandas.core.frame.DataFrame'>\n",
      "Int64Index: 2061 entries, 0 to 2060\n",
      "Data columns (total 37 columns):\n",
      "tweet_id              2061 non-null int64\n",
      "timestamp             2061 non-null datetime64[ns]\n",
      "source_x              2061 non-null category\n",
      "text                  2061 non-null object\n",
      "expanded_urls         2061 non-null object\n",
      "rating_numerator      2061 non-null int64\n",
      "rating_denominator    2061 non-null int64\n",
      "name                  2061 non-null object\n",
      "doggo                 2061 non-null bool\n",
      "floofer               2061 non-null bool\n",
      "pupper                2061 non-null bool\n",
      "puppo                 2061 non-null bool\n",
      "jpg_url               2061 non-null object\n",
      "img_num               2061 non-null int64\n",
      "p1                    2061 non-null object\n",
      "p1_conf               2061 non-null float64\n",
      "p1_dog                2061 non-null bool\n",
      "p2                    2061 non-null object\n",
      "p2_conf               2061 non-null float64\n",
      "p2_dog                2061 non-null bool\n",
      "p3                    2061 non-null object\n",
      "p3_conf               2061 non-null float64\n",
      "p3_dog                2061 non-null bool\n",
      "entities              2061 non-null object\n",
      "extended_entities     2061 non-null object\n",
      "favorite_count        2061 non-null int64\n",
      "full_text             2061 non-null object\n",
      "id_str                2061 non-null int64\n",
      "lang                  2061 non-null object\n",
      "place                 1 non-null object\n",
      "retweet_count         2061 non-null int64\n",
      "user                  2061 non-null object\n",
      "display_text_end      2061 non-null int64\n",
      "followers             2061 non-null int64\n",
      "total_favourites      2061 non-null int64\n",
      "hashtags              24 non-null category\n",
      "url                   2061 non-null object\n",
      "dtypes: bool(7), category(2), datetime64[ns](1), float64(3), int64(10), object(14)\n",
      "memory usage: 565.9+ KB\n"
     ]
    }
   ],
   "source": [
    "we_rate_dogs.info()"
   ]
  },
  {
   "cell_type": "markdown",
   "metadata": {},
   "source": [
    "### Define\n",
    "Convert `lang` column into category."
   ]
  },
  {
   "cell_type": "markdown",
   "metadata": {},
   "source": [
    "#### Code"
   ]
  },
  {
   "cell_type": "code",
   "execution_count": 130,
   "metadata": {},
   "outputs": [],
   "source": [
    "we_rate_dogs.lang = we_rate_dogs.lang.astype('category')"
   ]
  },
  {
   "cell_type": "markdown",
   "metadata": {},
   "source": [
    "### Test"
   ]
  },
  {
   "cell_type": "code",
   "execution_count": 131,
   "metadata": {},
   "outputs": [
    {
     "name": "stdout",
     "output_type": "stream",
     "text": [
      "<class 'pandas.core.frame.DataFrame'>\n",
      "Int64Index: 2061 entries, 0 to 2060\n",
      "Data columns (total 37 columns):\n",
      "tweet_id              2061 non-null int64\n",
      "timestamp             2061 non-null datetime64[ns]\n",
      "source_x              2061 non-null category\n",
      "text                  2061 non-null object\n",
      "expanded_urls         2061 non-null object\n",
      "rating_numerator      2061 non-null int64\n",
      "rating_denominator    2061 non-null int64\n",
      "name                  2061 non-null object\n",
      "doggo                 2061 non-null bool\n",
      "floofer               2061 non-null bool\n",
      "pupper                2061 non-null bool\n",
      "puppo                 2061 non-null bool\n",
      "jpg_url               2061 non-null object\n",
      "img_num               2061 non-null int64\n",
      "p1                    2061 non-null object\n",
      "p1_conf               2061 non-null float64\n",
      "p1_dog                2061 non-null bool\n",
      "p2                    2061 non-null object\n",
      "p2_conf               2061 non-null float64\n",
      "p2_dog                2061 non-null bool\n",
      "p3                    2061 non-null object\n",
      "p3_conf               2061 non-null float64\n",
      "p3_dog                2061 non-null bool\n",
      "entities              2061 non-null object\n",
      "extended_entities     2061 non-null object\n",
      "favorite_count        2061 non-null int64\n",
      "full_text             2061 non-null object\n",
      "id_str                2061 non-null int64\n",
      "lang                  2061 non-null category\n",
      "place                 1 non-null object\n",
      "retweet_count         2061 non-null int64\n",
      "user                  2061 non-null object\n",
      "display_text_end      2061 non-null int64\n",
      "followers             2061 non-null int64\n",
      "total_favourites      2061 non-null int64\n",
      "hashtags              24 non-null category\n",
      "url                   2061 non-null object\n",
      "dtypes: bool(7), category(3), datetime64[ns](1), float64(3), int64(10), object(13)\n",
      "memory usage: 552.0+ KB\n"
     ]
    }
   ],
   "source": [
    "we_rate_dogs.info()"
   ]
  },
  {
   "cell_type": "markdown",
   "metadata": {},
   "source": [
    "### Define\n",
    "There is only one record in the 'place' column. What is it?"
   ]
  },
  {
   "cell_type": "code",
   "execution_count": 132,
   "metadata": {},
   "outputs": [
    {
     "data": {
      "text/plain": [
       "686    {'id': '7356b662670b2c31', 'url': 'https://api...\n",
       "Name: place, dtype: object"
      ]
     },
     "execution_count": 132,
     "metadata": {},
     "output_type": "execute_result"
    }
   ],
   "source": [
    "we_rate_dogs[we_rate_dogs.place.notnull()].place"
   ]
  },
  {
   "cell_type": "markdown",
   "metadata": {},
   "source": [
    "#### Code"
   ]
  },
  {
   "cell_type": "markdown",
   "metadata": {},
   "source": [
    "Let's store this place in a separate variable and remove the column."
   ]
  },
  {
   "cell_type": "code",
   "execution_count": 133,
   "metadata": {},
   "outputs": [],
   "source": [
    "wrd_place = we_rate_dogs.iloc[686]\n",
    "we_rate_dogs.drop(columns='place',inplace=True)"
   ]
  },
  {
   "cell_type": "code",
   "execution_count": 134,
   "metadata": {},
   "outputs": [
    {
     "name": "stdout",
     "output_type": "stream",
     "text": [
      "<class 'pandas.core.frame.DataFrame'>\n",
      "Int64Index: 2061 entries, 0 to 2060\n",
      "Data columns (total 36 columns):\n",
      "tweet_id              2061 non-null int64\n",
      "timestamp             2061 non-null datetime64[ns]\n",
      "source_x              2061 non-null category\n",
      "text                  2061 non-null object\n",
      "expanded_urls         2061 non-null object\n",
      "rating_numerator      2061 non-null int64\n",
      "rating_denominator    2061 non-null int64\n",
      "name                  2061 non-null object\n",
      "doggo                 2061 non-null bool\n",
      "floofer               2061 non-null bool\n",
      "pupper                2061 non-null bool\n",
      "puppo                 2061 non-null bool\n",
      "jpg_url               2061 non-null object\n",
      "img_num               2061 non-null int64\n",
      "p1                    2061 non-null object\n",
      "p1_conf               2061 non-null float64\n",
      "p1_dog                2061 non-null bool\n",
      "p2                    2061 non-null object\n",
      "p2_conf               2061 non-null float64\n",
      "p2_dog                2061 non-null bool\n",
      "p3                    2061 non-null object\n",
      "p3_conf               2061 non-null float64\n",
      "p3_dog                2061 non-null bool\n",
      "entities              2061 non-null object\n",
      "extended_entities     2061 non-null object\n",
      "favorite_count        2061 non-null int64\n",
      "full_text             2061 non-null object\n",
      "id_str                2061 non-null int64\n",
      "lang                  2061 non-null category\n",
      "retweet_count         2061 non-null int64\n",
      "user                  2061 non-null object\n",
      "display_text_end      2061 non-null int64\n",
      "followers             2061 non-null int64\n",
      "total_favourites      2061 non-null int64\n",
      "hashtags              24 non-null category\n",
      "url                   2061 non-null object\n",
      "dtypes: bool(7), category(3), datetime64[ns](1), float64(3), int64(10), object(12)\n",
      "memory usage: 535.9+ KB\n"
     ]
    }
   ],
   "source": [
    "we_rate_dogs.info()"
   ]
  },
  {
   "cell_type": "code",
   "execution_count": 135,
   "metadata": {},
   "outputs": [
    {
     "data": {
      "text/plain": [
       "0        1\n",
       "1        2\n",
       "2        0\n",
       "3        0\n",
       "4        0\n",
       "5        0\n",
       "6        2\n",
       "7        0\n",
       "8        0\n",
       "9        1\n",
       "10       0\n",
       "11       1\n",
       "12       1\n",
       "13       0\n",
       "14       1\n",
       "15       0\n",
       "16       0\n",
       "17       1\n",
       "18       0\n",
       "19       0\n",
       "20       0\n",
       "21       0\n",
       "22      11\n",
       "23       0\n",
       "24       0\n",
       "25       0\n",
       "26       0\n",
       "27       0\n",
       "28       0\n",
       "29       1\n",
       "        ..\n",
       "2031     1\n",
       "2032     0\n",
       "2033     0\n",
       "2034     2\n",
       "2035     1\n",
       "2036     0\n",
       "2037     0\n",
       "2038     0\n",
       "2039     0\n",
       "2040     0\n",
       "2041     0\n",
       "2042     0\n",
       "2043     0\n",
       "2044     0\n",
       "2045     0\n",
       "2046     2\n",
       "2047     1\n",
       "2048     0\n",
       "2049     0\n",
       "2050     5\n",
       "2051     0\n",
       "2052     0\n",
       "2053     4\n",
       "2054     0\n",
       "2055     1\n",
       "2056     1\n",
       "2057     0\n",
       "2058     1\n",
       "2059     0\n",
       "2060     5\n",
       "Length: 2061, dtype: int64"
      ]
     },
     "execution_count": 135,
     "metadata": {},
     "output_type": "execute_result"
    }
   ],
   "source": [
    "# we_rate_dogs[['tweet_id', 'id_str']]\n",
    "(we_rate_dogs['tweet_id'] - we_rate_dogs['id_str'])"
   ]
  },
  {
   "cell_type": "markdown",
   "metadata": {},
   "source": [
    "## Analysis part"
   ]
  },
  {
   "cell_type": "code",
   "execution_count": 144,
   "metadata": {},
   "outputs": [
    {
     "name": "stdout",
     "output_type": "stream",
     "text": [
      "start date:  2015-11-15 22:32:08\n",
      "end date:  2017-08-01 16:23:56\n",
      "duration:  624 days 17:51:48\n",
      "average tweets per day:  3.3028846153846154\n"
     ]
    }
   ],
   "source": [
    "print ('start date: ', we_rate_dogs.timestamp.min())\n",
    "print ('end date: ', we_rate_dogs.timestamp.max())\n",
    "duration = we_rate_dogs.timestamp.max()- we_rate_dogs.timestamp.min()\n",
    "print ('duration: ', duration)\n",
    "print ('average tweets per day: ', len(we_rate_dogs)/duration.days)"
   ]
  },
  {
   "cell_type": "code",
   "execution_count": 143,
   "metadata": {},
   "outputs": [
    {
     "data": {
      "text/plain": [
       "int"
      ]
     },
     "execution_count": 143,
     "metadata": {},
     "output_type": "execute_result"
    }
   ],
   "source": [
    "type(duration.days)"
   ]
  },
  {
   "cell_type": "code",
   "execution_count": null,
   "metadata": {},
   "outputs": [],
   "source": []
  }
 ],
 "metadata": {
  "kernelspec": {
   "display_name": "Python 3",
   "language": "python",
   "name": "python3"
  },
  "language_info": {
   "codemirror_mode": {
    "name": "ipython",
    "version": 3
   },
   "file_extension": ".py",
   "mimetype": "text/x-python",
   "name": "python",
   "nbconvert_exporter": "python",
   "pygments_lexer": "ipython3",
   "version": "3.7.2"
  }
 },
 "nbformat": 4,
 "nbformat_minor": 2
}
